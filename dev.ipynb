{
  "cells": [
    {
      "cell_type": "markdown",
      "metadata": {
        "id": "ZktjRJuZp1h6"
      },
      "source": [
        "\n",
        "Create a Minecraft Server on Google Colab!\n",
        "\n",
        "The script below will initiate your server. First, you will need to create the server to be able to use it - don't worry, the scripts below will do the majority of the work for you. Perhaps you want to change the server's region, check below.\n",
        "\n",
        "Original: https://github.com/devrock07/minecolab\n",
        "Modified Version Well Optimized\n",
        "\n",
        "```\n",
        "███████╗███████╗███╗   ██╗██╗████████╗██╗  ██╗███████╗███████╗███╗   ██╗██████╗  █████╗ ██╗\n",
        "╚══███╔╝██╔════╝████╗  ██║██║╚══██╔══╝██║  ██║██╔════╝██╔════╝████╗  ██║██╔══██╗██╔══██╗██║\n",
        "  ███╔╝ █████╗  ██╔██╗ ██║██║   ██║   ███████║███████╗█████╗  ██╔██╗ ██║██████╔╝███████║██║\n",
        " ███╔╝  ██╔══╝  ██║╚██╗██║██║   ██║   ██╔══██║╚════██║██╔══╝  ██║╚██╗██║██╔═══╝ ██╔══██║██║\n",
        "███████╗███████╗██║ ╚████║██║   ██║   ██║  ██║███████║███████╗██║ ╚████║██║     ██║  ██║██║\n",
        "╚══════╝╚══════╝╚═╝  ╚═══╝╚═╝   ╚═╝   ╚═╝  ╚═╝╚══════╝╚══════╝╚═╝  ╚═══╝╚═╝     ╚═╝  ╚═╝╚═╝                                                                                                                        \n",
        "\n",
        "```\n"
      ]
    },
    {
      "cell_type": "markdown",
      "metadata": {
        "id": "_4IowSDVUZp8"
      },
      "source": [
        "# **1º Create the Server (Only do this the first time)**\n",
        "\n",
        "The code below will create your server and accept the EULA. When you use these scripts, your server will be ready to start."
      ]
    },
    {
      "cell_type": "markdown",
      "metadata": {
        "id": "7wrNfinQOlWV"
      },
      "source": [
        "\n",
        "**Download the Minecraft Server**\n",
        "\n",
        "The code below will download Paper, a type of high-performance Vanilla server that allows the use of plugins. If you want to use another type of server.jar, put it in the Drive folder manually.\n",
        "\n",
        "The server files will be saved on your Google Drive (in the Google account you choose or are using)."
      ]
    },
    {
      "cell_type": "code",
      "execution_count": 17,
      "metadata": {
        "id": "Fy5-YjJMPV3S",
        "outputId": "cd44ef29-0c62-4c8f-a04c-cc26875a7834",
        "colab": {
          "base_uri": "https://localhost:8080/"
        }
      },
      "outputs": [
        {
          "output_type": "stream",
          "name": "stdout",
          "text": [
            "Drive already mounted at /content/drive; to attempt to forcibly remount, call drive.mount(\"/content/drive\", force_remount=True).\n",
            "/content/drive/My Drive/Minecraft-server\n",
            "Downloading to Google Drive...\n",
            "Loading Fabric Installer: 0.7.4\n",
            "Using latest loader version\n",
            "Installing Fabric Loader 0.16.7(1.21.1) on the server\n",
            "Downloading required files\n",
            "Downloading library org.ow2.asm:asm:9.7.1\n",
            "Downloading library org.ow2.asm:asm-analysis:9.7.1\n",
            "Downloading library org.ow2.asm:asm-commons:9.7.1\n",
            "Downloading library org.ow2.asm:asm-tree:9.7.1\n",
            "Downloading library org.ow2.asm:asm-util:9.7.1\n",
            "Downloading library net.fabricmc:sponge-mixin:0.15.3+mixin.0.8.7\n",
            "Downloading library net.fabricmc:intermediary:1.21.1\n",
            "Downloading library net.fabricmc:fabric-loader:0.16.7\n",
            "Generating server launch JAR\n",
            "Generating server launch JAR: asm-9.7.1.jar\n",
            "Generating server launch JAR: asm-analysis-9.7.1.jar\n",
            "duplicate file: module-info.class\n",
            "Generating server launch JAR: asm-commons-9.7.1.jar\n",
            "duplicate file: module-info.class\n",
            "Generating server launch JAR: asm-tree-9.7.1.jar\n",
            "duplicate file: module-info.class\n",
            "Generating server launch JAR: asm-util-9.7.1.jar\n",
            "duplicate file: module-info.class\n",
            "Generating server launch JAR: sponge-mixin-0.15.3+mixin.0.8.7.jar\n",
            "duplicate file: module-info.class\n",
            "Generating server launch JAR: intermediary-1.21.1.jar\n",
            "Generating server launch JAR: fabric-loader-0.16.7.jar\n",
            "Done, start server by running fabric-server-launch.jar\n",
            "Downloading Minecraft server\n",
            "Done\n",
            "Completed!\n",
            "Drive already mounted at /content/drive; to attempt to forcibly remount, call drive.mount(\"/content/drive\", force_remount=True).\n",
            "/content/drive/My Drive/Minecraft-server\n"
          ]
        }
      ],
      "source": [
        "# Change \"1.21\" to the desired version.\n",
        "# Available tested versions:\n",
        "# - 1.21\n",
        "# - 1.20.2\n",
        "# - 1.20.1\n",
        "# Newer versions might work too, however this isn't guaranteed.\n",
        "\n",
        "version = '1.21.1'\n",
        "\n",
        "# Choose server type. Currently available versions:\n",
        "# - paper (Most vanilla. It's the same as SPIGOT, bukkit, etc.)\n",
        "# - forge (For using MODS. It's basically FORGE) [Note, installation takes approximately 10-15 minutes, wait for \"COMPLETED\" after executing the first step.]\n",
        "# - fabric (For playing Fabric. It's an alternative to Forge)\n",
        "# - purpur (A highly customizable and enhanced Paper server)\n",
        "\n",
        "server_type = 'fabric'\n",
        "\n",
        "from google.colab import drive\n",
        "import requests\n",
        "import json\n",
        "\n",
        "drive.mount('/content/drive')\n",
        "\n",
        "# Create the directory which will be used for the server\n",
        "!mkdir -p \"/content/drive/My Drive/Minecraft-server\"\n",
        "%cd \"/content/drive/My Drive/Minecraft-server\"\n",
        "\n",
        "# Internal init...\n",
        "\n",
        "paperURL = None\n",
        "if server_type == 'paper':\n",
        "    a = requests.get(\"https://papermc.io/api/v2/projects/paper/versions/\" + version)\n",
        "    b = requests.get(\"https://papermc.io/api/v2/projects/paper/versions/\" + version + \"/builds/\" + str(a.json()[\"builds\"][-1]))\n",
        "    paperURL = \"https://papermc.io/api/v2/projects/paper/versions/\" + version + \"/builds/\" + str(a.json()[\"builds\"][-1]) + \"/downloads/\" + b.json()[\"downloads\"][\"application\"][\"name\"]\n",
        "\n",
        "purpurURL = None\n",
        "if server_type == 'purpur':\n",
        "    c = requests.get(\"https://api.purpurmc.org/v2/purpur/\" + version)\n",
        "    response_json = c.json()\n",
        "    if 'builds' in response_json and 'all' in response_json['builds'] and len(response_json['builds']['all']) > 0:\n",
        "        try:\n",
        "            latest_build = response_json[\"builds\"][\"latest\"]\n",
        "            d = requests.get(\"https://api.purpurmc.org/v2/purpur/\" + version + \"/\" + str(latest_build))\n",
        "            purpurURL = \"https://api.purpurmc.org/v2/purpur/\" + version + \"/\" + str(latest_build) + \"/download\"\n",
        "        except KeyError as e:\n",
        "            print(f\"KeyError occurred: {e}\")\n",
        "            print(f\"Response JSON: {response_json}\")\n",
        "            exit()\n",
        "    else:\n",
        "        print(f\"No builds found for Purpur version {version}. Please check the version number and try again.\")\n",
        "        exit()\n",
        "\n",
        "forgeURL = \"https://serverjars.com/api/fetchJar/modded/forge/\" + version\n",
        "\n",
        "jar_name = {'paper': 'server.jar', 'fabric': 'fabric-installer.jar', 'forge': 'forge-installer.jar', 'purpur': 'purpur.jar'}\n",
        "url = {\n",
        "    'paper': paperURL,\n",
        "    'fabric': 'https://maven.fabricmc.net/net/fabricmc/fabric-installer/0.7.4/fabric-installer-0.7.4.jar',\n",
        "    'forge': forgeURL,\n",
        "    'purpur': purpurURL\n",
        "}\n",
        "\n",
        "print('Downloading to Google Drive...')\n",
        "\n",
        "if url[server_type] is None:\n",
        "    print(f\"Invalid URL for {server_type} server. Please check the configuration.\")\n",
        "else:\n",
        "    r = requests.get(url[server_type])\n",
        "    if r.status_code == 200:\n",
        "        with open('/content/drive/My Drive/Minecraft-server/' + jar_name[server_type], 'wb') as f:\n",
        "            f.write(r.content)\n",
        "    else:\n",
        "        print(f'Error {r.status_code}! Most likely you entered an unsupported version. Try running the code again if you think that shouldn\\'t have happened.')\n",
        "\n",
        "# Running specific install path.\n",
        "if server_type == 'fabric':\n",
        "    !java -jar fabric-installer.jar server -mcversion $version -downloadMinecraft\n",
        "\n",
        "if server_type == 'forge':\n",
        "    %cd \"/content/drive/My Drive/Minecraft-server\"\n",
        "    !java -jar forge-installer.jar --installServer\n",
        "\n",
        "# Saving config\n",
        "colabconfig = {\"server_type\": server_type,\n",
        "               \"server_version\": version}\n",
        "json.dump(colabconfig, open(\"colabconfig.json\", 'w'))\n",
        "\n",
        "print('Completed!')  # todo: Would show even after erroring.\n",
        "\n",
        "# Please read the file stored in your server folder before running this command.\n",
        "# Also, go to https://www.minecraft.net/en-us/eula to read Minecraft's EULA.\n",
        "\n",
        "# Make sure Drive is mounted\n",
        "from google.colab import drive\n",
        "drive.mount('/content/drive')\n",
        "\n",
        "%cd \"/content/drive/My Drive/Minecraft-server\"\n",
        "!echo \"eula=true\" >> eula.txt\n"
      ]
    },
    {
      "cell_type": "code",
      "source": [],
      "metadata": {
        "id": "XXjkaeEQqEUD"
      },
      "execution_count": null,
      "outputs": []
    },
    {
      "cell_type": "code",
      "source": [],
      "metadata": {
        "id": "huBhpc59qERj"
      },
      "execution_count": null,
      "outputs": []
    },
    {
      "cell_type": "markdown",
      "metadata": {
        "id": "jOY5-kCGvzh9"
      },
      "source": [
        "# **-> Start the Minecraft server - Use this whenever you want to open it.**\n",
        "\n"
      ]
    },
    {
      "cell_type": "code",
      "execution_count": 18,
      "metadata": {
        "id": "lqtMoYg0dUmu",
        "outputId": "418b4573-0738-4366-a16f-dcb3d1472063",
        "colab": {
          "base_uri": "https://localhost:8080/"
        }
      },
      "outputs": [
        {
          "output_type": "stream",
          "name": "stdout",
          "text": [
            "apt cache successfully updated\n",
            "Drive already mounted at /content/drive; to attempt to forcibly remount, call drive.mount(\"/content/drive\", force_remount=True).\n",
            "/content/drive/My Drive/Minecraft-server\n",
            "colabconfig.json  eula.txt  fabric-installer.jar  fabric-server-launch.jar  server.jar\n",
            "Yay! Openjdk21 has been successfully installed.\n",
            "Openjdk21 is working correctly, you are good to go.\n",
            "Default region is in. Available regions: us, eu, ap, au, sa, jp, in\n",
            "Do you want to change the default region? (yes/no): yes\n",
            "Enter new region from the available regions (us, eu, ap, au, sa, jp, in): ap\n",
            "Region changed to ap.\n",
            "Selected region: ap\n",
            "Using playit\n",
            "Error: A JNI error has occurred, please check your installation and try again\n",
            "Exception in thread \"main\" java.lang.SecurityException: Invalid signature file digest for Manifest main attributes\n",
            "\tat java.base/sun.security.util.SignatureFileVerifier.processImpl(SignatureFileVerifier.java:340)\n",
            "\tat java.base/sun.security.util.SignatureFileVerifier.process(SignatureFileVerifier.java:282)\n",
            "\tat java.base/java.util.jar.JarVerifier.processEntry(JarVerifier.java:320)\n",
            "\tat java.base/java.util.jar.JarVerifier.update(JarVerifier.java:232)\n",
            "\tat java.base/java.util.jar.JarFile.initializeVerifier(JarFile.java:760)\n",
            "\tat java.base/java.util.jar.JarFile.ensureInitialization(JarFile.java:1070)\n",
            "\tat java.base/java.util.jar.JavaUtilJarAccessImpl.ensureInitialization(JavaUtilJarAccessImpl.java:42)\n",
            "\tat java.base/jdk.internal.loader.URLClassPath$JarLoader$2.getManifest(URLClassPath.java:852)\n",
            "\tat java.base/jdk.internal.loader.BuiltinClassLoader.defineClass(BuiltinClassLoader.java:848)\n",
            "\tat java.base/jdk.internal.loader.BuiltinClassLoader.findClassOnClassPathOrNull(BuiltinClassLoader.java:760)\n",
            "\tat java.base/jdk.internal.loader.BuiltinClassLoader.loadClassOrNull(BuiltinClassLoader.java:681)\n",
            "\tat java.base/jdk.internal.loader.BuiltinClassLoader.loadClass(BuiltinClassLoader.java:639)\n",
            "\tat java.base/jdk.internal.loader.ClassLoaders$AppClassLoader.loadClass(ClassLoaders.java:188)\n",
            "\tat java.base/java.lang.ClassLoader.loadClass(ClassLoader.java:526)\n",
            "\tat java.base/java.lang.Class.forName0(Native Method)\n",
            "\tat java.base/java.lang.Class.forName(Class.java:534)\n",
            "\tat java.base/java.lang.Class.forName(Class.java:513)\n",
            "\tat java.base/sun.launcher.LauncherHelper.loadMainClass(LauncherHelper.java:803)\n",
            "\tat java.base/sun.launcher.LauncherHelper.checkAndLoadMain(LauncherHelper.java:698)\n"
          ]
        }
      ],
      "source": [
        "import os\n",
        "import json\n",
        "from google.colab import drive\n",
        "\n",
        "# Update the package lists\n",
        "!sudo apt update &>/dev/null && echo \"apt cache successfully updated\" || echo \"apt cache update failed, you might receive stale packages\"\n",
        "\n",
        "# Mount Google Drive\n",
        "drive.mount('/content/drive')\n",
        "\n",
        "# Change directory to the Minecraft server folder on Google Drive\n",
        "%cd \"/content/drive/My Drive/Minecraft-server\"\n",
        "!ls # List the directory contents (to verify that working directory was changed)\n",
        "\n",
        "# Import config file\n",
        "if os.path.isfile(\"colabconfig.json\"):\n",
        "    colabconfig = json.load(open(\"colabconfig.json\"))\n",
        "else:\n",
        "    colabconfig = {\"server_type\": \"generic\"} # using default, if config doesn't exist.\n",
        "    json.dump(colabconfig, open(\"colabconfig.json\",'w'))\n",
        "\n",
        "# Install OpenJDK 21\n",
        "!sudo apt-get install openjdk-21-jre-headless &>/dev/null && echo \"Yay! Openjdk21 has been successfully installed.\" || echo \"Failed to install OpenJdk21.\"\n",
        "\n",
        "# Perform java version check\n",
        "java_ver = !java -version 2>&1 | awk -F[\\\"\\.] -v OFS=. 'NR==1{print $2}'\n",
        "if java_ver[0] == \"21\":\n",
        "    print(\"Openjdk21 is working correctly, you are good to go.\")\n",
        "else:\n",
        "    print(\"Openjdk21 doesn't seem to be installed or isn't working, falling back to java\", java_ver[0], \". You might experience reduced performance. Minecraft 1.21 and above might fail to launch.\")\n",
        "\n",
        "# Server jar names\n",
        "jar_list = {'paper': 'server.jar', 'fabric': 'fabric-server-launch.jar', 'generic': 'server.jar', 'forge': 'forge.jar', 'purpur': 'purpur.jar'}\n",
        "jar_name = jar_list[colabconfig[\"server_type\"]]\n",
        "\n",
        "# Download Purpur server jar if not present\n",
        "if colabconfig[\"server_type\"] == \"purpur\" and not os.path.isfile(\"purpur.jar\"):\n",
        "    print(\"Downloading Purpur server jar...\")\n",
        "    !curl -o purpur.jar https://api.purpurmc.org/v2/purpur/1.21/latest/download\n",
        "\n",
        "# Java arguments\n",
        "if colabconfig[\"server_type\"] in [\"paper\", \"purpur\"]:\n",
        "    server_flags = \"-XX:+UseG1GC -XX:+ParallelRefProcEnabled -XX:MaxGCPauseMillis=200 -XX:+UnlockExperimentalVMOptions -XX:+DisableExplicitGC -XX:+AlwaysPreTouch -XX:G1NewSizePercent=30 -XX:G1MaxNewSizePercent=40 -XX:G1HeapRegionSize=8M -XX:G1ReservePercent=20 -XX:G1HeapWastePercent=5 -XX:G1MixedGCCountTarget=4 -XX:InitiatingHeapOccupancyPercent=15 -XX:G1MixedGCLiveThresholdPercent=90 -XX:G1RSetUpdatingPauseTimePercent=5 -XX:SurvivorRatio=32 -XX:+PerfDisableSharedMem -XX:MaxTenuringThreshold=1 -Dusing.aikars.flags=https://mcflags.emc.gs -Daikars.new.flags=true\"\n",
        "else:\n",
        "    server_flags = \"\" # Aiker's flags might negatively impact performance on non-paper servers.\n",
        "memory_allocation = \"-Xms8704M -Xmx8704M\"\n",
        "\n",
        "# Set default region\n",
        "default_region = \"in\"\n",
        "available_regions = [\"us\", \"eu\", \"ap\", \"au\", \"sa\", \"jp\", \"in\"]\n",
        "print(f\"Default region is {default_region}. Available regions: {', '.join(available_regions)}\")\n",
        "\n",
        "# Option to change region\n",
        "change_region = input(\"Do you want to change the default region? (yes/no): \").strip().lower()\n",
        "if change_region == \"yes\":\n",
        "    new_region = input(f\"Enter new region from the available regions ({', '.join(available_regions)}): \").strip().lower()\n",
        "    if new_region in available_regions:\n",
        "        default_region = new_region\n",
        "        print(f\"Region changed to {default_region}.\")\n",
        "    else:\n",
        "        print(f\"Invalid region. Using default region {default_region}.\")\n",
        "\n",
        "# Example of how the region might be used for a tunnel service (just for reference, Playit does not support this argument)\n",
        "print(f\"Selected region: {default_region}\")\n",
        "\n",
        "# Choose the tunnel service you want to use\n",
        "\n",
        "# Available options: ngrok, argo, playit\n",
        "tunnel_service = \"playit\"\n",
        "print(\"Using\", tunnel_service)\n",
        "\n",
        "!java $memory_allocation $server_flags -jar $jar_name nogui\n"
      ]
    },
    {
      "cell_type": "markdown",
      "metadata": {
        "id": "MrnX6jsOvzh-"
      },
      "source": [
        "**FAQ - THINGS YOU NEED TO KNOW**\n",
        "\n",
        "you just need to download playit.gg plugin and from there you can make a static ip."
      ]
    },
    {
      "cell_type": "markdown",
      "metadata": {
        "id": "oE1AcdD3o0yO"
      },
      "source": [
        "open google drive for adding plugins and other files modification."
      ]
    }
  ],
  "metadata": {
    "colab": {
      "provenance": []
    },
    "kernelspec": {
      "display_name": "Python 3",
      "name": "python3"
    }
  },
  "nbformat": 4,
  "nbformat_minor": 0
}