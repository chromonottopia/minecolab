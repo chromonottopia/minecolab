{
  "cells": [
    {
      "cell_type": "markdown",
      "metadata": {
        "id": "2gNZYyzsTUs4"
      },
      "source": [
        "<p>\n",
        "  <img style=\"display: block; margin-left: auto; margin-right: auto;\" src=\"https://raw.githubusercontent.com/N-aksif-N/MineColab/master/MineColab_Improved.png\" alt=\"\" width=\"170\" height=\"170\" />\n",
        "</p>\n",
        "\n",
        "<h1 style=\"text-align: center;\">\n",
        "  <span style=\"color: #00ffff;\">MineColab</span>\n",
        "</h1>\n",
        "<hr />\n",
        "<h5 style=\"text-align: center;\">\n",
        "  <span style=\"color: #99ccff; font-weight: lighter;\">Forked By N-Aksif, developed by a few more...</span>\n",
        "</h5>\n",
        "\n",
        "<h2 style=\"text-align: center;\">\n",
        "  <span style=\"color: #FFFFFF;\">Run Minecraft Server On Google Colab for Free</span>\n",
        "</h2>\n",
        "<a href=\"https://github.com/N-aksif-N/MineColab/\" target=\"_parent\"><img src=\"https://gist.githubusercontent.com/cxmeel/0dbc95191f239b631c3874f4ccf114e2/raw/bb4634715f95ebb209b4e0bcdd4d2d98fe64c64c/github_source.svg\" align=\"right\" alt=\"Documentation\" width=\"120\"></a>\n",
        "<a href=\"https://minecolabimproved-wiki-gg.translate.goog/es/wiki/MineColab_Improved_Wiki?_x_tr_sl=es&_x_tr_tl=en&_x_tr_hl=es&_x_tr_pto=wapp\" target=\"_parent\"><img src=\"https://gist.githubusercontent.com/cxmeel/0dbc95191f239b631c3874f4ccf114e2/raw/bb4634715f95ebb209b4e0bcdd4d2d98fe64c64c/docs.svg\" align=\"right\" alt=\"Documentation\" width=\"120\"></a>\n",
        "<!-- Badges: https://ileriayo.github.io/markdown-badges/ -->"
      ]
    },
    {
      "cell_type": "markdown",
      "metadata": {
        "id": "Be2TxQFdTUs6"
      },
      "source": [
        ">[🔥 Starting](#scrollTo=ihPgtQu9TUs9)\n",
        "\n",
        ">[▶ or 🛑  Console](#scrollTo=a0es2vGmTUs_)\n",
        "\n",
        ">[⚓ Options](#scrollTo=Dc-Gb9a7TUtB)\n",
        "\n",
        ">[📎  Log](#scrollTo=hhwFVhYMTUtB)\n",
        "\n",
        ">[📰  Software](#scrollTo=lGqlIg5nTUtC)\n",
        "\n",
        ">[🎈  Plugins, mods](#scrollTo=BYElubquTUtE)\n",
        "\n",
        ">[📁 File Management](#scrollTo=zhtylbBNTUtG)\n",
        "\n"
      ]
    },
    {
      "cell_type": "markdown",
      "metadata": {
        "id": "Y1ZA7GPyTUs7"
      },
      "source": [
        "----"
      ]
    },
    {
      "cell_type": "code",
      "execution_count": 1,
      "metadata": {
        "cellView": "form",
        "colab": {
          "base_uri": "https://localhost:8080/",
          "height": 207
        },
        "id": "VLu3ytLcTUs7",
        "outputId": "e5721ef5-4cc5-4d7f-b58a-637023253ac8"
      },
      "outputs": [
        {
          "output_type": "stream",
          "name": "stdout",
          "text": [
            "Latest version available: 0.2.5\n",
            "Yehaa! Version up to date, you can continue using this notebook!\n",
            "\u001b[2K   \u001b[90m━━━━━━━━━━━━━━━━━━━━━━━━━━━━━━━━━━━━━━━━\u001b[0m \u001b[32m117.8/117.8 kB\u001b[0m \u001b[31m2.7 MB/s\u001b[0m eta \u001b[36m0:00:00\u001b[0m\n",
            "\u001b[2K   \u001b[90m━━━━━━━━━━━━━━━━━━━━━━━━━━━━━━━━━━━━━━━━\u001b[0m \u001b[32m722.2/722.2 kB\u001b[0m \u001b[31m16.9 MB/s\u001b[0m eta \u001b[36m0:00:00\u001b[0m\n",
            "\u001b[2K   \u001b[90m━━━━━━━━━━━━━━━━━━━━━━━━━━━━━━━━━━━━━━━━\u001b[0m \u001b[32m1.6/1.6 MB\u001b[0m \u001b[31m18.5 MB/s\u001b[0m eta \u001b[36m0:00:00\u001b[0m\n",
            "\u001b[?25hMounted at /content/drive\n"
          ]
        },
        {
          "output_type": "display_data",
          "data": {
            "text/plain": [
              "\n",
              "\u001b[1;32m[\u001b[0m\u001b[1;32m LOG \u001b[0m\u001b[1;32m]\u001b[0m Colab Version: \u001b[1;36m0.2\u001b[0m.\u001b[1;36m5\u001b[0m\n"
            ],
            "text/html": [
              "<pre style=\"white-space:pre;overflow-x:auto;line-height:normal;font-family:Menlo,'DejaVu Sans Mono',consolas,'Courier New',monospace\">\n",
              "<span style=\"color: #008000; text-decoration-color: #008000; font-weight: bold\">[ LOG ]</span> Colab Version: <span style=\"color: #008080; text-decoration-color: #008080; font-weight: bold\">0.2</span>.<span style=\"color: #008080; text-decoration-color: #008080; font-weight: bold\">5</span>\n",
              "</pre>\n"
            ]
          },
          "metadata": {}
        },
        {
          "output_type": "stream",
          "name": "stdout",
          "text": [
            "apt cache successfully updated\n",
            "apt cache successfully upgraded\n",
            "/content/drive/MyDrive/minecraft\n"
          ]
        },
        {
          "output_type": "display_data",
          "data": {
            "text/plain": [
              "\u001b[1;32m[\u001b[0m\u001b[1;32m LOG \u001b[0m\u001b[1;32m]\u001b[0m Completed\n"
            ],
            "text/html": [
              "<pre style=\"white-space:pre;overflow-x:auto;line-height:normal;font-family:Menlo,'DejaVu Sans Mono',consolas,'Courier New',monospace\"><span style=\"color: #008000; text-decoration-color: #008000; font-weight: bold\">[ LOG ]</span> Completed\n",
              "</pre>\n"
            ]
          },
          "metadata": {}
        }
      ],
      "source": [
        "# @markdown ##**[❗]  Set up** {display-mode: \"form\"}\n",
        "\n",
        "# @markdown Check out [wiki of this project](https://minecolabimproved.wiki.gg/es/wiki/MineColab_Improved_Wiki) for more explanations\n",
        "import requests\n",
        "from requests import get\n",
        "import sys\n",
        "from IPython.display import Javascript, display\n",
        "from google.colab import output\n",
        "#------------------------------------------------------------------------------------------------------------------------------------#\n",
        "colabversion=\"0.2.5\"\n",
        "#------------------------------------------------------------------------------------------------------------------------------------#\n",
        "# Fetching the latest version to give an alert if out of date!\n",
        "url = \"https://raw.githubusercontent.com/Prozoon700/MI-Test/main/version.json\"\n",
        "try:\n",
        "    response = requests.get(url)\n",
        "    response.raise_for_status()\n",
        "    data = response.json()\n",
        "    latest_version = data[0]['latest_version']\n",
        "    print(f\"Latest version available: {latest_version}\")\n",
        "    user_decision=None\n",
        "    versionok=None\n",
        "    if latest_version != colabversion:\n",
        "        user_decision = output.eval_js(\"window.confirm('Version out of date. Do you want to continue using this version?')\")\n",
        "        versionok=False\n",
        "    else:\n",
        "      print(\"Yehaa! Version up to date, you can continue using this notebook!\")\n",
        "      versionok=True\n",
        "except Exception as e:\n",
        "    print(\"Error trying to obtain the latest version... Check that the notebook is up to date.\")\n",
        "    raise Exception(e)\n",
        "else:\n",
        "  if not user_decision and versionok==False:\n",
        "    raise Exception(\"Execution stopped: Version out of date. Please update MineColab from discord/github\")\n",
        "  elif user_decision and versionok==True:\n",
        "    print(\"[ LOG ]Warning: Using old version. Compatibility is not guaranteed.\")\n",
        "\n",
        "from time import sleep\n",
        "from json import load, dump\n",
        "from os.path import exists\n",
        "from os import makedirs\n",
        "from IPython.display import clear_output\n",
        "%pip install -q jproperties\n",
        "%pip install -q rich\n",
        "from rich import print\n",
        "%pip install -q pyngrok\n",
        "%pip install -q BeautifulSoup4\n",
        "%pip install -q ruamel.yaml\n",
        "%pip install jupyter-ui-poll -q\n",
        "if exists('/content/drive') == False:\n",
        "  from google.colab import drive\n",
        "  drive.mount('/content/drive')\n",
        "drive_path = '/content/drive/MyDrive/minecraft'\n",
        "SERVERCONFIG = f'{drive_path}/server_list.txt'\n",
        "def LOG(*args, sep=''):\n",
        "  check = False\n",
        "  args = list(args)\n",
        "  for i in range(len(args)):\n",
        "    args[i] = str(args[i])\n",
        "    if '\\n' in args[i]: args[i] = args[i].replace('\\n', ''); args.insert(0, '\\n[bold green][ LOG ][/bold green] '); check = True; break\n",
        "  if check == False: args.insert(0, '[bold green][ LOG ][/bold green] ')\n",
        "  print(sep.join(map(str, args)))\n",
        "#---------------------------------------------------------------------------------- Print Box ------------------------------------------------------------------------------------------#\n",
        "def print_msg_box(msg, indent=1, width=None, title=None):\n",
        "    lines = msg.split('\\n')\n",
        "    space = \" \" * indent\n",
        "    if not width:\n",
        "        width = max(map(len, lines))\n",
        "    border_color = \"[bold gold3]\"\n",
        "    title_color = \"[bold cyan]\"\n",
        "    text_color = \"[bold white]\"\n",
        "    header_color = \"[bold light_goldenrod1]\"\n",
        "    reset_color = \"[/]\"\n",
        "    box = f'{border_color}+{\"-\" * (width + indent * 2)}+{reset_color}\\n'  # upper_border\n",
        "    if title:\n",
        "        box += f'{border_color}|{space}{title_color}{title:<{width}}{reset_color}{space}{border_color}|\\n'  # title\n",
        "        box += f'{border_color}|{space}{\"-\" * len(title):<{width}}{space}{border_color}|\\n'  # underscore\n",
        "    box += ''.join([f'{border_color}|{space}{text_color}{line:<{width}}{reset_color}{space}{border_color}|\\n' for line in lines])\n",
        "    box += f'{border_color}+{\"-\" * (width + indent * 2)}+{reset_color}'  # lower_border\n",
        "    print(box)\n",
        "#------------------------------------------------------------------------------------------------------------------------------------#\n",
        "log = \"echo -e '\\e[92m[ LOG ]\\e[0m'\" # Log function for bash\n",
        "def ERROR(*args, sep=''):\n",
        "  %cd $drive_path\n",
        "  clear_output()\n",
        "  check = False\n",
        "  args = list(args)\n",
        "  for i in range(len(args)):\n",
        "    args[i] = str(args[i])\n",
        "    if '\\n' in args[i]: args[i] = args[i].replace('\\n', ''); args.insert(0, '\\n[ ERROR ] '); check = True; break\n",
        "  if check == False: args.insert(0, '[ ERROR ] ')\n",
        "  raise Exception(sep.join(map(str, args)))\n",
        "def INFO(*args, sep=''):\n",
        "  check = False\n",
        "  args = list(args)\n",
        "  for i in range(len(args)):\n",
        "    args[i] = str(args[i])\n",
        "    if '\\n' in args[i]: args[i] = args[i].replace('\\n', ''); args.insert(0, '\\n[bold blue][ INFO ][/bold blue] '); check = True; break\n",
        "  if check == False: args.insert(0, '[bold blue][ INFO ][/bold blue] ')\n",
        "  print(sep.join(map(str, args)))\n",
        "def MKDIR(path):\n",
        "  try:\n",
        "    makedirs(path, exist_ok = True)\n",
        "    LOG(f'Directory {path} created')\n",
        "  except: ERROR(f'Directory {path} already existed')\n",
        "def DOWNLOAD_FILE(url, path, file_name, force = False,headers=None):\n",
        "  # Check gate\n",
        "  if not force:\n",
        "    if exists( path+ '/' + file_name): LOG(f'File {file_name} already existed')\n",
        "    else:\n",
        "      # Download file into file_name thourgh url\n",
        "      r = GET(url,headers=headers)\n",
        "      LOG('\\nDownloading ' + file_name)\n",
        "      with open(path + '/' + file_name, 'wb') as f:\n",
        "        f.write(r.content)\n",
        "  else:\n",
        "    r = GET(url,headers=headers)\n",
        "    LOG('\\nDownloading ' + file_name)\n",
        "    with open(path + '/' + file_name, 'wb') as f:\n",
        "      f.write(r.content)\n",
        "def GET(url,headers=None):\n",
        "  r = get(url,headers=headers)\n",
        "  # Check gate\n",
        "  if r.status_code == 200:\n",
        "    return r\n",
        "  else: ERROR('Error '+ str(r.status_code) + \"! Most likely you entered an unsupported version. Try running the code again if you think that shouldn't have happened.\")\n",
        "\n",
        "def COLABCONFIG(server_name):\n",
        "  return f\"{drive_path}/{server_name}/colabconfig.txt\"\n",
        "def COLABCONFIG_LOAD(server_name):\n",
        "  if exists(COLABCONFIG(server_name)): return load(open(COLABCONFIG(server_name)))\n",
        "  else: ERROR('Please checking whether you deleted your colabconfig file or not.')\n",
        "\n",
        "def SERVER_IN_USE(server_name):\n",
        "  if exists(f'{drive_path}/{server_name}') and server_name != '': return server_name\n",
        "  else:\n",
        "    serverconfig = load(open(SERVERCONFIG))\n",
        "    if serverconfig['server_in_use'] != '': return serverconfig['server_in_use']\n",
        "    else: ERROR('Please create a minecraft server first!')\n",
        "# The jar file name\n",
        "def JAR_LIST_RUN(server_version):\n",
        "  return {'generic': 'server.jar', 'vanilla':'server.jar','snapshot': 'server.jar',   # NORMAL\n",
        "          'purpur' : 'server.jar', 'paper': 'server.jar', 'velocity' : 'server.jar', 'folia': 'server.jar',  # PLUGINS\n",
        "          'fabric' : 'server.jar', # forge doesn't include in this category           # MODS\n",
        "          'arclight' : 'server.jar', 'mohist': 'server.jar', 'banner': 'server.jar'} # HYBRID\n",
        "\n",
        "#------------------------------------------------------------------------------------------------------------------------------------#\n",
        "LOG(f\"\\nColab Version: {colabversion}\")\n",
        "!sudo apt update &>/dev/null &&echo 'apt cache successfully updated' || echo \"apt cache update failed, you might receive stale packages\"\n",
        "!sudo apt upgrade &>/dev/null &&echo 'apt cache successfully upgraded' || echo \"apt cache upgrade failed, you might receive stale packages\"\n",
        "!export DISPLAY=:0.0\n",
        "if exists(drive_path) == False:\n",
        "  !mkdir -p $drive_path &>/dev/null&\n",
        "  sleep(40)\n",
        "if exists(SERVERCONFIG) == False:\n",
        "  dump({\"server_list\": [], \"server_in_use\": \"\", \"ngrok_proxy\" : {'authtoken' : '', \"region\" : ''}, \"zrok_proxy\": {\"authtoken\": ''}, 'localtonet_proxy': {\"authtoken\": ''}, 'localxpose_proxy': {\"authtoken\": ''}}, open(SERVERCONFIG, 'w'))\n",
        "%cd $drive_path\n",
        "LOG('Completed')"
      ]
    },
    {
      "cell_type": "code",
      "execution_count": 6,
      "metadata": {
        "cellView": "form",
        "colab": {
          "base_uri": "https://localhost:8080/",
          "height": 245
        },
        "id": "gbog8390TUs8",
        "outputId": "94e74d53-c2b9-41bf-de10-563fa6097c97"
      },
      "outputs": [
        {
          "output_type": "stream",
          "name": "stdout",
          "text": [
            "/content/drive/MyDrive/minecraft\n"
          ]
        },
        {
          "output_type": "display_data",
          "data": {
            "text/plain": [
              "\n",
              "\u001b[1;32m[\u001b[0m\u001b[1;32m LOG \u001b[0m\u001b[1;32m]\u001b[0m Colab Version: \u001b[1;36m0.2\u001b[0m.\u001b[1;36m5\u001b[0m\n"
            ],
            "text/html": [
              "<pre style=\"white-space:pre;overflow-x:auto;line-height:normal;font-family:Menlo,'DejaVu Sans Mono',consolas,'Courier New',monospace\">\n",
              "<span style=\"color: #008000; text-decoration-color: #008000; font-weight: bold\">[ LOG ]</span> Colab Version: <span style=\"color: #008080; text-decoration-color: #008080; font-weight: bold\">0.2</span>.<span style=\"color: #008080; text-decoration-color: #008080; font-weight: bold\">5</span>\n",
              "</pre>\n"
            ]
          },
          "metadata": {}
        },
        {
          "output_type": "error",
          "ename": "ValueError",
          "evalue": "list.remove(x): x not in list",
          "traceback": [
            "\u001b[0;31m---------------------------------------------------------------------------\u001b[0m",
            "\u001b[0;31mValueError\u001b[0m                                Traceback (most recent call last)",
            "\u001b[0;32m<ipython-input-6-0deb69b3c756>\u001b[0m in \u001b[0;36m<cell line: 20>\u001b[0;34m()\u001b[0m\n\u001b[1;32m     22\u001b[0m \u001b[0;34m\u001b[0m\u001b[0m\n\u001b[1;32m     23\u001b[0m   \u001b[0mserverlist\u001b[0m\u001b[0;34m=\u001b[0m\u001b[0mlistdir\u001b[0m\u001b[0;34m(\u001b[0m\u001b[0mdrive_path\u001b[0m\u001b[0;34m)\u001b[0m\u001b[0;34m\u001b[0m\u001b[0;34m\u001b[0m\u001b[0m\n\u001b[0;32m---> 24\u001b[0;31m   \u001b[0mserverlist\u001b[0m\u001b[0;34m.\u001b[0m\u001b[0mremove\u001b[0m\u001b[0;34m(\u001b[0m\u001b[0;34m\"logs\"\u001b[0m\u001b[0;34m)\u001b[0m\u001b[0;34m\u001b[0m\u001b[0;34m\u001b[0m\u001b[0m\n\u001b[0m\u001b[1;32m     25\u001b[0m   \u001b[0mserverlist\u001b[0m\u001b[0;34m.\u001b[0m\u001b[0mremove\u001b[0m\u001b[0;34m(\u001b[0m\u001b[0;34m\"server_list.txt\"\u001b[0m\u001b[0;34m)\u001b[0m\u001b[0;34m\u001b[0m\u001b[0;34m\u001b[0m\u001b[0m\n\u001b[1;32m     26\u001b[0m   \u001b[0mserverpicker\u001b[0m \u001b[0;34m=\u001b[0m \u001b[0mwidgets\u001b[0m\u001b[0;34m.\u001b[0m\u001b[0mDropdown\u001b[0m\u001b[0;34m(\u001b[0m\u001b[0mdescription\u001b[0m\u001b[0;34m=\u001b[0m\u001b[0;34m\"Server: \"\u001b[0m\u001b[0;34m,\u001b[0m \u001b[0moptions\u001b[0m\u001b[0;34m=\u001b[0m\u001b[0;34m[\u001b[0m\u001b[0;34m\"\"\u001b[0m\u001b[0;34m]\u001b[0m\u001b[0;34m+\u001b[0m\u001b[0mserverlist\u001b[0m\u001b[0;34m)\u001b[0m\u001b[0;34m\u001b[0m\u001b[0;34m\u001b[0m\u001b[0m\n",
            "\u001b[0;31mValueError\u001b[0m: list.remove(x): x not in list"
          ]
        }
      ],
      "source": [
        "# @title 🔘 Choose server\n",
        "# @markdown ####**Choosing minecraft server**\n",
        "# @markdown ##### Helping to set the defualt server_name.\n",
        "from os import listdir\n",
        "from json import load, dump\n",
        "from os.path import exists\n",
        "import ipywidgets as widgets\n",
        "from jupyter_ui_poll import ui_events\n",
        "\n",
        "%cd $drive_path\n",
        "LOG(f\"\\nColab Version: {colabversion}\")\n",
        "serverconfig = load(open(SERVERCONFIG))\n",
        "def changeserver(server):\n",
        "  global serverconfig\n",
        "  if server.new in serverconfig['server_list']: serverconfig['server_in_use'] = server.new\n",
        "  else: serverconfig['server_list'].append(server.new); serverconfig['server_in_use'] = server.new\n",
        "  dump(serverconfig, open(SERVERCONFIG, 'w'))\n",
        "  LOG(f'Using server: {server.new}')\n",
        "\n",
        "if serverconfig['server_list'] == []: ERROR('No servers to choose. Please create one.')\n",
        "else:\n",
        "\n",
        "  serverlist=listdir(drive_path)\n",
        "  serverlist.remove(\"logs\")\n",
        "  serverlist.remove(\"server_list.txt\")\n",
        "  serverpicker = widgets.Dropdown(description=\"Server: \", options=[\"\"]+serverlist)\n",
        "  display(serverpicker)\n",
        "  with ui_events() as poll:\n",
        "    while serverpicker.value == '':\n",
        "      poll(10)          # React to UI events (upto 10 at a time)\n",
        "      sleep(0.1)\n",
        "  serverpicker.close()\n",
        "  selserver=serverpicker.value\n",
        "  LOG(f'Selected {selserver}.')\n",
        "  if selserver in serverconfig['server_list']: serverconfig['server_in_use'] = selserver\n",
        "  else: serverconfig['server_list'].append(selserver); serverconfig['server_in_use'] = selserver\n",
        "  dump(serverconfig, open(SERVERCONFIG, 'w'))\n",
        "  LOG(f'Using server: {selserver}')"
      ]
    },
    {
      "cell_type": "markdown",
      "metadata": {
        "id": "1GWnJo5tTUs9"
      },
      "source": [
        "---"
      ]
    },
    {
      "cell_type": "markdown",
      "metadata": {
        "id": "ihPgtQu9TUs9"
      },
      "source": [
        "# 🔥 **Starting**\n",
        "---\n"
      ]
    },
    {
      "cell_type": "code",
      "execution_count": 7,
      "metadata": {
        "cellView": "form",
        "id": "0junLT2DTUs9",
        "colab": {
          "base_uri": "https://localhost:8080/",
          "height": 384
        },
        "outputId": "c427f520-19e4-43de-8b6c-16439751bd13"
      },
      "outputs": [
        {
          "output_type": "error",
          "ename": "Exception",
          "evalue": "[ ERROR ] Server already exists. If you want to change server software go to the \"Change Server Software\" cell.",
          "traceback": [
            "\u001b[0;31m---------------------------------------------------------------------------\u001b[0m",
            "\u001b[0;31mException\u001b[0m                                 Traceback (most recent call last)",
            "\u001b[0;32m<ipython-input-7-3469c476882b>\u001b[0m in \u001b[0;36m<cell line: 159>\u001b[0;34m()\u001b[0m\n\u001b[1;32m    157\u001b[0m \u001b[0mLOG\u001b[0m\u001b[0;34m(\u001b[0m\u001b[0;34mf\"\\nColab Version: {colabversion}\"\u001b[0m\u001b[0;34m)\u001b[0m\u001b[0;34m\u001b[0m\u001b[0;34m\u001b[0m\u001b[0m\n\u001b[1;32m    158\u001b[0m \u001b[0;31m# Auditing whether file is existed.\u001b[0m\u001b[0;34m\u001b[0m\u001b[0;34m\u001b[0m\u001b[0m\n\u001b[0;32m--> 159\u001b[0;31m \u001b[0;32mif\u001b[0m \u001b[0mexists\u001b[0m\u001b[0;34m(\u001b[0m\u001b[0;34mf'{drive_path}/{server_name}'\u001b[0m\u001b[0;34m)\u001b[0m\u001b[0;34m:\u001b[0m \u001b[0mERROR\u001b[0m\u001b[0;34m(\u001b[0m\u001b[0;34m'Server already exists. If you want to change server software go to the \"Change Server Software\" cell.'\u001b[0m\u001b[0;34m)\u001b[0m\u001b[0;34m\u001b[0m\u001b[0;34m\u001b[0m\u001b[0m\n\u001b[0m\u001b[1;32m    160\u001b[0m \u001b[0;31m# Create folder\u001b[0m\u001b[0;34m\u001b[0m\u001b[0;34m\u001b[0m\u001b[0m\n\u001b[1;32m    161\u001b[0m \u001b[0mMKDIR\u001b[0m\u001b[0;34m(\u001b[0m\u001b[0;34mf'{drive_path}/{server_name}'\u001b[0m\u001b[0;34m)\u001b[0m\u001b[0;34m\u001b[0m\u001b[0;34m\u001b[0m\u001b[0m\n",
            "\u001b[0;32m<ipython-input-1-d4e2d9057650>\u001b[0m in \u001b[0;36mERROR\u001b[0;34m(sep, *args)\u001b[0m\n\u001b[1;32m     89\u001b[0m     \u001b[0;32mif\u001b[0m \u001b[0;34m'\\n'\u001b[0m \u001b[0;32min\u001b[0m \u001b[0margs\u001b[0m\u001b[0;34m[\u001b[0m\u001b[0mi\u001b[0m\u001b[0;34m]\u001b[0m\u001b[0;34m:\u001b[0m \u001b[0margs\u001b[0m\u001b[0;34m[\u001b[0m\u001b[0mi\u001b[0m\u001b[0;34m]\u001b[0m \u001b[0;34m=\u001b[0m \u001b[0margs\u001b[0m\u001b[0;34m[\u001b[0m\u001b[0mi\u001b[0m\u001b[0;34m]\u001b[0m\u001b[0;34m.\u001b[0m\u001b[0mreplace\u001b[0m\u001b[0;34m(\u001b[0m\u001b[0;34m'\\n'\u001b[0m\u001b[0;34m,\u001b[0m \u001b[0;34m''\u001b[0m\u001b[0;34m)\u001b[0m\u001b[0;34m;\u001b[0m \u001b[0margs\u001b[0m\u001b[0;34m.\u001b[0m\u001b[0minsert\u001b[0m\u001b[0;34m(\u001b[0m\u001b[0;36m0\u001b[0m\u001b[0;34m,\u001b[0m \u001b[0;34m'\\n[ ERROR ] '\u001b[0m\u001b[0;34m)\u001b[0m\u001b[0;34m;\u001b[0m \u001b[0mcheck\u001b[0m \u001b[0;34m=\u001b[0m \u001b[0;32mTrue\u001b[0m\u001b[0;34m;\u001b[0m \u001b[0;32mbreak\u001b[0m\u001b[0;34m\u001b[0m\u001b[0;34m\u001b[0m\u001b[0m\n\u001b[1;32m     90\u001b[0m   \u001b[0;32mif\u001b[0m \u001b[0mcheck\u001b[0m \u001b[0;34m==\u001b[0m \u001b[0;32mFalse\u001b[0m\u001b[0;34m:\u001b[0m \u001b[0margs\u001b[0m\u001b[0;34m.\u001b[0m\u001b[0minsert\u001b[0m\u001b[0;34m(\u001b[0m\u001b[0;36m0\u001b[0m\u001b[0;34m,\u001b[0m \u001b[0;34m'[ ERROR ] '\u001b[0m\u001b[0;34m)\u001b[0m\u001b[0;34m\u001b[0m\u001b[0;34m\u001b[0m\u001b[0m\n\u001b[0;32m---> 91\u001b[0;31m   \u001b[0;32mraise\u001b[0m \u001b[0mException\u001b[0m\u001b[0;34m(\u001b[0m\u001b[0msep\u001b[0m\u001b[0;34m.\u001b[0m\u001b[0mjoin\u001b[0m\u001b[0;34m(\u001b[0m\u001b[0mmap\u001b[0m\u001b[0;34m(\u001b[0m\u001b[0mstr\u001b[0m\u001b[0;34m,\u001b[0m \u001b[0margs\u001b[0m\u001b[0;34m)\u001b[0m\u001b[0;34m)\u001b[0m\u001b[0;34m)\u001b[0m\u001b[0;34m\u001b[0m\u001b[0;34m\u001b[0m\u001b[0m\n\u001b[0m\u001b[1;32m     92\u001b[0m \u001b[0;32mdef\u001b[0m \u001b[0mINFO\u001b[0m\u001b[0;34m(\u001b[0m\u001b[0;34m*\u001b[0m\u001b[0margs\u001b[0m\u001b[0;34m,\u001b[0m \u001b[0msep\u001b[0m\u001b[0;34m=\u001b[0m\u001b[0;34m''\u001b[0m\u001b[0;34m)\u001b[0m\u001b[0;34m:\u001b[0m\u001b[0;34m\u001b[0m\u001b[0;34m\u001b[0m\u001b[0m\n\u001b[1;32m     93\u001b[0m   \u001b[0mcheck\u001b[0m \u001b[0;34m=\u001b[0m \u001b[0;32mFalse\u001b[0m\u001b[0;34m\u001b[0m\u001b[0;34m\u001b[0m\u001b[0m\n",
            "\u001b[0;31mException\u001b[0m: [ ERROR ] Server already exists. If you want to change server software go to the \"Change Server Software\" cell."
          ]
        }
      ],
      "source": [
        "from requests import get\n",
        "import requests\n",
        "from bs4 import BeautifulSoup\n",
        "from time import sleep\n",
        "from os.path import exists\n",
        "from json import load, dump\n",
        "from google.colab import output\n",
        "from ipywidgets import widgets\n",
        "from jupyter_ui_poll import ui_events\n",
        "drive_path = '/content/drive/MyDrive/minecraft'\n",
        "SERVERCONFIG = f'{drive_path}/server_list.txt'\n",
        "# @title Create Server\n",
        "# @markdown ####**Create your server.**\n",
        "server_name = \"Im abouta cam\" # @param {type:\"string\"}\n",
        "if server_name == \"\": ERROR(\"Please insert a name for your server.\")\n",
        "# GUIDANCE\n",
        "choice = input('Do you want to show(s)/hide(h) tunnels info? - ')\n",
        "if 's' in choice: clear_output(); print(\"\\n\\n- **[Ngrok](https://ngrok.com)**\\n  + Follow the prompts.\\n  + The IP will change whenever you restart the server.\\n\\n- **[Cloudflare's argo](https://www.cloudflare.com/)** :\\n    - If the 'Your free tunnel has started!' notification appears => Done.\\n    - Access to your server:\\n    1. Download [Cloudflared client](https://github.com/cloudflare/cloudflared/releases/).\\n    2. Launch the binary with `<your Cloudflare file name> access tcp --hostname <tunnel_address> --url 127.0.0.1:25565` (note: tunnel_address is your address which has been set on your Cloudflare).\\n    4. Finally, connect to `127.0.0.1:25565` from the minecraft client which is located in that machine.\\n\\n- **[Localtonet](https://localtonet.com/)**:\\n  1. Navigate to [TCP-UDG](https://localtonet.com/tunnel/tcpudp) page. Select TCP in Protocol Types.\\n  2. Get your authtoken from [Authtoken](https://localtonet.com/usertoken).\\n  3. Pick the server you'd like your tunnel to operate on.\\n  4. Input the IP and Port values the tunnel will listen to, in this case, for Minecraft, it's typically IP: 127.0.0.1 and Port: 25565.\\n  5. Finally, create and start your tunnel by pressing the Start button.\\n  - Read more on [how-to-use-localtonet-with-minecraft](https://localtonet.com/documents/using-localtonet-with-minecraft)\\n\\n- **[Zrok](https://zrok.io/)**:\\n  1. Download the zrok app through [link](https://docs.zrok.io/docs/getting-started/)\\n  2. Open the shell. Type `zrok invite` to sign up and get the authtoken\\n  3. Follow the prompts\\n  4. Acess to https://api.zrok.io to get fully management\\n   - Read more on https://docs.zrok.io/docs/getting-started. \\n\\n- **[PlayIt](https://playit.gg/)**: follow the prompts.\"); sleep(20)\n",
        "clear_output()\n",
        "\n",
        "#---------------------------------------------------------------------------------- SNALL FUNCTION ------------------------------------------------------------------------------------#\n",
        "def SERVERSJAR(command, server_type=None, version=None):\n",
        "  #Get the download URL (jar) AND return the detailed versions for each software (all)\n",
        "  if command == \"GetVersions\":\n",
        "    if server_type == None: ERROR(\"No server type specified.\")\n",
        "    Server_Jars_All = {\n",
        "      'paper': 'https://api.papermc.io/v2/projects/paper', 'velocity': 'https://api.papermc.io/v2/projects/velocity',\n",
        "      'purpur': 'https://api.purpurmc.org/v2/purpur',\n",
        "      'mohist': 'https://mohistmc.com/api/v2/projects/mohist', 'banner': 'https://mohistmc.com/api/v2/projects/banner',\n",
        "      'folia': 'https://api.papermc.io/v2/projects/folia'\n",
        "    }\n",
        "    if server_type == 'vanilla' or server_type=='snapshot':\n",
        "      rJSON = GET('https://launchermeta.mojang.com/mc/game/version_manifest.json').json()\n",
        "      if server_type == 'vanilla': server_type = 'release'\n",
        "      if version != 'vanilla - latest_version': server_version = [hit[\"id\"] for hit in rJSON[\"versions\"] if hit[\"type\"] == server_type]\n",
        "      else:\n",
        "        return rJSON['latest']['release']\n",
        "\n",
        "    elif server_type == 'paper' or  server_type == 'velocity' or server_type == 'purpur' or server_type == 'mohist' or server_type == 'banner' or server_type == 'folia':\n",
        "      rJSON = GET(Server_Jars_All[server_type]).json()\n",
        "      server_version = [hit for hit in rJSON[\"versions\"]]\n",
        "\n",
        "    elif server_type == 'fabric':\n",
        "      rJSON = GET('https://meta.fabricmc.net/v2/versions/game').json()\n",
        "      server_version = [hit['version'] for hit in rJSON if hit['stable'] == True]\n",
        "\n",
        "    elif server_type == 'forge':\n",
        "      from bs4 import BeautifulSoup\n",
        "      rJSON = GET('https://files.minecraftforge.net/net/minecraftforge/forge/index.html')\n",
        "      soup = BeautifulSoup(rJSON.content, \"html.parser\")\n",
        "      server_version = [tag.text for tag in soup.find_all('a') if '.' in tag.text and '\\n' not in tag.text]\n",
        "    elif server_type == \"bedrock\":\n",
        "      import requests\n",
        "      from bs4 import BeautifulSoup\n",
        "\n",
        "      URL = \"https://www.minecraft.net/en-us/download/server/bedrock/\"\n",
        "      BACKUP_URL = \"https://raw.githubusercontent.com/ghwns9652/Minecraft-Bedrock-Server-Updater/main/backup_download_link.txt\"\n",
        "      HEADERS = {\"User-Agent\": \"Mozilla/5.0 (X11; CrOS x86_64 12871.102.0) AppleWebKit/537.36 (KHTML, like Gecko) Chrome/81.0.4044.141 Safari/537.36\"}\n",
        "\n",
        "      try:\n",
        "          page = requests.get(URL, headers=HEADERS, timeout=5)\n",
        "\n",
        "          soup = BeautifulSoup(page.content, \"html.parser\")\n",
        "\n",
        "          a_tag_res = []\n",
        "          for a_tags in soup.findAll('a', attrs={\"aria-label\":\"Download Minecraft Dedicated Server software for Ubuntu (Linux)\"}):\n",
        "            a_tag_res.append(a_tags['href'])\n",
        "\n",
        "          download_link=a_tag_res[0]\n",
        "\n",
        "      except requests.exceptions.Timeout:\n",
        "          LOG(\"timeout raised, recovering\")\n",
        "          page = requests.get(BACKUP_URL, headers=HEADERS, timeout=5)\n",
        "\n",
        "          download_link=page.text\n",
        "      server_version = download_link.split('bedrock-server-')[1].split(\".zip\")[0]\n",
        "    elif server_type == \"arclight\":\n",
        "      LOG('Before going deeper, please check out https://github.com/IzzelAliz/Arclight')\n",
        "      rJSON = GET('https://files.hypoglycemia.icu/v1/files/arclight/minecraft').json()['files']\n",
        "      server_version  = [hit['name'] for hit in rJSON]\n",
        "    return server_version\n",
        "\n",
        "  elif command == \"GetDownloadUrl\":\n",
        "    if version == None: ERROR(\"No version specified.\")\n",
        "    # RETURN DOWNLOAD URL\n",
        "    if server_type == 'vanilla' or server_type=='snapshot':\n",
        "      rJSON = GET('https://launchermeta.mojang.com/mc/game/version_manifest.json').json()\n",
        "      if server_type == 'vanilla': server_type = 'release'\n",
        "      for hit in rJSON[\"versions\"]:\n",
        "        if hit[\"type\"] == server_type and hit['id'] == version:\n",
        "          return GET(hit['url']).json()[\"downloads\"]['server']['url']\n",
        "\n",
        "    elif server_type == 'paper' or  server_type == 'velocity' or server_type == 'folia':\n",
        "      build = GET(f'https://api.papermc.io/v2/projects/{server_type}/versions/{version}').json()[\"builds\"][-1]\n",
        "      jar_name = GET(f'https://api.papermc.io/v2/projects/{server_type}/versions/{version}/builds/{build}').json()[\"downloads\"][\"application\"][\"name\"]\n",
        "      return f'https://api.papermc.io/v2/projects/{server_type}/versions/{version}/builds/{build}/downloads/{jar_name}'\n",
        "\n",
        "    elif server_type == 'purpur':\n",
        "      build = GET(f'https://api.purpurmc.org/v2/purpur/{version}').json()[\"builds\"][\"latest\"]\n",
        "      return f'https://api.purpurmc.org/v2/purpur/{version}/{build}/download'\n",
        "\n",
        "    elif server_type == 'mohist' or server_type == 'banner':\n",
        "      return GET(f'https://mohistmc.com/api/v2/projects/{server_type}/{version}/builds').json()[\"builds\"][-1][\"url\"]\n",
        "\n",
        "    elif server_type == 'fabric':\n",
        "      installerVersion = GET('https://meta.fabricmc.net/v2/versions/installer').json()[0][\"version\"]\n",
        "      fabricVersion = GET(f'https://meta.fabricmc.net/v2/versions/loader/{version}').json()[0][\"loader\"][\"version\"]\n",
        "      return \"https://meta.fabricmc.net/v2/versions/loader/\" + version + \"/\" + fabricVersion + \"/\" + installerVersion + \"/server/jar\"\n",
        "\n",
        "    elif server_type == 'forge':\n",
        "      from bs4 import BeautifulSoup\n",
        "      rJSON = GET(f'https://files.minecraftforge.net/net/minecraftforge/forge/index_{version}.html')\n",
        "      soup = BeautifulSoup(rJSON.content, \"html.parser\")\n",
        "      tag =  soup.find('a', title=\"Installer\"); tag = str(tag); tag = tag[tag.find('\"') + 1 :]\n",
        "      link = tag[:tag.find('\"')]; link = link[link.find('=') + 1:]; link = link[link.find('=') + 1:]\n",
        "      return link\n",
        "\n",
        "    elif server_type == 'arclight':\n",
        "      rJSON = GET(f'https://files.hypoglycemia.icu/v1/files/arclight/minecraft/{version}/loaders').json()\n",
        "      LOG('Available type: '); print([hit['name'] for hit in rJSON['files']])\n",
        "      build = input(' Type: '); choice = input('Stable(st) or Snapshot(sn): ')\n",
        "      if 'sn' in choice.lower(): choice = 'latest-snapshot';\n",
        "      else: choice = \"latest-stable\";\n",
        "      return f'https://files.hypoglycemia.icu/v1/files/arclight/minecraft/{version}/loaders/{build}/{choice}'\n",
        "\n",
        "    elif server_type == 'bedrock':\n",
        "      LOG('Selecting latest version available...')\n",
        "      import requests\n",
        "      from bs4 import BeautifulSoup\n",
        "\n",
        "      URL = \"https://www.minecraft.net/en-us/download/server/bedrock/\"\n",
        "      BACKUP_URL = \"https://raw.githubusercontent.com/ghwns9652/Minecraft-Bedrock-Server-Updater/main/backup_download_link.txt\"\n",
        "      HEADERS = {\"User-Agent\": \"Mozilla/5.0 (X11; CrOS x86_64 12871.102.0) AppleWebKit/537.36 (KHTML, like Gecko) Chrome/81.0.4044.141 Safari/537.36\"}\n",
        "\n",
        "      try:\n",
        "          page = requests.get(URL, headers=HEADERS, timeout=5)\n",
        "\n",
        "          soup = BeautifulSoup(page.content, \"html.parser\")\n",
        "\n",
        "          a_tag_res = []\n",
        "          for a_tags in soup.findAll('a', attrs={\"aria-label\":\"Download Minecraft Dedicated Server software for Ubuntu (Linux)\"}):\n",
        "            a_tag_res.append(a_tags['href'])\n",
        "\n",
        "          download_link=a_tag_res[0]\n",
        "\n",
        "      except requests.exceptions.Timeout:\n",
        "          LOG(\"timeout raised, recovering\")\n",
        "          page = requests.get(BACKUP_URL, headers=HEADERS, timeout=5)\n",
        "\n",
        "          download_link=page.text\n",
        "\n",
        "      return download_link\n",
        "    else: ERROR('Wrong server type.')\n",
        "  elif command == \"GetServerTypes\": return ['vanilla','snapshot','paper','purpur','mohist', \"arclight\",'velocity', 'banner', 'fabric',\"folia\", 'forge', 'bedrock']\n",
        "  else: ERROR(\"Not a valid command.\")\n",
        "#---------------------------------------------------------------------------------- MAIN CODE ------------------------------------------------------------------------------------#\n",
        "LOG(f\"\\nColab Version: {colabversion}\")\n",
        "# Auditing whether file is existed.\n",
        "if exists(f'{drive_path}/{server_name}'): ERROR('Server already exists. If you want to change server software go to the \"Change Server Software\" cell.')\n",
        "# Create folder\n",
        "MKDIR(f'{drive_path}/{server_name}')\n",
        "LOG('Checking if folder created. Please wait.')\n",
        "sleep(40)\n",
        "LOG(\"Select your server type:\")\n",
        "stdrop = widgets.Dropdown(description=\"Server Type:\", options=[\"\"]+SERVERSJAR(\"GetServerTypes\")) # Ask for server type\n",
        "display(stdrop)\n",
        "with ui_events() as poll:\n",
        "    while stdrop.value == '':\n",
        "        poll(10)          # React to UI events (upto 10 at a time)\n",
        "        sleep(0.1)\n",
        "stdrop.close()\n",
        "server_type=stdrop.value                                                                        # End asking\n",
        "#print(\"\\n\")\n",
        "LOG(f'Choosen server type: {server_type}')\n",
        "if server_type != \"bedrock\": # Check if server type isn't bedrock.\n",
        "  LOG(\"Select your server version:\")\n",
        "  svdrop = widgets.Dropdown(description=\"Server version: \", style={'description_width': 'initial'}, options=['']+SERVERSJAR(\"GetVersions\", server_type=server_type)) # Ask for server version\n",
        "  display(svdrop)\n",
        "  with ui_events() as poll:  # Wait until user chooses.\n",
        "    while svdrop.value == '':\n",
        "      poll(10)\n",
        "      sleep(0.1)\n",
        "  svdrop.close()\n",
        "  version=svdrop.value\n",
        " # print(\"\\n\")                                                                                                                                                       # End asking\n",
        "  LOG(f'\\nChoosen server version: {version}')\n",
        "else:\n",
        "  version=SERVERSJAR(\"GetVersions\", server_type=server_type)\n",
        "  LOG(\"Using latest bedrock version\")\n",
        "LOG(\"Select a Tunnel provider:\")\n",
        "tunnelsrvs = widgets.Dropdown(description=\"Tunnel Service: \", style={'description_width': 'initial'}, options=['','ngrok', 'argo', 'zrok', 'playit', 'localtonet', 'localxpose', 'tailscale', \"minekube-gate\"]) # Ask for server version\n",
        "display(tunnelsrvs)\n",
        "with ui_events() as poll:  # Wait until user chooses.\n",
        "    while tunnelsrvs.value == '':\n",
        "        poll(10)\n",
        "        sleep(0.1)\n",
        "tunnelsrvs.close()\n",
        "tunnel_service=tunnelsrvs.value                                                                                   # End asking\n",
        "#print(\"\\n\")\n",
        "LOG(f'Choosen Tunnel service: {tunnel_service}')\n",
        "#print(\"\\n\")\n",
        "# Load serverconfig\n",
        "serverconfig = load(open(SERVERCONFIG))\n",
        "serverconfig['server_list'] += [server_name]\n",
        "serverconfig['server_in_use'] = server_name\n",
        "if tunnel_service == 'ngrok':\n",
        "  LOG(\"Tunnel Settings:\")\n",
        "  LOG('Get your authtoken from https://dashboard.ngrok.com/get-started/your-authtoken')\n",
        "  token = input('Your authtoken: ')\n",
        "  if token == \"\":\n",
        "    ERROR(\"\\nNo token provided\")\n",
        "  serverconfig['ngrok_proxy']['authtoken'] = token\n",
        "  LOG('Available Regions:', ' ap - Asia/Pacific (Singapore)', ' au - Australia (Sydney)', ' eu - Europa (Frankfurt - Germany)', ' in - India (Mumbai)', ' jp - Japan (Tokyo)', ' sa - America (São Paulo - Brazil)', ' us - United States (Ohio)', sep='\\n')\n",
        "  serverconfig['ngrok_proxy']['region'] = input('Region: ')\n",
        "elif tunnel_service == 'zrok':\n",
        "  # Settings variable\n",
        "  LOG(\"Tunnel Settings:\")\n",
        "  if \"zrok_proxy\" not in serverconfig:\n",
        "    serverconfig[\"zrok_proxy\"] = {\"authtoken\": \"\"}\n",
        "  token = input('Your zrok token: ')\n",
        "  if token == \"\":\n",
        "    ERROR(\"\\nNo token provided\")\n",
        "  serverconfig['zrok_proxy']['authtoken'] = token\n",
        "elif tunnel_service == 'localtonet':\n",
        "  LOG(\"Tunnel Settings:\")\n",
        "  LOG('Get your authtoken from https://localtonet.com/usertoken')\n",
        "  if \"localtonet_proxy\" not in serverconfig:\n",
        "    serverconfig[\"localtonet_proxy\"] = {\"authtoken\": \"\"}\n",
        "  token = input('Your localtonet token: ')\n",
        "  if token == \"\":\n",
        "    ERROR(\"\\nNo token provided\")\n",
        "  serverconfig['localtonet_proxy']['authtoken'] = token\n",
        "elif tunnel_service == 'localxpose':\n",
        "  LOG(\"Tunnel Settings:\")\n",
        "  LOG('Get your authtoken from https://localxpose.io/dashboard/access')\n",
        "  if \"localxpose_proxy\" not in serverconfig:\n",
        "    serverconfig[\"localxpose_proxy\"] = {\"authtoken\": \"\"}\n",
        "  token = input('Your localxpose token: ')\n",
        "  if token == \"\":\n",
        "    ERROR(\"\\nNo token provided.\")\n",
        "  serverconfig['localxpose_proxy']['authtoken'] = token\n",
        "elif tunnel_service == 'tailscale':\n",
        "  LOG(\"Tunnel Settings:\")\n",
        "  LOG('Get your authtoken from https://login.tailscale.com/admin/settings/keys . Make sure to select reusable')\n",
        "  if \"tailscale_proxy\" not in serverconfig:\n",
        "    serverconfig[\"tailscale_proxy\"] = {\"authtoken\": \"\"}\n",
        "  if \"machine_info\" not in serverconfig[\"tailscale_proxy\"]:\n",
        "    serverconfig[\"tailscale_proxy\"][\"machine_info\"] = \"\"\n",
        "  sleep(10)\n",
        "  token = input('Your tailscale token: ')\n",
        "  if token == \"\":\n",
        "    ERROR(\"\\nNo token provided.\")\n",
        "  serverconfig['tailscale_proxy']['authtoken'] = token\n",
        "elif tunnel_service == 'minekube-gate':\n",
        "  LOG('Get your token from https://app.minekube.com/orgs')\n",
        "  if \"minekube-gate_proxy\" not in serverconfig:\n",
        "    serverconfig[\"minekube-gate_proxy\"] = {\"token\": \"\"}\n",
        "  token = input('Your minekube token: ')\n",
        "  if token == \"\":\n",
        "    ERROR(\"\\nNo token provided\")\n",
        "  serverconfig[\"minekube-gate_proxy\"]['token'] = token\n",
        "\n",
        "dump(serverconfig, open(SERVERCONFIG, 'w'))\n",
        "# Set up colabconfig\n",
        "colabconfig = {\"server_type\": server_type, \"server_version\": version, \"tunnel_service\" : tunnel_service}\n",
        "dump(colabconfig, open(COLABCONFIG(server_name),'w'))\n",
        "# Download jar file\n",
        "if server_type == \"bedrock\":\n",
        "  DOWNLOAD_FILE(url = SERVERSJAR(\"GetDownloadUrl\", server_type, version), path = f\"{drive_path}/{server_name}\", file_name='bedrock-server.zip', force=True, headers={\"User-Agent\":\"Mozilla/4.0 (compatible; MSIE 6.0; Windows NT 5.1; BEDROCK-UPDATER)\"})\n",
        "  LOG(\"Unzipping bedrock server zip.\")\n",
        "  ! unzip {drive_path}/{server_name}/bedrock-server.zip -d {drive_path}/{server_name} >/dev/null && $log \"Successfully unzipped\" || echo \"unzip error.\"\n",
        "  LOG(\"Unzipped successfully\")\n",
        "  sleep(10)\n",
        "  LOG('\\nCompleted!')\n",
        "else:\n",
        "  if server_type == 'forge': jarname = 'forge-installer.jar' # The jar file name (forge need a special process)\n",
        "  else: jarname = JAR_LIST_RUN(version)[server_type]\n",
        "  DOWNLOAD_FILE(url= SERVERSJAR(\"GetDownloadUrl\", server_type, version), path = f\"{drive_path}/{server_name}\", file_name= jarname)\n",
        "  sleep(40)\n",
        "  LOG('\\nCompleted!')"
      ]
    },
    {
      "cell_type": "code",
      "execution_count": null,
      "metadata": {
        "cellView": "form",
        "id": "bcQ57bj0TUs-"
      },
      "outputs": [],
      "source": [
        "from os.path import exists\n",
        "from time import sleep\n",
        "from json import load, dump\n",
        "import ipywidgets as widgets\n",
        "from jupyter_ui_poll import ui_events\n",
        "# @title ####**Delete current server**\n",
        "\n",
        "server_name = '' #  Get default server\n",
        "\n",
        "serverconfig = load(open(SERVERCONFIG));\n",
        "if server_name == '': server_name = serverconfig['server_in_use']\n",
        "if serverconfig['server_list'] == []: ERROR(\"You haven't installed yet.\")\n",
        "else:\n",
        "\n",
        "  # Auditing whether file is existed.\n",
        "  if exists(f'{drive_path}/{server_name}') == False: ERROR(\"You haven't installed yet.\")\n",
        "  print(f'Are you sure to delete your current server ({server_name})? ([Y]Yes/[N]No) - ')\n",
        "  while True: # Ask user to confirm.\n",
        "    askdeletionwid = widgets.Text(value='',placeholder='[Y]Yes / [N]No',description='Delete?',disabled=False)#, layout=widgets.Layout(height='400px'))\n",
        "    display(askdeletionwid)\n",
        "    with ui_events() as poll:  # Wait until user chooses.\n",
        "      while askdeletionwid.value == '':\n",
        "        poll(10)\n",
        "        sleep(0.1)\n",
        "    askdeletionwid.close()\n",
        "    askdeletion=askdeletionwid.value.lower()\n",
        "    if askdeletion == 'y' or askdeletion == 'yes':\n",
        "        LOG(\"Proceeding\")\n",
        "        break\n",
        "    elif askdeletion == 'n' or askdeletion == 'no':\n",
        "        ERROR(\"Cancelled by user.\")\n",
        "    else:\n",
        "        print(\"Please use Yes or No.\")\n",
        "\n",
        "  LOG(f'Deleting {server_name}...')\n",
        "\n",
        "  # Delete folder without noticable\n",
        "  !rm -rf \"{drive_path}/{server_name}\" >/dev/null\n",
        "\n",
        "  # Remove the folder name in server config txt files\n",
        "  serverconfig['server_list'].remove(server_name)\n",
        "  if serverconfig['server_in_use'] == server_name:\n",
        "    try: serverconfig['server_in_use']= serverconfig['server_list'][0]\n",
        "    except: serverconfig['server_in_use'] = ''\n",
        "  dump(serverconfig, open(SERVERCONFIG, 'w'))\n",
        "\n",
        "  LOG('Wait until deletion comes through.')\n",
        "  sleep(40)\n",
        "  LOG('Completed')"
      ]
    },
    {
      "cell_type": "markdown",
      "metadata": {
        "id": "KGusoHw3TUs_"
      },
      "source": [
        "-----------------------------------------------------"
      ]
    },
    {
      "cell_type": "markdown",
      "source": [],
      "metadata": {
        "id": "v5mcYlX49_SL"
      }
    },
    {
      "cell_type": "markdown",
      "metadata": {
        "id": "a0es2vGmTUs_"
      },
      "source": [
        "# ▶ **or** 🛑  **Console**\n",
        "---\n",
        "The main console for your minecraft server"
      ]
    },
    {
      "cell_type": "code",
      "execution_count": 47,
      "metadata": {
        "cellView": "form",
        "colab": {
          "base_uri": "https://localhost:8080/",
          "height": 1000
        },
        "id": "o6LkL0K1TUs_",
        "outputId": "f402b58e-4cae-4da0-89ae-1d9206b39f02"
      },
      "outputs": [
        {
          "output_type": "display_data",
          "data": {
            "text/plain": [
              "\n",
              "\u001b[1;32m[\u001b[0m\u001b[1;32m LOG \u001b[0m\u001b[1;32m]\u001b[0m Colab Version: \u001b[1;36m0.2\u001b[0m.\u001b[1;36m5\u001b[0m\n"
            ],
            "text/html": [
              "<pre style=\"white-space:pre;overflow-x:auto;line-height:normal;font-family:Menlo,'DejaVu Sans Mono',consolas,'Courier New',monospace\">\n",
              "<span style=\"color: #008000; text-decoration-color: #008000; font-weight: bold\">[ LOG ]</span> Colab Version: <span style=\"color: #008080; text-decoration-color: #008080; font-weight: bold\">0.2</span>.<span style=\"color: #008080; text-decoration-color: #008080; font-weight: bold\">5</span>\n",
              "</pre>\n"
            ]
          },
          "metadata": {}
        },
        {
          "output_type": "stream",
          "name": "stdout",
          "text": [
            "/content/drive/MyDrive/minecraft/Im abouta cam\n"
          ]
        },
        {
          "output_type": "display_data",
          "data": {
            "text/plain": [
              "\n",
              "\u001b[1;32m[\u001b[0m\u001b[1;32m LOG \u001b[0m\u001b[1;32m]\u001b[0m Accepting Eula.\n"
            ],
            "text/html": [
              "<pre style=\"white-space:pre;overflow-x:auto;line-height:normal;font-family:Menlo,'DejaVu Sans Mono',consolas,'Courier New',monospace\">\n",
              "<span style=\"color: #008000; text-decoration-color: #008000; font-weight: bold\">[ LOG ]</span> Accepting Eula.\n",
              "</pre>\n"
            ]
          },
          "metadata": {}
        },
        {
          "output_type": "display_data",
          "data": {
            "text/plain": [
              "\n",
              "\u001b[1;32m[\u001b[0m\u001b[1;32m LOG \u001b[0m\u001b[1;32m]\u001b[0m Files:\n"
            ],
            "text/html": [
              "<pre style=\"white-space:pre;overflow-x:auto;line-height:normal;font-family:Menlo,'DejaVu Sans Mono',consolas,'Courier New',monospace\">\n",
              "<span style=\"color: #008000; text-decoration-color: #008000; font-weight: bold\">[ LOG ]</span> Files:\n",
              "</pre>\n"
            ]
          },
          "metadata": {}
        },
        {
          "output_type": "stream",
          "name": "stdout",
          "text": [
            "banned-ips.json      config\t    fabricloader.log  nohup.out   server.properties  whitelist.json\n",
            "banned-players.json  crash-reports  libraries\t      ops.json\t  tunnel\t     world\n",
            "ce.txt\t\t     eula.txt\t    logs\t      plugins\t  usercache.json\n",
            "colabconfig.txt      .fabric\t    mods\t      server.jar  versions\n"
          ]
        },
        {
          "output_type": "display_data",
          "data": {
            "text/plain": [
              "\u001b[1;32m[\u001b[0m\u001b[1;32m LOG \u001b[0m\u001b[1;32m]\u001b[0m Directory \u001b[35m/content/drive/MyDrive/minecraft/\u001b[0m\u001b[95mlogs\u001b[0m created\n"
            ],
            "text/html": [
              "<pre style=\"white-space:pre;overflow-x:auto;line-height:normal;font-family:Menlo,'DejaVu Sans Mono',consolas,'Courier New',monospace\"><span style=\"color: #008000; text-decoration-color: #008000; font-weight: bold\">[ LOG ]</span> Directory <span style=\"color: #800080; text-decoration-color: #800080\">/content/drive/MyDrive/minecraft/</span><span style=\"color: #ff00ff; text-decoration-color: #ff00ff\">logs</span> created\n",
              "</pre>\n"
            ]
          },
          "metadata": {}
        },
        {
          "output_type": "display_data",
          "data": {
            "text/plain": [
              "\u001b[1;32m[\u001b[0m\u001b[1;32m LOG \u001b[0m\u001b[1;32m]\u001b[0m Directory \u001b[35m/content/drive/MyDrive/minecraft/\u001b[0m\u001b[95mIm\u001b[0m abouta cam/tunnel created\n"
            ],
            "text/html": [
              "<pre style=\"white-space:pre;overflow-x:auto;line-height:normal;font-family:Menlo,'DejaVu Sans Mono',consolas,'Courier New',monospace\"><span style=\"color: #008000; text-decoration-color: #008000; font-weight: bold\">[ LOG ]</span> Directory <span style=\"color: #800080; text-decoration-color: #800080\">/content/drive/MyDrive/minecraft/</span><span style=\"color: #ff00ff; text-decoration-color: #ff00ff\">Im</span> abouta cam/tunnel created\n",
              "</pre>\n"
            ]
          },
          "metadata": {}
        },
        {
          "output_type": "display_data",
          "data": {
            "text/plain": [
              "\u001b[1;32m[\u001b[0m\u001b[1;32m LOG \u001b[0m\u001b[1;32m]\u001b[0m Starting server \u001b[1m(\u001b[0mlocaltonet\u001b[1m)\u001b[0m\u001b[33m...\u001b[0m\n"
            ],
            "text/html": [
              "<pre style=\"white-space:pre;overflow-x:auto;line-height:normal;font-family:Menlo,'DejaVu Sans Mono',consolas,'Courier New',monospace\"><span style=\"color: #008000; text-decoration-color: #008000; font-weight: bold\">[ LOG ]</span> Starting server <span style=\"font-weight: bold\">(</span>localtonet<span style=\"font-weight: bold\">)</span><span style=\"color: #808000; text-decoration-color: #808000\">...</span>\n",
              "</pre>\n"
            ]
          },
          "metadata": {}
        },
        {
          "output_type": "display_data",
          "data": {
            "text/plain": [
              "\u001b[1;32m[\u001b[0m\u001b[1;32m LOG \u001b[0m\u001b[1;32m]\u001b[0m Stop server => \u001b[35m/\u001b[0m\u001b[95mstop\u001b[0m\n"
            ],
            "text/html": [
              "<pre style=\"white-space:pre;overflow-x:auto;line-height:normal;font-family:Menlo,'DejaVu Sans Mono',consolas,'Courier New',monospace\"><span style=\"color: #008000; text-decoration-color: #008000; font-weight: bold\">[ LOG ]</span> Stop server =&gt; <span style=\"color: #800080; text-decoration-color: #800080\">/</span><span style=\"color: #ff00ff; text-decoration-color: #ff00ff\">stop</span>\n",
              "</pre>\n"
            ]
          },
          "metadata": {}
        },
        {
          "output_type": "stream",
          "name": "stdout",
          "text": [
            "Openjdk21 is working correctly, you are good to go.\n"
          ]
        },
        {
          "output_type": "display_data",
          "data": {
            "text/plain": [
              "\u001b[1;32m[\u001b[0m\u001b[1;32m LOG \u001b[0m\u001b[1;32m]\u001b[0m Starting Tunnel: \n"
            ],
            "text/html": [
              "<pre style=\"white-space:pre;overflow-x:auto;line-height:normal;font-family:Menlo,'DejaVu Sans Mono',consolas,'Courier New',monospace\"><span style=\"color: #008000; text-decoration-color: #008000; font-weight: bold\">[ LOG ]</span> Starting Tunnel: \n",
              "</pre>\n"
            ]
          },
          "metadata": {}
        },
        {
          "output_type": "stream",
          "name": "stdout",
          "text": [
            "[ LOG ] Locatonet tunnel started! Start the UDP_TCP connection on the dashboard: https://localtonet.com/tunnel/tcpudp.\n"
          ]
        },
        {
          "output_type": "display_data",
          "data": {
            "text/plain": [
              "\u001b[1;32m[\u001b[0m\u001b[1;32m LOG \u001b[0m\u001b[1;32m]\u001b[0m Starting: \n"
            ],
            "text/html": [
              "<pre style=\"white-space:pre;overflow-x:auto;line-height:normal;font-family:Menlo,'DejaVu Sans Mono',consolas,'Courier New',monospace\"><span style=\"color: #008000; text-decoration-color: #008000; font-weight: bold\">[ LOG ]</span> Starting: \n",
              "</pre>\n"
            ]
          },
          "metadata": {}
        },
        {
          "output_type": "stream",
          "name": "stdout",
          "text": [
            "Starting net.fabricmc.loader.impl.game.minecraft.BundlerClassPathCapture\n",
            "[12:42:22] [main/INFO]: Loading Minecraft 1.21.1 with Fabric Loader 0.16.7\n",
            "[12:42:24] [main/INFO]: Loading 106 mods:\n",
            "\t- blossom-back 2.1.5+1.21\n",
            "\t- blossom-homes 2.2.5+1.21\n",
            "\t- blossom-lib 2.5.9+1.21\n",
            "\t   \\-- server_translations_api 2.3.1+1.21-pre2\n",
            "\t        \\-- packet_tweaker 0.5.1+24w03b\n",
            "\t- blossom-tpa 2.2.5+1.21\n",
            "\t- ce 2.1.1\n",
            "\t- chunky 1.4.16\n",
            "\t- entityculling 1.7.0\n",
            "\t- fabric-api 0.106.0+1.21.1\n",
            "\t   |-- fabric-api-base 0.4.42+6573ed8c19\n",
            "\t   |-- fabric-api-lookup-api-v1 1.6.68+b559734419\n",
            "\t   |-- fabric-biome-api-v1 13.0.29+5bd9f1bc19\n",
            "\t   |-- fabric-block-api-v1 1.0.22+0af3f5a719\n",
            "\t   |-- fabric-block-view-api-v2 1.0.10+6573ed8c19\n",
            "\t   |-- fabric-blockrenderlayer-v1 1.1.52+0af3f5a719\n",
            "\t   |-- fabric-client-tags-api-v1 1.1.15+6573ed8c19\n",
            "\t   |-- fabric-command-api-v1 1.2.49+f71b366f19\n",
            "\t   |-- fabric-command-api-v2 2.2.28+6ced4dd919\n",
            "\t   |-- fabric-commands-v0 0.2.66+df3654b319\n",
            "\t   |-- fabric-content-registries-v0 8.0.16+b559734419\n",
            "\t   |-- fabric-convention-tags-v1 2.1.0+7f945d5b19\n",
            "\t   |-- fabric-convention-tags-v2 2.9.0+83a9d31319\n",
            "\t   |-- fabric-crash-report-info-v1 0.2.29+0af3f5a719\n",
            "\t   |-- fabric-data-attachment-api-v1 1.1.28+1daea21519\n",
            "\t   |-- fabric-data-generation-api-v1 20.2.21+16c4ae2519\n",
            "\t   |-- fabric-dimensions-v1 4.0.0+6fc22b9919\n",
            "\t   |-- fabric-entity-events-v1 1.7.0+2122d82819\n",
            "\t   |-- fabric-events-interaction-v0 0.7.13+ba9dae0619\n",
            "\t   |-- fabric-game-rule-api-v1 1.0.53+6ced4dd919\n",
            "\t   |-- fabric-item-api-v1 11.1.0+d5debaed19\n",
            "\t   |-- fabric-item-group-api-v1 4.1.5+3fc0e55219\n",
            "\t   |-- fabric-key-binding-api-v1 1.0.47+0af3f5a719\n",
            "\t   |-- fabric-keybindings-v0 0.2.45+df3654b319\n",
            "\t   |-- fabric-lifecycle-events-v1 2.3.12+6c1df36019\n",
            "\t   |-- fabric-loot-api-v2 3.0.14+3f89f5a519\n",
            "\t   |-- fabric-loot-api-v3 1.0.2+3f89f5a519\n",
            "\t   |-- fabric-message-api-v1 6.0.13+6573ed8c19\n",
            "\t   |-- fabric-model-loading-api-v1 2.0.0+fe474d6b19\n",
            "\t   |-- fabric-networking-api-v1 4.3.0+c7469b2119\n",
            "\t   |-- fabric-object-builder-api-v1 15.2.0+40875a9319\n",
            "\t   |-- fabric-particles-v1 4.0.2+6573ed8c19\n",
            "\t   |-- fabric-recipe-api-v1 5.0.13+6508971219\n",
            "\t   |-- fabric-registry-sync-v0 5.1.3+60c3209b19\n",
            "\t   |-- fabric-renderer-api-v1 3.4.0+c705a49c19\n",
            "\t   |-- fabric-renderer-indigo 1.7.0+c705a49c19\n",
            "\t   |-- fabric-renderer-registries-v1 3.2.68+df3654b319\n",
            "\t   |-- fabric-rendering-data-attachment-v1 0.3.48+73761d2e19\n",
            "\t   |-- fabric-rendering-fluids-v1 3.1.6+1daea21519\n",
            "\t   |-- fabric-rendering-v0 1.1.71+df3654b319\n",
            "\t   |-- fabric-rendering-v1 5.0.5+df16efd019\n",
            "\t   |-- fabric-resource-conditions-api-v1 4.3.0+8dc279b119\n",
            "\t   |-- fabric-resource-loader-v0 1.3.0+5659912919\n",
            "\t   |-- fabric-screen-api-v1 2.0.25+8b68f1c719\n",
            "\t   |-- fabric-screen-handler-api-v1 1.3.87+b559734419\n",
            "\t   |-- fabric-sound-api-v1 1.0.23+6573ed8c19\n",
            "\t   |-- fabric-transfer-api-v1 5.4.0+95bead5f19\n",
            "\t   \\-- fabric-transitive-access-wideners-v1 6.1.0+1daea21519\n",
            "\t- fabricloader 0.16.7\n",
            "\t   \\-- mixinextras 0.4.1\n",
            "\t- ferritecore 7.0.2-hotfix\n",
            "\t- geyser-fabric 2.4.4-SNAPSHOT\n",
            "\t   |-- cloud 2.0.0-beta.7\n",
            "\t   |    |-- fabric-permissions-api-v0 0.3.1\n",
            "\t   |    |-- io_leangen_geantyref_geantyref 1.3.15\n",
            "\t   |    |-- org_incendo_cloud-brigadier 2.0.0-beta.8\n",
            "\t   |    |-- org_incendo_cloud-core 2.0.0-rc.2\n",
            "\t   |    |-- org_incendo_cloud-minecraft-modded-common-fabric-repack_ 2.0.0-beta.7\n",
            "\t   |    \\-- org_incendo_cloud-services 2.0.0-rc.2\n",
            "\t   |-- com_fasterxml_jackson_core_jackson-annotations 2.17.0\n",
            "\t   |-- com_fasterxml_jackson_core_jackson-core 2.17.0\n",
            "\t   |-- com_fasterxml_jackson_core_jackson-databind 2.17.0\n",
            "\t   |-- com_fasterxml_jackson_dataformat_jackson-dataformat-yaml 2.17.0\n",
            "\t   |-- com_google_errorprone_error_prone_annotations 2.27.0\n",
            "\t   |-- com_nukkitx_natives 1.0.3\n",
            "\t   |-- io_airlift_aircompressor 0.25\n",
            "\t   |-- io_jsonwebtoken_jjwt-api 0.12.6\n",
            "\t   |-- io_jsonwebtoken_jjwt-gson 0.12.6\n",
            "\t   |-- io_jsonwebtoken_jjwt-impl 0.12.6\n",
            "\t   |-- io_netty_netty-codec-dns 4.1.107\n",
            "\t   |-- io_netty_netty-codec-haproxy 4.1.107\n",
            "\t   |-- io_netty_netty-resolver-dns-classes-macos 4.1.107\n",
            "\t   |-- net_bytebuddy_byte-buddy 1.14.9\n",
            "\t   |-- net_jodah_expiringmap 0.5.10\n",
            "\t   |-- net_kyori_adventure-api 4.15.0\n",
            "\t   |-- net_kyori_adventure-key 4.15.0\n",
            "\t   |-- net_kyori_adventure-nbt 4.15.0\n",
            "\t   |-- net_kyori_adventure-text-serializer-gson 4.15.0\n",
            "\t   |-- net_kyori_adventure-text-serializer-json 4.15.0\n",
            "\t   |-- net_kyori_adventure-text-serializer-json-legacy-impl 4.15.0\n",
            "\t   |-- net_kyori_adventure-text-serializer-legacy 4.15.0\n",
            "\t   |-- net_kyori_adventure-text-serializer-plain 4.15.0\n",
            "\t   |-- net_kyori_examination-api 1.3.0\n",
            "\t   |-- net_kyori_examination-string 1.3.0\n",
            "\t   |-- net_kyori_option 1.0.0\n",
            "\t   |-- net_lenni0451_commons_httpclient 1.6.0\n",
            "\t   |-- net_raphimc_minecraftauth 4.1.1\n",
            "\t   |-- org_bitbucket_b_c_jose4j 0.9.6\n",
            "\t   |-- org_cloudburstmc_math_api 2.0\n",
            "\t   |-- org_cloudburstmc_math_immutable 2.0\n",
            "\t   |-- org_cloudburstmc_nbt 3.0.3\n",
            "\t   |-- org_geysermc_api_base-api 1.0.1\n",
            "\t   |-- org_geysermc_cumulus_cumulus 1.1.2\n",
            "\t   |-- org_geysermc_event_events 1.1-SNAPSHOT\n",
            "\t   |-- org_java-websocket_java-websocket 1.5.1\n",
            "\t   |-- org_lanternpowered_lmbda 2.0.0\n",
            "\t   \\-- org_yaml_snakeyaml 2.2\n",
            "\t- gpumemleakfix 1.21-1.8\n",
            "\t- java 21\n",
            "\t- krypton 0.2.8\n",
            "\t   \\-- com_velocitypowered_velocity-native 3.3.0-SNAPSHOT\n",
            "\t- lithium 0.13.1\n",
            "\t- memoryleakfix 1.1.5\n",
            "\t- minecraft 1.21.1\n",
            "\t- tt20 0.7.0\n",
            "\t   \\-- net_snackbag_shit_shit 1.2.3\n",
            "\t- vmp 0.2.0+beta.7.168+1.21.1\n",
            "\t   \\-- com_ibm_async_asyncutil 0.1.0\n",
            "[12:42:24] [main/INFO]: SpongePowered MIXIN Subsystem Version=0.8.7 Source=file:/content/drive/MyDrive/minecraft/Im%20abouta%20cam/libraries/net/fabricmc/sponge-mixin/0.15.3+mixin.0.8.7/sponge-mixin-0.15.3+mixin.0.8.7.jar Service=Knot/Fabric Env=SERVER\n",
            "[12:42:25] [main/INFO]: Compatibility level set to JAVA_17\n",
            "[12:42:26] [main/INFO]: Compatibility level set to JAVA_21\n",
            "[12:42:26] [main/INFO]: BlossomLib mixins loading\n",
            "[12:42:27] [main/INFO]: Loaded configuration file for Lithium: 144 options available, 1 override(s) found\n",
            "[12:42:27] [main/WARN]: Reference map 'memoryleakfix-fabric-1.17+-fabric-refmap.json' for memoryleakfix-fabric.mixins.json could not be read. If this is a development environment you can ignore this message\n",
            "[12:42:27] [main/INFO]: Successfully started async appender with [ServerGuiConsole, SysOut, File]\n",
            "[12:42:28] [main/WARN]: Force-disabling mixin 'alloc.blockstate.StateMixin' as rule 'mixin.alloc.blockstate' (added by mods [ferritecore]) disables it and children\n",
            "[12:42:29] [main/INFO]: [MemoryLeakFix] Will be applying 1 memory leak fixes!\n",
            "[12:42:29] [main/INFO]: [MemoryLeakFix] Currently enabled memory leak fixes: [biomeTemperatureLeak]\n",
            "[12:42:29] [main/INFO]: Initializing MixinExtras via com.llamalad7.mixinextras.service.MixinExtrasServiceImpl(version=0.4.1).\n",
            "[12:42:47] [main/INFO]: BlossomLib has starting\n",
            "[12:42:47] [main/INFO]: Chunky extended loaded\n",
            "[12:42:48] [main/INFO]: Loading extensions...\n",
            "[12:42:48] [main/INFO]: Loaded 0 extension(s)\n",
            "[12:42:48] [main/INFO]: Compression will use libdeflate (Linux x86_64), encryption will use OpenSSL 3.0.x (Linux x86_64)\n",
            "[12:42:49] [main/INFO]: Starting TT20...\n",
            "[12:42:49] [main/INFO]: (TT20) Checking for updates...\n",
            "[12:42:50] [main/INFO]: (TT20) Running the latest version\n",
            "[12:42:50] [main/INFO]: Krypton is now accelerating your Minecraft server's networking stack 🚀\n",
            "[12:42:50] [main/INFO]: Environment: Environment[sessionHost=https://sessionserver.mojang.com, servicesHost=https://api.minecraftservices.com, name=PROD]\n",
            "[12:42:51] [main/INFO]: Found non-pack entry './world/datapacks/data', ignoring\n",
            "[12:42:51] [main/INFO]: Found non-pack entry './world/datapacks/pack.mcmeta', ignoring\n",
            "[12:42:54] [main/INFO]: Loaded 1290 recipes\n",
            "[12:42:55] [main/INFO]: Loaded 1399 advancements\n",
            "[12:42:55] [Thread-4/INFO]: Loaded 75 translation keys\n",
            "[12:42:57] [main/INFO]: Applied 0 biome modifications to 0 of 64 new biomes in 13.86 ms\n",
            "[12:42:57] [Server thread/INFO]: Starting minecraft server version 1.21.1\n",
            "[12:42:57] [Server thread/INFO]: Loading properties\n",
            "[12:42:57] [Server thread/INFO]: Default game type: SURVIVAL\n",
            "[12:42:57] [Server thread/INFO]: Generating keypair\n",
            "[12:42:58] [Server thread/INFO]: Starting Minecraft server on 0.0.0.0:25077\n",
            "[12:42:58] [Server thread/INFO]: Using epoll channel type\n",
            "[12:42:58] [Server thread/WARN]: **** SERVER IS RUNNING IN OFFLINE/INSECURE MODE!\n",
            "[12:42:58] [Server thread/WARN]: The server will make no attempt to authenticate usernames. Beware.\n",
            "[12:42:58] [Server thread/WARN]: While this makes the game possible to play without internet access, it also opens up the ability for hackers to connect with any username they choose.\n",
            "[12:42:58] [Server thread/WARN]: To change this, set \"online-mode\" to \"true\" in the server.properties file.\n",
            "[12:42:58] [Server thread/INFO]: Preparing level \"world\"\n",
            "[12:43:00] [Server thread/INFO]: Changing watch distance to 10\n",
            "[12:43:13] [Server thread/INFO]: Changing watch distance to 10\n",
            "[12:43:13] [Server thread/INFO]: Changing watch distance to 10\n",
            "[12:43:13] [Server thread/INFO]: Preparing start region for dimension minecraft:overworld\n",
            "[12:43:14] [Worker-Main-1/INFO]: Preparing spawn area: 0%\n",
            "[12:43:14] [Worker-Main-1/INFO]: Preparing spawn area: 0%\n",
            "[12:43:14] [Worker-Main-1/INFO]: Preparing spawn area: 0%\n",
            "[12:43:14] [Worker-Main-1/INFO]: Preparing spawn area: 0%\n",
            "[12:43:15] [Server thread/INFO]: Time elapsed: 2268 ms\n",
            "[12:43:15] [Server thread/INFO]: Done (16.769s)! For help, type \"help\"\n",
            "[12:43:15] [Server thread/INFO]: ******************************************\n",
            "[12:43:15] [Server thread/INFO]: \n",
            "[12:43:15] [Server thread/INFO]: Loading Geyser version 2.4.4-b699 (git-master-3f60db1)\n",
            "[12:43:15] [Server thread/INFO]: \n",
            "[12:43:15] [Server thread/INFO]: ******************************************\n",
            "[12:43:23] [Server thread/INFO]: Started Geyser on UDP port 25077\n",
            "[12:43:23] [Server thread/INFO]: Done (8.316s)! Run /geyser help for help!\n",
            "[12:43:23] [Server thread/WARN]: Can't keep up! Is the server overloaded? Running 8472ms or 169 ticks behind\n",
            "[12:43:33] [Thread-13/ERROR]: Failed to load locale asset cache: Unrecognized token 'Read': was expecting (JSON String, Number, Array, Object or token 'null', 'true' or 'false')\n",
            " at [Source: REDACTED (`StreamReadFeature.INCLUDE_SOURCE_IN_LOCATION` disabled); line: 1, column: 5]\n"
          ]
        },
        {
          "output_type": "display_data",
          "data": {
            "text/plain": [
              "\u001b[1;32m[\u001b[0m\u001b[1;32m LOG \u001b[0m\u001b[1;32m]\u001b[0m Finalized server.\n"
            ],
            "text/html": [
              "<pre style=\"white-space:pre;overflow-x:auto;line-height:normal;font-family:Menlo,'DejaVu Sans Mono',consolas,'Courier New',monospace\"><span style=\"color: #008000; text-decoration-color: #008000; font-weight: bold\">[ LOG ]</span> Finalized server.\n",
              "</pre>\n"
            ]
          },
          "metadata": {}
        },
        {
          "output_type": "stream",
          "name": "stdout",
          "text": [
            "/content/drive/MyDrive/minecraft\n"
          ]
        }
      ],
      "source": [
        "# @markdown\n",
        "from os import pathsep, environ\n",
        "from os.path import exists, join, expanduser\n",
        "from os import listdir\n",
        "from os import system as sysrun\n",
        "from pyngrok import conf, ngrok\n",
        "from IPython.display import clear_output\n",
        "from json import loads\n",
        "from ruamel.yaml import YAML   # - File reading\n",
        "from toml import load as tload # -\n",
        "from toml import dump as tdump # -\n",
        "from base64 import b64encode, b64decode\n",
        "\n",
        "yaml = YAML()\n",
        "\n",
        "# Variables\n",
        "server_name = ''\n",
        "server_name = SERVER_IN_USE(server_name)\n",
        "colabconfig = COLABCONFIG_LOAD(server_name)\n",
        "serverconfig = load(open(SERVERCONFIG))\n",
        "_type = colabconfig[\"server_type\"]\n",
        "version = colabconfig[\"server_version\"]\n",
        "tunnel_service = colabconfig[\"tunnel_service\"]\n",
        "\n",
        "global dynmap_check\n",
        "dynmap_check = False\n",
        "#---------------------------------------------------------------------------------- SNALL FUNCTION ------------------------------------------------------------------------------------#\n",
        "\n",
        "def CONNECT_NGROK(port, type_, proxy):\n",
        "  # Get serverconfig['ngrok_proxy'] : dict includes (authtoken, region)\n",
        "  token = proxy['authtoken']\n",
        "  !ngrok authtoken $token\n",
        "  region = proxy['region']\n",
        "  conf.get_default().region = region\n",
        "  url = ngrok.connect (port, type_)\n",
        "  if type_ == 'tcp': return 'Your server address is ' + ((str(url).split('\"')[1::2])[0]).replace('tcp://', '')\n",
        "  else: return url\n",
        "def CONFIG_ZROK(serverconfig):\n",
        "  zrok_dir = \"tunnel/zrok\"\n",
        "  if exists(f'{drive_path}/{server_name}/{zrok_dir}/zrok'): # Check if zrok is installed\n",
        "    ! chmod 777 $zrok_dir/zrok\n",
        "    ! chmod +x $zrok_dir/zrok\n",
        "    status = ! ./tunnel/zrok/zrok overview\n",
        "    if \"unable to load environment\" in str(status):\n",
        "      LOG('Status: \\n')\n",
        "      ! ./$zrok_dir/zrok version\n",
        "      ! ./$zrok_dir/zrok status\n",
        "      token = serverconfig['zrok_proxy']['authtoken']\n",
        "      ! ./tunnel/zrok/zrok enable $token --headless -d colab@colab >/dev/null && wait && $log 'ZROK ENABLED WITH TOKEN' || echo 'ZROK NOT ENABLED.'\n",
        "    else: LOG(\"ZROK ALREADY ENABLED\")\n",
        "  else: # Zrok was not found. Installation process.\n",
        "    zrok_dir = \"tunnel/zrok\" ; zrok_tar = 'zrok_0.4.32_linux_amd64.tar.gz';\n",
        "    MKDIR(f'{drive_path}/{server_name}/{zrok_dir}')\n",
        "    DOWNLOAD_FILE(url = 'https://github.com/openziti/zrok/releases/download/v0.4.32/zrok_0.4.32_linux_amd64.tar.gz', path = f'{drive_path}/{server_name}/{zrok_dir}' , file_name = zrok_tar)\n",
        "    ! tar -xf $zrok_dir/$zrok_tar -C $zrok_dir > /dev/null && $log \"Installing zrok done\" || echo \"Installing zrok failed\"\n",
        "    ! chmod 777 $zrok_dir/zrok\n",
        "    ! chmod +x $zrok_dir/zrok\n",
        "    LOG('Status: \\n')\n",
        "    if exists(f'{zrok_dir}/zrok'):\n",
        "      ! ./$zrok_dir/zrok version\n",
        "      ! ./$zrok_dir/zrok status\n",
        "      LOG(\"Access to https://api.zrok.io to get fully management. \\nDisabling zrok before enable. Don't care too much about this.\\n\")\n",
        "      token = serverconfig['zrok_proxy']['authtoken']\n",
        "      ! ./$zrok_dir/zrok enable $token --headless -d colab@colab >/dev/null && wait && $log 'ZROK ENABLED WITH TOKEN' || echo 'ZROK NOT ENABLED.'\n",
        "def CONFIG_PLAYIT(serverconfig):\n",
        "    # Download playit\n",
        "    ! command -v playit || curl -SsL https://playit-cloud.github.io/ppa/key.gpg | gpg --dearmor | sudo tee /etc/apt/trusted.gpg.d/playit.gpg > /content/drive/MyDrive/minecraft/logs/playitinstall.txt  2>&1 && echo \"deb [signed-by=/etc/apt/trusted.gpg.d/playit.gpg] https://playit-cloud.github.io/ppa/data ./\" | sudo tee /etc/apt/sources.list.d/playit-cloud.list >> /content/drive/MyDrive/minecraft/logs/playitinstall.txt  2>&1 && sudo apt -qq update >> /content/drive/MyDrive/minecraft/logs/playitinstall.txt  2>&1 && sudo apt install playit >> /content/drive/MyDrive/minecraft/logs/playitinstall.txt  2>&1 && echo \"Playit.gg installed\" >> /content/drive/MyDrive/minecraft/logs/playitinstall.txt  2>&1 || echo \"Failed to install playit\" >> /content/drive/MyDrive/minecraft/logs/playitinstall.txt  2>&1\n",
        "    secretfile=!playit secret-path\n",
        "    secretfile = secretfile[0]\n",
        "    if \"playit_proxy\" not in serverconfig:\n",
        "      serverconfig[\"playit_proxy\"] = {\"secretkey\": \"\"}\n",
        "    if serverconfig[\"playit_proxy\"][\"secretkey\"] == \"\":\n",
        "      LOG(\"No token in settings. Running playit setup\")\n",
        "      ! printf '\\e[36m[ PLAYIT ]\\e[0m' && playit setup\n",
        "      !sleep 5\n",
        "      LOG(\"Setup complete. Moving key to settings file\")\n",
        "      secretfile=!playit secret-path\n",
        "      secretfile = secretfile[0]\n",
        "      with open(secretfile, \"r\") as f:\n",
        "        file = tload(f)\n",
        "      secretkey=file[\"secret_key\"]\n",
        "      serverconfig['playit_proxy']['secretkey'] = secretkey\n",
        "      dump(serverconfig, open(SERVERCONFIG, 'w'))\n",
        "      LOG(\"Done.\")\n",
        "    elif serverconfig[\"playit_proxy\"][\"secretkey\"] != \"\":\n",
        "      LOG(\"Logging in with playit token.\")\n",
        "      config={}\n",
        "      config['secret_key'] = serverconfig[\"playit_proxy\"][\"secretkey\"]\n",
        "      with open('/etc/playit/playit.toml', 'w') as f:\n",
        "        tdump(config, f)\n",
        "      ! sleep 5\n",
        "      status = !playit tunnels list\n",
        "      !playit secret-path\n",
        "      if status[0] == \"{\": LOG(\"Sucess.\")\n",
        "      elif status[0] == \"Error: SecretFileLoadError\": ERROR(\"[ PLAYIT ] Token not set. Please go to Software -> Playit Options > Setup/Reset Agent\")\n",
        "      elif status[0] == \"Error: MalformedSecret\": ERROR(\"[ PLAYIT ] Invalid token. Please go to Software -> Playit Options -> Setup/Reset Agent\")\n",
        "def CONFIG_TAILSCALE(serverconfig):\n",
        "  status=!command -v tailscale || echo \"Error\"\n",
        "  if \"Error\" in status:\n",
        "    !curl -fsSL https://pkgs.tailscale.com/stable/ubuntu/bionic.gpg | sudo apt-key add - > /dev/null\n",
        "    !curl -fsSL https://pkgs.tailscale.com/stable/ubuntu/bionic.list | sudo tee /etc/apt/sources.list.d/tailscale.list > /dev/null\n",
        "    !echo \"Apt Update: \\n\" > /content/drive/MyDrive/minecraft/logs/tailscale-install.txt 2>&1 ; sudo apt-get update >> /content/drive/MyDrive/minecraft/logs/tailscale-install.txt 2>&1\n",
        "    !echo \"Apt Install Tailscale: \\n\" > /content/drive/MyDrive/minecraft/logs/tailscale-install.txt 2>&1 ;sudo apt-get install tailscale >> /content/drive/MyDrive/minecraft/logs/tailscale-install.txt 2>&1\n",
        "\n",
        "\n",
        "def ENABLE_TUNNEL(tunnel_service, serverconfig, server_type, log_path, geyser):\n",
        "  if tunnel_service == \"ngrok\":\n",
        "    if dynmap_check:\n",
        "      dynmap_access=CONNECT_NGROK(type_= 'http', port= 8123, proxy = serverconfig['ngrok_proxy'])\n",
        "    if server_type==\"bedrock\":\n",
        "      print_msg_box(f\"Bedrock: {CONNECT_NGROK(type_= 'udp', port= 19132, proxy = serverconfig['ngrok_proxy'])}\", indent=4, width=60, title=\"Use the following ips to access your server\")\n",
        "    elif server_type!=\"bedrock\" and geyser==True:\n",
        "      print_msg_box(f\"Bedrock: {CONNECT_NGROK(type_= 'udp', port= 19132, proxy = serverconfig['ngrok_proxy'])}\\nJava: {CONNECT_NGROK(type_= 'tcp', port= 25565, proxy = serverconfig['ngrok_proxy'])}\"+(f\"\\nDynmap: {dynmap_access}\" if dynmap_check else \"\"), indent=4, width=60, title=\"Use the following ips to access your server\")\n",
        "    elif server_type!=\"bedrock\":\n",
        "      print_msg_box(f\"Java: {CONNECT_NGROK(type_= 'tcp', port= 25565, proxy = serverconfig['ngrok_proxy'])}\"+(f\"\\nDynmap: {dynmap_access}\" if dynmap_check else \"\"), indent=4, width=60, title=\"Use the following ips to access your server\")\n",
        "  elif tunnel_service == \"playit\":\n",
        "    CONFIG_PLAYIT(serverconfig)\n",
        "    LOG(\"Starting Playit:\")\n",
        "    ! playit -s start &> /content/drive/MyDrive/minecraft/logs/playit.txt &\n",
        "    !sleep 35 && cat /content/drive/MyDrive/minecraft/logs/playit.txt | strings | grep \"got initial pong from tunnel server\" >> /dev/null && $log 'Playit Connected' || echo '[ PLAYIT ] Error. Not connected. Please check logs.'\n",
        "  elif tunnel_service == \"zrok\":\n",
        "    CONFIG_ZROK(serverconfig)\n",
        "    if dynmap_check:\n",
        "      !  ./tunnel/zrok/zrok share public localhost:8123 --headless &> $log_path/zrok2.txt &\n",
        "      #! sleep 20 && python -c \"with open(f'/content/drive/MyDrive/minecraft/logs/zrok2.txt', 'r') as f: content = f.read(); content = content[content.find('}') + 1 : ]; from json import loads; json = loads(content[content.find('{'): content.find('}') + 1]); print('Your dynmap webserver: ', json['msg'][json['msg'].find('zrok') :])\" &                                              #\n",
        "    if server_type==\"bedrock\":\n",
        "      ! ./tunnel/zrok/zrok share private --backend-mode udpTunnel 127.0.0.1:19132 --headless &> $log_path/zrok3.txt & # Bedrock Tunnel Start\n",
        "      ! sleep 10\n",
        "    elif server_type!=\"bedrock\" and geyser==True:\n",
        "      ! ./tunnel/zrok/zrok share private --backend-mode tcpTunnel 127.0.0.1:25565 --headless &> $log_path/zrok.txt & # Java tunnel start\n",
        "      ! sleep 10\n",
        "      ! ./tunnel/zrok/zrok share private --backend-mode udpTunnel 127.0.0.1:19132 --headless &> $log_path/zrok3.txt & # Bedrock (geyser) Tunnel Start\n",
        "      ! sleep 10\n",
        "    elif server_type!=\"bedrock\":\n",
        "      ! ./tunnel/zrok/zrok share private --backend-mode tcpTunnel 127.0.0.1:25565 --headless &> $log_path/zrok.txt & # Java tunnel start\n",
        "      ! sleep 10\n",
        "    status = !./tunnel/zrok/zrok status --secrets | grep \"Ziti Identity\" | sed 's/\\x1B\\[[0-9;]\\{1,\\}[A-Za-z]//g' # Get zrok user id and remove bash colors.\n",
        "    zID=status[2].split()[2]\n",
        "    data = !./tunnel/zrok/zrok overview # Get zrok data\n",
        "    data=loads(data[0])\n",
        "    for env in data[\"environments\"]:\n",
        "      environment = env.get(\"environment\", {})\n",
        "      if environment.get(\"zId\") == zID:\n",
        "        shares = env.get(\"shares\", [])\n",
        "        tunnels = []\n",
        "        for share in shares: # Get running tunnels\n",
        "          if share.get(\"backendMode\") == \"tcpTunnel\":\n",
        "              tunnels.append(f\"Java: zrok access private {share.get('token')}\")\n",
        "          if share.get(\"backendMode\") == \"udpTunnel\":\n",
        "              tunnels.append(f\"Bedrock: zrok access private {share.get('token')}\")\n",
        "          if share.get(\"backendMode\") == \"proxy\":\n",
        "              tunnels.append(f\"Dynmap: {share.get('frontendEndpoint')}\")\n",
        "    if tunnels:\n",
        "      print_msg_box(\"\\n\".join(tunnels), indent=4, width=60, title=\"Use the following commands/url to access your shares\")\n",
        "  elif tunnel_service == 'localtonet':\n",
        "    localtonet_path = f'{drive_path}/{server_name}/tunnel/localtonet/'\n",
        "    if exists(f\"{localtonet_path}/localtonet\") == False:\n",
        "      ! mkdir -p tunnel/localtonet\n",
        "      try:\n",
        "        DOWNLOAD_FILE(url = 'https://localtonet.com/download/localtonet-linux-x64.zip', path = f'{drive_path}/{server_name}/tunnel/localtonet', file_name = 'localtonet-linux-x64.zip')\n",
        "        LOG('Download successfull!')\n",
        "      except:\n",
        "        ERROR('LocalToNet could not be downloaded! Try again later or contact us.')\n",
        "      sleep(4)\n",
        "      ! sudo unzip -o tunnel/localtonet/localtonet-linux-x64.zip -d $localtonet_path > /dev/null && echo 'Unzipped successfully!' || echo 'Failed to unzip.'\n",
        "      ! ls tunnel/localtonet\n",
        "      sleep(4)\n",
        "    ! chmod 777 tunnel/localtonet/localtonet\n",
        "    ! chmod +x tunnel/localtonet/localtonet\n",
        "    LOG('Starting Tunnel: '); token = serverconfig['localtonet_proxy']['authtoken']\n",
        "    ! ./tunnel/localtonet/localtonet authtoken $token &> $log_path/localtonet.txt &\n",
        "    ! sleep 40 && cat /content/drive/MyDrive/minecraft/logs/localtonet.txt | strings | grep \"Connected\" >> /dev/null && echo '[ LOG ] Locatonet tunnel started! Start the UDP_TCP connection on the dashboard: https://localtonet.com/tunnel/tcpudp.' || echo '[ ERROR ] Failed to start Locatonet tunnel.'\n",
        "  elif tunnel_service == \"minekube-gate\":\n",
        "    gate_dir = \"tunnel/minekube-gate\"\n",
        "    if exists(f'{drive_path}/{server_name}/{gate_dir}/gate') == False or exists(f'{drive_path}/{server_name}/{gate_dir}/config.yml') == False: # Check if gate is installed\n",
        "      MKDIR(f'{drive_path}/{server_name}/{gate_dir}')\n",
        "      try:\n",
        "        DOWNLOAD_FILE(url = 'https://github.com/minekube/gate/releases/download/v0.41.2/gate_0.41.2_linux_amd64', path = f'{drive_path}/{server_name}/{gate_dir}' , file_name = \"gate\")\n",
        "        LOG('Download successfull!')\n",
        "      except Exception as e:\n",
        "        ERROR(f'minekube-gate could not be downloaded! Try again later or contact us. {e}')\n",
        "      sleep(4)\n",
        "      ! chmod 777 $gate_dir/gate\n",
        "      ! chmod +x $gate_dir/gate\n",
        "      DOWNLOAD_FILE(url = \"https://raw.githubusercontent.com/N-aksif-N/MineColab_Improved/refs/heads/free-config/minekube-gate/config.yml\", path = f'{drive_path}/{server_name}/{gate_dir}' , file_name = \"config.yml\") # temporal hasta que me habiliten el commit\n",
        "      ! chmod 777 $gate_dir/config.yml\n",
        "      LOG(\"Starting Gate\")\n",
        "\n",
        "    ! chmod 777 $gate_dir/gate\n",
        "    ! chmod +x $gate_dir/gate\n",
        "    ! chmod 777 $gate_dir/config.yml\n",
        "    !rm $log_path/minekube-gate.txt\n",
        "    if \"minekube-gate_proxy\" not in serverconfig:\n",
        "      serverconfig[\"minekube-gate_proxy\"] = {\"token\": \"\"}\n",
        "    if serverconfig[\"minekube-gate_proxy\"][\"token\"] == \"\":\n",
        "      LOG(\"No token in settings. Running without one.\")\n",
        "    elif serverconfig[\"minekube-gate_proxy\"][\"token\"] != \"\":\n",
        "      LOG(\"Logging in with minekube token.\")\n",
        "      config={}\n",
        "      config['token'] = serverconfig[\"minekube-gate_proxy\"][\"token\"]\n",
        "      dump(config, open(f\"{drive_path}/{server_name}/{gate_dir}/connect.json\", 'w'))\n",
        "      ! sleep 5\n",
        "    #!(cd tunnel/minekube-gate && ./gate -c $drive_path/$server_name/$gate_dir/config.yml > $log_path/minekube-gate.txt 2>&1 &) &\n",
        "    #!bash -c \"cd tunnel/minekube-gate && ./gate -c $drive_path/$server_name/$gate_dir/config.yml > $log_path/minekube-gate.txt 2>&1\" &\n",
        "    nouse=!nohup bash -c \"cd tunnel/minekube-gate && ./gate -c $drive_path/$server_name/$gate_dir/config.yml > $log_path/minekube-gate.txt 2>&1\" </dev/null &\n",
        "    sleep(20)\n",
        "    status=!cat /content/drive/MyDrive/minecraft/logs/minekube-gate.txt | strings | grep \"connected\" >> /dev/null && echo 1 || echo 2\n",
        "    if \"2\" in status:\n",
        "      LOG(\"Failed to start Minekube gate. Please check logs.\")\n",
        "    elif \"1\" in status:\n",
        "      LOG(\"Minekube gate connected sucessfully\")\n",
        "      endpoint=! grep \"connecting to watch service...\" /content/drive/MyDrive/minecraft/logs/minekube-gate.txt |  sed 's/\\x1B\\[[0-9;]\\{1,\\}[A-Za-z]//g'\n",
        "      print_msg_box(loads(endpoint[0].split(\"\\t\")[-1])[\"endpoint\"]+\".play.minekube.net\", indent=5, width=45, title=\"Use the following ip to access your shares\")\n",
        "    LOG(\"Playit startup\")\n",
        "    ENABLE_TUNNEL(\"playit\", serverconfig, server_type, log_path, geyser) # Tunnel functions\n",
        "\n",
        "\n",
        "  elif tunnel_service == 'argo':\n",
        "    # Download argo\n",
        "    if exists(f'{drive_path}/{server_name}/tunnel/cloudflared-linux-amd64') == False:\n",
        "      DOWNLOAD_FILE(url = 'https://github.com/cloudflare/cloudflared/releases/latest/download/cloudflared-linux-amd64', path = f'{drive_path}/{server_name}/tunnel', file_name= 'cloudflared-linux-amd64')\n",
        "      ! chmod 777 tunnel/cloudflared-linux-amd64\n",
        "      ! chmod +x tunnel/cloudflared-linux-amd64\n",
        "    LOG('Starting: ');\n",
        "    # Run tunnel\n",
        "    ! ./tunnel/cloudflared-linux-amd64 tunnel --url tcp://127.0.0.1:25565 &\n",
        "  elif tunnel_service == 'localxpose':\n",
        "    ERROR('This tunnel is in develop... Try again with a new version.')\n",
        "    if exists(f'{drive_path}/{server_name}/tunnel/localxpose/loclx') == False:\n",
        "      ! mkdir tunnel/localxpose\n",
        "      DOWNLOAD_FILE(url = 'https://api.localxpose.io/api/v2/downloads/loclx-linux-amd64.zip', path = f'{drive_path}/{server_name}/tunnel', file_name= 'loclx-linux-amd64.zip')\n",
        "      sleep(40)\n",
        "      ! unzip -o tunnel/loclx-linux-amd64.zip\n",
        "      ! chmod 777 tunnel/localxpose/loclx\n",
        "      ! chmod +x tunnel/localxpose/loclx\n",
        "    LOG('Starting: ');\n",
        "    token = serverconfig['localxpose_proxy']['authtoken']\n",
        "    ! export ACCESS_TOKEN={token}\n",
        "    ! ./tunnel/localxpose/loclx account login $token &> $log_path/localxpose.txt && loclx tunnel tcp --port 25565\n",
        "    ! echo 'LocalXpose tunnel started! Start the UDP_TCP connection on the dashboard: https://localxpose.io/dashboard'\n",
        "  elif tunnel_service == 'tailscale': # Tailscale tunnel service\n",
        "    if \"tailscale_proxy\" not in serverconfig  or  serverconfig[\"tailscale_proxy\"][\"authtoken\"] == \"\":\n",
        "      ERROR(\"Tailscale auth token not specified. Please insert one on the 'Change Tunnel Token' cell\")\n",
        "    CONFIG_TAILSCALE(serverconfig)\n",
        "    if \"machine_info\" not in serverconfig[\"tailscale_proxy\"] or serverconfig[\"tailscale_proxy\"][\"machine_info\"] == \"\"  :\n",
        "      LOG(\"Tailscale Machine Info not found. Saving.\")\n",
        "      token = serverconfig['tailscale_proxy']['authtoken']\n",
        "      !nohup sudo tailscaled --tun=userspace-networking --socket=/run/tailscale/tailscaled.sock --port 41641 --state=/tmp/tailscaled/tailscaled.state  --statedir /tmp/tailscaled/ >$log_path/tailscaled.txt 2>&1 &\n",
        "      ! tailscale up --authkey $token --hostname colab && $log \"Tailscale Connected Successfully\"\n",
        "      with open(\"/tmp/tailscaled/tailscaled.state\", \"r\") as f:\n",
        "        state=f.read()\n",
        "      state=b64encode(state.encode(\"utf-8\"))\n",
        "      serverconfig['tailscale_proxy']['machine_info'] = state.decode(\"utf-8\")\n",
        "      dump(serverconfig, open(SERVERCONFIG, 'w'))\n",
        "      LOG(\"Tailscale Machine Info saved to config file. Starting Minecraft Server\")\n",
        "      sleep(5)\n",
        "    else:\n",
        "      LOG(\"Tailscaled Machine Info found. Starting.\")\n",
        "      if not exists('/tmp/tailscaled'):\n",
        "        ! mkdir /tmp/tailscaled/ ; touch  /tmp/tailscaled/tailscaled.state\n",
        "      with open(\"/tmp/tailscaled/tailscaled.state\", \"w\") as f: f.write(b64decode(serverconfig[\"tailscale_proxy\"][\"machine_info\"].encode(\"utf-8\")).decode(\"utf-8\"))\n",
        "      token = serverconfig['tailscale_proxy']['authtoken']\n",
        "      !nohup sudo tailscaled --tun=userspace-networking --socket=/run/tailscale/tailscaled.sock --port 41641 --state=/tmp/tailscaled/tailscaled.state  --statedir /tmp/tailscaled/ >$log_path/tailscaled.txt 2>&1 &\n",
        "      !tailscale up --authkey $token --hostname colab && $log \"Tailscale Connected Successfully\"\n",
        "      sleep(5)\n",
        "def RUNCOMMAND(server_name, serverconfig, version, _type, tunnel_service, hide = False):\n",
        "    # Creating directories:\n",
        "    #      tunnel - include all the tunnel sevice\n",
        "    #      logs - include the tunnel logs\n",
        "    MKDIR(f'{drive_path}/logs')\n",
        "    MKDIR(f'{drive_path}/{server_name}/tunnel')\n",
        "    # Get all the improving java arguments\n",
        "    java_ver = !java -version 2>&1 | awk -F[\\\"\\.] -v OFS=. 'NR==1{print $2}'\n",
        "    args = \" -Xms8G -Xmx8G\"\n",
        "    if _type == \"paper\" or _type == 'purpur' or _type == 'arclight':\n",
        "      # Improving paper cilent (purpur is an alternative).\n",
        "      # For more detailed: https://docs.papermc.io/paper/aikars-flags\n",
        "      args += ' -XX:+UseG1GC -XX:+ParallelRefProcEnabled -XX:MaxGCPauseMillis=200 -XX:+UnlockExperimentalVMOptions -XX:+DisableExplicitGC -XX:+AlwaysPreTouch -XX:G1NewSizePercent=30 -XX:G1MaxNewSizePercent=40 -XX:G1HeapRegionSize=8M -XX:G1ReservePercent=20 -XX:G1HeapWastePercent=5 -XX:G1MixedGCCountTarget=4 -XX:InitiatingHeapOccupancyPercent=15 -XX:G1MixedGCLiveThresholdPercent=90 -XX:G1RSetUpdatingPauseTimePercent=5 -XX:SurvivorRatio=32 -XX:+PerfDisableSharedMem -XX:MaxTenuringThreshold=1 -Dusing.aikars.flags=https://mcflags.emc.gs -Daikars.new.flags=true'\n",
        "    elif _type == \"velocity\":\n",
        "      # Java argument for velocity server\n",
        "      # For more detailed: https://docs.papermc.io/velocity/tuning\n",
        "      args += ' -XX:+UseG1GC -XX:G1HeapRegionSize=4M -XX:+UnlockExperimentalVMOptions -XX:+ParallelRefProcEnabled -XX:+AlwaysPreTouch -XX:MaxInlineLevel=15'\n",
        "    # GC_LOGGING\n",
        "    if java_ver[0] == \"1\": args += ' -Xloggc:gc.log -verbose:gc -XX:+PrintGCDetails -XX:+PrintGCDateStamps -XX:+PrintGCTimeStamps -XX:+UseGCLogFileRotation -XX:NumberOfGCLogFiles=5 -XX:GCLogFileSize=1M'\n",
        "    # else: args += '-Xlog:gc*:logs/gc.log:time,uptime:filecount=5,filesize=1M' # GC_Logging may not worked in java 11 and above\n",
        "\n",
        "    # Forge need to open and run it before starting server. => Using command instead.\n",
        "    if _type == 'forge':\n",
        "      !java -jar forge-installer.jar --installServer >/dev/null\n",
        "    jar_name = ''\n",
        "    if _type == 'forge':\n",
        "      a = !ls -1 | grep .jar\n",
        "      for i in a:\n",
        "        if 'forge' in i and 'installer' not in i: jar_name = i\n",
        "    elif _type == 'bedrock': jar_name = 'bedrock_server'\n",
        "    else: jar_name = JAR_LIST_RUN(version)[_type]\n",
        "\n",
        "    # Set up run server cmd\n",
        "    cmd = ''\n",
        "    if exists(f'{drive_path}/{server_name}/run.sh') == True and _type != 'arclight':\n",
        "      with open(f'{drive_path}/{server_name}/run.sh', 'r') as f: cmd = f.read()\n",
        "    if cmd != '': cmd = cmd[cmd.find('java'): ].replace('@user_jvm_args.txt', args); cmd = cmd.replace('\"$@\"', 'nogui \"$@\"')\n",
        "    else: cmd = f'java -server {args} -jar {jar_name} nogui'\n",
        "    if _type == \"bedrock\":\n",
        "      cmd=f\"! LD_LIBRARY_PATH=. {drive_path}/{server_name}/bedrock_server\"\n",
        "      !sudo chmod 777 {drive_path}/{server_name}/bedrock_server\n",
        "\n",
        "    if hide == True:\n",
        "      if _type == 'forge' or _type == 'arclight':\n",
        "        # Make run.sh running\n",
        "        if exists(f'{drive_path}/{server_name}/eula.txt') == True: LOG('Run the server aigain to finished installing.')\n",
        "      if _type != 'mohist' and _type != 'banner':\n",
        "        # Install needed file: eula.txt and so on.\n",
        "        ! $cmd > /dev/null\n",
        "\n",
        "    else:\n",
        "      # Starting tunneling and run java file.\n",
        "      LOG(f'Starting server ({tunnel_service})...')\n",
        "      LOG('Stop server => /stop')\n",
        "      log_path = f'{drive_path}/logs'\n",
        "      stype=_type\n",
        "      geyser=False\n",
        "      a = listdir(f'{drive_path}/{server_name}')                            # Geyser plugin check\n",
        "      if 'plugins' in a: a = listdir(f'{drive_path}/{server_name}/plugins') #\n",
        "      elif 'mods' in a: a = listdir(f'{drive_path}/{server_name}/mods')     #\n",
        "      for i in a:                                                           #\n",
        "        if 'Geyser' in i or \"geyser\" in i:                                  #\n",
        "          geyser=True                                                       #\n",
        "      if stype!=\"bedrock\" or geyser==True:\n",
        "        # Install java acording to the version of server.jar\n",
        "        INSTALL_JAVA(version, _type)\n",
        "      ENABLE_TUNNEL(tunnel_service, serverconfig, stype, log_path, geyser) # Tunnel functions\n",
        "      LOG(\"Starting: \") ; sleep(5)\n",
        "      ! $cmd # Server Startup\n",
        "\n",
        "def GEYSER_CONFIG(server_name, colabconfig, _type):\n",
        "    if 'Geysermc' in colabconfig:\n",
        "      if 'fabric' in _type: path = f'{drive_path}/{server_name}/config/Geyser-Fabric/config.yml'\n",
        "      elif'paper' in _type or 'purpur' in _type: path = f'{drive_path}/{server_name}/plugins/Geyser-Spigot/config.yml'\n",
        "      else:\n",
        "        LOG('Check out https://wiki.geysermc.org/floodgate/setup/ for installing Floodgate on servers behind the proxy'); LOG('Note for Fabric behind a Velocity proxy: You will need to configure FabricProxyLite to allow the Fabric server to receive data from Velocity.'); LOG('After done settings, copy the key.pem file in the proxy Floodgate config folder to all backend servers’ Floodgate config folder.'); LOG('DO NOT DISTRIBUTE THIS KEY TO ANYBODY! This key is what allows for Bedrock accounts to bypass the Java Edition authentication, and if anyone gets ahold of this, they can wreak havoc on your server.')\n",
        "        path =  f'{drive_path}/{server_name}/plugins/Geyser-Velocity/config.yml'\n",
        "      # To get the requirement\n",
        "      if exists(path):\n",
        "        LOG('Config geyser plugin')\n",
        "        # Configuring\n",
        "        with open(path, 'r') as file:\n",
        "          config = yaml.load(file);\n",
        "        config['bedrock']['clone-remote-port'] = 'true';\n",
        "        config['auth-type'] = 'floodgate';\n",
        "        yaml.dump(config, sys.stdout)\n",
        "        # Clear notification\n",
        "        colabconfig.pop('Geysermc')\n",
        "        dump(colabconfig, open(COLABCONFIG(server_name),'w'))\n",
        "        LOG('Config done. Check out https://wiki.geysermc.org/geyser/playit-gg for setting tunnels \\n - Verify whether connections from other networks are possible by running geyser connectiontest <ip>:<port> in the console.')\n",
        "def SUPPORT_DYNMAP(colabconfig):\n",
        "    global dynmap_check\n",
        "    if exists(f'{drive_path}/{server_name}/mods/dynmap-server.jar') or exists(f'{drive_path}/{server_name}/plugins/dynmap-server.jar'):\n",
        "      if colabconfig['tunnel_service'] == 'ngrok':\n",
        "        dynmap_check = True\n",
        "      elif colabconfig['tunnel_service'] == 'playit': LOG('Access to https://playit.gg/support/add-dynmap-to-minecraft/ then head over to step 5. DO IT!!!!!!!')\n",
        "      elif colabconfig['tunnel_service'] == 'localtonet': LOG('GUIDE: \\n - Go to https://localtonet.com/tunnel/http \\n - Select Process Type for your needs. (Random Sub Domain, Custom Sub Domain, Custom Domain)\\n - Select your authtoken. Get it from https://localtonet.com/usertoken. And then select the Server you want your tunnel to run on.\\n Enter the IP: 127.0.0.1 and Port: 8123 values that the tunnel will listen to\\n - Create and Start your tunnel by pressing the Start Button from the list.')\n",
        "      elif colabconfig['tunnel_service'] == 'zrok':\n",
        "        dynmap_check = True\n",
        "\n",
        "def INSTALL_JAVA(version, _type):\n",
        "    # Adoptopen jdk -- optional\n",
        "    # !wget -qO - https://adoptopenjdk.jfrog.io/adoptopenjdk/api/gpg/key/public | sudo apt-key add -\n",
        "    # !sudo add-apt-repository --yes https://adoptopenjdk.jfrog.io/adoptopenjdk/deb/ &>/dev/null || echo \"Failed to add repo. Still can be ignored if openjdk gets installed.\"\n",
        "\n",
        "  if _type == \"velocity\": # Velocity requires java 17 by default\n",
        "    ! sudo apt-get -y install openjdk-17-jre-headless  > /dev/null && echo 'Openjdk17 is working correctly, you are good to go.' || \"Openjdk17 doesn't seem to be installed or isn't working, falling back to java 11\\nYou might experience reduced performance. Velocity might fail to launch.\"\n",
        "    environ[\"JAVA_HOME\"] = \"/usr/lib/jvm/java-17-openjdk-amd64\"\n",
        "    ! update-alternatives --set java /usr/lib/jvm/java-17-openjdk-amd64/bin/java\n",
        "  elif _type == \"mohist\": # Mohist java requirements\n",
        "    version_tuple = tuple(map(int, version.split('.')))\n",
        "\n",
        "    if version_tuple in [(1, 7, 10), (1, 12, 2)]:\n",
        "      ! sudo apt-get -y install openjdk-8-jre-headless > /dev/null && echo 'Openjdk8 is working correctly, you are good to go.' || echo \"Openjdk8 doesn't seem to be installed or isn't working, falling back to java 11\\nYou might experience reduced performance. Mohist 1.7.10 and 1.12.2 might fail to launch.\"\n",
        "      environ[\"JAVA_HOME\"] = \"/usr/lib/jvm/java-8-openjdk-amd64\"\n",
        "      ! update-alternatives --set java /usr/lib/jvm/java-8-openjdk-amd64/jre/bin/java\n",
        "\n",
        "    elif version_tuple == (1, 16, 5):\n",
        "      ! sudo apt-get -y install openjdk-11-jre-headless > /dev/null && echo 'Openjdk11 is working correctly, you are good to go.' || echo \"Openjdk11 doesn't seem to be installed or isn't working, falling back to java 8\\nYou might experience reduced performance. Mohist 1.16.5 might fail to launch.\"\n",
        "      environ[\"JAVA_HOME\"] = \"/usr/lib/jvm/java-11-openjdk-amd64\"\n",
        "      ! update-alternatives --set java /usr/lib/jvm/java-11-openjdk-amd64/bin/java\n",
        "\n",
        "    elif version_tuple >= (1,18,2):\n",
        "      ! sudo apt-get -y install openjdk-17-jre-headless > /dev/null && echo 'Openjdk17 is working correctly, you are good to go.' || echo \"Openjdk17 doesn't seem to be installed or isn't working, falling back to java 11\\nYou might experience reduced performance. Mohist 1.18.2 to 1.20.2 might fail to launch.\"\n",
        "      environ[\"JAVA_HOME\"] = \"/usr/lib/jvm/java-17-openjdk-amd64\"\n",
        "      ! update-alternatives --set java /usr/lib/jvm/java-17-openjdk-amd64/bin/java\n",
        "\n",
        "  else: # Paper, purpur, vanilla, spigot, bukkit, etc\n",
        "    # Java 8 is required to run Minecraft versions 1.12 through 1.17. Java 17 is required to run Minecraft version 1.18 and up.\n",
        "    version_tuple = tuple(map(int, version.split('.')))\n",
        "    if version_tuple >= (1,20,5):\n",
        "      ! sudo apt-get install -y openjdk-21-jre-headless  > /dev/null && echo 'Openjdk21 is working correctly, you are good to go.' || \"Openjdk21 doesn't seem to be installed or isn't working, falling back to java 11\\nYou might experience reduced performance. Minecraft 1.20.5 and above might fail to launch.\"\n",
        "      environ[\"JAVA_HOME\"] = \"/usr/lib/jvm/java-21-openjdk-amd64/bin/java\"\n",
        "      ! update-alternatives --set java /usr/lib/jvm/java-21-openjdk-amd64/bin/java\n",
        "    elif version_tuple >= (1,17):\n",
        "      ! sudo apt-get -y install openjdk-17-jre-headless  > /dev/null && echo 'Openjdk17 is working correctly, you are good to go.' || \"Openjdk17 doesn't seem to be installed or isn't working, falling back to java 11\\nYou might experience reduced performance. Minecraft 1.18 and above might fail to launch.\"\n",
        "      environ[\"JAVA_HOME\"] = \"/usr/lib/jvm/java-17-openjdk-amd64\"\n",
        "      ! update-alternatives --set java /usr/lib/jvm/java-17-openjdk-amd64/bin/java\n",
        "    else:\n",
        "      ! sudo apt-get -y install openjdk-8-jre-headless   > /dev/null && echo 'Openjdk8 is working correctly, you are good to go.' || echo \"Openjdk8 doesn't seem to be installed or isn't working, falling back to java 11\\nYou might experience reduced performance. Minecraft 1.18 and above might fail to launch.\"\n",
        "      environ[\"JAVA_HOME\"] = \"/usr/lib/jvm/java-8-openjdk-amd64\"\n",
        "      ! update-alternatives --set java /usr/lib/jvm/java-8-openjdk-amd64/jre/bin/java\n",
        "def EXIT_NGROK():\n",
        "    # Exiting ngrok tunnel helps improve the performance\n",
        "    tunnels = ngrok.get_tunnels()\n",
        "    for tunnel in tunnels: ngrok.disconnect(tunnel.public_url)\n",
        "    ngrok.kill()\n",
        "    LOG(\"Ngrok closed.\")\n",
        "\n",
        "#---------------------------------------------------------------------------------- MAIN CODE ------------------------------------------------------------------------------------#\n",
        "LOG(f\"\\nColab Version: {colabversion}\")\n",
        "# Cd to server path\n",
        "%cd $drive_path/$server_name\n",
        "# Install necessary files\n",
        "if exists(f'{drive_path}/{server_name}/eula.txt') == False:\n",
        "  LOG(\"\\n[Note: Downloading essentials files takes approximately 10-15 minutes. Please wait for a little bit, then restart the console.]\")\n",
        "  RUNCOMMAND(server_name, serverconfig, version, _type, tunnel_service, hide = True)\n",
        "with open(f'{drive_path}/{server_name}/eula.txt', 'w') as f:\n",
        "  # Accept EULA\n",
        "  LOG('\\nAccepting Eula.')\n",
        "  f.seek(0)\n",
        "  f.write('eula=true')\n",
        "# See what changes in the folder\n",
        "LOG(\"\\nFiles:\")\n",
        "!ls -a\n",
        "# Run minecraft server\n",
        "SUPPORT_DYNMAP(colabconfig)\n",
        "RUNCOMMAND(server_name, serverconfig, version, _type, tunnel_service)\n",
        "GEYSER_CONFIG(server_name, colabconfig, _type)\n",
        "# Stop minecraft server => Exit tunnel => Cd to home\n",
        "LOG(\"Finalized server.\")\n",
        "if colabconfig['tunnel_service'] == 'ngrok': EXIT_NGROK()\n",
        "if colabconfig['tunnel_service'] == 'localtonet':\n",
        "  ! pkill localtonet\n",
        "if colabconfig[\"tunnel_service\"] == 'zrok':\n",
        "  ! ./tunnel/zrok/zrok disable >/dev/null\n",
        "if colabconfig[\"tunnel_service\"] == 'playit':\n",
        "  ! killall /opt/playit/agent -9\n",
        "if colabconfig[\"tunnel_service\"] == 'minekube-gate':\n",
        "  ! killall /opt/playit/agent -9\n",
        "  ! pkill gate\n",
        "if colabconfig[\"tunnel_service\"] == 'tailscale':\n",
        "  LOG(\"Closing Tailscale Tunnel.\")\n",
        "  !echo \"Tailscale cleanup\\n\" >> $log_path/tailscaled.txt ; tailscaled -cleanup >>$log_path/tailscaled.txt 2>&1\n",
        "  !pkill tailscaled\n",
        "%cd $drive_path"
      ]
    },
    {
      "cell_type": "markdown",
      "metadata": {
        "id": "dx7miMbBTUtA"
      },
      "source": [
        "---"
      ]
    },
    {
      "cell_type": "markdown",
      "source": [],
      "metadata": {
        "id": "3cosJjcNJ6qf"
      }
    },
    {
      "cell_type": "markdown",
      "source": [],
      "metadata": {
        "id": "WfvuqQQmP90p"
      }
    },
    {
      "cell_type": "markdown",
      "metadata": {
        "id": "Dc-Gb9a7TUtB"
      },
      "source": [
        "# ⚓ **Options** (Java Only!)\n",
        "---\n"
      ]
    },
    {
      "cell_type": "code",
      "execution_count": 4,
      "metadata": {
        "cellView": "form",
        "id": "4Lz27AhhTUtB",
        "colab": {
          "base_uri": "https://localhost:8080/",
          "height": 367
        },
        "outputId": "3eb86354-c774-4509-a96b-2b9f829cf992"
      },
      "outputs": [
        {
          "output_type": "error",
          "ename": "Exception",
          "evalue": "[ ERROR ]  Running your minecraft server before editing properties",
          "traceback": [
            "\u001b[0;31m---------------------------------------------------------------------------\u001b[0m",
            "\u001b[0;31mException\u001b[0m                                 Traceback (most recent call last)",
            "\u001b[0;32m<ipython-input-4-d5b08a84a9c4>\u001b[0m in \u001b[0;36m<cell line: 15>\u001b[0;34m()\u001b[0m\n\u001b[1;32m     13\u001b[0m \u001b[0;31m# Default server\u001b[0m\u001b[0;34m\u001b[0m\u001b[0;34m\u001b[0m\u001b[0m\n\u001b[1;32m     14\u001b[0m \u001b[0mserver_name\u001b[0m \u001b[0;34m=\u001b[0m \u001b[0mSERVER_IN_USE\u001b[0m\u001b[0;34m(\u001b[0m\u001b[0mserver_name\u001b[0m \u001b[0;34m=\u001b[0m \u001b[0;34m''\u001b[0m\u001b[0;34m)\u001b[0m\u001b[0;34m\u001b[0m\u001b[0;34m\u001b[0m\u001b[0m\n\u001b[0;32m---> 15\u001b[0;31m \u001b[0;32mif\u001b[0m \u001b[0mexists\u001b[0m\u001b[0;34m(\u001b[0m\u001b[0;34mf\"{drive_path}/{server_name}/server.properties\"\u001b[0m\u001b[0;34m)\u001b[0m \u001b[0;34m==\u001b[0m \u001b[0;32mFalse\u001b[0m\u001b[0;34m:\u001b[0m \u001b[0mERROR\u001b[0m\u001b[0;34m(\u001b[0m\u001b[0;34m' Running your minecraft server before editing properties'\u001b[0m\u001b[0;34m)\u001b[0m\u001b[0;34m\u001b[0m\u001b[0;34m\u001b[0m\u001b[0m\n\u001b[0m\u001b[1;32m     16\u001b[0m \u001b[0;32melse\u001b[0m\u001b[0;34m:\u001b[0m\u001b[0;34m\u001b[0m\u001b[0;34m\u001b[0m\u001b[0m\n\u001b[1;32m     17\u001b[0m   \u001b[0mLOG\u001b[0m\u001b[0;34m(\u001b[0m\u001b[0;34m'Server:  '\u001b[0m \u001b[0;34m+\u001b[0m \u001b[0mserver_name\u001b[0m\u001b[0;34m)\u001b[0m\u001b[0;34m\u001b[0m\u001b[0;34m\u001b[0m\u001b[0m\n",
            "\u001b[0;32m<ipython-input-1-d4e2d9057650>\u001b[0m in \u001b[0;36mERROR\u001b[0;34m(sep, *args)\u001b[0m\n\u001b[1;32m     89\u001b[0m     \u001b[0;32mif\u001b[0m \u001b[0;34m'\\n'\u001b[0m \u001b[0;32min\u001b[0m \u001b[0margs\u001b[0m\u001b[0;34m[\u001b[0m\u001b[0mi\u001b[0m\u001b[0;34m]\u001b[0m\u001b[0;34m:\u001b[0m \u001b[0margs\u001b[0m\u001b[0;34m[\u001b[0m\u001b[0mi\u001b[0m\u001b[0;34m]\u001b[0m \u001b[0;34m=\u001b[0m \u001b[0margs\u001b[0m\u001b[0;34m[\u001b[0m\u001b[0mi\u001b[0m\u001b[0;34m]\u001b[0m\u001b[0;34m.\u001b[0m\u001b[0mreplace\u001b[0m\u001b[0;34m(\u001b[0m\u001b[0;34m'\\n'\u001b[0m\u001b[0;34m,\u001b[0m \u001b[0;34m''\u001b[0m\u001b[0;34m)\u001b[0m\u001b[0;34m;\u001b[0m \u001b[0margs\u001b[0m\u001b[0;34m.\u001b[0m\u001b[0minsert\u001b[0m\u001b[0;34m(\u001b[0m\u001b[0;36m0\u001b[0m\u001b[0;34m,\u001b[0m \u001b[0;34m'\\n[ ERROR ] '\u001b[0m\u001b[0;34m)\u001b[0m\u001b[0;34m;\u001b[0m \u001b[0mcheck\u001b[0m \u001b[0;34m=\u001b[0m \u001b[0;32mTrue\u001b[0m\u001b[0;34m;\u001b[0m \u001b[0;32mbreak\u001b[0m\u001b[0;34m\u001b[0m\u001b[0;34m\u001b[0m\u001b[0m\n\u001b[1;32m     90\u001b[0m   \u001b[0;32mif\u001b[0m \u001b[0mcheck\u001b[0m \u001b[0;34m==\u001b[0m \u001b[0;32mFalse\u001b[0m\u001b[0;34m:\u001b[0m \u001b[0margs\u001b[0m\u001b[0;34m.\u001b[0m\u001b[0minsert\u001b[0m\u001b[0;34m(\u001b[0m\u001b[0;36m0\u001b[0m\u001b[0;34m,\u001b[0m \u001b[0;34m'[ ERROR ] '\u001b[0m\u001b[0;34m)\u001b[0m\u001b[0;34m\u001b[0m\u001b[0;34m\u001b[0m\u001b[0m\n\u001b[0;32m---> 91\u001b[0;31m   \u001b[0;32mraise\u001b[0m \u001b[0mException\u001b[0m\u001b[0;34m(\u001b[0m\u001b[0msep\u001b[0m\u001b[0;34m.\u001b[0m\u001b[0mjoin\u001b[0m\u001b[0;34m(\u001b[0m\u001b[0mmap\u001b[0m\u001b[0;34m(\u001b[0m\u001b[0mstr\u001b[0m\u001b[0;34m,\u001b[0m \u001b[0margs\u001b[0m\u001b[0;34m)\u001b[0m\u001b[0;34m)\u001b[0m\u001b[0;34m)\u001b[0m\u001b[0;34m\u001b[0m\u001b[0;34m\u001b[0m\u001b[0m\n\u001b[0m\u001b[1;32m     92\u001b[0m \u001b[0;32mdef\u001b[0m \u001b[0mINFO\u001b[0m\u001b[0;34m(\u001b[0m\u001b[0;34m*\u001b[0m\u001b[0margs\u001b[0m\u001b[0;34m,\u001b[0m \u001b[0msep\u001b[0m\u001b[0;34m=\u001b[0m\u001b[0;34m''\u001b[0m\u001b[0;34m)\u001b[0m\u001b[0;34m:\u001b[0m\u001b[0;34m\u001b[0m\u001b[0;34m\u001b[0m\u001b[0m\n\u001b[1;32m     93\u001b[0m   \u001b[0mcheck\u001b[0m \u001b[0;34m=\u001b[0m \u001b[0;32mFalse\u001b[0m\u001b[0;34m\u001b[0m\u001b[0;34m\u001b[0m\u001b[0m\n",
            "\u001b[0;31mException\u001b[0m: [ ERROR ]  Running your minecraft server before editing properties"
          ]
        }
      ],
      "source": [
        "from jproperties import Properties\n",
        "from os.path import exists\n",
        "from google.colab import files as fls\n",
        "!pip install pillow\n",
        "from PIL import Image\n",
        "\n",
        "# @markdown ####**Server_custom**\n",
        "choice = 'server_motd' # @param [\"server_motd\", \"server_icon\"]\n",
        "\n",
        "file_path = f'{drive_path}/server-icon.png'\n",
        "file_dest = f'{drive_path}/{server_name}/'\n",
        "\n",
        "# Default server\n",
        "server_name = SERVER_IN_USE(server_name = '')\n",
        "if exists(f\"{drive_path}/{server_name}/server.properties\") == False: ERROR(' Running your minecraft server before editing properties')\n",
        "else:\n",
        "  LOG('Server:  ' + server_name)\n",
        "  sleep(4)\n",
        "  # Add server icon file\n",
        "  if choice == 'server_icon':\n",
        "    if exists(f\"{drive_path}/{server_name}/server-icon.png\"): LOG('There is an existing server_icon.png file. If you wanna to change it, press ENTER. If not, stop the cell.'); input()\n",
        "    url = input('Download_url (left empty to upload manually): ')\n",
        "    if url != '':\n",
        "      try:\n",
        "        DOWNLOAD_FILE(url= url, path= f'{drive_path}', file_name= 'server-icon.png')\n",
        "      except:\n",
        "        INFO('Check that the image is available on the internet! You can try https://imgbb.com or https://postimages.org/ and obtain the direct link.')\n",
        "        ERROR('Failed to download. Forbidden / Not accesible.')\n",
        "      Image.open(file_path).resize((64, 64)).save(file_dest + 'server-icon.png')\n",
        "      sleep(4)\n",
        "      !rm '{file_path}'\n",
        "    else:\n",
        "      uploaded = fls.upload()\n",
        "      file_ = uploaded.keys()\n",
        "      try:\n",
        "        file_ = [fn for fn in uploaded.keys()][0]\n",
        "        !cp '{file_}' server-icon.png\n",
        "        !rm '{file_}'\n",
        "        Image.open(file_path).resize((64, 64)).save(file_dest + 'server-icon.png')\n",
        "        sleep(10)\n",
        "        !rm '{file_path}'\n",
        "      except: ERROR(\"You didn't upload server-icon.png\")\n",
        "  else:\n",
        "    LOG('Get MOTD from https://mctools.org/motd-creator')\n",
        "    server_properties = Properties()\n",
        "    with open(f\"{drive_path}/{server_name}/server.properties\", \"rb\") as f:\n",
        "        server_properties.load(f, \"utf-8\")\n",
        "    server_properties[\"motd\"] = input('Your MOTD  :  ')\n",
        "    with open(f\"{drive_path}/{server_name}/server.properties\", \"wb\") as f:\n",
        "        server_properties.store(f, encoding=\"utf-8\")\n",
        "  LOG('Completed')"
      ]
    },
    {
      "cell_type": "code",
      "execution_count": 3,
      "metadata": {
        "cellView": "form",
        "id": "rAGA8mE_TUtB",
        "colab": {
          "base_uri": "https://localhost:8080/",
          "height": 367
        },
        "outputId": "b5dfacdc-33f3-4fab-8d8a-a98cd705289e"
      },
      "outputs": [
        {
          "output_type": "error",
          "ename": "Exception",
          "evalue": "[ ERROR ]  Running your minecraft server before editing properties",
          "traceback": [
            "\u001b[0;31m---------------------------------------------------------------------------\u001b[0m",
            "\u001b[0;31mException\u001b[0m                                 Traceback (most recent call last)",
            "\u001b[0;32m<ipython-input-3-b837a2be7a9e>\u001b[0m in \u001b[0;36m<cell line: 22>\u001b[0;34m()\u001b[0m\n\u001b[1;32m     20\u001b[0m \u001b[0;34m\u001b[0m\u001b[0m\n\u001b[1;32m     21\u001b[0m \u001b[0mserver_name\u001b[0m \u001b[0;34m=\u001b[0m \u001b[0mSERVER_IN_USE\u001b[0m\u001b[0;34m(\u001b[0m\u001b[0mserver_name\u001b[0m \u001b[0;34m=\u001b[0m \u001b[0;34m''\u001b[0m\u001b[0;34m)\u001b[0m\u001b[0;34m\u001b[0m\u001b[0;34m\u001b[0m\u001b[0m\n\u001b[0;32m---> 22\u001b[0;31m \u001b[0;32mif\u001b[0m \u001b[0mexists\u001b[0m\u001b[0;34m(\u001b[0m\u001b[0;34mf\"{drive_path}/{server_name}/server.properties\"\u001b[0m\u001b[0;34m)\u001b[0m \u001b[0;34m==\u001b[0m \u001b[0;32mFalse\u001b[0m\u001b[0;34m:\u001b[0m \u001b[0mERROR\u001b[0m\u001b[0;34m(\u001b[0m\u001b[0;34m' Running your minecraft server before editing properties'\u001b[0m\u001b[0;34m)\u001b[0m\u001b[0;34m\u001b[0m\u001b[0;34m\u001b[0m\u001b[0m\n\u001b[0m\u001b[1;32m     23\u001b[0m \u001b[0;32melse\u001b[0m\u001b[0;34m:\u001b[0m\u001b[0;34m\u001b[0m\u001b[0;34m\u001b[0m\u001b[0m\n\u001b[1;32m     24\u001b[0m   \u001b[0mLOG\u001b[0m\u001b[0;34m(\u001b[0m\u001b[0;34m'Changing server.properties'\u001b[0m\u001b[0;34m)\u001b[0m\u001b[0;34m\u001b[0m\u001b[0;34m\u001b[0m\u001b[0m\n",
            "\u001b[0;32m<ipython-input-1-d4e2d9057650>\u001b[0m in \u001b[0;36mERROR\u001b[0;34m(sep, *args)\u001b[0m\n\u001b[1;32m     89\u001b[0m     \u001b[0;32mif\u001b[0m \u001b[0;34m'\\n'\u001b[0m \u001b[0;32min\u001b[0m \u001b[0margs\u001b[0m\u001b[0;34m[\u001b[0m\u001b[0mi\u001b[0m\u001b[0;34m]\u001b[0m\u001b[0;34m:\u001b[0m \u001b[0margs\u001b[0m\u001b[0;34m[\u001b[0m\u001b[0mi\u001b[0m\u001b[0;34m]\u001b[0m \u001b[0;34m=\u001b[0m \u001b[0margs\u001b[0m\u001b[0;34m[\u001b[0m\u001b[0mi\u001b[0m\u001b[0;34m]\u001b[0m\u001b[0;34m.\u001b[0m\u001b[0mreplace\u001b[0m\u001b[0;34m(\u001b[0m\u001b[0;34m'\\n'\u001b[0m\u001b[0;34m,\u001b[0m \u001b[0;34m''\u001b[0m\u001b[0;34m)\u001b[0m\u001b[0;34m;\u001b[0m \u001b[0margs\u001b[0m\u001b[0;34m.\u001b[0m\u001b[0minsert\u001b[0m\u001b[0;34m(\u001b[0m\u001b[0;36m0\u001b[0m\u001b[0;34m,\u001b[0m \u001b[0;34m'\\n[ ERROR ] '\u001b[0m\u001b[0;34m)\u001b[0m\u001b[0;34m;\u001b[0m \u001b[0mcheck\u001b[0m \u001b[0;34m=\u001b[0m \u001b[0;32mTrue\u001b[0m\u001b[0;34m;\u001b[0m \u001b[0;32mbreak\u001b[0m\u001b[0;34m\u001b[0m\u001b[0;34m\u001b[0m\u001b[0m\n\u001b[1;32m     90\u001b[0m   \u001b[0;32mif\u001b[0m \u001b[0mcheck\u001b[0m \u001b[0;34m==\u001b[0m \u001b[0;32mFalse\u001b[0m\u001b[0;34m:\u001b[0m \u001b[0margs\u001b[0m\u001b[0;34m.\u001b[0m\u001b[0minsert\u001b[0m\u001b[0;34m(\u001b[0m\u001b[0;36m0\u001b[0m\u001b[0;34m,\u001b[0m \u001b[0;34m'[ ERROR ] '\u001b[0m\u001b[0;34m)\u001b[0m\u001b[0;34m\u001b[0m\u001b[0;34m\u001b[0m\u001b[0m\n\u001b[0;32m---> 91\u001b[0;31m   \u001b[0;32mraise\u001b[0m \u001b[0mException\u001b[0m\u001b[0;34m(\u001b[0m\u001b[0msep\u001b[0m\u001b[0;34m.\u001b[0m\u001b[0mjoin\u001b[0m\u001b[0;34m(\u001b[0m\u001b[0mmap\u001b[0m\u001b[0;34m(\u001b[0m\u001b[0mstr\u001b[0m\u001b[0;34m,\u001b[0m \u001b[0margs\u001b[0m\u001b[0;34m)\u001b[0m\u001b[0;34m)\u001b[0m\u001b[0;34m)\u001b[0m\u001b[0;34m\u001b[0m\u001b[0;34m\u001b[0m\u001b[0m\n\u001b[0m\u001b[1;32m     92\u001b[0m \u001b[0;32mdef\u001b[0m \u001b[0mINFO\u001b[0m\u001b[0;34m(\u001b[0m\u001b[0;34m*\u001b[0m\u001b[0margs\u001b[0m\u001b[0;34m,\u001b[0m \u001b[0msep\u001b[0m\u001b[0;34m=\u001b[0m\u001b[0;34m''\u001b[0m\u001b[0;34m)\u001b[0m\u001b[0;34m:\u001b[0m\u001b[0;34m\u001b[0m\u001b[0;34m\u001b[0m\u001b[0m\n\u001b[1;32m     93\u001b[0m   \u001b[0mcheck\u001b[0m \u001b[0;34m=\u001b[0m \u001b[0;32mFalse\u001b[0m\u001b[0;34m\u001b[0m\u001b[0;34m\u001b[0m\u001b[0m\n",
            "\u001b[0;31mException\u001b[0m: [ ERROR ]  Running your minecraft server before editing properties"
          ]
        }
      ],
      "source": [
        "from jproperties import Properties\n",
        "from os.path import exists\n",
        "\n",
        "# @markdown ####**Server properties**\n",
        "Slots = 20 # @param {type:\"slider\", min:0, max:100, step:1}\n",
        "Gamemode = \"survival\" # @param [\"survival\", \"creative\", \"adventure\", \"spectator\"]\n",
        "Difficulty = \"hard\" # @param [\"peaceful\", \"easy\", \"normal\", \"hard\"]\n",
        "Cracked = True # @param {type:\"boolean\"}\n",
        "PVP = True # @param {type:\"boolean\"}\n",
        "Command_block = False # @param {type:\"boolean\"}\n",
        "Fly = False # @param {type:\"boolean\"}\n",
        "Animals = True # @param {type:\"boolean\"}\n",
        "Monsters = True # @param {type:\"boolean\"}\n",
        "Villagers = True # @param {type:\"boolean\"}\n",
        "Nether = True # @param {type:\"boolean\"}\n",
        "Force_gamemode = False # @param {type:\"boolean\"}\n",
        "Spawn_protection = 10 # @param {type:\"slider\", min:0, max:100, step:1}\n",
        "\n",
        "#---------------------------------------------------------------------------------- MAIN CODE ------------------------------------------------------------------------------------#\n",
        "\n",
        "server_name = SERVER_IN_USE(server_name = '')\n",
        "if exists(f\"{drive_path}/{server_name}/server.properties\") == False: ERROR(' Running your minecraft server before editing properties')\n",
        "else:\n",
        "  LOG('Changing server.properties')\n",
        "  server_properties = Properties() # Download file\n",
        "  with open(f\"{drive_path}/{server_name}/server.properties\", \"rb\") as f:\n",
        "      server_properties.load(f, \"utf-8\")\n",
        "  # Configuring\n",
        "  server_properties[\"max-players\"] = str(Slots)\n",
        "  server_properties[\"gamemode\"] = Gamemode\n",
        "  server_properties[\"difficulty\"] = Difficulty\n",
        "  dict_ = {'pvp': PVP, 'enable-command-block': Command_block, 'allow-flight': Fly, 'spawn-animals': Animals, 'spawn-monsters': Monsters,\n",
        "          'spawn-npcs': Villagers, 'allow-nether': Nether, 'force-gamemode': Force_gamemode, 'spawn-protection': Spawn_protection, \"online-mode\" : not Cracked}\n",
        "  for keys, value in dict_.items(): server_properties[keys] = str(value).lower()\n",
        "  # Saving\n",
        "  with open(f\"{drive_path}/{server_name}/server.properties\", \"wb\") as f:\n",
        "      server_properties.store(f, encoding=\"utf-8\")\n",
        "  LOG('Completed')"
      ]
    },
    {
      "cell_type": "markdown",
      "metadata": {
        "id": "2Eye_WcaTUtB"
      },
      "source": [
        "---"
      ]
    },
    {
      "cell_type": "markdown",
      "metadata": {
        "id": "hhwFVhYMTUtB"
      },
      "source": [
        "# 📎  **Log** (Java Only!)\n",
        "---\n"
      ]
    },
    {
      "cell_type": "code",
      "execution_count": 23,
      "metadata": {
        "id": "46WXF63NTUtB",
        "colab": {
          "base_uri": "https://localhost:8080/",
          "height": 1000
        },
        "outputId": "fc03502f-4efc-4814-fab6-8a8fbf271368"
      },
      "outputs": [
        {
          "output_type": "display_data",
          "data": {
            "text/plain": [
              "\n",
              "\u001b[1;32m[\u001b[0m\u001b[1;32m LOG \u001b[0m\u001b[1;32m]\u001b[0m Colab Version: \u001b[1;36m0.2\u001b[0m.\u001b[1;36m5\u001b[0m\n"
            ],
            "text/html": [
              "<pre style=\"white-space:pre;overflow-x:auto;line-height:normal;font-family:Menlo,'DejaVu Sans Mono',consolas,'Courier New',monospace\">\n",
              "<span style=\"color: #008000; text-decoration-color: #008000; font-weight: bold\">[ LOG ]</span> Colab Version: <span style=\"color: #008080; text-decoration-color: #008080; font-weight: bold\">0.2</span>.<span style=\"color: #008080; text-decoration-color: #008080; font-weight: bold\">5</span>\n",
              "</pre>\n"
            ]
          },
          "metadata": {}
        },
        {
          "output_type": "display_data",
          "data": {
            "text/plain": [
              "Line \u001b[1;36m1\u001b[0m: \u001b[1m[\u001b[0m\u001b[1;92m11:16:01\u001b[0m\u001b[1m]\u001b[0m \u001b[1m[\u001b[0mmain/INFO\u001b[1m]\u001b[0m: Loading Minecraft \u001b[1;36m1.21\u001b[0m.\u001b[1;36m1\u001b[0m with Fabric Loader \u001b[1;36m0.16\u001b[0m.\u001b[1;36m7\u001b[0m\n"
            ],
            "text/html": [
              "<pre style=\"white-space:pre;overflow-x:auto;line-height:normal;font-family:Menlo,'DejaVu Sans Mono',consolas,'Courier New',monospace\">Line <span style=\"color: #008080; text-decoration-color: #008080; font-weight: bold\">1</span>: <span style=\"font-weight: bold\">[</span><span style=\"color: #00ff00; text-decoration-color: #00ff00; font-weight: bold\">11:16:01</span><span style=\"font-weight: bold\">]</span> <span style=\"font-weight: bold\">[</span>main/INFO<span style=\"font-weight: bold\">]</span>: Loading Minecraft <span style=\"color: #008080; text-decoration-color: #008080; font-weight: bold\">1.21</span>.<span style=\"color: #008080; text-decoration-color: #008080; font-weight: bold\">1</span> with Fabric Loader <span style=\"color: #008080; text-decoration-color: #008080; font-weight: bold\">0.16</span>.<span style=\"color: #008080; text-decoration-color: #008080; font-weight: bold\">7</span>\n",
              "</pre>\n"
            ]
          },
          "metadata": {}
        },
        {
          "output_type": "display_data",
          "data": {
            "text/plain": [
              "Line \u001b[1;36m2\u001b[0m: \u001b[1m[\u001b[0m\u001b[1;92m11:16:18\u001b[0m\u001b[1m]\u001b[0m \u001b[1m[\u001b[0mmain/INFO\u001b[1m]\u001b[0m: Loading \u001b[1;36m106\u001b[0m mods:\n"
            ],
            "text/html": [
              "<pre style=\"white-space:pre;overflow-x:auto;line-height:normal;font-family:Menlo,'DejaVu Sans Mono',consolas,'Courier New',monospace\">Line <span style=\"color: #008080; text-decoration-color: #008080; font-weight: bold\">2</span>: <span style=\"font-weight: bold\">[</span><span style=\"color: #00ff00; text-decoration-color: #00ff00; font-weight: bold\">11:16:18</span><span style=\"font-weight: bold\">]</span> <span style=\"font-weight: bold\">[</span>main/INFO<span style=\"font-weight: bold\">]</span>: Loading <span style=\"color: #008080; text-decoration-color: #008080; font-weight: bold\">106</span> mods:\n",
              "</pre>\n"
            ]
          },
          "metadata": {}
        },
        {
          "output_type": "display_data",
          "data": {
            "text/plain": [
              "Line \u001b[1;36m3\u001b[0m:         - blossom-back \u001b[1;36m2.1\u001b[0m.\u001b[1;36m5\u001b[0m+\u001b[1;36m1.21\u001b[0m\n"
            ],
            "text/html": [
              "<pre style=\"white-space:pre;overflow-x:auto;line-height:normal;font-family:Menlo,'DejaVu Sans Mono',consolas,'Courier New',monospace\">Line <span style=\"color: #008080; text-decoration-color: #008080; font-weight: bold\">3</span>:         - blossom-back <span style=\"color: #008080; text-decoration-color: #008080; font-weight: bold\">2.1</span>.<span style=\"color: #008080; text-decoration-color: #008080; font-weight: bold\">5</span>+<span style=\"color: #008080; text-decoration-color: #008080; font-weight: bold\">1.21</span>\n",
              "</pre>\n"
            ]
          },
          "metadata": {}
        },
        {
          "output_type": "display_data",
          "data": {
            "text/plain": [
              "Line \u001b[1;36m4\u001b[0m:         - blossom-homes \u001b[1;36m2.2\u001b[0m.\u001b[1;36m5\u001b[0m+\u001b[1;36m1.21\u001b[0m\n"
            ],
            "text/html": [
              "<pre style=\"white-space:pre;overflow-x:auto;line-height:normal;font-family:Menlo,'DejaVu Sans Mono',consolas,'Courier New',monospace\">Line <span style=\"color: #008080; text-decoration-color: #008080; font-weight: bold\">4</span>:         - blossom-homes <span style=\"color: #008080; text-decoration-color: #008080; font-weight: bold\">2.2</span>.<span style=\"color: #008080; text-decoration-color: #008080; font-weight: bold\">5</span>+<span style=\"color: #008080; text-decoration-color: #008080; font-weight: bold\">1.21</span>\n",
              "</pre>\n"
            ]
          },
          "metadata": {}
        },
        {
          "output_type": "display_data",
          "data": {
            "text/plain": [
              "Line \u001b[1;36m5\u001b[0m:         - blossom-lib \u001b[1;36m2.5\u001b[0m.\u001b[1;36m9\u001b[0m+\u001b[1;36m1.21\u001b[0m\n"
            ],
            "text/html": [
              "<pre style=\"white-space:pre;overflow-x:auto;line-height:normal;font-family:Menlo,'DejaVu Sans Mono',consolas,'Courier New',monospace\">Line <span style=\"color: #008080; text-decoration-color: #008080; font-weight: bold\">5</span>:         - blossom-lib <span style=\"color: #008080; text-decoration-color: #008080; font-weight: bold\">2.5</span>.<span style=\"color: #008080; text-decoration-color: #008080; font-weight: bold\">9</span>+<span style=\"color: #008080; text-decoration-color: #008080; font-weight: bold\">1.21</span>\n",
              "</pre>\n"
            ]
          },
          "metadata": {}
        },
        {
          "output_type": "display_data",
          "data": {
            "text/plain": [
              "Line \u001b[1;36m6\u001b[0m:            \\-- server_translations_api \u001b[1;36m2.3\u001b[0m.\u001b[1;36m1\u001b[0m+\u001b[1;36m1.21\u001b[0m-pre2\n"
            ],
            "text/html": [
              "<pre style=\"white-space:pre;overflow-x:auto;line-height:normal;font-family:Menlo,'DejaVu Sans Mono',consolas,'Courier New',monospace\">Line <span style=\"color: #008080; text-decoration-color: #008080; font-weight: bold\">6</span>:            \\-- server_translations_api <span style=\"color: #008080; text-decoration-color: #008080; font-weight: bold\">2.3</span>.<span style=\"color: #008080; text-decoration-color: #008080; font-weight: bold\">1</span>+<span style=\"color: #008080; text-decoration-color: #008080; font-weight: bold\">1.21</span>-pre2\n",
              "</pre>\n"
            ]
          },
          "metadata": {}
        },
        {
          "output_type": "display_data",
          "data": {
            "text/plain": [
              "Line \u001b[1;36m7\u001b[0m:                 \\-- packet_tweaker \u001b[1;36m0.5\u001b[0m.\u001b[1;36m1\u001b[0m+24w03b\n"
            ],
            "text/html": [
              "<pre style=\"white-space:pre;overflow-x:auto;line-height:normal;font-family:Menlo,'DejaVu Sans Mono',consolas,'Courier New',monospace\">Line <span style=\"color: #008080; text-decoration-color: #008080; font-weight: bold\">7</span>:                 \\-- packet_tweaker <span style=\"color: #008080; text-decoration-color: #008080; font-weight: bold\">0.5</span>.<span style=\"color: #008080; text-decoration-color: #008080; font-weight: bold\">1</span>+24w03b\n",
              "</pre>\n"
            ]
          },
          "metadata": {}
        },
        {
          "output_type": "display_data",
          "data": {
            "text/plain": [
              "Line \u001b[1;36m8\u001b[0m:         - blossom-tpa \u001b[1;36m2.2\u001b[0m.\u001b[1;36m5\u001b[0m+\u001b[1;36m1.21\u001b[0m\n"
            ],
            "text/html": [
              "<pre style=\"white-space:pre;overflow-x:auto;line-height:normal;font-family:Menlo,'DejaVu Sans Mono',consolas,'Courier New',monospace\">Line <span style=\"color: #008080; text-decoration-color: #008080; font-weight: bold\">8</span>:         - blossom-tpa <span style=\"color: #008080; text-decoration-color: #008080; font-weight: bold\">2.2</span>.<span style=\"color: #008080; text-decoration-color: #008080; font-weight: bold\">5</span>+<span style=\"color: #008080; text-decoration-color: #008080; font-weight: bold\">1.21</span>\n",
              "</pre>\n"
            ]
          },
          "metadata": {}
        },
        {
          "output_type": "display_data",
          "data": {
            "text/plain": [
              "Line \u001b[1;36m9\u001b[0m:         - ce \u001b[1;36m2.1\u001b[0m.\u001b[1;36m1\u001b[0m\n"
            ],
            "text/html": [
              "<pre style=\"white-space:pre;overflow-x:auto;line-height:normal;font-family:Menlo,'DejaVu Sans Mono',consolas,'Courier New',monospace\">Line <span style=\"color: #008080; text-decoration-color: #008080; font-weight: bold\">9</span>:         - ce <span style=\"color: #008080; text-decoration-color: #008080; font-weight: bold\">2.1</span>.<span style=\"color: #008080; text-decoration-color: #008080; font-weight: bold\">1</span>\n",
              "</pre>\n"
            ]
          },
          "metadata": {}
        },
        {
          "output_type": "display_data",
          "data": {
            "text/plain": [
              "Line \u001b[1;36m10\u001b[0m:        - chunky \u001b[1;36m1.4\u001b[0m.\u001b[1;36m16\u001b[0m\n"
            ],
            "text/html": [
              "<pre style=\"white-space:pre;overflow-x:auto;line-height:normal;font-family:Menlo,'DejaVu Sans Mono',consolas,'Courier New',monospace\">Line <span style=\"color: #008080; text-decoration-color: #008080; font-weight: bold\">10</span>:        - chunky <span style=\"color: #008080; text-decoration-color: #008080; font-weight: bold\">1.4</span>.<span style=\"color: #008080; text-decoration-color: #008080; font-weight: bold\">16</span>\n",
              "</pre>\n"
            ]
          },
          "metadata": {}
        },
        {
          "output_type": "display_data",
          "data": {
            "text/plain": [
              "Line \u001b[1;36m11\u001b[0m:        - entityculling \u001b[1;36m1.7\u001b[0m.\u001b[1;36m0\u001b[0m\n"
            ],
            "text/html": [
              "<pre style=\"white-space:pre;overflow-x:auto;line-height:normal;font-family:Menlo,'DejaVu Sans Mono',consolas,'Courier New',monospace\">Line <span style=\"color: #008080; text-decoration-color: #008080; font-weight: bold\">11</span>:        - entityculling <span style=\"color: #008080; text-decoration-color: #008080; font-weight: bold\">1.7</span>.<span style=\"color: #008080; text-decoration-color: #008080; font-weight: bold\">0</span>\n",
              "</pre>\n"
            ]
          },
          "metadata": {}
        },
        {
          "output_type": "display_data",
          "data": {
            "text/plain": [
              "Line \u001b[1;36m12\u001b[0m:        - fabric-api \u001b[1;36m0.106\u001b[0m.\u001b[1;36m0\u001b[0m+\u001b[1;36m1.21\u001b[0m.\u001b[1;36m1\u001b[0m\n"
            ],
            "text/html": [
              "<pre style=\"white-space:pre;overflow-x:auto;line-height:normal;font-family:Menlo,'DejaVu Sans Mono',consolas,'Courier New',monospace\">Line <span style=\"color: #008080; text-decoration-color: #008080; font-weight: bold\">12</span>:        - fabric-api <span style=\"color: #008080; text-decoration-color: #008080; font-weight: bold\">0.106</span>.<span style=\"color: #008080; text-decoration-color: #008080; font-weight: bold\">0</span>+<span style=\"color: #008080; text-decoration-color: #008080; font-weight: bold\">1.21</span>.<span style=\"color: #008080; text-decoration-color: #008080; font-weight: bold\">1</span>\n",
              "</pre>\n"
            ]
          },
          "metadata": {}
        },
        {
          "output_type": "display_data",
          "data": {
            "text/plain": [
              "Line \u001b[1;36m13\u001b[0m:           |-- fabric-api-base \u001b[1;36m0.4\u001b[0m.\u001b[1;36m42\u001b[0m+6573ed8c19\n"
            ],
            "text/html": [
              "<pre style=\"white-space:pre;overflow-x:auto;line-height:normal;font-family:Menlo,'DejaVu Sans Mono',consolas,'Courier New',monospace\">Line <span style=\"color: #008080; text-decoration-color: #008080; font-weight: bold\">13</span>:           |-- fabric-api-base <span style=\"color: #008080; text-decoration-color: #008080; font-weight: bold\">0.4</span>.<span style=\"color: #008080; text-decoration-color: #008080; font-weight: bold\">42</span>+6573ed8c19\n",
              "</pre>\n"
            ]
          },
          "metadata": {}
        },
        {
          "output_type": "display_data",
          "data": {
            "text/plain": [
              "Line \u001b[1;36m14\u001b[0m:           |-- fabric-api-lookup-api-v1 \u001b[1;36m1.6\u001b[0m.\u001b[1;36m68\u001b[0m+b559734419\n"
            ],
            "text/html": [
              "<pre style=\"white-space:pre;overflow-x:auto;line-height:normal;font-family:Menlo,'DejaVu Sans Mono',consolas,'Courier New',monospace\">Line <span style=\"color: #008080; text-decoration-color: #008080; font-weight: bold\">14</span>:           |-- fabric-api-lookup-api-v1 <span style=\"color: #008080; text-decoration-color: #008080; font-weight: bold\">1.6</span>.<span style=\"color: #008080; text-decoration-color: #008080; font-weight: bold\">68</span>+b559734419\n",
              "</pre>\n"
            ]
          },
          "metadata": {}
        },
        {
          "output_type": "display_data",
          "data": {
            "text/plain": [
              "Line \u001b[1;36m15\u001b[0m:           |-- fabric-biome-api-v1 \u001b[1;36m13.0\u001b[0m.\u001b[1;36m29\u001b[0m+5bd9f1bc19\n"
            ],
            "text/html": [
              "<pre style=\"white-space:pre;overflow-x:auto;line-height:normal;font-family:Menlo,'DejaVu Sans Mono',consolas,'Courier New',monospace\">Line <span style=\"color: #008080; text-decoration-color: #008080; font-weight: bold\">15</span>:           |-- fabric-biome-api-v1 <span style=\"color: #008080; text-decoration-color: #008080; font-weight: bold\">13.0</span>.<span style=\"color: #008080; text-decoration-color: #008080; font-weight: bold\">29</span>+5bd9f1bc19\n",
              "</pre>\n"
            ]
          },
          "metadata": {}
        },
        {
          "output_type": "display_data",
          "data": {
            "text/plain": [
              "Line \u001b[1;36m16\u001b[0m:           |-- fabric-block-api-v1 \u001b[1;36m1.0\u001b[0m.\u001b[1;36m22\u001b[0m+0af3f5a719\n"
            ],
            "text/html": [
              "<pre style=\"white-space:pre;overflow-x:auto;line-height:normal;font-family:Menlo,'DejaVu Sans Mono',consolas,'Courier New',monospace\">Line <span style=\"color: #008080; text-decoration-color: #008080; font-weight: bold\">16</span>:           |-- fabric-block-api-v1 <span style=\"color: #008080; text-decoration-color: #008080; font-weight: bold\">1.0</span>.<span style=\"color: #008080; text-decoration-color: #008080; font-weight: bold\">22</span>+0af3f5a719\n",
              "</pre>\n"
            ]
          },
          "metadata": {}
        },
        {
          "output_type": "display_data",
          "data": {
            "text/plain": [
              "Line \u001b[1;36m17\u001b[0m:           |-- fabric-block-view-api-v2 \u001b[1;36m1.0\u001b[0m.\u001b[1;36m10\u001b[0m+6573ed8c19\n"
            ],
            "text/html": [
              "<pre style=\"white-space:pre;overflow-x:auto;line-height:normal;font-family:Menlo,'DejaVu Sans Mono',consolas,'Courier New',monospace\">Line <span style=\"color: #008080; text-decoration-color: #008080; font-weight: bold\">17</span>:           |-- fabric-block-view-api-v2 <span style=\"color: #008080; text-decoration-color: #008080; font-weight: bold\">1.0</span>.<span style=\"color: #008080; text-decoration-color: #008080; font-weight: bold\">10</span>+6573ed8c19\n",
              "</pre>\n"
            ]
          },
          "metadata": {}
        },
        {
          "output_type": "display_data",
          "data": {
            "text/plain": [
              "Line \u001b[1;36m18\u001b[0m:           |-- fabric-blockrenderlayer-v1 \u001b[1;36m1.1\u001b[0m.\u001b[1;36m52\u001b[0m+0af3f5a719\n"
            ],
            "text/html": [
              "<pre style=\"white-space:pre;overflow-x:auto;line-height:normal;font-family:Menlo,'DejaVu Sans Mono',consolas,'Courier New',monospace\">Line <span style=\"color: #008080; text-decoration-color: #008080; font-weight: bold\">18</span>:           |-- fabric-blockrenderlayer-v1 <span style=\"color: #008080; text-decoration-color: #008080; font-weight: bold\">1.1</span>.<span style=\"color: #008080; text-decoration-color: #008080; font-weight: bold\">52</span>+0af3f5a719\n",
              "</pre>\n"
            ]
          },
          "metadata": {}
        },
        {
          "output_type": "display_data",
          "data": {
            "text/plain": [
              "Line \u001b[1;36m19\u001b[0m:           |-- fabric-client-tags-api-v1 \u001b[1;36m1.1\u001b[0m.\u001b[1;36m15\u001b[0m+6573ed8c19\n"
            ],
            "text/html": [
              "<pre style=\"white-space:pre;overflow-x:auto;line-height:normal;font-family:Menlo,'DejaVu Sans Mono',consolas,'Courier New',monospace\">Line <span style=\"color: #008080; text-decoration-color: #008080; font-weight: bold\">19</span>:           |-- fabric-client-tags-api-v1 <span style=\"color: #008080; text-decoration-color: #008080; font-weight: bold\">1.1</span>.<span style=\"color: #008080; text-decoration-color: #008080; font-weight: bold\">15</span>+6573ed8c19\n",
              "</pre>\n"
            ]
          },
          "metadata": {}
        },
        {
          "output_type": "display_data",
          "data": {
            "text/plain": [
              "Line \u001b[1;36m20\u001b[0m:           |-- fabric-command-api-v1 \u001b[1;36m1.2\u001b[0m.\u001b[1;36m49\u001b[0m+f71b366f19\n"
            ],
            "text/html": [
              "<pre style=\"white-space:pre;overflow-x:auto;line-height:normal;font-family:Menlo,'DejaVu Sans Mono',consolas,'Courier New',monospace\">Line <span style=\"color: #008080; text-decoration-color: #008080; font-weight: bold\">20</span>:           |-- fabric-command-api-v1 <span style=\"color: #008080; text-decoration-color: #008080; font-weight: bold\">1.2</span>.<span style=\"color: #008080; text-decoration-color: #008080; font-weight: bold\">49</span>+f71b366f19\n",
              "</pre>\n"
            ]
          },
          "metadata": {}
        },
        {
          "output_type": "display_data",
          "data": {
            "text/plain": [
              "Line \u001b[1;36m21\u001b[0m:           |-- fabric-command-api-v2 \u001b[1;36m2.2\u001b[0m.\u001b[1;36m28\u001b[0m+6ced4dd919\n"
            ],
            "text/html": [
              "<pre style=\"white-space:pre;overflow-x:auto;line-height:normal;font-family:Menlo,'DejaVu Sans Mono',consolas,'Courier New',monospace\">Line <span style=\"color: #008080; text-decoration-color: #008080; font-weight: bold\">21</span>:           |-- fabric-command-api-v2 <span style=\"color: #008080; text-decoration-color: #008080; font-weight: bold\">2.2</span>.<span style=\"color: #008080; text-decoration-color: #008080; font-weight: bold\">28</span>+6ced4dd919\n",
              "</pre>\n"
            ]
          },
          "metadata": {}
        },
        {
          "output_type": "display_data",
          "data": {
            "text/plain": [
              "Line \u001b[1;36m22\u001b[0m:           |-- fabric-commands-v0 \u001b[1;36m0.2\u001b[0m.\u001b[1;36m66\u001b[0m+df3654b319\n"
            ],
            "text/html": [
              "<pre style=\"white-space:pre;overflow-x:auto;line-height:normal;font-family:Menlo,'DejaVu Sans Mono',consolas,'Courier New',monospace\">Line <span style=\"color: #008080; text-decoration-color: #008080; font-weight: bold\">22</span>:           |-- fabric-commands-v0 <span style=\"color: #008080; text-decoration-color: #008080; font-weight: bold\">0.2</span>.<span style=\"color: #008080; text-decoration-color: #008080; font-weight: bold\">66</span>+df3654b319\n",
              "</pre>\n"
            ]
          },
          "metadata": {}
        },
        {
          "output_type": "display_data",
          "data": {
            "text/plain": [
              "Line \u001b[1;36m23\u001b[0m:           |-- fabric-content-registries-v0 \u001b[1;36m8.0\u001b[0m.\u001b[1;36m16\u001b[0m+b559734419\n"
            ],
            "text/html": [
              "<pre style=\"white-space:pre;overflow-x:auto;line-height:normal;font-family:Menlo,'DejaVu Sans Mono',consolas,'Courier New',monospace\">Line <span style=\"color: #008080; text-decoration-color: #008080; font-weight: bold\">23</span>:           |-- fabric-content-registries-v0 <span style=\"color: #008080; text-decoration-color: #008080; font-weight: bold\">8.0</span>.<span style=\"color: #008080; text-decoration-color: #008080; font-weight: bold\">16</span>+b559734419\n",
              "</pre>\n"
            ]
          },
          "metadata": {}
        },
        {
          "output_type": "display_data",
          "data": {
            "text/plain": [
              "Line \u001b[1;36m24\u001b[0m:           |-- fabric-convention-tags-v1 \u001b[1;36m2.1\u001b[0m.\u001b[1;36m0\u001b[0m+7f945d5b19\n"
            ],
            "text/html": [
              "<pre style=\"white-space:pre;overflow-x:auto;line-height:normal;font-family:Menlo,'DejaVu Sans Mono',consolas,'Courier New',monospace\">Line <span style=\"color: #008080; text-decoration-color: #008080; font-weight: bold\">24</span>:           |-- fabric-convention-tags-v1 <span style=\"color: #008080; text-decoration-color: #008080; font-weight: bold\">2.1</span>.<span style=\"color: #008080; text-decoration-color: #008080; font-weight: bold\">0</span>+7f945d5b19\n",
              "</pre>\n"
            ]
          },
          "metadata": {}
        },
        {
          "output_type": "display_data",
          "data": {
            "text/plain": [
              "Line \u001b[1;36m25\u001b[0m:           |-- fabric-convention-tags-v2 \u001b[1;36m2.9\u001b[0m.\u001b[1;36m0\u001b[0m+83a9d31319\n"
            ],
            "text/html": [
              "<pre style=\"white-space:pre;overflow-x:auto;line-height:normal;font-family:Menlo,'DejaVu Sans Mono',consolas,'Courier New',monospace\">Line <span style=\"color: #008080; text-decoration-color: #008080; font-weight: bold\">25</span>:           |-- fabric-convention-tags-v2 <span style=\"color: #008080; text-decoration-color: #008080; font-weight: bold\">2.9</span>.<span style=\"color: #008080; text-decoration-color: #008080; font-weight: bold\">0</span>+83a9d31319\n",
              "</pre>\n"
            ]
          },
          "metadata": {}
        },
        {
          "output_type": "display_data",
          "data": {
            "text/plain": [
              "Line \u001b[1;36m26\u001b[0m:           |-- fabric-crash-report-info-v1 \u001b[1;36m0.2\u001b[0m.\u001b[1;36m29\u001b[0m+0af3f5a719\n"
            ],
            "text/html": [
              "<pre style=\"white-space:pre;overflow-x:auto;line-height:normal;font-family:Menlo,'DejaVu Sans Mono',consolas,'Courier New',monospace\">Line <span style=\"color: #008080; text-decoration-color: #008080; font-weight: bold\">26</span>:           |-- fabric-crash-report-info-v1 <span style=\"color: #008080; text-decoration-color: #008080; font-weight: bold\">0.2</span>.<span style=\"color: #008080; text-decoration-color: #008080; font-weight: bold\">29</span>+0af3f5a719\n",
              "</pre>\n"
            ]
          },
          "metadata": {}
        },
        {
          "output_type": "display_data",
          "data": {
            "text/plain": [
              "Line \u001b[1;36m27\u001b[0m:           |-- fabric-data-attachment-api-v1 \u001b[1;36m1.1\u001b[0m.\u001b[1;36m28\u001b[0m+1daea21519\n"
            ],
            "text/html": [
              "<pre style=\"white-space:pre;overflow-x:auto;line-height:normal;font-family:Menlo,'DejaVu Sans Mono',consolas,'Courier New',monospace\">Line <span style=\"color: #008080; text-decoration-color: #008080; font-weight: bold\">27</span>:           |-- fabric-data-attachment-api-v1 <span style=\"color: #008080; text-decoration-color: #008080; font-weight: bold\">1.1</span>.<span style=\"color: #008080; text-decoration-color: #008080; font-weight: bold\">28</span>+1daea21519\n",
              "</pre>\n"
            ]
          },
          "metadata": {}
        },
        {
          "output_type": "display_data",
          "data": {
            "text/plain": [
              "Line \u001b[1;36m28\u001b[0m:           |-- fabric-data-generation-api-v1 \u001b[1;36m20.2\u001b[0m.\u001b[1;36m21\u001b[0m+16c4ae2519\n"
            ],
            "text/html": [
              "<pre style=\"white-space:pre;overflow-x:auto;line-height:normal;font-family:Menlo,'DejaVu Sans Mono',consolas,'Courier New',monospace\">Line <span style=\"color: #008080; text-decoration-color: #008080; font-weight: bold\">28</span>:           |-- fabric-data-generation-api-v1 <span style=\"color: #008080; text-decoration-color: #008080; font-weight: bold\">20.2</span>.<span style=\"color: #008080; text-decoration-color: #008080; font-weight: bold\">21</span>+16c4ae2519\n",
              "</pre>\n"
            ]
          },
          "metadata": {}
        },
        {
          "output_type": "display_data",
          "data": {
            "text/plain": [
              "Line \u001b[1;36m29\u001b[0m:           |-- fabric-dimensions-v1 \u001b[1;36m4.0\u001b[0m.\u001b[1;36m0\u001b[0m+6fc22b9919\n"
            ],
            "text/html": [
              "<pre style=\"white-space:pre;overflow-x:auto;line-height:normal;font-family:Menlo,'DejaVu Sans Mono',consolas,'Courier New',monospace\">Line <span style=\"color: #008080; text-decoration-color: #008080; font-weight: bold\">29</span>:           |-- fabric-dimensions-v1 <span style=\"color: #008080; text-decoration-color: #008080; font-weight: bold\">4.0</span>.<span style=\"color: #008080; text-decoration-color: #008080; font-weight: bold\">0</span>+6fc22b9919\n",
              "</pre>\n"
            ]
          },
          "metadata": {}
        },
        {
          "output_type": "display_data",
          "data": {
            "text/plain": [
              "Line \u001b[1;36m30\u001b[0m:           |-- fabric-entity-events-v1 \u001b[1;36m1.7\u001b[0m.\u001b[1;36m0\u001b[0m+2122d82819\n"
            ],
            "text/html": [
              "<pre style=\"white-space:pre;overflow-x:auto;line-height:normal;font-family:Menlo,'DejaVu Sans Mono',consolas,'Courier New',monospace\">Line <span style=\"color: #008080; text-decoration-color: #008080; font-weight: bold\">30</span>:           |-- fabric-entity-events-v1 <span style=\"color: #008080; text-decoration-color: #008080; font-weight: bold\">1.7</span>.<span style=\"color: #008080; text-decoration-color: #008080; font-weight: bold\">0</span>+2122d82819\n",
              "</pre>\n"
            ]
          },
          "metadata": {}
        },
        {
          "output_type": "display_data",
          "data": {
            "text/plain": [
              "Line \u001b[1;36m31\u001b[0m:           |-- fabric-events-interaction-v0 \u001b[1;36m0.7\u001b[0m.\u001b[1;36m13\u001b[0m+ba9dae0619\n"
            ],
            "text/html": [
              "<pre style=\"white-space:pre;overflow-x:auto;line-height:normal;font-family:Menlo,'DejaVu Sans Mono',consolas,'Courier New',monospace\">Line <span style=\"color: #008080; text-decoration-color: #008080; font-weight: bold\">31</span>:           |-- fabric-events-interaction-v0 <span style=\"color: #008080; text-decoration-color: #008080; font-weight: bold\">0.7</span>.<span style=\"color: #008080; text-decoration-color: #008080; font-weight: bold\">13</span>+ba9dae0619\n",
              "</pre>\n"
            ]
          },
          "metadata": {}
        },
        {
          "output_type": "display_data",
          "data": {
            "text/plain": [
              "Line \u001b[1;36m32\u001b[0m:           |-- fabric-game-rule-api-v1 \u001b[1;36m1.0\u001b[0m.\u001b[1;36m53\u001b[0m+6ced4dd919\n"
            ],
            "text/html": [
              "<pre style=\"white-space:pre;overflow-x:auto;line-height:normal;font-family:Menlo,'DejaVu Sans Mono',consolas,'Courier New',monospace\">Line <span style=\"color: #008080; text-decoration-color: #008080; font-weight: bold\">32</span>:           |-- fabric-game-rule-api-v1 <span style=\"color: #008080; text-decoration-color: #008080; font-weight: bold\">1.0</span>.<span style=\"color: #008080; text-decoration-color: #008080; font-weight: bold\">53</span>+6ced4dd919\n",
              "</pre>\n"
            ]
          },
          "metadata": {}
        },
        {
          "output_type": "display_data",
          "data": {
            "text/plain": [
              "Line \u001b[1;36m33\u001b[0m:           |-- fabric-item-api-v1 \u001b[1;36m11.1\u001b[0m.\u001b[1;36m0\u001b[0m+d5debaed19\n"
            ],
            "text/html": [
              "<pre style=\"white-space:pre;overflow-x:auto;line-height:normal;font-family:Menlo,'DejaVu Sans Mono',consolas,'Courier New',monospace\">Line <span style=\"color: #008080; text-decoration-color: #008080; font-weight: bold\">33</span>:           |-- fabric-item-api-v1 <span style=\"color: #008080; text-decoration-color: #008080; font-weight: bold\">11.1</span>.<span style=\"color: #008080; text-decoration-color: #008080; font-weight: bold\">0</span>+d5debaed19\n",
              "</pre>\n"
            ]
          },
          "metadata": {}
        },
        {
          "output_type": "display_data",
          "data": {
            "text/plain": [
              "Line \u001b[1;36m34\u001b[0m:           |-- fabric-item-group-api-v1 \u001b[1;36m4.1\u001b[0m.\u001b[1;36m5\u001b[0m+3fc0e55219\n"
            ],
            "text/html": [
              "<pre style=\"white-space:pre;overflow-x:auto;line-height:normal;font-family:Menlo,'DejaVu Sans Mono',consolas,'Courier New',monospace\">Line <span style=\"color: #008080; text-decoration-color: #008080; font-weight: bold\">34</span>:           |-- fabric-item-group-api-v1 <span style=\"color: #008080; text-decoration-color: #008080; font-weight: bold\">4.1</span>.<span style=\"color: #008080; text-decoration-color: #008080; font-weight: bold\">5</span>+3fc0e55219\n",
              "</pre>\n"
            ]
          },
          "metadata": {}
        },
        {
          "output_type": "display_data",
          "data": {
            "text/plain": [
              "Line \u001b[1;36m35\u001b[0m:           |-- fabric-key-binding-api-v1 \u001b[1;36m1.0\u001b[0m.\u001b[1;36m47\u001b[0m+0af3f5a719\n"
            ],
            "text/html": [
              "<pre style=\"white-space:pre;overflow-x:auto;line-height:normal;font-family:Menlo,'DejaVu Sans Mono',consolas,'Courier New',monospace\">Line <span style=\"color: #008080; text-decoration-color: #008080; font-weight: bold\">35</span>:           |-- fabric-key-binding-api-v1 <span style=\"color: #008080; text-decoration-color: #008080; font-weight: bold\">1.0</span>.<span style=\"color: #008080; text-decoration-color: #008080; font-weight: bold\">47</span>+0af3f5a719\n",
              "</pre>\n"
            ]
          },
          "metadata": {}
        },
        {
          "output_type": "display_data",
          "data": {
            "text/plain": [
              "Line \u001b[1;36m36\u001b[0m:           |-- fabric-keybindings-v0 \u001b[1;36m0.2\u001b[0m.\u001b[1;36m45\u001b[0m+df3654b319\n"
            ],
            "text/html": [
              "<pre style=\"white-space:pre;overflow-x:auto;line-height:normal;font-family:Menlo,'DejaVu Sans Mono',consolas,'Courier New',monospace\">Line <span style=\"color: #008080; text-decoration-color: #008080; font-weight: bold\">36</span>:           |-- fabric-keybindings-v0 <span style=\"color: #008080; text-decoration-color: #008080; font-weight: bold\">0.2</span>.<span style=\"color: #008080; text-decoration-color: #008080; font-weight: bold\">45</span>+df3654b319\n",
              "</pre>\n"
            ]
          },
          "metadata": {}
        },
        {
          "output_type": "display_data",
          "data": {
            "text/plain": [
              "Line \u001b[1;36m37\u001b[0m:           |-- fabric-lifecycle-events-v1 \u001b[1;36m2.3\u001b[0m.\u001b[1;36m12\u001b[0m+6c1df36019\n"
            ],
            "text/html": [
              "<pre style=\"white-space:pre;overflow-x:auto;line-height:normal;font-family:Menlo,'DejaVu Sans Mono',consolas,'Courier New',monospace\">Line <span style=\"color: #008080; text-decoration-color: #008080; font-weight: bold\">37</span>:           |-- fabric-lifecycle-events-v1 <span style=\"color: #008080; text-decoration-color: #008080; font-weight: bold\">2.3</span>.<span style=\"color: #008080; text-decoration-color: #008080; font-weight: bold\">12</span>+6c1df36019\n",
              "</pre>\n"
            ]
          },
          "metadata": {}
        },
        {
          "output_type": "display_data",
          "data": {
            "text/plain": [
              "Line \u001b[1;36m38\u001b[0m:           |-- fabric-loot-api-v2 \u001b[1;36m3.0\u001b[0m.\u001b[1;36m14\u001b[0m+3f89f5a519\n"
            ],
            "text/html": [
              "<pre style=\"white-space:pre;overflow-x:auto;line-height:normal;font-family:Menlo,'DejaVu Sans Mono',consolas,'Courier New',monospace\">Line <span style=\"color: #008080; text-decoration-color: #008080; font-weight: bold\">38</span>:           |-- fabric-loot-api-v2 <span style=\"color: #008080; text-decoration-color: #008080; font-weight: bold\">3.0</span>.<span style=\"color: #008080; text-decoration-color: #008080; font-weight: bold\">14</span>+3f89f5a519\n",
              "</pre>\n"
            ]
          },
          "metadata": {}
        },
        {
          "output_type": "display_data",
          "data": {
            "text/plain": [
              "Line \u001b[1;36m39\u001b[0m:           |-- fabric-loot-api-v3 \u001b[1;36m1.0\u001b[0m.\u001b[1;36m2\u001b[0m+3f89f5a519\n"
            ],
            "text/html": [
              "<pre style=\"white-space:pre;overflow-x:auto;line-height:normal;font-family:Menlo,'DejaVu Sans Mono',consolas,'Courier New',monospace\">Line <span style=\"color: #008080; text-decoration-color: #008080; font-weight: bold\">39</span>:           |-- fabric-loot-api-v3 <span style=\"color: #008080; text-decoration-color: #008080; font-weight: bold\">1.0</span>.<span style=\"color: #008080; text-decoration-color: #008080; font-weight: bold\">2</span>+3f89f5a519\n",
              "</pre>\n"
            ]
          },
          "metadata": {}
        },
        {
          "output_type": "display_data",
          "data": {
            "text/plain": [
              "Line \u001b[1;36m40\u001b[0m:           |-- fabric-message-api-v1 \u001b[1;36m6.0\u001b[0m.\u001b[1;36m13\u001b[0m+6573ed8c19\n"
            ],
            "text/html": [
              "<pre style=\"white-space:pre;overflow-x:auto;line-height:normal;font-family:Menlo,'DejaVu Sans Mono',consolas,'Courier New',monospace\">Line <span style=\"color: #008080; text-decoration-color: #008080; font-weight: bold\">40</span>:           |-- fabric-message-api-v1 <span style=\"color: #008080; text-decoration-color: #008080; font-weight: bold\">6.0</span>.<span style=\"color: #008080; text-decoration-color: #008080; font-weight: bold\">13</span>+6573ed8c19\n",
              "</pre>\n"
            ]
          },
          "metadata": {}
        },
        {
          "output_type": "display_data",
          "data": {
            "text/plain": [
              "Line \u001b[1;36m41\u001b[0m:           |-- fabric-model-loading-api-v1 \u001b[1;36m2.0\u001b[0m.\u001b[1;36m0\u001b[0m+fe474d6b19\n"
            ],
            "text/html": [
              "<pre style=\"white-space:pre;overflow-x:auto;line-height:normal;font-family:Menlo,'DejaVu Sans Mono',consolas,'Courier New',monospace\">Line <span style=\"color: #008080; text-decoration-color: #008080; font-weight: bold\">41</span>:           |-- fabric-model-loading-api-v1 <span style=\"color: #008080; text-decoration-color: #008080; font-weight: bold\">2.0</span>.<span style=\"color: #008080; text-decoration-color: #008080; font-weight: bold\">0</span>+fe474d6b19\n",
              "</pre>\n"
            ]
          },
          "metadata": {}
        },
        {
          "output_type": "display_data",
          "data": {
            "text/plain": [
              "Line \u001b[1;36m42\u001b[0m:           |-- fabric-networking-api-v1 \u001b[1;36m4.3\u001b[0m.\u001b[1;36m0\u001b[0m+c7469b2119\n"
            ],
            "text/html": [
              "<pre style=\"white-space:pre;overflow-x:auto;line-height:normal;font-family:Menlo,'DejaVu Sans Mono',consolas,'Courier New',monospace\">Line <span style=\"color: #008080; text-decoration-color: #008080; font-weight: bold\">42</span>:           |-- fabric-networking-api-v1 <span style=\"color: #008080; text-decoration-color: #008080; font-weight: bold\">4.3</span>.<span style=\"color: #008080; text-decoration-color: #008080; font-weight: bold\">0</span>+c7469b2119\n",
              "</pre>\n"
            ]
          },
          "metadata": {}
        },
        {
          "output_type": "display_data",
          "data": {
            "text/plain": [
              "Line \u001b[1;36m43\u001b[0m:           |-- fabric-object-builder-api-v1 \u001b[1;36m15.2\u001b[0m.\u001b[1;36m0\u001b[0m+40875a9319\n"
            ],
            "text/html": [
              "<pre style=\"white-space:pre;overflow-x:auto;line-height:normal;font-family:Menlo,'DejaVu Sans Mono',consolas,'Courier New',monospace\">Line <span style=\"color: #008080; text-decoration-color: #008080; font-weight: bold\">43</span>:           |-- fabric-object-builder-api-v1 <span style=\"color: #008080; text-decoration-color: #008080; font-weight: bold\">15.2</span>.<span style=\"color: #008080; text-decoration-color: #008080; font-weight: bold\">0</span>+40875a9319\n",
              "</pre>\n"
            ]
          },
          "metadata": {}
        },
        {
          "output_type": "display_data",
          "data": {
            "text/plain": [
              "Line \u001b[1;36m44\u001b[0m:           |-- fabric-particles-v1 \u001b[1;36m4.0\u001b[0m.\u001b[1;36m2\u001b[0m+6573ed8c19\n"
            ],
            "text/html": [
              "<pre style=\"white-space:pre;overflow-x:auto;line-height:normal;font-family:Menlo,'DejaVu Sans Mono',consolas,'Courier New',monospace\">Line <span style=\"color: #008080; text-decoration-color: #008080; font-weight: bold\">44</span>:           |-- fabric-particles-v1 <span style=\"color: #008080; text-decoration-color: #008080; font-weight: bold\">4.0</span>.<span style=\"color: #008080; text-decoration-color: #008080; font-weight: bold\">2</span>+6573ed8c19\n",
              "</pre>\n"
            ]
          },
          "metadata": {}
        },
        {
          "output_type": "display_data",
          "data": {
            "text/plain": [
              "Line \u001b[1;36m45\u001b[0m:           |-- fabric-recipe-api-v1 \u001b[1;36m5.0\u001b[0m.\u001b[1;36m13\u001b[0m+\u001b[1;36m6508971219\u001b[0m\n"
            ],
            "text/html": [
              "<pre style=\"white-space:pre;overflow-x:auto;line-height:normal;font-family:Menlo,'DejaVu Sans Mono',consolas,'Courier New',monospace\">Line <span style=\"color: #008080; text-decoration-color: #008080; font-weight: bold\">45</span>:           |-- fabric-recipe-api-v1 <span style=\"color: #008080; text-decoration-color: #008080; font-weight: bold\">5.0</span>.<span style=\"color: #008080; text-decoration-color: #008080; font-weight: bold\">13</span>+<span style=\"color: #008080; text-decoration-color: #008080; font-weight: bold\">6508971219</span>\n",
              "</pre>\n"
            ]
          },
          "metadata": {}
        },
        {
          "output_type": "display_data",
          "data": {
            "text/plain": [
              "Line \u001b[1;36m46\u001b[0m:           |-- fabric-registry-sync-v0 \u001b[1;36m5.1\u001b[0m.\u001b[1;36m3\u001b[0m+60c3209b19\n"
            ],
            "text/html": [
              "<pre style=\"white-space:pre;overflow-x:auto;line-height:normal;font-family:Menlo,'DejaVu Sans Mono',consolas,'Courier New',monospace\">Line <span style=\"color: #008080; text-decoration-color: #008080; font-weight: bold\">46</span>:           |-- fabric-registry-sync-v0 <span style=\"color: #008080; text-decoration-color: #008080; font-weight: bold\">5.1</span>.<span style=\"color: #008080; text-decoration-color: #008080; font-weight: bold\">3</span>+60c3209b19\n",
              "</pre>\n"
            ]
          },
          "metadata": {}
        },
        {
          "output_type": "display_data",
          "data": {
            "text/plain": [
              "Line \u001b[1;36m47\u001b[0m:           |-- fabric-renderer-api-v1 \u001b[1;36m3.4\u001b[0m.\u001b[1;36m0\u001b[0m+c705a49c19\n"
            ],
            "text/html": [
              "<pre style=\"white-space:pre;overflow-x:auto;line-height:normal;font-family:Menlo,'DejaVu Sans Mono',consolas,'Courier New',monospace\">Line <span style=\"color: #008080; text-decoration-color: #008080; font-weight: bold\">47</span>:           |-- fabric-renderer-api-v1 <span style=\"color: #008080; text-decoration-color: #008080; font-weight: bold\">3.4</span>.<span style=\"color: #008080; text-decoration-color: #008080; font-weight: bold\">0</span>+c705a49c19\n",
              "</pre>\n"
            ]
          },
          "metadata": {}
        },
        {
          "output_type": "display_data",
          "data": {
            "text/plain": [
              "Line \u001b[1;36m48\u001b[0m:           |-- fabric-renderer-indigo \u001b[1;36m1.7\u001b[0m.\u001b[1;36m0\u001b[0m+c705a49c19\n"
            ],
            "text/html": [
              "<pre style=\"white-space:pre;overflow-x:auto;line-height:normal;font-family:Menlo,'DejaVu Sans Mono',consolas,'Courier New',monospace\">Line <span style=\"color: #008080; text-decoration-color: #008080; font-weight: bold\">48</span>:           |-- fabric-renderer-indigo <span style=\"color: #008080; text-decoration-color: #008080; font-weight: bold\">1.7</span>.<span style=\"color: #008080; text-decoration-color: #008080; font-weight: bold\">0</span>+c705a49c19\n",
              "</pre>\n"
            ]
          },
          "metadata": {}
        },
        {
          "output_type": "display_data",
          "data": {
            "text/plain": [
              "Line \u001b[1;36m49\u001b[0m:           |-- fabric-renderer-registries-v1 \u001b[1;36m3.2\u001b[0m.\u001b[1;36m68\u001b[0m+df3654b319\n"
            ],
            "text/html": [
              "<pre style=\"white-space:pre;overflow-x:auto;line-height:normal;font-family:Menlo,'DejaVu Sans Mono',consolas,'Courier New',monospace\">Line <span style=\"color: #008080; text-decoration-color: #008080; font-weight: bold\">49</span>:           |-- fabric-renderer-registries-v1 <span style=\"color: #008080; text-decoration-color: #008080; font-weight: bold\">3.2</span>.<span style=\"color: #008080; text-decoration-color: #008080; font-weight: bold\">68</span>+df3654b319\n",
              "</pre>\n"
            ]
          },
          "metadata": {}
        },
        {
          "output_type": "display_data",
          "data": {
            "text/plain": [
              "Line \u001b[1;36m50\u001b[0m:           |-- fabric-rendering-data-attachment-v1 \u001b[1;36m0.3\u001b[0m.\u001b[1;36m48\u001b[0m+73761d2e19\n"
            ],
            "text/html": [
              "<pre style=\"white-space:pre;overflow-x:auto;line-height:normal;font-family:Menlo,'DejaVu Sans Mono',consolas,'Courier New',monospace\">Line <span style=\"color: #008080; text-decoration-color: #008080; font-weight: bold\">50</span>:           |-- fabric-rendering-data-attachment-v1 <span style=\"color: #008080; text-decoration-color: #008080; font-weight: bold\">0.3</span>.<span style=\"color: #008080; text-decoration-color: #008080; font-weight: bold\">48</span>+73761d2e19\n",
              "</pre>\n"
            ]
          },
          "metadata": {}
        },
        {
          "output_type": "display_data",
          "data": {
            "text/plain": [
              "Line \u001b[1;36m51\u001b[0m:           |-- fabric-rendering-fluids-v1 \u001b[1;36m3.1\u001b[0m.\u001b[1;36m6\u001b[0m+1daea21519\n"
            ],
            "text/html": [
              "<pre style=\"white-space:pre;overflow-x:auto;line-height:normal;font-family:Menlo,'DejaVu Sans Mono',consolas,'Courier New',monospace\">Line <span style=\"color: #008080; text-decoration-color: #008080; font-weight: bold\">51</span>:           |-- fabric-rendering-fluids-v1 <span style=\"color: #008080; text-decoration-color: #008080; font-weight: bold\">3.1</span>.<span style=\"color: #008080; text-decoration-color: #008080; font-weight: bold\">6</span>+1daea21519\n",
              "</pre>\n"
            ]
          },
          "metadata": {}
        },
        {
          "output_type": "display_data",
          "data": {
            "text/plain": [
              "Line \u001b[1;36m52\u001b[0m:           |-- fabric-rendering-v0 \u001b[1;36m1.1\u001b[0m.\u001b[1;36m71\u001b[0m+df3654b319\n"
            ],
            "text/html": [
              "<pre style=\"white-space:pre;overflow-x:auto;line-height:normal;font-family:Menlo,'DejaVu Sans Mono',consolas,'Courier New',monospace\">Line <span style=\"color: #008080; text-decoration-color: #008080; font-weight: bold\">52</span>:           |-- fabric-rendering-v0 <span style=\"color: #008080; text-decoration-color: #008080; font-weight: bold\">1.1</span>.<span style=\"color: #008080; text-decoration-color: #008080; font-weight: bold\">71</span>+df3654b319\n",
              "</pre>\n"
            ]
          },
          "metadata": {}
        },
        {
          "output_type": "display_data",
          "data": {
            "text/plain": [
              "Line \u001b[1;36m53\u001b[0m:           |-- fabric-rendering-v1 \u001b[1;36m5.0\u001b[0m.\u001b[1;36m5\u001b[0m+df16efd019\n"
            ],
            "text/html": [
              "<pre style=\"white-space:pre;overflow-x:auto;line-height:normal;font-family:Menlo,'DejaVu Sans Mono',consolas,'Courier New',monospace\">Line <span style=\"color: #008080; text-decoration-color: #008080; font-weight: bold\">53</span>:           |-- fabric-rendering-v1 <span style=\"color: #008080; text-decoration-color: #008080; font-weight: bold\">5.0</span>.<span style=\"color: #008080; text-decoration-color: #008080; font-weight: bold\">5</span>+df16efd019\n",
              "</pre>\n"
            ]
          },
          "metadata": {}
        },
        {
          "output_type": "display_data",
          "data": {
            "text/plain": [
              "Line \u001b[1;36m54\u001b[0m:           |-- fabric-resource-conditions-api-v1 \u001b[1;36m4.3\u001b[0m.\u001b[1;36m0\u001b[0m+8dc279b119\n"
            ],
            "text/html": [
              "<pre style=\"white-space:pre;overflow-x:auto;line-height:normal;font-family:Menlo,'DejaVu Sans Mono',consolas,'Courier New',monospace\">Line <span style=\"color: #008080; text-decoration-color: #008080; font-weight: bold\">54</span>:           |-- fabric-resource-conditions-api-v1 <span style=\"color: #008080; text-decoration-color: #008080; font-weight: bold\">4.3</span>.<span style=\"color: #008080; text-decoration-color: #008080; font-weight: bold\">0</span>+8dc279b119\n",
              "</pre>\n"
            ]
          },
          "metadata": {}
        },
        {
          "output_type": "display_data",
          "data": {
            "text/plain": [
              "Line \u001b[1;36m55\u001b[0m:           |-- fabric-resource-loader-v0 \u001b[1;36m1.3\u001b[0m.\u001b[1;36m0\u001b[0m+\u001b[1;36m5659912919\u001b[0m\n"
            ],
            "text/html": [
              "<pre style=\"white-space:pre;overflow-x:auto;line-height:normal;font-family:Menlo,'DejaVu Sans Mono',consolas,'Courier New',monospace\">Line <span style=\"color: #008080; text-decoration-color: #008080; font-weight: bold\">55</span>:           |-- fabric-resource-loader-v0 <span style=\"color: #008080; text-decoration-color: #008080; font-weight: bold\">1.3</span>.<span style=\"color: #008080; text-decoration-color: #008080; font-weight: bold\">0</span>+<span style=\"color: #008080; text-decoration-color: #008080; font-weight: bold\">5659912919</span>\n",
              "</pre>\n"
            ]
          },
          "metadata": {}
        },
        {
          "output_type": "display_data",
          "data": {
            "text/plain": [
              "Line \u001b[1;36m56\u001b[0m:           |-- fabric-screen-api-v1 \u001b[1;36m2.0\u001b[0m.\u001b[1;36m25\u001b[0m+8b68f1c719\n"
            ],
            "text/html": [
              "<pre style=\"white-space:pre;overflow-x:auto;line-height:normal;font-family:Menlo,'DejaVu Sans Mono',consolas,'Courier New',monospace\">Line <span style=\"color: #008080; text-decoration-color: #008080; font-weight: bold\">56</span>:           |-- fabric-screen-api-v1 <span style=\"color: #008080; text-decoration-color: #008080; font-weight: bold\">2.0</span>.<span style=\"color: #008080; text-decoration-color: #008080; font-weight: bold\">25</span>+8b68f1c719\n",
              "</pre>\n"
            ]
          },
          "metadata": {}
        },
        {
          "output_type": "display_data",
          "data": {
            "text/plain": [
              "Line \u001b[1;36m57\u001b[0m:           |-- fabric-screen-handler-api-v1 \u001b[1;36m1.3\u001b[0m.\u001b[1;36m87\u001b[0m+b559734419\n"
            ],
            "text/html": [
              "<pre style=\"white-space:pre;overflow-x:auto;line-height:normal;font-family:Menlo,'DejaVu Sans Mono',consolas,'Courier New',monospace\">Line <span style=\"color: #008080; text-decoration-color: #008080; font-weight: bold\">57</span>:           |-- fabric-screen-handler-api-v1 <span style=\"color: #008080; text-decoration-color: #008080; font-weight: bold\">1.3</span>.<span style=\"color: #008080; text-decoration-color: #008080; font-weight: bold\">87</span>+b559734419\n",
              "</pre>\n"
            ]
          },
          "metadata": {}
        },
        {
          "output_type": "display_data",
          "data": {
            "text/plain": [
              "Line \u001b[1;36m58\u001b[0m:           |-- fabric-sound-api-v1 \u001b[1;36m1.0\u001b[0m.\u001b[1;36m23\u001b[0m+6573ed8c19\n"
            ],
            "text/html": [
              "<pre style=\"white-space:pre;overflow-x:auto;line-height:normal;font-family:Menlo,'DejaVu Sans Mono',consolas,'Courier New',monospace\">Line <span style=\"color: #008080; text-decoration-color: #008080; font-weight: bold\">58</span>:           |-- fabric-sound-api-v1 <span style=\"color: #008080; text-decoration-color: #008080; font-weight: bold\">1.0</span>.<span style=\"color: #008080; text-decoration-color: #008080; font-weight: bold\">23</span>+6573ed8c19\n",
              "</pre>\n"
            ]
          },
          "metadata": {}
        },
        {
          "output_type": "display_data",
          "data": {
            "text/plain": [
              "Line \u001b[1;36m59\u001b[0m:           |-- fabric-transfer-api-v1 \u001b[1;36m5.4\u001b[0m.\u001b[1;36m0\u001b[0m+95bead5f19\n"
            ],
            "text/html": [
              "<pre style=\"white-space:pre;overflow-x:auto;line-height:normal;font-family:Menlo,'DejaVu Sans Mono',consolas,'Courier New',monospace\">Line <span style=\"color: #008080; text-decoration-color: #008080; font-weight: bold\">59</span>:           |-- fabric-transfer-api-v1 <span style=\"color: #008080; text-decoration-color: #008080; font-weight: bold\">5.4</span>.<span style=\"color: #008080; text-decoration-color: #008080; font-weight: bold\">0</span>+95bead5f19\n",
              "</pre>\n"
            ]
          },
          "metadata": {}
        },
        {
          "output_type": "display_data",
          "data": {
            "text/plain": [
              "Line \u001b[1;36m60\u001b[0m:           \\-- fabric-transitive-access-wideners-v1 \u001b[1;36m6.1\u001b[0m.\u001b[1;36m0\u001b[0m+1daea21519\n"
            ],
            "text/html": [
              "<pre style=\"white-space:pre;overflow-x:auto;line-height:normal;font-family:Menlo,'DejaVu Sans Mono',consolas,'Courier New',monospace\">Line <span style=\"color: #008080; text-decoration-color: #008080; font-weight: bold\">60</span>:           \\-- fabric-transitive-access-wideners-v1 <span style=\"color: #008080; text-decoration-color: #008080; font-weight: bold\">6.1</span>.<span style=\"color: #008080; text-decoration-color: #008080; font-weight: bold\">0</span>+1daea21519\n",
              "</pre>\n"
            ]
          },
          "metadata": {}
        },
        {
          "output_type": "display_data",
          "data": {
            "text/plain": [
              "Line \u001b[1;36m61\u001b[0m:        - fabricloader \u001b[1;36m0.16\u001b[0m.\u001b[1;36m7\u001b[0m\n"
            ],
            "text/html": [
              "<pre style=\"white-space:pre;overflow-x:auto;line-height:normal;font-family:Menlo,'DejaVu Sans Mono',consolas,'Courier New',monospace\">Line <span style=\"color: #008080; text-decoration-color: #008080; font-weight: bold\">61</span>:        - fabricloader <span style=\"color: #008080; text-decoration-color: #008080; font-weight: bold\">0.16</span>.<span style=\"color: #008080; text-decoration-color: #008080; font-weight: bold\">7</span>\n",
              "</pre>\n"
            ]
          },
          "metadata": {}
        },
        {
          "output_type": "display_data",
          "data": {
            "text/plain": [
              "Line \u001b[1;36m62\u001b[0m:           \\-- mixinextras \u001b[1;36m0.4\u001b[0m.\u001b[1;36m1\u001b[0m\n"
            ],
            "text/html": [
              "<pre style=\"white-space:pre;overflow-x:auto;line-height:normal;font-family:Menlo,'DejaVu Sans Mono',consolas,'Courier New',monospace\">Line <span style=\"color: #008080; text-decoration-color: #008080; font-weight: bold\">62</span>:           \\-- mixinextras <span style=\"color: #008080; text-decoration-color: #008080; font-weight: bold\">0.4</span>.<span style=\"color: #008080; text-decoration-color: #008080; font-weight: bold\">1</span>\n",
              "</pre>\n"
            ]
          },
          "metadata": {}
        },
        {
          "output_type": "display_data",
          "data": {
            "text/plain": [
              "Line \u001b[1;36m63\u001b[0m:        - ferritecore \u001b[1;36m7.0\u001b[0m.\u001b[1;36m2\u001b[0m-hotfix\n"
            ],
            "text/html": [
              "<pre style=\"white-space:pre;overflow-x:auto;line-height:normal;font-family:Menlo,'DejaVu Sans Mono',consolas,'Courier New',monospace\">Line <span style=\"color: #008080; text-decoration-color: #008080; font-weight: bold\">63</span>:        - ferritecore <span style=\"color: #008080; text-decoration-color: #008080; font-weight: bold\">7.0</span>.<span style=\"color: #008080; text-decoration-color: #008080; font-weight: bold\">2</span>-hotfix\n",
              "</pre>\n"
            ]
          },
          "metadata": {}
        },
        {
          "output_type": "display_data",
          "data": {
            "text/plain": [
              "Line \u001b[1;36m64\u001b[0m:        - geyser-fabric \u001b[1;36m2.4\u001b[0m.\u001b[1;36m4\u001b[0m-SNAPSHOT\n"
            ],
            "text/html": [
              "<pre style=\"white-space:pre;overflow-x:auto;line-height:normal;font-family:Menlo,'DejaVu Sans Mono',consolas,'Courier New',monospace\">Line <span style=\"color: #008080; text-decoration-color: #008080; font-weight: bold\">64</span>:        - geyser-fabric <span style=\"color: #008080; text-decoration-color: #008080; font-weight: bold\">2.4</span>.<span style=\"color: #008080; text-decoration-color: #008080; font-weight: bold\">4</span>-SNAPSHOT\n",
              "</pre>\n"
            ]
          },
          "metadata": {}
        },
        {
          "output_type": "display_data",
          "data": {
            "text/plain": [
              "Line \u001b[1;36m65\u001b[0m:           |-- cloud \u001b[1;36m2.0\u001b[0m.\u001b[1;36m0\u001b[0m-beta.\u001b[1;36m7\u001b[0m\n"
            ],
            "text/html": [
              "<pre style=\"white-space:pre;overflow-x:auto;line-height:normal;font-family:Menlo,'DejaVu Sans Mono',consolas,'Courier New',monospace\">Line <span style=\"color: #008080; text-decoration-color: #008080; font-weight: bold\">65</span>:           |-- cloud <span style=\"color: #008080; text-decoration-color: #008080; font-weight: bold\">2.0</span>.<span style=\"color: #008080; text-decoration-color: #008080; font-weight: bold\">0</span>-beta.<span style=\"color: #008080; text-decoration-color: #008080; font-weight: bold\">7</span>\n",
              "</pre>\n"
            ]
          },
          "metadata": {}
        },
        {
          "output_type": "display_data",
          "data": {
            "text/plain": [
              "Line \u001b[1;36m66\u001b[0m:           |    |-- fabric-permissions-api-v0 \u001b[1;36m0.3\u001b[0m.\u001b[1;36m1\u001b[0m\n"
            ],
            "text/html": [
              "<pre style=\"white-space:pre;overflow-x:auto;line-height:normal;font-family:Menlo,'DejaVu Sans Mono',consolas,'Courier New',monospace\">Line <span style=\"color: #008080; text-decoration-color: #008080; font-weight: bold\">66</span>:           |    |-- fabric-permissions-api-v0 <span style=\"color: #008080; text-decoration-color: #008080; font-weight: bold\">0.3</span>.<span style=\"color: #008080; text-decoration-color: #008080; font-weight: bold\">1</span>\n",
              "</pre>\n"
            ]
          },
          "metadata": {}
        },
        {
          "output_type": "display_data",
          "data": {
            "text/plain": [
              "Line \u001b[1;36m67\u001b[0m:           |    |-- io_leangen_geantyref_geantyref \u001b[1;36m1.3\u001b[0m.\u001b[1;36m15\u001b[0m\n"
            ],
            "text/html": [
              "<pre style=\"white-space:pre;overflow-x:auto;line-height:normal;font-family:Menlo,'DejaVu Sans Mono',consolas,'Courier New',monospace\">Line <span style=\"color: #008080; text-decoration-color: #008080; font-weight: bold\">67</span>:           |    |-- io_leangen_geantyref_geantyref <span style=\"color: #008080; text-decoration-color: #008080; font-weight: bold\">1.3</span>.<span style=\"color: #008080; text-decoration-color: #008080; font-weight: bold\">15</span>\n",
              "</pre>\n"
            ]
          },
          "metadata": {}
        },
        {
          "output_type": "display_data",
          "data": {
            "text/plain": [
              "Line \u001b[1;36m68\u001b[0m:           |    |-- org_incendo_cloud-brigadier \u001b[1;36m2.0\u001b[0m.\u001b[1;36m0\u001b[0m-beta.\u001b[1;36m8\u001b[0m\n"
            ],
            "text/html": [
              "<pre style=\"white-space:pre;overflow-x:auto;line-height:normal;font-family:Menlo,'DejaVu Sans Mono',consolas,'Courier New',monospace\">Line <span style=\"color: #008080; text-decoration-color: #008080; font-weight: bold\">68</span>:           |    |-- org_incendo_cloud-brigadier <span style=\"color: #008080; text-decoration-color: #008080; font-weight: bold\">2.0</span>.<span style=\"color: #008080; text-decoration-color: #008080; font-weight: bold\">0</span>-beta.<span style=\"color: #008080; text-decoration-color: #008080; font-weight: bold\">8</span>\n",
              "</pre>\n"
            ]
          },
          "metadata": {}
        },
        {
          "output_type": "display_data",
          "data": {
            "text/plain": [
              "Line \u001b[1;36m69\u001b[0m:           |    |-- org_incendo_cloud-core \u001b[1;36m2.0\u001b[0m.\u001b[1;36m0\u001b[0m-rc.\u001b[1;36m2\u001b[0m\n"
            ],
            "text/html": [
              "<pre style=\"white-space:pre;overflow-x:auto;line-height:normal;font-family:Menlo,'DejaVu Sans Mono',consolas,'Courier New',monospace\">Line <span style=\"color: #008080; text-decoration-color: #008080; font-weight: bold\">69</span>:           |    |-- org_incendo_cloud-core <span style=\"color: #008080; text-decoration-color: #008080; font-weight: bold\">2.0</span>.<span style=\"color: #008080; text-decoration-color: #008080; font-weight: bold\">0</span>-rc.<span style=\"color: #008080; text-decoration-color: #008080; font-weight: bold\">2</span>\n",
              "</pre>\n"
            ]
          },
          "metadata": {}
        },
        {
          "output_type": "display_data",
          "data": {
            "text/plain": [
              "Line \u001b[1;36m70\u001b[0m:           |    |-- org_incendo_cloud-minecraft-modded-common-fabric-repack_ \u001b[1;36m2.0\u001b[0m.\u001b[1;36m0\u001b[0m-beta.\u001b[1;36m7\u001b[0m\n"
            ],
            "text/html": [
              "<pre style=\"white-space:pre;overflow-x:auto;line-height:normal;font-family:Menlo,'DejaVu Sans Mono',consolas,'Courier New',monospace\">Line <span style=\"color: #008080; text-decoration-color: #008080; font-weight: bold\">70</span>:           |    |-- org_incendo_cloud-minecraft-modded-common-fabric-repack_ <span style=\"color: #008080; text-decoration-color: #008080; font-weight: bold\">2.0</span>.<span style=\"color: #008080; text-decoration-color: #008080; font-weight: bold\">0</span>-beta.<span style=\"color: #008080; text-decoration-color: #008080; font-weight: bold\">7</span>\n",
              "</pre>\n"
            ]
          },
          "metadata": {}
        },
        {
          "output_type": "display_data",
          "data": {
            "text/plain": [
              "Line \u001b[1;36m71\u001b[0m:           |    \\-- org_incendo_cloud-services \u001b[1;36m2.0\u001b[0m.\u001b[1;36m0\u001b[0m-rc.\u001b[1;36m2\u001b[0m\n"
            ],
            "text/html": [
              "<pre style=\"white-space:pre;overflow-x:auto;line-height:normal;font-family:Menlo,'DejaVu Sans Mono',consolas,'Courier New',monospace\">Line <span style=\"color: #008080; text-decoration-color: #008080; font-weight: bold\">71</span>:           |    \\-- org_incendo_cloud-services <span style=\"color: #008080; text-decoration-color: #008080; font-weight: bold\">2.0</span>.<span style=\"color: #008080; text-decoration-color: #008080; font-weight: bold\">0</span>-rc.<span style=\"color: #008080; text-decoration-color: #008080; font-weight: bold\">2</span>\n",
              "</pre>\n"
            ]
          },
          "metadata": {}
        },
        {
          "output_type": "display_data",
          "data": {
            "text/plain": [
              "Line \u001b[1;36m72\u001b[0m:           |-- com_fasterxml_jackson_core_jackson-annotations \u001b[1;36m2.17\u001b[0m.\u001b[1;36m0\u001b[0m\n"
            ],
            "text/html": [
              "<pre style=\"white-space:pre;overflow-x:auto;line-height:normal;font-family:Menlo,'DejaVu Sans Mono',consolas,'Courier New',monospace\">Line <span style=\"color: #008080; text-decoration-color: #008080; font-weight: bold\">72</span>:           |-- com_fasterxml_jackson_core_jackson-annotations <span style=\"color: #008080; text-decoration-color: #008080; font-weight: bold\">2.17</span>.<span style=\"color: #008080; text-decoration-color: #008080; font-weight: bold\">0</span>\n",
              "</pre>\n"
            ]
          },
          "metadata": {}
        },
        {
          "output_type": "display_data",
          "data": {
            "text/plain": [
              "Line \u001b[1;36m73\u001b[0m:           |-- com_fasterxml_jackson_core_jackson-core \u001b[1;36m2.17\u001b[0m.\u001b[1;36m0\u001b[0m\n"
            ],
            "text/html": [
              "<pre style=\"white-space:pre;overflow-x:auto;line-height:normal;font-family:Menlo,'DejaVu Sans Mono',consolas,'Courier New',monospace\">Line <span style=\"color: #008080; text-decoration-color: #008080; font-weight: bold\">73</span>:           |-- com_fasterxml_jackson_core_jackson-core <span style=\"color: #008080; text-decoration-color: #008080; font-weight: bold\">2.17</span>.<span style=\"color: #008080; text-decoration-color: #008080; font-weight: bold\">0</span>\n",
              "</pre>\n"
            ]
          },
          "metadata": {}
        },
        {
          "output_type": "display_data",
          "data": {
            "text/plain": [
              "Line \u001b[1;36m74\u001b[0m:           |-- com_fasterxml_jackson_core_jackson-databind \u001b[1;36m2.17\u001b[0m.\u001b[1;36m0\u001b[0m\n"
            ],
            "text/html": [
              "<pre style=\"white-space:pre;overflow-x:auto;line-height:normal;font-family:Menlo,'DejaVu Sans Mono',consolas,'Courier New',monospace\">Line <span style=\"color: #008080; text-decoration-color: #008080; font-weight: bold\">74</span>:           |-- com_fasterxml_jackson_core_jackson-databind <span style=\"color: #008080; text-decoration-color: #008080; font-weight: bold\">2.17</span>.<span style=\"color: #008080; text-decoration-color: #008080; font-weight: bold\">0</span>\n",
              "</pre>\n"
            ]
          },
          "metadata": {}
        },
        {
          "output_type": "display_data",
          "data": {
            "text/plain": [
              "Line \u001b[1;36m75\u001b[0m:           |-- com_fasterxml_jackson_dataformat_jackson-dataformat-yaml \u001b[1;36m2.17\u001b[0m.\u001b[1;36m0\u001b[0m\n"
            ],
            "text/html": [
              "<pre style=\"white-space:pre;overflow-x:auto;line-height:normal;font-family:Menlo,'DejaVu Sans Mono',consolas,'Courier New',monospace\">Line <span style=\"color: #008080; text-decoration-color: #008080; font-weight: bold\">75</span>:           |-- com_fasterxml_jackson_dataformat_jackson-dataformat-yaml <span style=\"color: #008080; text-decoration-color: #008080; font-weight: bold\">2.17</span>.<span style=\"color: #008080; text-decoration-color: #008080; font-weight: bold\">0</span>\n",
              "</pre>\n"
            ]
          },
          "metadata": {}
        },
        {
          "output_type": "display_data",
          "data": {
            "text/plain": [
              "Line \u001b[1;36m76\u001b[0m:           |-- com_google_errorprone_error_prone_annotations \u001b[1;36m2.27\u001b[0m.\u001b[1;36m0\u001b[0m\n"
            ],
            "text/html": [
              "<pre style=\"white-space:pre;overflow-x:auto;line-height:normal;font-family:Menlo,'DejaVu Sans Mono',consolas,'Courier New',monospace\">Line <span style=\"color: #008080; text-decoration-color: #008080; font-weight: bold\">76</span>:           |-- com_google_errorprone_error_prone_annotations <span style=\"color: #008080; text-decoration-color: #008080; font-weight: bold\">2.27</span>.<span style=\"color: #008080; text-decoration-color: #008080; font-weight: bold\">0</span>\n",
              "</pre>\n"
            ]
          },
          "metadata": {}
        },
        {
          "output_type": "display_data",
          "data": {
            "text/plain": [
              "Line \u001b[1;36m77\u001b[0m:           |-- com_nukkitx_natives \u001b[1;36m1.0\u001b[0m.\u001b[1;36m3\u001b[0m\n"
            ],
            "text/html": [
              "<pre style=\"white-space:pre;overflow-x:auto;line-height:normal;font-family:Menlo,'DejaVu Sans Mono',consolas,'Courier New',monospace\">Line <span style=\"color: #008080; text-decoration-color: #008080; font-weight: bold\">77</span>:           |-- com_nukkitx_natives <span style=\"color: #008080; text-decoration-color: #008080; font-weight: bold\">1.0</span>.<span style=\"color: #008080; text-decoration-color: #008080; font-weight: bold\">3</span>\n",
              "</pre>\n"
            ]
          },
          "metadata": {}
        },
        {
          "output_type": "display_data",
          "data": {
            "text/plain": [
              "Line \u001b[1;36m78\u001b[0m:           |-- io_airlift_aircompressor \u001b[1;36m0.25\u001b[0m\n"
            ],
            "text/html": [
              "<pre style=\"white-space:pre;overflow-x:auto;line-height:normal;font-family:Menlo,'DejaVu Sans Mono',consolas,'Courier New',monospace\">Line <span style=\"color: #008080; text-decoration-color: #008080; font-weight: bold\">78</span>:           |-- io_airlift_aircompressor <span style=\"color: #008080; text-decoration-color: #008080; font-weight: bold\">0.25</span>\n",
              "</pre>\n"
            ]
          },
          "metadata": {}
        },
        {
          "output_type": "display_data",
          "data": {
            "text/plain": [
              "Line \u001b[1;36m79\u001b[0m:           |-- io_jsonwebtoken_jjwt-api \u001b[1;36m0.12\u001b[0m.\u001b[1;36m6\u001b[0m\n"
            ],
            "text/html": [
              "<pre style=\"white-space:pre;overflow-x:auto;line-height:normal;font-family:Menlo,'DejaVu Sans Mono',consolas,'Courier New',monospace\">Line <span style=\"color: #008080; text-decoration-color: #008080; font-weight: bold\">79</span>:           |-- io_jsonwebtoken_jjwt-api <span style=\"color: #008080; text-decoration-color: #008080; font-weight: bold\">0.12</span>.<span style=\"color: #008080; text-decoration-color: #008080; font-weight: bold\">6</span>\n",
              "</pre>\n"
            ]
          },
          "metadata": {}
        },
        {
          "output_type": "display_data",
          "data": {
            "text/plain": [
              "Line \u001b[1;36m80\u001b[0m:           |-- io_jsonwebtoken_jjwt-gson \u001b[1;36m0.12\u001b[0m.\u001b[1;36m6\u001b[0m\n"
            ],
            "text/html": [
              "<pre style=\"white-space:pre;overflow-x:auto;line-height:normal;font-family:Menlo,'DejaVu Sans Mono',consolas,'Courier New',monospace\">Line <span style=\"color: #008080; text-decoration-color: #008080; font-weight: bold\">80</span>:           |-- io_jsonwebtoken_jjwt-gson <span style=\"color: #008080; text-decoration-color: #008080; font-weight: bold\">0.12</span>.<span style=\"color: #008080; text-decoration-color: #008080; font-weight: bold\">6</span>\n",
              "</pre>\n"
            ]
          },
          "metadata": {}
        },
        {
          "output_type": "display_data",
          "data": {
            "text/plain": [
              "Line \u001b[1;36m81\u001b[0m:           |-- io_jsonwebtoken_jjwt-impl \u001b[1;36m0.12\u001b[0m.\u001b[1;36m6\u001b[0m\n"
            ],
            "text/html": [
              "<pre style=\"white-space:pre;overflow-x:auto;line-height:normal;font-family:Menlo,'DejaVu Sans Mono',consolas,'Courier New',monospace\">Line <span style=\"color: #008080; text-decoration-color: #008080; font-weight: bold\">81</span>:           |-- io_jsonwebtoken_jjwt-impl <span style=\"color: #008080; text-decoration-color: #008080; font-weight: bold\">0.12</span>.<span style=\"color: #008080; text-decoration-color: #008080; font-weight: bold\">6</span>\n",
              "</pre>\n"
            ]
          },
          "metadata": {}
        },
        {
          "output_type": "display_data",
          "data": {
            "text/plain": [
              "Line \u001b[1;36m82\u001b[0m:           |-- io_netty_netty-codec-dns \u001b[1;36m4.1\u001b[0m.\u001b[1;36m107\u001b[0m\n"
            ],
            "text/html": [
              "<pre style=\"white-space:pre;overflow-x:auto;line-height:normal;font-family:Menlo,'DejaVu Sans Mono',consolas,'Courier New',monospace\">Line <span style=\"color: #008080; text-decoration-color: #008080; font-weight: bold\">82</span>:           |-- io_netty_netty-codec-dns <span style=\"color: #008080; text-decoration-color: #008080; font-weight: bold\">4.1</span>.<span style=\"color: #008080; text-decoration-color: #008080; font-weight: bold\">107</span>\n",
              "</pre>\n"
            ]
          },
          "metadata": {}
        },
        {
          "output_type": "display_data",
          "data": {
            "text/plain": [
              "Line \u001b[1;36m83\u001b[0m:           |-- io_netty_netty-codec-haproxy \u001b[1;36m4.1\u001b[0m.\u001b[1;36m107\u001b[0m\n"
            ],
            "text/html": [
              "<pre style=\"white-space:pre;overflow-x:auto;line-height:normal;font-family:Menlo,'DejaVu Sans Mono',consolas,'Courier New',monospace\">Line <span style=\"color: #008080; text-decoration-color: #008080; font-weight: bold\">83</span>:           |-- io_netty_netty-codec-haproxy <span style=\"color: #008080; text-decoration-color: #008080; font-weight: bold\">4.1</span>.<span style=\"color: #008080; text-decoration-color: #008080; font-weight: bold\">107</span>\n",
              "</pre>\n"
            ]
          },
          "metadata": {}
        },
        {
          "output_type": "display_data",
          "data": {
            "text/plain": [
              "Line \u001b[1;36m84\u001b[0m:           |-- io_netty_netty-resolver-dns-classes-macos \u001b[1;36m4.1\u001b[0m.\u001b[1;36m107\u001b[0m\n"
            ],
            "text/html": [
              "<pre style=\"white-space:pre;overflow-x:auto;line-height:normal;font-family:Menlo,'DejaVu Sans Mono',consolas,'Courier New',monospace\">Line <span style=\"color: #008080; text-decoration-color: #008080; font-weight: bold\">84</span>:           |-- io_netty_netty-resolver-dns-classes-macos <span style=\"color: #008080; text-decoration-color: #008080; font-weight: bold\">4.1</span>.<span style=\"color: #008080; text-decoration-color: #008080; font-weight: bold\">107</span>\n",
              "</pre>\n"
            ]
          },
          "metadata": {}
        },
        {
          "output_type": "display_data",
          "data": {
            "text/plain": [
              "Line \u001b[1;36m85\u001b[0m:           |-- net_bytebuddy_byte-buddy \u001b[1;36m1.14\u001b[0m.\u001b[1;36m9\u001b[0m\n"
            ],
            "text/html": [
              "<pre style=\"white-space:pre;overflow-x:auto;line-height:normal;font-family:Menlo,'DejaVu Sans Mono',consolas,'Courier New',monospace\">Line <span style=\"color: #008080; text-decoration-color: #008080; font-weight: bold\">85</span>:           |-- net_bytebuddy_byte-buddy <span style=\"color: #008080; text-decoration-color: #008080; font-weight: bold\">1.14</span>.<span style=\"color: #008080; text-decoration-color: #008080; font-weight: bold\">9</span>\n",
              "</pre>\n"
            ]
          },
          "metadata": {}
        },
        {
          "output_type": "display_data",
          "data": {
            "text/plain": [
              "Line \u001b[1;36m86\u001b[0m:           |-- net_jodah_expiringmap \u001b[1;36m0.5\u001b[0m.\u001b[1;36m10\u001b[0m\n"
            ],
            "text/html": [
              "<pre style=\"white-space:pre;overflow-x:auto;line-height:normal;font-family:Menlo,'DejaVu Sans Mono',consolas,'Courier New',monospace\">Line <span style=\"color: #008080; text-decoration-color: #008080; font-weight: bold\">86</span>:           |-- net_jodah_expiringmap <span style=\"color: #008080; text-decoration-color: #008080; font-weight: bold\">0.5</span>.<span style=\"color: #008080; text-decoration-color: #008080; font-weight: bold\">10</span>\n",
              "</pre>\n"
            ]
          },
          "metadata": {}
        },
        {
          "output_type": "display_data",
          "data": {
            "text/plain": [
              "Line \u001b[1;36m87\u001b[0m:           |-- net_kyori_adventure-api \u001b[1;36m4.15\u001b[0m.\u001b[1;36m0\u001b[0m\n"
            ],
            "text/html": [
              "<pre style=\"white-space:pre;overflow-x:auto;line-height:normal;font-family:Menlo,'DejaVu Sans Mono',consolas,'Courier New',monospace\">Line <span style=\"color: #008080; text-decoration-color: #008080; font-weight: bold\">87</span>:           |-- net_kyori_adventure-api <span style=\"color: #008080; text-decoration-color: #008080; font-weight: bold\">4.15</span>.<span style=\"color: #008080; text-decoration-color: #008080; font-weight: bold\">0</span>\n",
              "</pre>\n"
            ]
          },
          "metadata": {}
        },
        {
          "output_type": "display_data",
          "data": {
            "text/plain": [
              "Line \u001b[1;36m88\u001b[0m:           |-- net_kyori_adventure-key \u001b[1;36m4.15\u001b[0m.\u001b[1;36m0\u001b[0m\n"
            ],
            "text/html": [
              "<pre style=\"white-space:pre;overflow-x:auto;line-height:normal;font-family:Menlo,'DejaVu Sans Mono',consolas,'Courier New',monospace\">Line <span style=\"color: #008080; text-decoration-color: #008080; font-weight: bold\">88</span>:           |-- net_kyori_adventure-key <span style=\"color: #008080; text-decoration-color: #008080; font-weight: bold\">4.15</span>.<span style=\"color: #008080; text-decoration-color: #008080; font-weight: bold\">0</span>\n",
              "</pre>\n"
            ]
          },
          "metadata": {}
        },
        {
          "output_type": "display_data",
          "data": {
            "text/plain": [
              "Line \u001b[1;36m89\u001b[0m:           |-- net_kyori_adventure-nbt \u001b[1;36m4.15\u001b[0m.\u001b[1;36m0\u001b[0m\n"
            ],
            "text/html": [
              "<pre style=\"white-space:pre;overflow-x:auto;line-height:normal;font-family:Menlo,'DejaVu Sans Mono',consolas,'Courier New',monospace\">Line <span style=\"color: #008080; text-decoration-color: #008080; font-weight: bold\">89</span>:           |-- net_kyori_adventure-nbt <span style=\"color: #008080; text-decoration-color: #008080; font-weight: bold\">4.15</span>.<span style=\"color: #008080; text-decoration-color: #008080; font-weight: bold\">0</span>\n",
              "</pre>\n"
            ]
          },
          "metadata": {}
        },
        {
          "output_type": "display_data",
          "data": {
            "text/plain": [
              "Line \u001b[1;36m90\u001b[0m:           |-- net_kyori_adventure-text-serializer-gson \u001b[1;36m4.15\u001b[0m.\u001b[1;36m0\u001b[0m\n"
            ],
            "text/html": [
              "<pre style=\"white-space:pre;overflow-x:auto;line-height:normal;font-family:Menlo,'DejaVu Sans Mono',consolas,'Courier New',monospace\">Line <span style=\"color: #008080; text-decoration-color: #008080; font-weight: bold\">90</span>:           |-- net_kyori_adventure-text-serializer-gson <span style=\"color: #008080; text-decoration-color: #008080; font-weight: bold\">4.15</span>.<span style=\"color: #008080; text-decoration-color: #008080; font-weight: bold\">0</span>\n",
              "</pre>\n"
            ]
          },
          "metadata": {}
        },
        {
          "output_type": "display_data",
          "data": {
            "text/plain": [
              "Line \u001b[1;36m91\u001b[0m:           |-- net_kyori_adventure-text-serializer-json \u001b[1;36m4.15\u001b[0m.\u001b[1;36m0\u001b[0m\n"
            ],
            "text/html": [
              "<pre style=\"white-space:pre;overflow-x:auto;line-height:normal;font-family:Menlo,'DejaVu Sans Mono',consolas,'Courier New',monospace\">Line <span style=\"color: #008080; text-decoration-color: #008080; font-weight: bold\">91</span>:           |-- net_kyori_adventure-text-serializer-json <span style=\"color: #008080; text-decoration-color: #008080; font-weight: bold\">4.15</span>.<span style=\"color: #008080; text-decoration-color: #008080; font-weight: bold\">0</span>\n",
              "</pre>\n"
            ]
          },
          "metadata": {}
        },
        {
          "output_type": "display_data",
          "data": {
            "text/plain": [
              "Line \u001b[1;36m92\u001b[0m:           |-- net_kyori_adventure-text-serializer-json-legacy-impl \u001b[1;36m4.15\u001b[0m.\u001b[1;36m0\u001b[0m\n"
            ],
            "text/html": [
              "<pre style=\"white-space:pre;overflow-x:auto;line-height:normal;font-family:Menlo,'DejaVu Sans Mono',consolas,'Courier New',monospace\">Line <span style=\"color: #008080; text-decoration-color: #008080; font-weight: bold\">92</span>:           |-- net_kyori_adventure-text-serializer-json-legacy-impl <span style=\"color: #008080; text-decoration-color: #008080; font-weight: bold\">4.15</span>.<span style=\"color: #008080; text-decoration-color: #008080; font-weight: bold\">0</span>\n",
              "</pre>\n"
            ]
          },
          "metadata": {}
        },
        {
          "output_type": "display_data",
          "data": {
            "text/plain": [
              "Line \u001b[1;36m93\u001b[0m:           |-- net_kyori_adventure-text-serializer-legacy \u001b[1;36m4.15\u001b[0m.\u001b[1;36m0\u001b[0m\n"
            ],
            "text/html": [
              "<pre style=\"white-space:pre;overflow-x:auto;line-height:normal;font-family:Menlo,'DejaVu Sans Mono',consolas,'Courier New',monospace\">Line <span style=\"color: #008080; text-decoration-color: #008080; font-weight: bold\">93</span>:           |-- net_kyori_adventure-text-serializer-legacy <span style=\"color: #008080; text-decoration-color: #008080; font-weight: bold\">4.15</span>.<span style=\"color: #008080; text-decoration-color: #008080; font-weight: bold\">0</span>\n",
              "</pre>\n"
            ]
          },
          "metadata": {}
        },
        {
          "output_type": "display_data",
          "data": {
            "text/plain": [
              "Line \u001b[1;36m94\u001b[0m:           |-- net_kyori_adventure-text-serializer-plain \u001b[1;36m4.15\u001b[0m.\u001b[1;36m0\u001b[0m\n"
            ],
            "text/html": [
              "<pre style=\"white-space:pre;overflow-x:auto;line-height:normal;font-family:Menlo,'DejaVu Sans Mono',consolas,'Courier New',monospace\">Line <span style=\"color: #008080; text-decoration-color: #008080; font-weight: bold\">94</span>:           |-- net_kyori_adventure-text-serializer-plain <span style=\"color: #008080; text-decoration-color: #008080; font-weight: bold\">4.15</span>.<span style=\"color: #008080; text-decoration-color: #008080; font-weight: bold\">0</span>\n",
              "</pre>\n"
            ]
          },
          "metadata": {}
        },
        {
          "output_type": "display_data",
          "data": {
            "text/plain": [
              "Line \u001b[1;36m95\u001b[0m:           |-- net_kyori_examination-api \u001b[1;36m1.3\u001b[0m.\u001b[1;36m0\u001b[0m\n"
            ],
            "text/html": [
              "<pre style=\"white-space:pre;overflow-x:auto;line-height:normal;font-family:Menlo,'DejaVu Sans Mono',consolas,'Courier New',monospace\">Line <span style=\"color: #008080; text-decoration-color: #008080; font-weight: bold\">95</span>:           |-- net_kyori_examination-api <span style=\"color: #008080; text-decoration-color: #008080; font-weight: bold\">1.3</span>.<span style=\"color: #008080; text-decoration-color: #008080; font-weight: bold\">0</span>\n",
              "</pre>\n"
            ]
          },
          "metadata": {}
        },
        {
          "output_type": "display_data",
          "data": {
            "text/plain": [
              "Line \u001b[1;36m96\u001b[0m:           |-- net_kyori_examination-string \u001b[1;36m1.3\u001b[0m.\u001b[1;36m0\u001b[0m\n"
            ],
            "text/html": [
              "<pre style=\"white-space:pre;overflow-x:auto;line-height:normal;font-family:Menlo,'DejaVu Sans Mono',consolas,'Courier New',monospace\">Line <span style=\"color: #008080; text-decoration-color: #008080; font-weight: bold\">96</span>:           |-- net_kyori_examination-string <span style=\"color: #008080; text-decoration-color: #008080; font-weight: bold\">1.3</span>.<span style=\"color: #008080; text-decoration-color: #008080; font-weight: bold\">0</span>\n",
              "</pre>\n"
            ]
          },
          "metadata": {}
        },
        {
          "output_type": "display_data",
          "data": {
            "text/plain": [
              "Line \u001b[1;36m97\u001b[0m:           |-- net_kyori_option \u001b[1;36m1.0\u001b[0m.\u001b[1;36m0\u001b[0m\n"
            ],
            "text/html": [
              "<pre style=\"white-space:pre;overflow-x:auto;line-height:normal;font-family:Menlo,'DejaVu Sans Mono',consolas,'Courier New',monospace\">Line <span style=\"color: #008080; text-decoration-color: #008080; font-weight: bold\">97</span>:           |-- net_kyori_option <span style=\"color: #008080; text-decoration-color: #008080; font-weight: bold\">1.0</span>.<span style=\"color: #008080; text-decoration-color: #008080; font-weight: bold\">0</span>\n",
              "</pre>\n"
            ]
          },
          "metadata": {}
        },
        {
          "output_type": "display_data",
          "data": {
            "text/plain": [
              "Line \u001b[1;36m98\u001b[0m:           |-- net_lenni0451_commons_httpclient \u001b[1;36m1.6\u001b[0m.\u001b[1;36m0\u001b[0m\n"
            ],
            "text/html": [
              "<pre style=\"white-space:pre;overflow-x:auto;line-height:normal;font-family:Menlo,'DejaVu Sans Mono',consolas,'Courier New',monospace\">Line <span style=\"color: #008080; text-decoration-color: #008080; font-weight: bold\">98</span>:           |-- net_lenni0451_commons_httpclient <span style=\"color: #008080; text-decoration-color: #008080; font-weight: bold\">1.6</span>.<span style=\"color: #008080; text-decoration-color: #008080; font-weight: bold\">0</span>\n",
              "</pre>\n"
            ]
          },
          "metadata": {}
        },
        {
          "output_type": "display_data",
          "data": {
            "text/plain": [
              "Line \u001b[1;36m99\u001b[0m:           |-- net_raphimc_minecraftauth \u001b[1;36m4.1\u001b[0m.\u001b[1;36m1\u001b[0m\n"
            ],
            "text/html": [
              "<pre style=\"white-space:pre;overflow-x:auto;line-height:normal;font-family:Menlo,'DejaVu Sans Mono',consolas,'Courier New',monospace\">Line <span style=\"color: #008080; text-decoration-color: #008080; font-weight: bold\">99</span>:           |-- net_raphimc_minecraftauth <span style=\"color: #008080; text-decoration-color: #008080; font-weight: bold\">4.1</span>.<span style=\"color: #008080; text-decoration-color: #008080; font-weight: bold\">1</span>\n",
              "</pre>\n"
            ]
          },
          "metadata": {}
        },
        {
          "output_type": "display_data",
          "data": {
            "text/plain": [
              "Line \u001b[1;36m100\u001b[0m:          |-- org_bitbucket_b_c_jose4j \u001b[1;36m0.9\u001b[0m.\u001b[1;36m6\u001b[0m\n"
            ],
            "text/html": [
              "<pre style=\"white-space:pre;overflow-x:auto;line-height:normal;font-family:Menlo,'DejaVu Sans Mono',consolas,'Courier New',monospace\">Line <span style=\"color: #008080; text-decoration-color: #008080; font-weight: bold\">100</span>:          |-- org_bitbucket_b_c_jose4j <span style=\"color: #008080; text-decoration-color: #008080; font-weight: bold\">0.9</span>.<span style=\"color: #008080; text-decoration-color: #008080; font-weight: bold\">6</span>\n",
              "</pre>\n"
            ]
          },
          "metadata": {}
        },
        {
          "output_type": "display_data",
          "data": {
            "text/plain": [
              "Line \u001b[1;36m101\u001b[0m:          |-- org_cloudburstmc_math_api \u001b[1;36m2.0\u001b[0m\n"
            ],
            "text/html": [
              "<pre style=\"white-space:pre;overflow-x:auto;line-height:normal;font-family:Menlo,'DejaVu Sans Mono',consolas,'Courier New',monospace\">Line <span style=\"color: #008080; text-decoration-color: #008080; font-weight: bold\">101</span>:          |-- org_cloudburstmc_math_api <span style=\"color: #008080; text-decoration-color: #008080; font-weight: bold\">2.0</span>\n",
              "</pre>\n"
            ]
          },
          "metadata": {}
        },
        {
          "output_type": "display_data",
          "data": {
            "text/plain": [
              "Line \u001b[1;36m102\u001b[0m:          |-- org_cloudburstmc_math_immutable \u001b[1;36m2.0\u001b[0m\n"
            ],
            "text/html": [
              "<pre style=\"white-space:pre;overflow-x:auto;line-height:normal;font-family:Menlo,'DejaVu Sans Mono',consolas,'Courier New',monospace\">Line <span style=\"color: #008080; text-decoration-color: #008080; font-weight: bold\">102</span>:          |-- org_cloudburstmc_math_immutable <span style=\"color: #008080; text-decoration-color: #008080; font-weight: bold\">2.0</span>\n",
              "</pre>\n"
            ]
          },
          "metadata": {}
        },
        {
          "output_type": "display_data",
          "data": {
            "text/plain": [
              "Line \u001b[1;36m103\u001b[0m:          |-- org_cloudburstmc_nbt \u001b[1;36m3.0\u001b[0m.\u001b[1;36m3\u001b[0m\n"
            ],
            "text/html": [
              "<pre style=\"white-space:pre;overflow-x:auto;line-height:normal;font-family:Menlo,'DejaVu Sans Mono',consolas,'Courier New',monospace\">Line <span style=\"color: #008080; text-decoration-color: #008080; font-weight: bold\">103</span>:          |-- org_cloudburstmc_nbt <span style=\"color: #008080; text-decoration-color: #008080; font-weight: bold\">3.0</span>.<span style=\"color: #008080; text-decoration-color: #008080; font-weight: bold\">3</span>\n",
              "</pre>\n"
            ]
          },
          "metadata": {}
        },
        {
          "output_type": "display_data",
          "data": {
            "text/plain": [
              "Line \u001b[1;36m104\u001b[0m:          |-- org_geysermc_api_base-api \u001b[1;36m1.0\u001b[0m.\u001b[1;36m1\u001b[0m\n"
            ],
            "text/html": [
              "<pre style=\"white-space:pre;overflow-x:auto;line-height:normal;font-family:Menlo,'DejaVu Sans Mono',consolas,'Courier New',monospace\">Line <span style=\"color: #008080; text-decoration-color: #008080; font-weight: bold\">104</span>:          |-- org_geysermc_api_base-api <span style=\"color: #008080; text-decoration-color: #008080; font-weight: bold\">1.0</span>.<span style=\"color: #008080; text-decoration-color: #008080; font-weight: bold\">1</span>\n",
              "</pre>\n"
            ]
          },
          "metadata": {}
        },
        {
          "output_type": "display_data",
          "data": {
            "text/plain": [
              "Line \u001b[1;36m105\u001b[0m:          |-- org_geysermc_cumulus_cumulus \u001b[1;36m1.1\u001b[0m.\u001b[1;36m2\u001b[0m\n"
            ],
            "text/html": [
              "<pre style=\"white-space:pre;overflow-x:auto;line-height:normal;font-family:Menlo,'DejaVu Sans Mono',consolas,'Courier New',monospace\">Line <span style=\"color: #008080; text-decoration-color: #008080; font-weight: bold\">105</span>:          |-- org_geysermc_cumulus_cumulus <span style=\"color: #008080; text-decoration-color: #008080; font-weight: bold\">1.1</span>.<span style=\"color: #008080; text-decoration-color: #008080; font-weight: bold\">2</span>\n",
              "</pre>\n"
            ]
          },
          "metadata": {}
        },
        {
          "output_type": "display_data",
          "data": {
            "text/plain": [
              "Line \u001b[1;36m106\u001b[0m:          |-- org_geysermc_event_events \u001b[1;36m1.1\u001b[0m-SNAPSHOT\n"
            ],
            "text/html": [
              "<pre style=\"white-space:pre;overflow-x:auto;line-height:normal;font-family:Menlo,'DejaVu Sans Mono',consolas,'Courier New',monospace\">Line <span style=\"color: #008080; text-decoration-color: #008080; font-weight: bold\">106</span>:          |-- org_geysermc_event_events <span style=\"color: #008080; text-decoration-color: #008080; font-weight: bold\">1.1</span>-SNAPSHOT\n",
              "</pre>\n"
            ]
          },
          "metadata": {}
        },
        {
          "output_type": "display_data",
          "data": {
            "text/plain": [
              "Line \u001b[1;36m107\u001b[0m:          |-- org_java-websocket_java-websocket \u001b[1;36m1.5\u001b[0m.\u001b[1;36m1\u001b[0m\n"
            ],
            "text/html": [
              "<pre style=\"white-space:pre;overflow-x:auto;line-height:normal;font-family:Menlo,'DejaVu Sans Mono',consolas,'Courier New',monospace\">Line <span style=\"color: #008080; text-decoration-color: #008080; font-weight: bold\">107</span>:          |-- org_java-websocket_java-websocket <span style=\"color: #008080; text-decoration-color: #008080; font-weight: bold\">1.5</span>.<span style=\"color: #008080; text-decoration-color: #008080; font-weight: bold\">1</span>\n",
              "</pre>\n"
            ]
          },
          "metadata": {}
        },
        {
          "output_type": "display_data",
          "data": {
            "text/plain": [
              "Line \u001b[1;36m108\u001b[0m:          |-- org_lanternpowered_lmbda \u001b[1;36m2.0\u001b[0m.\u001b[1;36m0\u001b[0m\n"
            ],
            "text/html": [
              "<pre style=\"white-space:pre;overflow-x:auto;line-height:normal;font-family:Menlo,'DejaVu Sans Mono',consolas,'Courier New',monospace\">Line <span style=\"color: #008080; text-decoration-color: #008080; font-weight: bold\">108</span>:          |-- org_lanternpowered_lmbda <span style=\"color: #008080; text-decoration-color: #008080; font-weight: bold\">2.0</span>.<span style=\"color: #008080; text-decoration-color: #008080; font-weight: bold\">0</span>\n",
              "</pre>\n"
            ]
          },
          "metadata": {}
        },
        {
          "output_type": "display_data",
          "data": {
            "text/plain": [
              "Line \u001b[1;36m109\u001b[0m:          \\-- org_yaml_snakeyaml \u001b[1;36m2.2\u001b[0m\n"
            ],
            "text/html": [
              "<pre style=\"white-space:pre;overflow-x:auto;line-height:normal;font-family:Menlo,'DejaVu Sans Mono',consolas,'Courier New',monospace\">Line <span style=\"color: #008080; text-decoration-color: #008080; font-weight: bold\">109</span>:          \\-- org_yaml_snakeyaml <span style=\"color: #008080; text-decoration-color: #008080; font-weight: bold\">2.2</span>\n",
              "</pre>\n"
            ]
          },
          "metadata": {}
        },
        {
          "output_type": "display_data",
          "data": {
            "text/plain": [
              "Line \u001b[1;36m110\u001b[0m:       - gpumemleakfix \u001b[1;36m1.21\u001b[0m-\u001b[1;36m1.8\u001b[0m\n"
            ],
            "text/html": [
              "<pre style=\"white-space:pre;overflow-x:auto;line-height:normal;font-family:Menlo,'DejaVu Sans Mono',consolas,'Courier New',monospace\">Line <span style=\"color: #008080; text-decoration-color: #008080; font-weight: bold\">110</span>:       - gpumemleakfix <span style=\"color: #008080; text-decoration-color: #008080; font-weight: bold\">1.21</span>-<span style=\"color: #008080; text-decoration-color: #008080; font-weight: bold\">1.8</span>\n",
              "</pre>\n"
            ]
          },
          "metadata": {}
        },
        {
          "output_type": "display_data",
          "data": {
            "text/plain": [
              "Line \u001b[1;36m111\u001b[0m:       - java \u001b[1;36m21\u001b[0m\n"
            ],
            "text/html": [
              "<pre style=\"white-space:pre;overflow-x:auto;line-height:normal;font-family:Menlo,'DejaVu Sans Mono',consolas,'Courier New',monospace\">Line <span style=\"color: #008080; text-decoration-color: #008080; font-weight: bold\">111</span>:       - java <span style=\"color: #008080; text-decoration-color: #008080; font-weight: bold\">21</span>\n",
              "</pre>\n"
            ]
          },
          "metadata": {}
        },
        {
          "output_type": "display_data",
          "data": {
            "text/plain": [
              "Line \u001b[1;36m112\u001b[0m:       - krypton \u001b[1;36m0.2\u001b[0m.\u001b[1;36m8\u001b[0m\n"
            ],
            "text/html": [
              "<pre style=\"white-space:pre;overflow-x:auto;line-height:normal;font-family:Menlo,'DejaVu Sans Mono',consolas,'Courier New',monospace\">Line <span style=\"color: #008080; text-decoration-color: #008080; font-weight: bold\">112</span>:       - krypton <span style=\"color: #008080; text-decoration-color: #008080; font-weight: bold\">0.2</span>.<span style=\"color: #008080; text-decoration-color: #008080; font-weight: bold\">8</span>\n",
              "</pre>\n"
            ]
          },
          "metadata": {}
        },
        {
          "output_type": "display_data",
          "data": {
            "text/plain": [
              "Line \u001b[1;36m113\u001b[0m:          \\-- com_velocitypowered_velocity-native \u001b[1;36m3.3\u001b[0m.\u001b[1;36m0\u001b[0m-SNAPSHOT\n"
            ],
            "text/html": [
              "<pre style=\"white-space:pre;overflow-x:auto;line-height:normal;font-family:Menlo,'DejaVu Sans Mono',consolas,'Courier New',monospace\">Line <span style=\"color: #008080; text-decoration-color: #008080; font-weight: bold\">113</span>:          \\-- com_velocitypowered_velocity-native <span style=\"color: #008080; text-decoration-color: #008080; font-weight: bold\">3.3</span>.<span style=\"color: #008080; text-decoration-color: #008080; font-weight: bold\">0</span>-SNAPSHOT\n",
              "</pre>\n"
            ]
          },
          "metadata": {}
        },
        {
          "output_type": "display_data",
          "data": {
            "text/plain": [
              "Line \u001b[1;36m114\u001b[0m:       - lithium \u001b[1;36m0.13\u001b[0m.\u001b[1;36m1\u001b[0m\n"
            ],
            "text/html": [
              "<pre style=\"white-space:pre;overflow-x:auto;line-height:normal;font-family:Menlo,'DejaVu Sans Mono',consolas,'Courier New',monospace\">Line <span style=\"color: #008080; text-decoration-color: #008080; font-weight: bold\">114</span>:       - lithium <span style=\"color: #008080; text-decoration-color: #008080; font-weight: bold\">0.13</span>.<span style=\"color: #008080; text-decoration-color: #008080; font-weight: bold\">1</span>\n",
              "</pre>\n"
            ]
          },
          "metadata": {}
        },
        {
          "output_type": "display_data",
          "data": {
            "text/plain": [
              "Line \u001b[1;36m115\u001b[0m:       - memoryleakfix \u001b[1;36m1.1\u001b[0m.\u001b[1;36m5\u001b[0m\n"
            ],
            "text/html": [
              "<pre style=\"white-space:pre;overflow-x:auto;line-height:normal;font-family:Menlo,'DejaVu Sans Mono',consolas,'Courier New',monospace\">Line <span style=\"color: #008080; text-decoration-color: #008080; font-weight: bold\">115</span>:       - memoryleakfix <span style=\"color: #008080; text-decoration-color: #008080; font-weight: bold\">1.1</span>.<span style=\"color: #008080; text-decoration-color: #008080; font-weight: bold\">5</span>\n",
              "</pre>\n"
            ]
          },
          "metadata": {}
        },
        {
          "output_type": "display_data",
          "data": {
            "text/plain": [
              "Line \u001b[1;36m116\u001b[0m:       - minecraft \u001b[1;36m1.21\u001b[0m.\u001b[1;36m1\u001b[0m\n"
            ],
            "text/html": [
              "<pre style=\"white-space:pre;overflow-x:auto;line-height:normal;font-family:Menlo,'DejaVu Sans Mono',consolas,'Courier New',monospace\">Line <span style=\"color: #008080; text-decoration-color: #008080; font-weight: bold\">116</span>:       - minecraft <span style=\"color: #008080; text-decoration-color: #008080; font-weight: bold\">1.21</span>.<span style=\"color: #008080; text-decoration-color: #008080; font-weight: bold\">1</span>\n",
              "</pre>\n"
            ]
          },
          "metadata": {}
        },
        {
          "output_type": "display_data",
          "data": {
            "text/plain": [
              "Line \u001b[1;36m117\u001b[0m:       - tt20 \u001b[1;36m0.7\u001b[0m.\u001b[1;36m0\u001b[0m\n"
            ],
            "text/html": [
              "<pre style=\"white-space:pre;overflow-x:auto;line-height:normal;font-family:Menlo,'DejaVu Sans Mono',consolas,'Courier New',monospace\">Line <span style=\"color: #008080; text-decoration-color: #008080; font-weight: bold\">117</span>:       - tt20 <span style=\"color: #008080; text-decoration-color: #008080; font-weight: bold\">0.7</span>.<span style=\"color: #008080; text-decoration-color: #008080; font-weight: bold\">0</span>\n",
              "</pre>\n"
            ]
          },
          "metadata": {}
        },
        {
          "output_type": "display_data",
          "data": {
            "text/plain": [
              "Line \u001b[1;36m118\u001b[0m:          \\-- net_snackbag_shit_shit \u001b[1;36m1.2\u001b[0m.\u001b[1;36m3\u001b[0m\n"
            ],
            "text/html": [
              "<pre style=\"white-space:pre;overflow-x:auto;line-height:normal;font-family:Menlo,'DejaVu Sans Mono',consolas,'Courier New',monospace\">Line <span style=\"color: #008080; text-decoration-color: #008080; font-weight: bold\">118</span>:          \\-- net_snackbag_shit_shit <span style=\"color: #008080; text-decoration-color: #008080; font-weight: bold\">1.2</span>.<span style=\"color: #008080; text-decoration-color: #008080; font-weight: bold\">3</span>\n",
              "</pre>\n"
            ]
          },
          "metadata": {}
        },
        {
          "output_type": "display_data",
          "data": {
            "text/plain": [
              "Line \u001b[1;36m119\u001b[0m:       - vmp \u001b[1;36m0.2\u001b[0m.\u001b[1;36m0\u001b[0m+beta.\u001b[1;36m7.168\u001b[0m+\u001b[1;36m1.21\u001b[0m.\u001b[1;36m1\u001b[0m\n"
            ],
            "text/html": [
              "<pre style=\"white-space:pre;overflow-x:auto;line-height:normal;font-family:Menlo,'DejaVu Sans Mono',consolas,'Courier New',monospace\">Line <span style=\"color: #008080; text-decoration-color: #008080; font-weight: bold\">119</span>:       - vmp <span style=\"color: #008080; text-decoration-color: #008080; font-weight: bold\">0.2</span>.<span style=\"color: #008080; text-decoration-color: #008080; font-weight: bold\">0</span>+beta.<span style=\"color: #008080; text-decoration-color: #008080; font-weight: bold\">7.168</span>+<span style=\"color: #008080; text-decoration-color: #008080; font-weight: bold\">1.21</span>.<span style=\"color: #008080; text-decoration-color: #008080; font-weight: bold\">1</span>\n",
              "</pre>\n"
            ]
          },
          "metadata": {}
        },
        {
          "output_type": "display_data",
          "data": {
            "text/plain": [
              "Line \u001b[1;36m120\u001b[0m:          \\-- com_ibm_async_asyncutil \u001b[1;36m0.1\u001b[0m.\u001b[1;36m0\u001b[0m\n"
            ],
            "text/html": [
              "<pre style=\"white-space:pre;overflow-x:auto;line-height:normal;font-family:Menlo,'DejaVu Sans Mono',consolas,'Courier New',monospace\">Line <span style=\"color: #008080; text-decoration-color: #008080; font-weight: bold\">120</span>:          \\-- com_ibm_async_asyncutil <span style=\"color: #008080; text-decoration-color: #008080; font-weight: bold\">0.1</span>.<span style=\"color: #008080; text-decoration-color: #008080; font-weight: bold\">0</span>\n",
              "</pre>\n"
            ]
          },
          "metadata": {}
        },
        {
          "output_type": "display_data",
          "data": {
            "text/plain": [
              "Line \u001b[1;36m121\u001b[0m: \u001b[1m[\u001b[0m\u001b[1;92m11:16:38\u001b[0m\u001b[1m]\u001b[0m \u001b[1m[\u001b[0mmain/INFO\u001b[1m]\u001b[0m: SpongePowered MIXIN Subsystem \u001b[33mVersion\u001b[0m=\u001b[1;36m0\u001b[0m\u001b[1;36m.8\u001b[0m.\u001b[1;36m7\u001b[0m \n",
              "\u001b[33mSource\u001b[0m=\u001b[35mfile\u001b[0m:\u001b[35m/content/drive/MyDrive/minecraft/\u001b[0m\u001b[95mIm\u001b[0m%20abouta%20cam/libraries/net/fabricmc/sponge-mixin/\u001b[1;36m0.15\u001b[0m.\u001b[1;36m3\u001b[0m+mixin.\u001b[1;36m0.8\u001b[0m\n",
              ".\u001b[1;36m7\u001b[0m/sponge-mixin-\u001b[1;36m0.15\u001b[0m.\u001b[1;36m3\u001b[0m+mixin.\u001b[1;36m0.8\u001b[0m.\u001b[1;36m7.j\u001b[0mar \u001b[33mService\u001b[0m=\u001b[35mKnot\u001b[0m/Fabric \u001b[33mEnv\u001b[0m=\u001b[35mSERVER\u001b[0m\n"
            ],
            "text/html": [
              "<pre style=\"white-space:pre;overflow-x:auto;line-height:normal;font-family:Menlo,'DejaVu Sans Mono',consolas,'Courier New',monospace\">Line <span style=\"color: #008080; text-decoration-color: #008080; font-weight: bold\">121</span>: <span style=\"font-weight: bold\">[</span><span style=\"color: #00ff00; text-decoration-color: #00ff00; font-weight: bold\">11:16:38</span><span style=\"font-weight: bold\">]</span> <span style=\"font-weight: bold\">[</span>main/INFO<span style=\"font-weight: bold\">]</span>: SpongePowered MIXIN Subsystem <span style=\"color: #808000; text-decoration-color: #808000\">Version</span>=<span style=\"color: #008080; text-decoration-color: #008080; font-weight: bold\">0.8</span>.<span style=\"color: #008080; text-decoration-color: #008080; font-weight: bold\">7</span> \n",
              "<span style=\"color: #808000; text-decoration-color: #808000\">Source</span>=<span style=\"color: #800080; text-decoration-color: #800080\">file</span>:<span style=\"color: #800080; text-decoration-color: #800080\">/content/drive/MyDrive/minecraft/</span><span style=\"color: #ff00ff; text-decoration-color: #ff00ff\">Im</span>%20abouta%20cam/libraries/net/fabricmc/sponge-mixin/<span style=\"color: #008080; text-decoration-color: #008080; font-weight: bold\">0.15</span>.<span style=\"color: #008080; text-decoration-color: #008080; font-weight: bold\">3</span>+mixin.<span style=\"color: #008080; text-decoration-color: #008080; font-weight: bold\">0.8</span>\n",
              ".<span style=\"color: #008080; text-decoration-color: #008080; font-weight: bold\">7</span>/sponge-mixin-<span style=\"color: #008080; text-decoration-color: #008080; font-weight: bold\">0.15</span>.<span style=\"color: #008080; text-decoration-color: #008080; font-weight: bold\">3</span>+mixin.<span style=\"color: #008080; text-decoration-color: #008080; font-weight: bold\">0.8</span>.<span style=\"color: #008080; text-decoration-color: #008080; font-weight: bold\">7.j</span>ar <span style=\"color: #808000; text-decoration-color: #808000\">Service</span>=<span style=\"color: #800080; text-decoration-color: #800080\">Knot</span>/Fabric <span style=\"color: #808000; text-decoration-color: #808000\">Env</span>=<span style=\"color: #800080; text-decoration-color: #800080\">SERVER</span>\n",
              "</pre>\n"
            ]
          },
          "metadata": {}
        },
        {
          "output_type": "display_data",
          "data": {
            "text/plain": [
              "Line \u001b[1;36m122\u001b[0m: \u001b[1m[\u001b[0m\u001b[1;92m11:17:48\u001b[0m\u001b[1m]\u001b[0m \u001b[1m[\u001b[0mmain/INFO\u001b[1m]\u001b[0m: Compatibility level set to JAVA_17\n"
            ],
            "text/html": [
              "<pre style=\"white-space:pre;overflow-x:auto;line-height:normal;font-family:Menlo,'DejaVu Sans Mono',consolas,'Courier New',monospace\">Line <span style=\"color: #008080; text-decoration-color: #008080; font-weight: bold\">122</span>: <span style=\"font-weight: bold\">[</span><span style=\"color: #00ff00; text-decoration-color: #00ff00; font-weight: bold\">11:17:48</span><span style=\"font-weight: bold\">]</span> <span style=\"font-weight: bold\">[</span>main/INFO<span style=\"font-weight: bold\">]</span>: Compatibility level set to JAVA_17\n",
              "</pre>\n"
            ]
          },
          "metadata": {}
        },
        {
          "output_type": "display_data",
          "data": {
            "text/plain": [
              "Line \u001b[1;36m123\u001b[0m: \u001b[1m[\u001b[0m\u001b[1;92m11:17:48\u001b[0m\u001b[1m]\u001b[0m \u001b[1m[\u001b[0mmain/INFO\u001b[1m]\u001b[0m: Compatibility level set to JAVA_21\n"
            ],
            "text/html": [
              "<pre style=\"white-space:pre;overflow-x:auto;line-height:normal;font-family:Menlo,'DejaVu Sans Mono',consolas,'Courier New',monospace\">Line <span style=\"color: #008080; text-decoration-color: #008080; font-weight: bold\">123</span>: <span style=\"font-weight: bold\">[</span><span style=\"color: #00ff00; text-decoration-color: #00ff00; font-weight: bold\">11:17:48</span><span style=\"font-weight: bold\">]</span> <span style=\"font-weight: bold\">[</span>main/INFO<span style=\"font-weight: bold\">]</span>: Compatibility level set to JAVA_21\n",
              "</pre>\n"
            ]
          },
          "metadata": {}
        },
        {
          "output_type": "display_data",
          "data": {
            "text/plain": [
              "Line \u001b[1;36m124\u001b[0m: \u001b[1m[\u001b[0m\u001b[1;92m11:17:51\u001b[0m\u001b[1m]\u001b[0m \u001b[1m[\u001b[0mmain/INFO\u001b[1m]\u001b[0m: Loaded configuration file for Lithium: \u001b[1;36m144\u001b[0m options available, \u001b[1;36m1\u001b[0m \u001b[1;35moverride\u001b[0m\u001b[1m(\u001b[0ms\u001b[1m)\u001b[0m found\n"
            ],
            "text/html": [
              "<pre style=\"white-space:pre;overflow-x:auto;line-height:normal;font-family:Menlo,'DejaVu Sans Mono',consolas,'Courier New',monospace\">Line <span style=\"color: #008080; text-decoration-color: #008080; font-weight: bold\">124</span>: <span style=\"font-weight: bold\">[</span><span style=\"color: #00ff00; text-decoration-color: #00ff00; font-weight: bold\">11:17:51</span><span style=\"font-weight: bold\">]</span> <span style=\"font-weight: bold\">[</span>main/INFO<span style=\"font-weight: bold\">]</span>: Loaded configuration file for Lithium: <span style=\"color: #008080; text-decoration-color: #008080; font-weight: bold\">144</span> options available, <span style=\"color: #008080; text-decoration-color: #008080; font-weight: bold\">1</span> <span style=\"color: #800080; text-decoration-color: #800080; font-weight: bold\">override</span><span style=\"font-weight: bold\">(</span>s<span style=\"font-weight: bold\">)</span> found\n",
              "</pre>\n"
            ]
          },
          "metadata": {}
        },
        {
          "output_type": "display_data",
          "data": {
            "text/plain": [
              "Line \u001b[1;36m125\u001b[0m: \u001b[1m[\u001b[0m\u001b[1;92m11:17:51\u001b[0m\u001b[1m]\u001b[0m \u001b[1m[\u001b[0mmain/WARN\u001b[1m]\u001b[0m: Reference map \u001b[32m'memoryleakfix-fabric-1.17+-fabric-refmap.json'\u001b[0m for \n",
              "memoryleakfix-fabric.mixins.json could not be read. If this is a development environment you can ignore this \n",
              "message\n"
            ],
            "text/html": [
              "<pre style=\"white-space:pre;overflow-x:auto;line-height:normal;font-family:Menlo,'DejaVu Sans Mono',consolas,'Courier New',monospace\">Line <span style=\"color: #008080; text-decoration-color: #008080; font-weight: bold\">125</span>: <span style=\"font-weight: bold\">[</span><span style=\"color: #00ff00; text-decoration-color: #00ff00; font-weight: bold\">11:17:51</span><span style=\"font-weight: bold\">]</span> <span style=\"font-weight: bold\">[</span>main/WARN<span style=\"font-weight: bold\">]</span>: Reference map <span style=\"color: #008000; text-decoration-color: #008000\">'memoryleakfix-fabric-1.17+-fabric-refmap.json'</span> for \n",
              "memoryleakfix-fabric.mixins.json could not be read. If this is a development environment you can ignore this \n",
              "message\n",
              "</pre>\n"
            ]
          },
          "metadata": {}
        },
        {
          "output_type": "display_data",
          "data": {
            "text/plain": [
              "Line \u001b[1;36m126\u001b[0m: \u001b[1m[\u001b[0m\u001b[1;92m11:17:52\u001b[0m\u001b[1m]\u001b[0m \u001b[1m[\u001b[0mmain/INFO\u001b[1m]\u001b[0m: Successfully started async appender with \u001b[1m[\u001b[0mServerGuiConsole, SysOut, File\u001b[1m]\u001b[0m\n"
            ],
            "text/html": [
              "<pre style=\"white-space:pre;overflow-x:auto;line-height:normal;font-family:Menlo,'DejaVu Sans Mono',consolas,'Courier New',monospace\">Line <span style=\"color: #008080; text-decoration-color: #008080; font-weight: bold\">126</span>: <span style=\"font-weight: bold\">[</span><span style=\"color: #00ff00; text-decoration-color: #00ff00; font-weight: bold\">11:17:52</span><span style=\"font-weight: bold\">]</span> <span style=\"font-weight: bold\">[</span>main/INFO<span style=\"font-weight: bold\">]</span>: Successfully started async appender with <span style=\"font-weight: bold\">[</span>ServerGuiConsole, SysOut, File<span style=\"font-weight: bold\">]</span>\n",
              "</pre>\n"
            ]
          },
          "metadata": {}
        },
        {
          "output_type": "display_data",
          "data": {
            "text/plain": [
              "Line \u001b[1;36m127\u001b[0m: \u001b[1m[\u001b[0m\u001b[1;92m11:17:57\u001b[0m\u001b[1m]\u001b[0m \u001b[1m[\u001b[0mmain/WARN\u001b[1m]\u001b[0m: Force-disabling mixin \u001b[32m'alloc.blockstate.StateMixin'\u001b[0m as rule \n",
              "\u001b[32m'mixin.alloc.blockstate'\u001b[0m \u001b[1m(\u001b[0madded by mods \u001b[1m[\u001b[0mferritecore\u001b[1m]\u001b[0m\u001b[1m)\u001b[0m disables it and children\n"
            ],
            "text/html": [
              "<pre style=\"white-space:pre;overflow-x:auto;line-height:normal;font-family:Menlo,'DejaVu Sans Mono',consolas,'Courier New',monospace\">Line <span style=\"color: #008080; text-decoration-color: #008080; font-weight: bold\">127</span>: <span style=\"font-weight: bold\">[</span><span style=\"color: #00ff00; text-decoration-color: #00ff00; font-weight: bold\">11:17:57</span><span style=\"font-weight: bold\">]</span> <span style=\"font-weight: bold\">[</span>main/WARN<span style=\"font-weight: bold\">]</span>: Force-disabling mixin <span style=\"color: #008000; text-decoration-color: #008000\">'alloc.blockstate.StateMixin'</span> as rule \n",
              "<span style=\"color: #008000; text-decoration-color: #008000\">'mixin.alloc.blockstate'</span> <span style=\"font-weight: bold\">(</span>added by mods <span style=\"font-weight: bold\">[</span>ferritecore<span style=\"font-weight: bold\">])</span> disables it and children\n",
              "</pre>\n"
            ]
          },
          "metadata": {}
        },
        {
          "output_type": "display_data",
          "data": {
            "text/plain": [
              "Line \u001b[1;36m128\u001b[0m: \u001b[1m[\u001b[0m\u001b[1;92m11:17:58\u001b[0m\u001b[1m]\u001b[0m \u001b[1m[\u001b[0mmain/INFO\u001b[1m]\u001b[0m: \u001b[1m[\u001b[0mMemoryLeakFix\u001b[1m]\u001b[0m Will be applying \u001b[1;36m1\u001b[0m memory leak fixes!\n"
            ],
            "text/html": [
              "<pre style=\"white-space:pre;overflow-x:auto;line-height:normal;font-family:Menlo,'DejaVu Sans Mono',consolas,'Courier New',monospace\">Line <span style=\"color: #008080; text-decoration-color: #008080; font-weight: bold\">128</span>: <span style=\"font-weight: bold\">[</span><span style=\"color: #00ff00; text-decoration-color: #00ff00; font-weight: bold\">11:17:58</span><span style=\"font-weight: bold\">]</span> <span style=\"font-weight: bold\">[</span>main/INFO<span style=\"font-weight: bold\">]</span>: <span style=\"font-weight: bold\">[</span>MemoryLeakFix<span style=\"font-weight: bold\">]</span> Will be applying <span style=\"color: #008080; text-decoration-color: #008080; font-weight: bold\">1</span> memory leak fixes!\n",
              "</pre>\n"
            ]
          },
          "metadata": {}
        },
        {
          "output_type": "display_data",
          "data": {
            "text/plain": [
              "Line \u001b[1;36m129\u001b[0m: \u001b[1m[\u001b[0m\u001b[1;92m11:17:58\u001b[0m\u001b[1m]\u001b[0m \u001b[1m[\u001b[0mmain/INFO\u001b[1m]\u001b[0m: \u001b[1m[\u001b[0mMemoryLeakFix\u001b[1m]\u001b[0m Currently enabled memory leak fixes: \u001b[1m[\u001b[0mbiomeTemperatureLeak\u001b[1m]\u001b[0m\n"
            ],
            "text/html": [
              "<pre style=\"white-space:pre;overflow-x:auto;line-height:normal;font-family:Menlo,'DejaVu Sans Mono',consolas,'Courier New',monospace\">Line <span style=\"color: #008080; text-decoration-color: #008080; font-weight: bold\">129</span>: <span style=\"font-weight: bold\">[</span><span style=\"color: #00ff00; text-decoration-color: #00ff00; font-weight: bold\">11:17:58</span><span style=\"font-weight: bold\">]</span> <span style=\"font-weight: bold\">[</span>main/INFO<span style=\"font-weight: bold\">]</span>: <span style=\"font-weight: bold\">[</span>MemoryLeakFix<span style=\"font-weight: bold\">]</span> Currently enabled memory leak fixes: <span style=\"font-weight: bold\">[</span>biomeTemperatureLeak<span style=\"font-weight: bold\">]</span>\n",
              "</pre>\n"
            ]
          },
          "metadata": {}
        },
        {
          "output_type": "display_data",
          "data": {
            "text/plain": [
              "Line \u001b[1;36m130\u001b[0m: \u001b[1m[\u001b[0m\u001b[1;92m11:17:59\u001b[0m\u001b[1m]\u001b[0m \u001b[1m[\u001b[0mmain/INFO\u001b[1m]\u001b[0m: Initializing MixinExtras via \n",
              "\u001b[1;35mcom.llamalad7.mixinextras.service.MixinExtrasServiceImpl\u001b[0m\u001b[1m(\u001b[0m\u001b[33mversion\u001b[0m=\u001b[1;36m0\u001b[0m\u001b[1;36m.4\u001b[0m.\u001b[1;36m1\u001b[0m\u001b[1m)\u001b[0m.\n"
            ],
            "text/html": [
              "<pre style=\"white-space:pre;overflow-x:auto;line-height:normal;font-family:Menlo,'DejaVu Sans Mono',consolas,'Courier New',monospace\">Line <span style=\"color: #008080; text-decoration-color: #008080; font-weight: bold\">130</span>: <span style=\"font-weight: bold\">[</span><span style=\"color: #00ff00; text-decoration-color: #00ff00; font-weight: bold\">11:17:59</span><span style=\"font-weight: bold\">]</span> <span style=\"font-weight: bold\">[</span>main/INFO<span style=\"font-weight: bold\">]</span>: Initializing MixinExtras via \n",
              "<span style=\"color: #800080; text-decoration-color: #800080; font-weight: bold\">com.llamalad7.mixinextras.service.MixinExtrasServiceImpl</span><span style=\"font-weight: bold\">(</span><span style=\"color: #808000; text-decoration-color: #808000\">version</span>=<span style=\"color: #008080; text-decoration-color: #008080; font-weight: bold\">0.4</span>.<span style=\"color: #008080; text-decoration-color: #008080; font-weight: bold\">1</span><span style=\"font-weight: bold\">)</span>.\n",
              "</pre>\n"
            ]
          },
          "metadata": {}
        },
        {
          "output_type": "display_data",
          "data": {
            "text/plain": [
              "Line \u001b[1;36m131\u001b[0m: \u001b[1m[\u001b[0m\u001b[1;92m11:18:18\u001b[0m\u001b[1m]\u001b[0m \u001b[1m[\u001b[0mmain/INFO\u001b[1m]\u001b[0m: Chunky extended loaded\n"
            ],
            "text/html": [
              "<pre style=\"white-space:pre;overflow-x:auto;line-height:normal;font-family:Menlo,'DejaVu Sans Mono',consolas,'Courier New',monospace\">Line <span style=\"color: #008080; text-decoration-color: #008080; font-weight: bold\">131</span>: <span style=\"font-weight: bold\">[</span><span style=\"color: #00ff00; text-decoration-color: #00ff00; font-weight: bold\">11:18:18</span><span style=\"font-weight: bold\">]</span> <span style=\"font-weight: bold\">[</span>main/INFO<span style=\"font-weight: bold\">]</span>: Chunky extended loaded\n",
              "</pre>\n"
            ]
          },
          "metadata": {}
        },
        {
          "output_type": "display_data",
          "data": {
            "text/plain": [
              "Line \u001b[1;36m132\u001b[0m: \u001b[1m[\u001b[0m\u001b[1;92m11:18:22\u001b[0m\u001b[1m]\u001b[0m \u001b[1m[\u001b[0mmain/INFO\u001b[1m]\u001b[0m: Loading extensions\u001b[33m...\u001b[0m\n"
            ],
            "text/html": [
              "<pre style=\"white-space:pre;overflow-x:auto;line-height:normal;font-family:Menlo,'DejaVu Sans Mono',consolas,'Courier New',monospace\">Line <span style=\"color: #008080; text-decoration-color: #008080; font-weight: bold\">132</span>: <span style=\"font-weight: bold\">[</span><span style=\"color: #00ff00; text-decoration-color: #00ff00; font-weight: bold\">11:18:22</span><span style=\"font-weight: bold\">]</span> <span style=\"font-weight: bold\">[</span>main/INFO<span style=\"font-weight: bold\">]</span>: Loading extensions<span style=\"color: #808000; text-decoration-color: #808000\">...</span>\n",
              "</pre>\n"
            ]
          },
          "metadata": {}
        },
        {
          "output_type": "display_data",
          "data": {
            "text/plain": [
              "Line \u001b[1;36m133\u001b[0m: \u001b[1m[\u001b[0m\u001b[1;92m11:18:22\u001b[0m\u001b[1m]\u001b[0m \u001b[1m[\u001b[0mmain/INFO\u001b[1m]\u001b[0m: Loaded \u001b[1;36m0\u001b[0m \u001b[1;35mextension\u001b[0m\u001b[1m(\u001b[0ms\u001b[1m)\u001b[0m\n"
            ],
            "text/html": [
              "<pre style=\"white-space:pre;overflow-x:auto;line-height:normal;font-family:Menlo,'DejaVu Sans Mono',consolas,'Courier New',monospace\">Line <span style=\"color: #008080; text-decoration-color: #008080; font-weight: bold\">133</span>: <span style=\"font-weight: bold\">[</span><span style=\"color: #00ff00; text-decoration-color: #00ff00; font-weight: bold\">11:18:22</span><span style=\"font-weight: bold\">]</span> <span style=\"font-weight: bold\">[</span>main/INFO<span style=\"font-weight: bold\">]</span>: Loaded <span style=\"color: #008080; text-decoration-color: #008080; font-weight: bold\">0</span> <span style=\"color: #800080; text-decoration-color: #800080; font-weight: bold\">extension</span><span style=\"font-weight: bold\">(</span>s<span style=\"font-weight: bold\">)</span>\n",
              "</pre>\n"
            ]
          },
          "metadata": {}
        },
        {
          "output_type": "display_data",
          "data": {
            "text/plain": [
              "Line \u001b[1;36m134\u001b[0m: \u001b[1m[\u001b[0m\u001b[1;92m11:18:23\u001b[0m\u001b[1m]\u001b[0m \u001b[1m[\u001b[0mmain/INFO\u001b[1m]\u001b[0m: Compression will use libdeflate \u001b[1m(\u001b[0mLinux x86_64\u001b[1m)\u001b[0m, encryption will use OpenSSL \u001b[1;36m3.0\u001b[0m.x\n",
              "\u001b[1m(\u001b[0mLinux x86_64\u001b[1m)\u001b[0m\n"
            ],
            "text/html": [
              "<pre style=\"white-space:pre;overflow-x:auto;line-height:normal;font-family:Menlo,'DejaVu Sans Mono',consolas,'Courier New',monospace\">Line <span style=\"color: #008080; text-decoration-color: #008080; font-weight: bold\">134</span>: <span style=\"font-weight: bold\">[</span><span style=\"color: #00ff00; text-decoration-color: #00ff00; font-weight: bold\">11:18:23</span><span style=\"font-weight: bold\">]</span> <span style=\"font-weight: bold\">[</span>main/INFO<span style=\"font-weight: bold\">]</span>: Compression will use libdeflate <span style=\"font-weight: bold\">(</span>Linux x86_64<span style=\"font-weight: bold\">)</span>, encryption will use OpenSSL <span style=\"color: #008080; text-decoration-color: #008080; font-weight: bold\">3.0</span>.x\n",
              "<span style=\"font-weight: bold\">(</span>Linux x86_64<span style=\"font-weight: bold\">)</span>\n",
              "</pre>\n"
            ]
          },
          "metadata": {}
        },
        {
          "output_type": "display_data",
          "data": {
            "text/plain": [
              "Line \u001b[1;36m135\u001b[0m: \u001b[1m[\u001b[0m\u001b[1;92m11:18:24\u001b[0m\u001b[1m]\u001b[0m \u001b[1m[\u001b[0mmain/INFO\u001b[1m]\u001b[0m: Starting TT20\u001b[33m...\u001b[0m\n"
            ],
            "text/html": [
              "<pre style=\"white-space:pre;overflow-x:auto;line-height:normal;font-family:Menlo,'DejaVu Sans Mono',consolas,'Courier New',monospace\">Line <span style=\"color: #008080; text-decoration-color: #008080; font-weight: bold\">135</span>: <span style=\"font-weight: bold\">[</span><span style=\"color: #00ff00; text-decoration-color: #00ff00; font-weight: bold\">11:18:24</span><span style=\"font-weight: bold\">]</span> <span style=\"font-weight: bold\">[</span>main/INFO<span style=\"font-weight: bold\">]</span>: Starting TT20<span style=\"color: #808000; text-decoration-color: #808000\">...</span>\n",
              "</pre>\n"
            ]
          },
          "metadata": {}
        },
        {
          "output_type": "display_data",
          "data": {
            "text/plain": [
              "Line \u001b[1;36m136\u001b[0m: \u001b[1m[\u001b[0m\u001b[1;92m11:18:24\u001b[0m\u001b[1m]\u001b[0m \u001b[1m[\u001b[0mmain/INFO\u001b[1m]\u001b[0m: \u001b[1m(\u001b[0mTT20\u001b[1m)\u001b[0m Checking for updates\u001b[33m...\u001b[0m\n"
            ],
            "text/html": [
              "<pre style=\"white-space:pre;overflow-x:auto;line-height:normal;font-family:Menlo,'DejaVu Sans Mono',consolas,'Courier New',monospace\">Line <span style=\"color: #008080; text-decoration-color: #008080; font-weight: bold\">136</span>: <span style=\"font-weight: bold\">[</span><span style=\"color: #00ff00; text-decoration-color: #00ff00; font-weight: bold\">11:18:24</span><span style=\"font-weight: bold\">]</span> <span style=\"font-weight: bold\">[</span>main/INFO<span style=\"font-weight: bold\">]</span>: <span style=\"font-weight: bold\">(</span>TT20<span style=\"font-weight: bold\">)</span> Checking for updates<span style=\"color: #808000; text-decoration-color: #808000\">...</span>\n",
              "</pre>\n"
            ]
          },
          "metadata": {}
        },
        {
          "output_type": "display_data",
          "data": {
            "text/plain": [
              "Line \u001b[1;36m137\u001b[0m: \u001b[1m[\u001b[0m\u001b[1;92m11:18:25\u001b[0m\u001b[1m]\u001b[0m \u001b[1m[\u001b[0mmain/INFO\u001b[1m]\u001b[0m: \u001b[1m(\u001b[0mTT20\u001b[1m)\u001b[0m Running the latest version\n"
            ],
            "text/html": [
              "<pre style=\"white-space:pre;overflow-x:auto;line-height:normal;font-family:Menlo,'DejaVu Sans Mono',consolas,'Courier New',monospace\">Line <span style=\"color: #008080; text-decoration-color: #008080; font-weight: bold\">137</span>: <span style=\"font-weight: bold\">[</span><span style=\"color: #00ff00; text-decoration-color: #00ff00; font-weight: bold\">11:18:25</span><span style=\"font-weight: bold\">]</span> <span style=\"font-weight: bold\">[</span>main/INFO<span style=\"font-weight: bold\">]</span>: <span style=\"font-weight: bold\">(</span>TT20<span style=\"font-weight: bold\">)</span> Running the latest version\n",
              "</pre>\n"
            ]
          },
          "metadata": {}
        },
        {
          "output_type": "display_data",
          "data": {
            "text/plain": [
              "Line \u001b[1;36m138\u001b[0m: \u001b[1m[\u001b[0m\u001b[1;92m11:18:25\u001b[0m\u001b[1m]\u001b[0m \u001b[1m[\u001b[0mmain/INFO\u001b[1m]\u001b[0m: Krypton is now accelerating your Minecraft server's networking stack 🚀\n"
            ],
            "text/html": [
              "<pre style=\"white-space:pre;overflow-x:auto;line-height:normal;font-family:Menlo,'DejaVu Sans Mono',consolas,'Courier New',monospace\">Line <span style=\"color: #008080; text-decoration-color: #008080; font-weight: bold\">138</span>: <span style=\"font-weight: bold\">[</span><span style=\"color: #00ff00; text-decoration-color: #00ff00; font-weight: bold\">11:18:25</span><span style=\"font-weight: bold\">]</span> <span style=\"font-weight: bold\">[</span>main/INFO<span style=\"font-weight: bold\">]</span>: Krypton is now accelerating your Minecraft server's networking stack 🚀\n",
              "</pre>\n"
            ]
          },
          "metadata": {}
        },
        {
          "output_type": "display_data",
          "data": {
            "text/plain": [
              "Line \u001b[1;36m139\u001b[0m: \u001b[1m[\u001b[0m\u001b[1;92m11:18:26\u001b[0m\u001b[1m]\u001b[0m \u001b[1m[\u001b[0mmain/INFO\u001b[1m]\u001b[0m: Environment: Environment\u001b[1m[\u001b[0m\u001b[33msessionHost\u001b[0m=\u001b[4;94mhttps\u001b[0m\u001b[4;94m://sessionserver.mojang.com,\u001b[0m \n",
              "\u001b[33mservicesHost\u001b[0m=\u001b[4;94mhttps\u001b[0m\u001b[4;94m://api.minecraftservices.com,\u001b[0m \u001b[33mname\u001b[0m=\u001b[35mPROD\u001b[0m\u001b[1m]\u001b[0m\n"
            ],
            "text/html": [
              "<pre style=\"white-space:pre;overflow-x:auto;line-height:normal;font-family:Menlo,'DejaVu Sans Mono',consolas,'Courier New',monospace\">Line <span style=\"color: #008080; text-decoration-color: #008080; font-weight: bold\">139</span>: <span style=\"font-weight: bold\">[</span><span style=\"color: #00ff00; text-decoration-color: #00ff00; font-weight: bold\">11:18:26</span><span style=\"font-weight: bold\">]</span> <span style=\"font-weight: bold\">[</span>main/INFO<span style=\"font-weight: bold\">]</span>: Environment: Environment<span style=\"font-weight: bold\">[</span><span style=\"color: #808000; text-decoration-color: #808000\">sessionHost</span>=<span style=\"color: #0000ff; text-decoration-color: #0000ff; text-decoration: underline\">https://sessionserver.mojang.com,</span> \n",
              "<span style=\"color: #808000; text-decoration-color: #808000\">servicesHost</span>=<span style=\"color: #0000ff; text-decoration-color: #0000ff; text-decoration: underline\">https://api.minecraftservices.com,</span> <span style=\"color: #808000; text-decoration-color: #808000\">name</span>=<span style=\"color: #800080; text-decoration-color: #800080\">PROD</span><span style=\"font-weight: bold\">]</span>\n",
              "</pre>\n"
            ]
          },
          "metadata": {}
        },
        {
          "output_type": "display_data",
          "data": {
            "text/plain": [
              "Line \u001b[1;36m140\u001b[0m: \u001b[1m[\u001b[0m\u001b[1;92m11:18:32\u001b[0m\u001b[1m]\u001b[0m \u001b[1m[\u001b[0mmain/INFO\u001b[1m]\u001b[0m: Found non-pack entry \u001b[32m'./world/datapacks/data'\u001b[0m, ignoring\n"
            ],
            "text/html": [
              "<pre style=\"white-space:pre;overflow-x:auto;line-height:normal;font-family:Menlo,'DejaVu Sans Mono',consolas,'Courier New',monospace\">Line <span style=\"color: #008080; text-decoration-color: #008080; font-weight: bold\">140</span>: <span style=\"font-weight: bold\">[</span><span style=\"color: #00ff00; text-decoration-color: #00ff00; font-weight: bold\">11:18:32</span><span style=\"font-weight: bold\">]</span> <span style=\"font-weight: bold\">[</span>main/INFO<span style=\"font-weight: bold\">]</span>: Found non-pack entry <span style=\"color: #008000; text-decoration-color: #008000\">'./world/datapacks/data'</span>, ignoring\n",
              "</pre>\n"
            ]
          },
          "metadata": {}
        },
        {
          "output_type": "display_data",
          "data": {
            "text/plain": [
              "Line \u001b[1;36m141\u001b[0m: \u001b[1m[\u001b[0m\u001b[1;92m11:18:32\u001b[0m\u001b[1m]\u001b[0m \u001b[1m[\u001b[0mmain/INFO\u001b[1m]\u001b[0m: Found non-pack entry \u001b[32m'./world/datapacks/pack.mcmeta'\u001b[0m, ignoring\n"
            ],
            "text/html": [
              "<pre style=\"white-space:pre;overflow-x:auto;line-height:normal;font-family:Menlo,'DejaVu Sans Mono',consolas,'Courier New',monospace\">Line <span style=\"color: #008080; text-decoration-color: #008080; font-weight: bold\">141</span>: <span style=\"font-weight: bold\">[</span><span style=\"color: #00ff00; text-decoration-color: #00ff00; font-weight: bold\">11:18:32</span><span style=\"font-weight: bold\">]</span> <span style=\"font-weight: bold\">[</span>main/INFO<span style=\"font-weight: bold\">]</span>: Found non-pack entry <span style=\"color: #008000; text-decoration-color: #008000\">'./world/datapacks/pack.mcmeta'</span>, ignoring\n",
              "</pre>\n"
            ]
          },
          "metadata": {}
        },
        {
          "output_type": "display_data",
          "data": {
            "text/plain": [
              "Line \u001b[1;36m142\u001b[0m: \u001b[1m[\u001b[0m\u001b[1;92m11:18:39\u001b[0m\u001b[1m]\u001b[0m \u001b[1m[\u001b[0mmain/INFO\u001b[1m]\u001b[0m: Loaded \u001b[1;36m1290\u001b[0m recipes\n"
            ],
            "text/html": [
              "<pre style=\"white-space:pre;overflow-x:auto;line-height:normal;font-family:Menlo,'DejaVu Sans Mono',consolas,'Courier New',monospace\">Line <span style=\"color: #008080; text-decoration-color: #008080; font-weight: bold\">142</span>: <span style=\"font-weight: bold\">[</span><span style=\"color: #00ff00; text-decoration-color: #00ff00; font-weight: bold\">11:18:39</span><span style=\"font-weight: bold\">]</span> <span style=\"font-weight: bold\">[</span>main/INFO<span style=\"font-weight: bold\">]</span>: Loaded <span style=\"color: #008080; text-decoration-color: #008080; font-weight: bold\">1290</span> recipes\n",
              "</pre>\n"
            ]
          },
          "metadata": {}
        },
        {
          "output_type": "display_data",
          "data": {
            "text/plain": [
              "Line \u001b[1;36m143\u001b[0m: \u001b[1m[\u001b[0m\u001b[1;92m11:18:39\u001b[0m\u001b[1m]\u001b[0m \u001b[1m[\u001b[0mmain/INFO\u001b[1m]\u001b[0m: Loaded \u001b[1;36m1399\u001b[0m advancements\n"
            ],
            "text/html": [
              "<pre style=\"white-space:pre;overflow-x:auto;line-height:normal;font-family:Menlo,'DejaVu Sans Mono',consolas,'Courier New',monospace\">Line <span style=\"color: #008080; text-decoration-color: #008080; font-weight: bold\">143</span>: <span style=\"font-weight: bold\">[</span><span style=\"color: #00ff00; text-decoration-color: #00ff00; font-weight: bold\">11:18:39</span><span style=\"font-weight: bold\">]</span> <span style=\"font-weight: bold\">[</span>main/INFO<span style=\"font-weight: bold\">]</span>: Loaded <span style=\"color: #008080; text-decoration-color: #008080; font-weight: bold\">1399</span> advancements\n",
              "</pre>\n"
            ]
          },
          "metadata": {}
        },
        {
          "output_type": "display_data",
          "data": {
            "text/plain": [
              "Line \u001b[1;36m144\u001b[0m: \u001b[1m[\u001b[0m\u001b[1;92m11:18:40\u001b[0m\u001b[1m]\u001b[0m \u001b[1m[\u001b[0mThread-\u001b[1;36m4\u001b[0m/INFO\u001b[1m]\u001b[0m: Loaded \u001b[1;36m75\u001b[0m translation keys\n"
            ],
            "text/html": [
              "<pre style=\"white-space:pre;overflow-x:auto;line-height:normal;font-family:Menlo,'DejaVu Sans Mono',consolas,'Courier New',monospace\">Line <span style=\"color: #008080; text-decoration-color: #008080; font-weight: bold\">144</span>: <span style=\"font-weight: bold\">[</span><span style=\"color: #00ff00; text-decoration-color: #00ff00; font-weight: bold\">11:18:40</span><span style=\"font-weight: bold\">]</span> <span style=\"font-weight: bold\">[</span>Thread-<span style=\"color: #008080; text-decoration-color: #008080; font-weight: bold\">4</span>/INFO<span style=\"font-weight: bold\">]</span>: Loaded <span style=\"color: #008080; text-decoration-color: #008080; font-weight: bold\">75</span> translation keys\n",
              "</pre>\n"
            ]
          },
          "metadata": {}
        },
        {
          "output_type": "display_data",
          "data": {
            "text/plain": [
              "Line \u001b[1;36m145\u001b[0m: \u001b[1m[\u001b[0m\u001b[1;92m11:18:42\u001b[0m\u001b[1m]\u001b[0m \u001b[1m[\u001b[0mmain/INFO\u001b[1m]\u001b[0m: Applied \u001b[1;36m0\u001b[0m biome modifications to \u001b[1;36m0\u001b[0m of \u001b[1;36m64\u001b[0m new biomes in \u001b[1;36m20.37\u001b[0m ms\n"
            ],
            "text/html": [
              "<pre style=\"white-space:pre;overflow-x:auto;line-height:normal;font-family:Menlo,'DejaVu Sans Mono',consolas,'Courier New',monospace\">Line <span style=\"color: #008080; text-decoration-color: #008080; font-weight: bold\">145</span>: <span style=\"font-weight: bold\">[</span><span style=\"color: #00ff00; text-decoration-color: #00ff00; font-weight: bold\">11:18:42</span><span style=\"font-weight: bold\">]</span> <span style=\"font-weight: bold\">[</span>main/INFO<span style=\"font-weight: bold\">]</span>: Applied <span style=\"color: #008080; text-decoration-color: #008080; font-weight: bold\">0</span> biome modifications to <span style=\"color: #008080; text-decoration-color: #008080; font-weight: bold\">0</span> of <span style=\"color: #008080; text-decoration-color: #008080; font-weight: bold\">64</span> new biomes in <span style=\"color: #008080; text-decoration-color: #008080; font-weight: bold\">20.37</span> ms\n",
              "</pre>\n"
            ]
          },
          "metadata": {}
        },
        {
          "output_type": "display_data",
          "data": {
            "text/plain": [
              "Line \u001b[1;36m146\u001b[0m: \u001b[1m[\u001b[0m\u001b[1;92m11:18:43\u001b[0m\u001b[1m]\u001b[0m \u001b[1m[\u001b[0mServer thread/INFO\u001b[1m]\u001b[0m: Starting minecraft server version \u001b[1;36m1.21\u001b[0m.\u001b[1;36m1\u001b[0m\n"
            ],
            "text/html": [
              "<pre style=\"white-space:pre;overflow-x:auto;line-height:normal;font-family:Menlo,'DejaVu Sans Mono',consolas,'Courier New',monospace\">Line <span style=\"color: #008080; text-decoration-color: #008080; font-weight: bold\">146</span>: <span style=\"font-weight: bold\">[</span><span style=\"color: #00ff00; text-decoration-color: #00ff00; font-weight: bold\">11:18:43</span><span style=\"font-weight: bold\">]</span> <span style=\"font-weight: bold\">[</span>Server thread/INFO<span style=\"font-weight: bold\">]</span>: Starting minecraft server version <span style=\"color: #008080; text-decoration-color: #008080; font-weight: bold\">1.21</span>.<span style=\"color: #008080; text-decoration-color: #008080; font-weight: bold\">1</span>\n",
              "</pre>\n"
            ]
          },
          "metadata": {}
        },
        {
          "output_type": "display_data",
          "data": {
            "text/plain": [
              "Line \u001b[1;36m147\u001b[0m: \u001b[1m[\u001b[0m\u001b[1;92m11:18:43\u001b[0m\u001b[1m]\u001b[0m \u001b[1m[\u001b[0mServer thread/INFO\u001b[1m]\u001b[0m: Loading properties\n"
            ],
            "text/html": [
              "<pre style=\"white-space:pre;overflow-x:auto;line-height:normal;font-family:Menlo,'DejaVu Sans Mono',consolas,'Courier New',monospace\">Line <span style=\"color: #008080; text-decoration-color: #008080; font-weight: bold\">147</span>: <span style=\"font-weight: bold\">[</span><span style=\"color: #00ff00; text-decoration-color: #00ff00; font-weight: bold\">11:18:43</span><span style=\"font-weight: bold\">]</span> <span style=\"font-weight: bold\">[</span>Server thread/INFO<span style=\"font-weight: bold\">]</span>: Loading properties\n",
              "</pre>\n"
            ]
          },
          "metadata": {}
        },
        {
          "output_type": "display_data",
          "data": {
            "text/plain": [
              "Line \u001b[1;36m148\u001b[0m: \u001b[1m[\u001b[0m\u001b[1;92m11:18:43\u001b[0m\u001b[1m]\u001b[0m \u001b[1m[\u001b[0mServer thread/INFO\u001b[1m]\u001b[0m: Default game type: SURVIVAL\n"
            ],
            "text/html": [
              "<pre style=\"white-space:pre;overflow-x:auto;line-height:normal;font-family:Menlo,'DejaVu Sans Mono',consolas,'Courier New',monospace\">Line <span style=\"color: #008080; text-decoration-color: #008080; font-weight: bold\">148</span>: <span style=\"font-weight: bold\">[</span><span style=\"color: #00ff00; text-decoration-color: #00ff00; font-weight: bold\">11:18:43</span><span style=\"font-weight: bold\">]</span> <span style=\"font-weight: bold\">[</span>Server thread/INFO<span style=\"font-weight: bold\">]</span>: Default game type: SURVIVAL\n",
              "</pre>\n"
            ]
          },
          "metadata": {}
        },
        {
          "output_type": "display_data",
          "data": {
            "text/plain": [
              "Line \u001b[1;36m149\u001b[0m: \u001b[1m[\u001b[0m\u001b[1;92m11:18:43\u001b[0m\u001b[1m]\u001b[0m \u001b[1m[\u001b[0mServer thread/INFO\u001b[1m]\u001b[0m: Generating keypair\n"
            ],
            "text/html": [
              "<pre style=\"white-space:pre;overflow-x:auto;line-height:normal;font-family:Menlo,'DejaVu Sans Mono',consolas,'Courier New',monospace\">Line <span style=\"color: #008080; text-decoration-color: #008080; font-weight: bold\">149</span>: <span style=\"font-weight: bold\">[</span><span style=\"color: #00ff00; text-decoration-color: #00ff00; font-weight: bold\">11:18:43</span><span style=\"font-weight: bold\">]</span> <span style=\"font-weight: bold\">[</span>Server thread/INFO<span style=\"font-weight: bold\">]</span>: Generating keypair\n",
              "</pre>\n"
            ]
          },
          "metadata": {}
        },
        {
          "output_type": "display_data",
          "data": {
            "text/plain": [
              "Line \u001b[1;36m150\u001b[0m: \u001b[1m[\u001b[0m\u001b[1;92m11:18:44\u001b[0m\u001b[1m]\u001b[0m \u001b[1m[\u001b[0mServer thread/INFO\u001b[1m]\u001b[0m: Starting Minecraft server on \u001b[1;92m0.0.0.0\u001b[0m:\u001b[1;36m25077\u001b[0m\n"
            ],
            "text/html": [
              "<pre style=\"white-space:pre;overflow-x:auto;line-height:normal;font-family:Menlo,'DejaVu Sans Mono',consolas,'Courier New',monospace\">Line <span style=\"color: #008080; text-decoration-color: #008080; font-weight: bold\">150</span>: <span style=\"font-weight: bold\">[</span><span style=\"color: #00ff00; text-decoration-color: #00ff00; font-weight: bold\">11:18:44</span><span style=\"font-weight: bold\">]</span> <span style=\"font-weight: bold\">[</span>Server thread/INFO<span style=\"font-weight: bold\">]</span>: Starting Minecraft server on <span style=\"color: #00ff00; text-decoration-color: #00ff00; font-weight: bold\">0.0.0.0</span>:<span style=\"color: #008080; text-decoration-color: #008080; font-weight: bold\">25077</span>\n",
              "</pre>\n"
            ]
          },
          "metadata": {}
        },
        {
          "output_type": "display_data",
          "data": {
            "text/plain": [
              "Line \u001b[1;36m151\u001b[0m: \u001b[1m[\u001b[0m\u001b[1;92m11:18:44\u001b[0m\u001b[1m]\u001b[0m \u001b[1m[\u001b[0mServer thread/INFO\u001b[1m]\u001b[0m: Using epoll channel type\n"
            ],
            "text/html": [
              "<pre style=\"white-space:pre;overflow-x:auto;line-height:normal;font-family:Menlo,'DejaVu Sans Mono',consolas,'Courier New',monospace\">Line <span style=\"color: #008080; text-decoration-color: #008080; font-weight: bold\">151</span>: <span style=\"font-weight: bold\">[</span><span style=\"color: #00ff00; text-decoration-color: #00ff00; font-weight: bold\">11:18:44</span><span style=\"font-weight: bold\">]</span> <span style=\"font-weight: bold\">[</span>Server thread/INFO<span style=\"font-weight: bold\">]</span>: Using epoll channel type\n",
              "</pre>\n"
            ]
          },
          "metadata": {}
        },
        {
          "output_type": "display_data",
          "data": {
            "text/plain": [
              "Line \u001b[1;36m152\u001b[0m: \u001b[1m[\u001b[0m\u001b[1;92m11:18:44\u001b[0m\u001b[1m]\u001b[0m \u001b[1m[\u001b[0mServer thread/WARN\u001b[1m]\u001b[0m: **** SERVER IS RUNNING IN OFFLINE/INSECURE MODE!\n"
            ],
            "text/html": [
              "<pre style=\"white-space:pre;overflow-x:auto;line-height:normal;font-family:Menlo,'DejaVu Sans Mono',consolas,'Courier New',monospace\">Line <span style=\"color: #008080; text-decoration-color: #008080; font-weight: bold\">152</span>: <span style=\"font-weight: bold\">[</span><span style=\"color: #00ff00; text-decoration-color: #00ff00; font-weight: bold\">11:18:44</span><span style=\"font-weight: bold\">]</span> <span style=\"font-weight: bold\">[</span>Server thread/WARN<span style=\"font-weight: bold\">]</span>: **** SERVER IS RUNNING IN OFFLINE/INSECURE MODE!\n",
              "</pre>\n"
            ]
          },
          "metadata": {}
        },
        {
          "output_type": "display_data",
          "data": {
            "text/plain": [
              "Line \u001b[1;36m153\u001b[0m: \u001b[1m[\u001b[0m\u001b[1;92m11:18:44\u001b[0m\u001b[1m]\u001b[0m \u001b[1m[\u001b[0mServer thread/WARN\u001b[1m]\u001b[0m: The server will make no attempt to authenticate usernames. Beware.\n"
            ],
            "text/html": [
              "<pre style=\"white-space:pre;overflow-x:auto;line-height:normal;font-family:Menlo,'DejaVu Sans Mono',consolas,'Courier New',monospace\">Line <span style=\"color: #008080; text-decoration-color: #008080; font-weight: bold\">153</span>: <span style=\"font-weight: bold\">[</span><span style=\"color: #00ff00; text-decoration-color: #00ff00; font-weight: bold\">11:18:44</span><span style=\"font-weight: bold\">]</span> <span style=\"font-weight: bold\">[</span>Server thread/WARN<span style=\"font-weight: bold\">]</span>: The server will make no attempt to authenticate usernames. Beware.\n",
              "</pre>\n"
            ]
          },
          "metadata": {}
        },
        {
          "output_type": "display_data",
          "data": {
            "text/plain": [
              "Line \u001b[1;36m154\u001b[0m: \u001b[1m[\u001b[0m\u001b[1;92m11:18:44\u001b[0m\u001b[1m]\u001b[0m \u001b[1m[\u001b[0mServer thread/WARN\u001b[1m]\u001b[0m: While this makes the game possible to play without internet access, it \n",
              "also opens up the ability for hackers to connect with any username they choose.\n"
            ],
            "text/html": [
              "<pre style=\"white-space:pre;overflow-x:auto;line-height:normal;font-family:Menlo,'DejaVu Sans Mono',consolas,'Courier New',monospace\">Line <span style=\"color: #008080; text-decoration-color: #008080; font-weight: bold\">154</span>: <span style=\"font-weight: bold\">[</span><span style=\"color: #00ff00; text-decoration-color: #00ff00; font-weight: bold\">11:18:44</span><span style=\"font-weight: bold\">]</span> <span style=\"font-weight: bold\">[</span>Server thread/WARN<span style=\"font-weight: bold\">]</span>: While this makes the game possible to play without internet access, it \n",
              "also opens up the ability for hackers to connect with any username they choose.\n",
              "</pre>\n"
            ]
          },
          "metadata": {}
        },
        {
          "output_type": "display_data",
          "data": {
            "text/plain": [
              "Line \u001b[1;36m155\u001b[0m: \u001b[1m[\u001b[0m\u001b[1;92m11:18:44\u001b[0m\u001b[1m]\u001b[0m \u001b[1m[\u001b[0mServer thread/WARN\u001b[1m]\u001b[0m: To change this, set \u001b[32m\"online-mode\"\u001b[0m to \u001b[32m\"true\"\u001b[0m in the server.properties \n",
              "file.\n"
            ],
            "text/html": [
              "<pre style=\"white-space:pre;overflow-x:auto;line-height:normal;font-family:Menlo,'DejaVu Sans Mono',consolas,'Courier New',monospace\">Line <span style=\"color: #008080; text-decoration-color: #008080; font-weight: bold\">155</span>: <span style=\"font-weight: bold\">[</span><span style=\"color: #00ff00; text-decoration-color: #00ff00; font-weight: bold\">11:18:44</span><span style=\"font-weight: bold\">]</span> <span style=\"font-weight: bold\">[</span>Server thread/WARN<span style=\"font-weight: bold\">]</span>: To change this, set <span style=\"color: #008000; text-decoration-color: #008000\">\"online-mode\"</span> to <span style=\"color: #008000; text-decoration-color: #008000\">\"true\"</span> in the server.properties \n",
              "file.\n",
              "</pre>\n"
            ]
          },
          "metadata": {}
        },
        {
          "output_type": "display_data",
          "data": {
            "text/plain": [
              "Line \u001b[1;36m156\u001b[0m: \u001b[1m[\u001b[0m\u001b[1;92m11:18:46\u001b[0m\u001b[1m]\u001b[0m \u001b[1m[\u001b[0mServer thread/INFO\u001b[1m]\u001b[0m: Preparing level \u001b[32m\"world\"\u001b[0m\n"
            ],
            "text/html": [
              "<pre style=\"white-space:pre;overflow-x:auto;line-height:normal;font-family:Menlo,'DejaVu Sans Mono',consolas,'Courier New',monospace\">Line <span style=\"color: #008080; text-decoration-color: #008080; font-weight: bold\">156</span>: <span style=\"font-weight: bold\">[</span><span style=\"color: #00ff00; text-decoration-color: #00ff00; font-weight: bold\">11:18:46</span><span style=\"font-weight: bold\">]</span> <span style=\"font-weight: bold\">[</span>Server thread/INFO<span style=\"font-weight: bold\">]</span>: Preparing level <span style=\"color: #008000; text-decoration-color: #008000\">\"world\"</span>\n",
              "</pre>\n"
            ]
          },
          "metadata": {}
        },
        {
          "output_type": "display_data",
          "data": {
            "text/plain": [
              "Line \u001b[1;36m157\u001b[0m: \u001b[1m[\u001b[0m\u001b[1;92m11:18:47\u001b[0m\u001b[1m]\u001b[0m \u001b[1m[\u001b[0mServer thread/INFO\u001b[1m]\u001b[0m: Changing watch distance to \u001b[1;36m10\u001b[0m\n"
            ],
            "text/html": [
              "<pre style=\"white-space:pre;overflow-x:auto;line-height:normal;font-family:Menlo,'DejaVu Sans Mono',consolas,'Courier New',monospace\">Line <span style=\"color: #008080; text-decoration-color: #008080; font-weight: bold\">157</span>: <span style=\"font-weight: bold\">[</span><span style=\"color: #00ff00; text-decoration-color: #00ff00; font-weight: bold\">11:18:47</span><span style=\"font-weight: bold\">]</span> <span style=\"font-weight: bold\">[</span>Server thread/INFO<span style=\"font-weight: bold\">]</span>: Changing watch distance to <span style=\"color: #008080; text-decoration-color: #008080; font-weight: bold\">10</span>\n",
              "</pre>\n"
            ]
          },
          "metadata": {}
        },
        {
          "output_type": "display_data",
          "data": {
            "text/plain": [
              "Line \u001b[1;36m158\u001b[0m: \u001b[1m[\u001b[0m\u001b[1;92m11:19:01\u001b[0m\u001b[1m]\u001b[0m \u001b[1m[\u001b[0mServer thread/INFO\u001b[1m]\u001b[0m: Changing watch distance to \u001b[1;36m10\u001b[0m\n"
            ],
            "text/html": [
              "<pre style=\"white-space:pre;overflow-x:auto;line-height:normal;font-family:Menlo,'DejaVu Sans Mono',consolas,'Courier New',monospace\">Line <span style=\"color: #008080; text-decoration-color: #008080; font-weight: bold\">158</span>: <span style=\"font-weight: bold\">[</span><span style=\"color: #00ff00; text-decoration-color: #00ff00; font-weight: bold\">11:19:01</span><span style=\"font-weight: bold\">]</span> <span style=\"font-weight: bold\">[</span>Server thread/INFO<span style=\"font-weight: bold\">]</span>: Changing watch distance to <span style=\"color: #008080; text-decoration-color: #008080; font-weight: bold\">10</span>\n",
              "</pre>\n"
            ]
          },
          "metadata": {}
        },
        {
          "output_type": "display_data",
          "data": {
            "text/plain": [
              "Line \u001b[1;36m159\u001b[0m: \u001b[1m[\u001b[0m\u001b[1;92m11:19:01\u001b[0m\u001b[1m]\u001b[0m \u001b[1m[\u001b[0mServer thread/INFO\u001b[1m]\u001b[0m: Changing watch distance to \u001b[1;36m10\u001b[0m\n"
            ],
            "text/html": [
              "<pre style=\"white-space:pre;overflow-x:auto;line-height:normal;font-family:Menlo,'DejaVu Sans Mono',consolas,'Courier New',monospace\">Line <span style=\"color: #008080; text-decoration-color: #008080; font-weight: bold\">159</span>: <span style=\"font-weight: bold\">[</span><span style=\"color: #00ff00; text-decoration-color: #00ff00; font-weight: bold\">11:19:01</span><span style=\"font-weight: bold\">]</span> <span style=\"font-weight: bold\">[</span>Server thread/INFO<span style=\"font-weight: bold\">]</span>: Changing watch distance to <span style=\"color: #008080; text-decoration-color: #008080; font-weight: bold\">10</span>\n",
              "</pre>\n"
            ]
          },
          "metadata": {}
        },
        {
          "output_type": "display_data",
          "data": {
            "text/plain": [
              "Line \u001b[1;36m160\u001b[0m: \u001b[1m[\u001b[0m\u001b[1;92m11:19:02\u001b[0m\u001b[1m]\u001b[0m \u001b[1m[\u001b[0mServer thread/INFO\u001b[1m]\u001b[0m: Preparing start region for dimension minecraft:overworld\n"
            ],
            "text/html": [
              "<pre style=\"white-space:pre;overflow-x:auto;line-height:normal;font-family:Menlo,'DejaVu Sans Mono',consolas,'Courier New',monospace\">Line <span style=\"color: #008080; text-decoration-color: #008080; font-weight: bold\">160</span>: <span style=\"font-weight: bold\">[</span><span style=\"color: #00ff00; text-decoration-color: #00ff00; font-weight: bold\">11:19:02</span><span style=\"font-weight: bold\">]</span> <span style=\"font-weight: bold\">[</span>Server thread/INFO<span style=\"font-weight: bold\">]</span>: Preparing start region for dimension minecraft:overworld\n",
              "</pre>\n"
            ]
          },
          "metadata": {}
        },
        {
          "output_type": "display_data",
          "data": {
            "text/plain": [
              "Line \u001b[1;36m161\u001b[0m: \u001b[1m[\u001b[0m\u001b[1;92m11:19:06\u001b[0m\u001b[1m]\u001b[0m \u001b[1m[\u001b[0mWorker-Main-\u001b[1;36m1\u001b[0m/INFO\u001b[1m]\u001b[0m: Preparing spawn area: \u001b[1;36m0\u001b[0m%\n"
            ],
            "text/html": [
              "<pre style=\"white-space:pre;overflow-x:auto;line-height:normal;font-family:Menlo,'DejaVu Sans Mono',consolas,'Courier New',monospace\">Line <span style=\"color: #008080; text-decoration-color: #008080; font-weight: bold\">161</span>: <span style=\"font-weight: bold\">[</span><span style=\"color: #00ff00; text-decoration-color: #00ff00; font-weight: bold\">11:19:06</span><span style=\"font-weight: bold\">]</span> <span style=\"font-weight: bold\">[</span>Worker-Main-<span style=\"color: #008080; text-decoration-color: #008080; font-weight: bold\">1</span>/INFO<span style=\"font-weight: bold\">]</span>: Preparing spawn area: <span style=\"color: #008080; text-decoration-color: #008080; font-weight: bold\">0</span>%\n",
              "</pre>\n"
            ]
          },
          "metadata": {}
        },
        {
          "output_type": "display_data",
          "data": {
            "text/plain": [
              "Line \u001b[1;36m162\u001b[0m: \u001b[1m[\u001b[0m\u001b[1;92m11:19:06\u001b[0m\u001b[1m]\u001b[0m \u001b[1m[\u001b[0mWorker-Main-\u001b[1;36m1\u001b[0m/INFO\u001b[1m]\u001b[0m: Preparing spawn area: \u001b[1;36m0\u001b[0m%\n"
            ],
            "text/html": [
              "<pre style=\"white-space:pre;overflow-x:auto;line-height:normal;font-family:Menlo,'DejaVu Sans Mono',consolas,'Courier New',monospace\">Line <span style=\"color: #008080; text-decoration-color: #008080; font-weight: bold\">162</span>: <span style=\"font-weight: bold\">[</span><span style=\"color: #00ff00; text-decoration-color: #00ff00; font-weight: bold\">11:19:06</span><span style=\"font-weight: bold\">]</span> <span style=\"font-weight: bold\">[</span>Worker-Main-<span style=\"color: #008080; text-decoration-color: #008080; font-weight: bold\">1</span>/INFO<span style=\"font-weight: bold\">]</span>: Preparing spawn area: <span style=\"color: #008080; text-decoration-color: #008080; font-weight: bold\">0</span>%\n",
              "</pre>\n"
            ]
          },
          "metadata": {}
        },
        {
          "output_type": "display_data",
          "data": {
            "text/plain": [
              "Line \u001b[1;36m163\u001b[0m: \u001b[1m[\u001b[0m\u001b[1;92m11:19:06\u001b[0m\u001b[1m]\u001b[0m \u001b[1m[\u001b[0mWorker-Main-\u001b[1;36m1\u001b[0m/INFO\u001b[1m]\u001b[0m: Preparing spawn area: \u001b[1;36m0\u001b[0m%\n"
            ],
            "text/html": [
              "<pre style=\"white-space:pre;overflow-x:auto;line-height:normal;font-family:Menlo,'DejaVu Sans Mono',consolas,'Courier New',monospace\">Line <span style=\"color: #008080; text-decoration-color: #008080; font-weight: bold\">163</span>: <span style=\"font-weight: bold\">[</span><span style=\"color: #00ff00; text-decoration-color: #00ff00; font-weight: bold\">11:19:06</span><span style=\"font-weight: bold\">]</span> <span style=\"font-weight: bold\">[</span>Worker-Main-<span style=\"color: #008080; text-decoration-color: #008080; font-weight: bold\">1</span>/INFO<span style=\"font-weight: bold\">]</span>: Preparing spawn area: <span style=\"color: #008080; text-decoration-color: #008080; font-weight: bold\">0</span>%\n",
              "</pre>\n"
            ]
          },
          "metadata": {}
        },
        {
          "output_type": "display_data",
          "data": {
            "text/plain": [
              "Line \u001b[1;36m164\u001b[0m: \u001b[1m[\u001b[0m\u001b[1;92m11:19:06\u001b[0m\u001b[1m]\u001b[0m \u001b[1m[\u001b[0mWorker-Main-\u001b[1;36m1\u001b[0m/INFO\u001b[1m]\u001b[0m: Preparing spawn area: \u001b[1;36m0\u001b[0m%\n"
            ],
            "text/html": [
              "<pre style=\"white-space:pre;overflow-x:auto;line-height:normal;font-family:Menlo,'DejaVu Sans Mono',consolas,'Courier New',monospace\">Line <span style=\"color: #008080; text-decoration-color: #008080; font-weight: bold\">164</span>: <span style=\"font-weight: bold\">[</span><span style=\"color: #00ff00; text-decoration-color: #00ff00; font-weight: bold\">11:19:06</span><span style=\"font-weight: bold\">]</span> <span style=\"font-weight: bold\">[</span>Worker-Main-<span style=\"color: #008080; text-decoration-color: #008080; font-weight: bold\">1</span>/INFO<span style=\"font-weight: bold\">]</span>: Preparing spawn area: <span style=\"color: #008080; text-decoration-color: #008080; font-weight: bold\">0</span>%\n",
              "</pre>\n"
            ]
          },
          "metadata": {}
        },
        {
          "output_type": "display_data",
          "data": {
            "text/plain": [
              "Line \u001b[1;36m165\u001b[0m: \u001b[1m[\u001b[0m\u001b[1;92m11:19:06\u001b[0m\u001b[1m]\u001b[0m \u001b[1m[\u001b[0mWorker-Main-\u001b[1;36m1\u001b[0m/INFO\u001b[1m]\u001b[0m: Preparing spawn area: \u001b[1;36m0\u001b[0m%\n"
            ],
            "text/html": [
              "<pre style=\"white-space:pre;overflow-x:auto;line-height:normal;font-family:Menlo,'DejaVu Sans Mono',consolas,'Courier New',monospace\">Line <span style=\"color: #008080; text-decoration-color: #008080; font-weight: bold\">165</span>: <span style=\"font-weight: bold\">[</span><span style=\"color: #00ff00; text-decoration-color: #00ff00; font-weight: bold\">11:19:06</span><span style=\"font-weight: bold\">]</span> <span style=\"font-weight: bold\">[</span>Worker-Main-<span style=\"color: #008080; text-decoration-color: #008080; font-weight: bold\">1</span>/INFO<span style=\"font-weight: bold\">]</span>: Preparing spawn area: <span style=\"color: #008080; text-decoration-color: #008080; font-weight: bold\">0</span>%\n",
              "</pre>\n"
            ]
          },
          "metadata": {}
        },
        {
          "output_type": "display_data",
          "data": {
            "text/plain": [
              "Line \u001b[1;36m166\u001b[0m: \u001b[1m[\u001b[0m\u001b[1;92m11:19:06\u001b[0m\u001b[1m]\u001b[0m \u001b[1m[\u001b[0mWorker-Main-\u001b[1;36m1\u001b[0m/INFO\u001b[1m]\u001b[0m: Preparing spawn area: \u001b[1;36m0\u001b[0m%\n"
            ],
            "text/html": [
              "<pre style=\"white-space:pre;overflow-x:auto;line-height:normal;font-family:Menlo,'DejaVu Sans Mono',consolas,'Courier New',monospace\">Line <span style=\"color: #008080; text-decoration-color: #008080; font-weight: bold\">166</span>: <span style=\"font-weight: bold\">[</span><span style=\"color: #00ff00; text-decoration-color: #00ff00; font-weight: bold\">11:19:06</span><span style=\"font-weight: bold\">]</span> <span style=\"font-weight: bold\">[</span>Worker-Main-<span style=\"color: #008080; text-decoration-color: #008080; font-weight: bold\">1</span>/INFO<span style=\"font-weight: bold\">]</span>: Preparing spawn area: <span style=\"color: #008080; text-decoration-color: #008080; font-weight: bold\">0</span>%\n",
              "</pre>\n"
            ]
          },
          "metadata": {}
        },
        {
          "output_type": "display_data",
          "data": {
            "text/plain": [
              "Line \u001b[1;36m167\u001b[0m: \u001b[1m[\u001b[0m\u001b[1;92m11:19:06\u001b[0m\u001b[1m]\u001b[0m \u001b[1m[\u001b[0mWorker-Main-\u001b[1;36m1\u001b[0m/INFO\u001b[1m]\u001b[0m: Preparing spawn area: \u001b[1;36m0\u001b[0m%\n"
            ],
            "text/html": [
              "<pre style=\"white-space:pre;overflow-x:auto;line-height:normal;font-family:Menlo,'DejaVu Sans Mono',consolas,'Courier New',monospace\">Line <span style=\"color: #008080; text-decoration-color: #008080; font-weight: bold\">167</span>: <span style=\"font-weight: bold\">[</span><span style=\"color: #00ff00; text-decoration-color: #00ff00; font-weight: bold\">11:19:06</span><span style=\"font-weight: bold\">]</span> <span style=\"font-weight: bold\">[</span>Worker-Main-<span style=\"color: #008080; text-decoration-color: #008080; font-weight: bold\">1</span>/INFO<span style=\"font-weight: bold\">]</span>: Preparing spawn area: <span style=\"color: #008080; text-decoration-color: #008080; font-weight: bold\">0</span>%\n",
              "</pre>\n"
            ]
          },
          "metadata": {}
        },
        {
          "output_type": "display_data",
          "data": {
            "text/plain": [
              "Line \u001b[1;36m168\u001b[0m: \u001b[1m[\u001b[0m\u001b[1;92m11:19:06\u001b[0m\u001b[1m]\u001b[0m \u001b[1m[\u001b[0mWorker-Main-\u001b[1;36m1\u001b[0m/INFO\u001b[1m]\u001b[0m: Preparing spawn area: \u001b[1;36m0\u001b[0m%\n"
            ],
            "text/html": [
              "<pre style=\"white-space:pre;overflow-x:auto;line-height:normal;font-family:Menlo,'DejaVu Sans Mono',consolas,'Courier New',monospace\">Line <span style=\"color: #008080; text-decoration-color: #008080; font-weight: bold\">168</span>: <span style=\"font-weight: bold\">[</span><span style=\"color: #00ff00; text-decoration-color: #00ff00; font-weight: bold\">11:19:06</span><span style=\"font-weight: bold\">]</span> <span style=\"font-weight: bold\">[</span>Worker-Main-<span style=\"color: #008080; text-decoration-color: #008080; font-weight: bold\">1</span>/INFO<span style=\"font-weight: bold\">]</span>: Preparing spawn area: <span style=\"color: #008080; text-decoration-color: #008080; font-weight: bold\">0</span>%\n",
              "</pre>\n"
            ]
          },
          "metadata": {}
        },
        {
          "output_type": "display_data",
          "data": {
            "text/plain": [
              "Line \u001b[1;36m169\u001b[0m: \u001b[1m[\u001b[0m\u001b[1;92m11:19:06\u001b[0m\u001b[1m]\u001b[0m \u001b[1m[\u001b[0mWorker-Main-\u001b[1;36m1\u001b[0m/INFO\u001b[1m]\u001b[0m: Preparing spawn area: \u001b[1;36m16\u001b[0m%\n"
            ],
            "text/html": [
              "<pre style=\"white-space:pre;overflow-x:auto;line-height:normal;font-family:Menlo,'DejaVu Sans Mono',consolas,'Courier New',monospace\">Line <span style=\"color: #008080; text-decoration-color: #008080; font-weight: bold\">169</span>: <span style=\"font-weight: bold\">[</span><span style=\"color: #00ff00; text-decoration-color: #00ff00; font-weight: bold\">11:19:06</span><span style=\"font-weight: bold\">]</span> <span style=\"font-weight: bold\">[</span>Worker-Main-<span style=\"color: #008080; text-decoration-color: #008080; font-weight: bold\">1</span>/INFO<span style=\"font-weight: bold\">]</span>: Preparing spawn area: <span style=\"color: #008080; text-decoration-color: #008080; font-weight: bold\">16</span>%\n",
              "</pre>\n"
            ]
          },
          "metadata": {}
        },
        {
          "output_type": "display_data",
          "data": {
            "text/plain": [
              "Line \u001b[1;36m170\u001b[0m: \u001b[1m[\u001b[0m\u001b[1;92m11:19:06\u001b[0m\u001b[1m]\u001b[0m \u001b[1m[\u001b[0mWorker-Main-\u001b[1;36m1\u001b[0m/INFO\u001b[1m]\u001b[0m: Preparing spawn area: \u001b[1;36m18\u001b[0m%\n"
            ],
            "text/html": [
              "<pre style=\"white-space:pre;overflow-x:auto;line-height:normal;font-family:Menlo,'DejaVu Sans Mono',consolas,'Courier New',monospace\">Line <span style=\"color: #008080; text-decoration-color: #008080; font-weight: bold\">170</span>: <span style=\"font-weight: bold\">[</span><span style=\"color: #00ff00; text-decoration-color: #00ff00; font-weight: bold\">11:19:06</span><span style=\"font-weight: bold\">]</span> <span style=\"font-weight: bold\">[</span>Worker-Main-<span style=\"color: #008080; text-decoration-color: #008080; font-weight: bold\">1</span>/INFO<span style=\"font-weight: bold\">]</span>: Preparing spawn area: <span style=\"color: #008080; text-decoration-color: #008080; font-weight: bold\">18</span>%\n",
              "</pre>\n"
            ]
          },
          "metadata": {}
        },
        {
          "output_type": "display_data",
          "data": {
            "text/plain": [
              "Line \u001b[1;36m171\u001b[0m: \u001b[1m[\u001b[0m\u001b[1;92m11:19:07\u001b[0m\u001b[1m]\u001b[0m \u001b[1m[\u001b[0mServer thread/INFO\u001b[1m]\u001b[0m: Time elapsed: \u001b[1;36m5424\u001b[0m ms\n"
            ],
            "text/html": [
              "<pre style=\"white-space:pre;overflow-x:auto;line-height:normal;font-family:Menlo,'DejaVu Sans Mono',consolas,'Courier New',monospace\">Line <span style=\"color: #008080; text-decoration-color: #008080; font-weight: bold\">171</span>: <span style=\"font-weight: bold\">[</span><span style=\"color: #00ff00; text-decoration-color: #00ff00; font-weight: bold\">11:19:07</span><span style=\"font-weight: bold\">]</span> <span style=\"font-weight: bold\">[</span>Server thread/INFO<span style=\"font-weight: bold\">]</span>: Time elapsed: <span style=\"color: #008080; text-decoration-color: #008080; font-weight: bold\">5424</span> ms\n",
              "</pre>\n"
            ]
          },
          "metadata": {}
        },
        {
          "output_type": "display_data",
          "data": {
            "text/plain": [
              "Line \u001b[1;36m172\u001b[0m: \u001b[1m[\u001b[0m\u001b[1;92m11:19:07\u001b[0m\u001b[1m]\u001b[0m \u001b[1m[\u001b[0mServer thread/INFO\u001b[1m]\u001b[0m: Done \u001b[1m(\u001b[0m\u001b[1;36m21.\u001b[0m667s\u001b[1m)\u001b[0m! For help, type \u001b[32m\"help\"\u001b[0m\n"
            ],
            "text/html": [
              "<pre style=\"white-space:pre;overflow-x:auto;line-height:normal;font-family:Menlo,'DejaVu Sans Mono',consolas,'Courier New',monospace\">Line <span style=\"color: #008080; text-decoration-color: #008080; font-weight: bold\">172</span>: <span style=\"font-weight: bold\">[</span><span style=\"color: #00ff00; text-decoration-color: #00ff00; font-weight: bold\">11:19:07</span><span style=\"font-weight: bold\">]</span> <span style=\"font-weight: bold\">[</span>Server thread/INFO<span style=\"font-weight: bold\">]</span>: Done <span style=\"font-weight: bold\">(</span><span style=\"color: #008080; text-decoration-color: #008080; font-weight: bold\">21.</span>667s<span style=\"font-weight: bold\">)</span>! For help, type <span style=\"color: #008000; text-decoration-color: #008000\">\"help\"</span>\n",
              "</pre>\n"
            ]
          },
          "metadata": {}
        },
        {
          "output_type": "display_data",
          "data": {
            "text/plain": [
              "Line \u001b[1;36m173\u001b[0m: \u001b[1m[\u001b[0m\u001b[1;92m11:19:09\u001b[0m\u001b[1m]\u001b[0m \u001b[1m[\u001b[0mServer thread/INFO\u001b[1m]\u001b[0m: ******************************************\n"
            ],
            "text/html": [
              "<pre style=\"white-space:pre;overflow-x:auto;line-height:normal;font-family:Menlo,'DejaVu Sans Mono',consolas,'Courier New',monospace\">Line <span style=\"color: #008080; text-decoration-color: #008080; font-weight: bold\">173</span>: <span style=\"font-weight: bold\">[</span><span style=\"color: #00ff00; text-decoration-color: #00ff00; font-weight: bold\">11:19:09</span><span style=\"font-weight: bold\">]</span> <span style=\"font-weight: bold\">[</span>Server thread/INFO<span style=\"font-weight: bold\">]</span>: ******************************************\n",
              "</pre>\n"
            ]
          },
          "metadata": {}
        },
        {
          "output_type": "display_data",
          "data": {
            "text/plain": [
              "Line \u001b[1;36m174\u001b[0m: \u001b[1m[\u001b[0m\u001b[1;92m11:19:09\u001b[0m\u001b[1m]\u001b[0m \u001b[1m[\u001b[0mServer thread/INFO\u001b[1m]\u001b[0m: \n"
            ],
            "text/html": [
              "<pre style=\"white-space:pre;overflow-x:auto;line-height:normal;font-family:Menlo,'DejaVu Sans Mono',consolas,'Courier New',monospace\">Line <span style=\"color: #008080; text-decoration-color: #008080; font-weight: bold\">174</span>: <span style=\"font-weight: bold\">[</span><span style=\"color: #00ff00; text-decoration-color: #00ff00; font-weight: bold\">11:19:09</span><span style=\"font-weight: bold\">]</span> <span style=\"font-weight: bold\">[</span>Server thread/INFO<span style=\"font-weight: bold\">]</span>: \n",
              "</pre>\n"
            ]
          },
          "metadata": {}
        },
        {
          "output_type": "display_data",
          "data": {
            "text/plain": [
              "Line \u001b[1;36m175\u001b[0m: \u001b[1m[\u001b[0m\u001b[1;92m11:19:09\u001b[0m\u001b[1m]\u001b[0m \u001b[1m[\u001b[0mServer thread/INFO\u001b[1m]\u001b[0m: Loading Geyser version \u001b[1;36m2.4\u001b[0m.\u001b[1;36m4\u001b[0m-b699 \u001b[1m(\u001b[0mgit-master-3f60db1\u001b[1m)\u001b[0m\n"
            ],
            "text/html": [
              "<pre style=\"white-space:pre;overflow-x:auto;line-height:normal;font-family:Menlo,'DejaVu Sans Mono',consolas,'Courier New',monospace\">Line <span style=\"color: #008080; text-decoration-color: #008080; font-weight: bold\">175</span>: <span style=\"font-weight: bold\">[</span><span style=\"color: #00ff00; text-decoration-color: #00ff00; font-weight: bold\">11:19:09</span><span style=\"font-weight: bold\">]</span> <span style=\"font-weight: bold\">[</span>Server thread/INFO<span style=\"font-weight: bold\">]</span>: Loading Geyser version <span style=\"color: #008080; text-decoration-color: #008080; font-weight: bold\">2.4</span>.<span style=\"color: #008080; text-decoration-color: #008080; font-weight: bold\">4</span>-b699 <span style=\"font-weight: bold\">(</span>git-master-3f60db1<span style=\"font-weight: bold\">)</span>\n",
              "</pre>\n"
            ]
          },
          "metadata": {}
        },
        {
          "output_type": "display_data",
          "data": {
            "text/plain": [
              "Line \u001b[1;36m176\u001b[0m: \u001b[1m[\u001b[0m\u001b[1;92m11:19:09\u001b[0m\u001b[1m]\u001b[0m \u001b[1m[\u001b[0mServer thread/INFO\u001b[1m]\u001b[0m: \n"
            ],
            "text/html": [
              "<pre style=\"white-space:pre;overflow-x:auto;line-height:normal;font-family:Menlo,'DejaVu Sans Mono',consolas,'Courier New',monospace\">Line <span style=\"color: #008080; text-decoration-color: #008080; font-weight: bold\">176</span>: <span style=\"font-weight: bold\">[</span><span style=\"color: #00ff00; text-decoration-color: #00ff00; font-weight: bold\">11:19:09</span><span style=\"font-weight: bold\">]</span> <span style=\"font-weight: bold\">[</span>Server thread/INFO<span style=\"font-weight: bold\">]</span>: \n",
              "</pre>\n"
            ]
          },
          "metadata": {}
        },
        {
          "output_type": "display_data",
          "data": {
            "text/plain": [
              "Line \u001b[1;36m177\u001b[0m: \u001b[1m[\u001b[0m\u001b[1;92m11:19:09\u001b[0m\u001b[1m]\u001b[0m \u001b[1m[\u001b[0mServer thread/INFO\u001b[1m]\u001b[0m: ******************************************\n"
            ],
            "text/html": [
              "<pre style=\"white-space:pre;overflow-x:auto;line-height:normal;font-family:Menlo,'DejaVu Sans Mono',consolas,'Courier New',monospace\">Line <span style=\"color: #008080; text-decoration-color: #008080; font-weight: bold\">177</span>: <span style=\"font-weight: bold\">[</span><span style=\"color: #00ff00; text-decoration-color: #00ff00; font-weight: bold\">11:19:09</span><span style=\"font-weight: bold\">]</span> <span style=\"font-weight: bold\">[</span>Server thread/INFO<span style=\"font-weight: bold\">]</span>: ******************************************\n",
              "</pre>\n"
            ]
          },
          "metadata": {}
        },
        {
          "output_type": "display_data",
          "data": {
            "text/plain": [
              "Line \u001b[1;36m178\u001b[0m: \u001b[1m[\u001b[0m\u001b[1;92m11:19:19\u001b[0m\u001b[1m]\u001b[0m \u001b[1m[\u001b[0mepollEventLoopGroup-\u001b[1;36m3\u001b[0m-\u001b[1;36m1\u001b[0m/INFO\u001b[1m]\u001b[0m: Started Geyser on UDP port \u001b[1;36m25077\u001b[0m\n"
            ],
            "text/html": [
              "<pre style=\"white-space:pre;overflow-x:auto;line-height:normal;font-family:Menlo,'DejaVu Sans Mono',consolas,'Courier New',monospace\">Line <span style=\"color: #008080; text-decoration-color: #008080; font-weight: bold\">178</span>: <span style=\"font-weight: bold\">[</span><span style=\"color: #00ff00; text-decoration-color: #00ff00; font-weight: bold\">11:19:19</span><span style=\"font-weight: bold\">]</span> <span style=\"font-weight: bold\">[</span>epollEventLoopGroup-<span style=\"color: #008080; text-decoration-color: #008080; font-weight: bold\">3</span>-<span style=\"color: #008080; text-decoration-color: #008080; font-weight: bold\">1</span>/INFO<span style=\"font-weight: bold\">]</span>: Started Geyser on UDP port <span style=\"color: #008080; text-decoration-color: #008080; font-weight: bold\">25077</span>\n",
              "</pre>\n"
            ]
          },
          "metadata": {}
        },
        {
          "output_type": "display_data",
          "data": {
            "text/plain": [
              "Line \u001b[1;36m179\u001b[0m: \u001b[1m[\u001b[0m\u001b[1;92m11:19:19\u001b[0m\u001b[1m]\u001b[0m \u001b[1m[\u001b[0mServer thread/INFO\u001b[1m]\u001b[0m: Done \u001b[1m(\u001b[0m\u001b[1;36m9.\u001b[0m858s\u001b[1m)\u001b[0m! Run \u001b[35m/\u001b[0m\u001b[95mgeyser\u001b[0m help for help!\n"
            ],
            "text/html": [
              "<pre style=\"white-space:pre;overflow-x:auto;line-height:normal;font-family:Menlo,'DejaVu Sans Mono',consolas,'Courier New',monospace\">Line <span style=\"color: #008080; text-decoration-color: #008080; font-weight: bold\">179</span>: <span style=\"font-weight: bold\">[</span><span style=\"color: #00ff00; text-decoration-color: #00ff00; font-weight: bold\">11:19:19</span><span style=\"font-weight: bold\">]</span> <span style=\"font-weight: bold\">[</span>Server thread/INFO<span style=\"font-weight: bold\">]</span>: Done <span style=\"font-weight: bold\">(</span><span style=\"color: #008080; text-decoration-color: #008080; font-weight: bold\">9.</span>858s<span style=\"font-weight: bold\">)</span>! Run <span style=\"color: #800080; text-decoration-color: #800080\">/</span><span style=\"color: #ff00ff; text-decoration-color: #ff00ff\">geyser</span> help for help!\n",
              "</pre>\n"
            ]
          },
          "metadata": {}
        },
        {
          "output_type": "display_data",
          "data": {
            "text/plain": [
              "Line \u001b[1;36m180\u001b[0m: \u001b[1m[\u001b[0m\u001b[1;92m11:19:19\u001b[0m\u001b[1m]\u001b[0m \u001b[1m[\u001b[0mServer thread/WARN\u001b[1m]\u001b[0m: Can't keep up! Is the server overloaded? Running 11487ms or \u001b[1;36m229\u001b[0m ticks \n",
              "behind\n"
            ],
            "text/html": [
              "<pre style=\"white-space:pre;overflow-x:auto;line-height:normal;font-family:Menlo,'DejaVu Sans Mono',consolas,'Courier New',monospace\">Line <span style=\"color: #008080; text-decoration-color: #008080; font-weight: bold\">180</span>: <span style=\"font-weight: bold\">[</span><span style=\"color: #00ff00; text-decoration-color: #00ff00; font-weight: bold\">11:19:19</span><span style=\"font-weight: bold\">]</span> <span style=\"font-weight: bold\">[</span>Server thread/WARN<span style=\"font-weight: bold\">]</span>: Can't keep up! Is the server overloaded? Running 11487ms or <span style=\"color: #008080; text-decoration-color: #008080; font-weight: bold\">229</span> ticks \n",
              "behind\n",
              "</pre>\n"
            ]
          },
          "metadata": {}
        },
        {
          "output_type": "display_data",
          "data": {
            "text/plain": [
              "Line \u001b[1;36m181\u001b[0m: \u001b[1m[\u001b[0m\u001b[1;92m11:22:21\u001b[0m\u001b[1m]\u001b[0m \u001b[1m[\u001b[0mServer thread/INFO\u001b[1m]\u001b[0m: Stopping the server\n"
            ],
            "text/html": [
              "<pre style=\"white-space:pre;overflow-x:auto;line-height:normal;font-family:Menlo,'DejaVu Sans Mono',consolas,'Courier New',monospace\">Line <span style=\"color: #008080; text-decoration-color: #008080; font-weight: bold\">181</span>: <span style=\"font-weight: bold\">[</span><span style=\"color: #00ff00; text-decoration-color: #00ff00; font-weight: bold\">11:22:21</span><span style=\"font-weight: bold\">]</span> <span style=\"font-weight: bold\">[</span>Server thread/INFO<span style=\"font-weight: bold\">]</span>: Stopping the server\n",
              "</pre>\n"
            ]
          },
          "metadata": {}
        },
        {
          "output_type": "display_data",
          "data": {
            "text/plain": [
              "Line \u001b[1;36m182\u001b[0m: \u001b[1m[\u001b[0m\u001b[1;92m11:22:21\u001b[0m\u001b[1m]\u001b[0m \u001b[1m[\u001b[0mServer thread/INFO\u001b[1m]\u001b[0m: Shutting down Geyser.\n"
            ],
            "text/html": [
              "<pre style=\"white-space:pre;overflow-x:auto;line-height:normal;font-family:Menlo,'DejaVu Sans Mono',consolas,'Courier New',monospace\">Line <span style=\"color: #008080; text-decoration-color: #008080; font-weight: bold\">182</span>: <span style=\"font-weight: bold\">[</span><span style=\"color: #00ff00; text-decoration-color: #00ff00; font-weight: bold\">11:22:21</span><span style=\"font-weight: bold\">]</span> <span style=\"font-weight: bold\">[</span>Server thread/INFO<span style=\"font-weight: bold\">]</span>: Shutting down Geyser.\n",
              "</pre>\n"
            ]
          },
          "metadata": {}
        },
        {
          "output_type": "display_data",
          "data": {
            "text/plain": [
              "Line \u001b[1;36m183\u001b[0m: \u001b[1m[\u001b[0m\u001b[1;92m11:22:21\u001b[0m\u001b[1m]\u001b[0m \u001b[1m[\u001b[0mServer thread/INFO\u001b[1m]\u001b[0m: Geyser shutdown successfully.\n"
            ],
            "text/html": [
              "<pre style=\"white-space:pre;overflow-x:auto;line-height:normal;font-family:Menlo,'DejaVu Sans Mono',consolas,'Courier New',monospace\">Line <span style=\"color: #008080; text-decoration-color: #008080; font-weight: bold\">183</span>: <span style=\"font-weight: bold\">[</span><span style=\"color: #00ff00; text-decoration-color: #00ff00; font-weight: bold\">11:22:21</span><span style=\"font-weight: bold\">]</span> <span style=\"font-weight: bold\">[</span>Server thread/INFO<span style=\"font-weight: bold\">]</span>: Geyser shutdown successfully.\n",
              "</pre>\n"
            ]
          },
          "metadata": {}
        },
        {
          "output_type": "display_data",
          "data": {
            "text/plain": [
              "Line \u001b[1;36m184\u001b[0m: \u001b[1m[\u001b[0m\u001b[1;92m11:22:23\u001b[0m\u001b[1m]\u001b[0m \u001b[1m[\u001b[0mServer thread/INFO\u001b[1m]\u001b[0m: Stopping server\n"
            ],
            "text/html": [
              "<pre style=\"white-space:pre;overflow-x:auto;line-height:normal;font-family:Menlo,'DejaVu Sans Mono',consolas,'Courier New',monospace\">Line <span style=\"color: #008080; text-decoration-color: #008080; font-weight: bold\">184</span>: <span style=\"font-weight: bold\">[</span><span style=\"color: #00ff00; text-decoration-color: #00ff00; font-weight: bold\">11:22:23</span><span style=\"font-weight: bold\">]</span> <span style=\"font-weight: bold\">[</span>Server thread/INFO<span style=\"font-weight: bold\">]</span>: Stopping server\n",
              "</pre>\n"
            ]
          },
          "metadata": {}
        },
        {
          "output_type": "display_data",
          "data": {
            "text/plain": [
              "Line \u001b[1;36m185\u001b[0m: \u001b[1m[\u001b[0m\u001b[1;92m11:22:23\u001b[0m\u001b[1m]\u001b[0m \u001b[1m[\u001b[0mServer thread/INFO\u001b[1m]\u001b[0m: Saving players\n"
            ],
            "text/html": [
              "<pre style=\"white-space:pre;overflow-x:auto;line-height:normal;font-family:Menlo,'DejaVu Sans Mono',consolas,'Courier New',monospace\">Line <span style=\"color: #008080; text-decoration-color: #008080; font-weight: bold\">185</span>: <span style=\"font-weight: bold\">[</span><span style=\"color: #00ff00; text-decoration-color: #00ff00; font-weight: bold\">11:22:23</span><span style=\"font-weight: bold\">]</span> <span style=\"font-weight: bold\">[</span>Server thread/INFO<span style=\"font-weight: bold\">]</span>: Saving players\n",
              "</pre>\n"
            ]
          },
          "metadata": {}
        },
        {
          "output_type": "display_data",
          "data": {
            "text/plain": [
              "Line \u001b[1;36m186\u001b[0m: \u001b[1m[\u001b[0m\u001b[1;92m11:22:23\u001b[0m\u001b[1m]\u001b[0m \u001b[1m[\u001b[0mServer thread/INFO\u001b[1m]\u001b[0m: Saving worlds\n"
            ],
            "text/html": [
              "<pre style=\"white-space:pre;overflow-x:auto;line-height:normal;font-family:Menlo,'DejaVu Sans Mono',consolas,'Courier New',monospace\">Line <span style=\"color: #008080; text-decoration-color: #008080; font-weight: bold\">186</span>: <span style=\"font-weight: bold\">[</span><span style=\"color: #00ff00; text-decoration-color: #00ff00; font-weight: bold\">11:22:23</span><span style=\"font-weight: bold\">]</span> <span style=\"font-weight: bold\">[</span>Server thread/INFO<span style=\"font-weight: bold\">]</span>: Saving worlds\n",
              "</pre>\n"
            ]
          },
          "metadata": {}
        },
        {
          "output_type": "display_data",
          "data": {
            "text/plain": [
              "Line \u001b[1;36m187\u001b[0m: \u001b[1m[\u001b[0m\u001b[1;92m11:22:24\u001b[0m\u001b[1m]\u001b[0m \u001b[1m[\u001b[0mServer thread/INFO\u001b[1m]\u001b[0m: Saving chunks for level \u001b[32m'ServerLevel\u001b[0m\u001b[32m[\u001b[0m\u001b[32mworld\u001b[0m\u001b[32m]\u001b[0m\u001b[32m'\u001b[0m\u001b[35m/\u001b[0m\u001b[95mminecraft\u001b[0m:overworld\n"
            ],
            "text/html": [
              "<pre style=\"white-space:pre;overflow-x:auto;line-height:normal;font-family:Menlo,'DejaVu Sans Mono',consolas,'Courier New',monospace\">Line <span style=\"color: #008080; text-decoration-color: #008080; font-weight: bold\">187</span>: <span style=\"font-weight: bold\">[</span><span style=\"color: #00ff00; text-decoration-color: #00ff00; font-weight: bold\">11:22:24</span><span style=\"font-weight: bold\">]</span> <span style=\"font-weight: bold\">[</span>Server thread/INFO<span style=\"font-weight: bold\">]</span>: Saving chunks for level <span style=\"color: #008000; text-decoration-color: #008000\">'ServerLevel[world]'</span><span style=\"color: #800080; text-decoration-color: #800080\">/</span><span style=\"color: #ff00ff; text-decoration-color: #ff00ff\">minecraft</span>:overworld\n",
              "</pre>\n"
            ]
          },
          "metadata": {}
        },
        {
          "output_type": "display_data",
          "data": {
            "text/plain": [
              "Line \u001b[1;36m188\u001b[0m: \u001b[1m[\u001b[0m\u001b[1;92m11:22:24\u001b[0m\u001b[1m]\u001b[0m \u001b[1m[\u001b[0mServer thread/INFO\u001b[1m]\u001b[0m: Saving chunks for level \u001b[32m'ServerLevel\u001b[0m\u001b[32m[\u001b[0m\u001b[32mworld\u001b[0m\u001b[32m]\u001b[0m\u001b[32m'\u001b[0m\u001b[35m/\u001b[0m\u001b[95mminecraft\u001b[0m:the_end\n"
            ],
            "text/html": [
              "<pre style=\"white-space:pre;overflow-x:auto;line-height:normal;font-family:Menlo,'DejaVu Sans Mono',consolas,'Courier New',monospace\">Line <span style=\"color: #008080; text-decoration-color: #008080; font-weight: bold\">188</span>: <span style=\"font-weight: bold\">[</span><span style=\"color: #00ff00; text-decoration-color: #00ff00; font-weight: bold\">11:22:24</span><span style=\"font-weight: bold\">]</span> <span style=\"font-weight: bold\">[</span>Server thread/INFO<span style=\"font-weight: bold\">]</span>: Saving chunks for level <span style=\"color: #008000; text-decoration-color: #008000\">'ServerLevel[world]'</span><span style=\"color: #800080; text-decoration-color: #800080\">/</span><span style=\"color: #ff00ff; text-decoration-color: #ff00ff\">minecraft</span>:the_end\n",
              "</pre>\n"
            ]
          },
          "metadata": {}
        },
        {
          "output_type": "display_data",
          "data": {
            "text/plain": [
              "Line \u001b[1;36m189\u001b[0m: \u001b[1m[\u001b[0m\u001b[1;92m11:22:24\u001b[0m\u001b[1m]\u001b[0m \u001b[1m[\u001b[0mServer thread/INFO\u001b[1m]\u001b[0m: Saving chunks for level \u001b[32m'ServerLevel\u001b[0m\u001b[32m[\u001b[0m\u001b[32mworld\u001b[0m\u001b[32m]\u001b[0m\u001b[32m'\u001b[0m\u001b[35m/\u001b[0m\u001b[95mminecraft\u001b[0m:the_nether\n"
            ],
            "text/html": [
              "<pre style=\"white-space:pre;overflow-x:auto;line-height:normal;font-family:Menlo,'DejaVu Sans Mono',consolas,'Courier New',monospace\">Line <span style=\"color: #008080; text-decoration-color: #008080; font-weight: bold\">189</span>: <span style=\"font-weight: bold\">[</span><span style=\"color: #00ff00; text-decoration-color: #00ff00; font-weight: bold\">11:22:24</span><span style=\"font-weight: bold\">]</span> <span style=\"font-weight: bold\">[</span>Server thread/INFO<span style=\"font-weight: bold\">]</span>: Saving chunks for level <span style=\"color: #008000; text-decoration-color: #008000\">'ServerLevel[world]'</span><span style=\"color: #800080; text-decoration-color: #800080\">/</span><span style=\"color: #ff00ff; text-decoration-color: #ff00ff\">minecraft</span>:the_nether\n",
              "</pre>\n"
            ]
          },
          "metadata": {}
        },
        {
          "output_type": "display_data",
          "data": {
            "text/plain": [
              "Line \u001b[1;36m190\u001b[0m: \u001b[1m[\u001b[0m\u001b[1;92m11:22:24\u001b[0m\u001b[1m]\u001b[0m \u001b[1m[\u001b[0mServer thread/INFO\u001b[1m]\u001b[0m: ThreadedAnvilChunkStorage \u001b[1m(\u001b[0mworld\u001b[1m)\u001b[0m: All chunks are saved\n"
            ],
            "text/html": [
              "<pre style=\"white-space:pre;overflow-x:auto;line-height:normal;font-family:Menlo,'DejaVu Sans Mono',consolas,'Courier New',monospace\">Line <span style=\"color: #008080; text-decoration-color: #008080; font-weight: bold\">190</span>: <span style=\"font-weight: bold\">[</span><span style=\"color: #00ff00; text-decoration-color: #00ff00; font-weight: bold\">11:22:24</span><span style=\"font-weight: bold\">]</span> <span style=\"font-weight: bold\">[</span>Server thread/INFO<span style=\"font-weight: bold\">]</span>: ThreadedAnvilChunkStorage <span style=\"font-weight: bold\">(</span>world<span style=\"font-weight: bold\">)</span>: All chunks are saved\n",
              "</pre>\n"
            ]
          },
          "metadata": {}
        },
        {
          "output_type": "display_data",
          "data": {
            "text/plain": [
              "Line \u001b[1;36m191\u001b[0m: \u001b[1m[\u001b[0m\u001b[1;92m11:22:24\u001b[0m\u001b[1m]\u001b[0m \u001b[1m[\u001b[0mServer thread/INFO\u001b[1m]\u001b[0m: ThreadedAnvilChunkStorage \u001b[1m(\u001b[0mDIM1\u001b[1m)\u001b[0m: All chunks are saved\n"
            ],
            "text/html": [
              "<pre style=\"white-space:pre;overflow-x:auto;line-height:normal;font-family:Menlo,'DejaVu Sans Mono',consolas,'Courier New',monospace\">Line <span style=\"color: #008080; text-decoration-color: #008080; font-weight: bold\">191</span>: <span style=\"font-weight: bold\">[</span><span style=\"color: #00ff00; text-decoration-color: #00ff00; font-weight: bold\">11:22:24</span><span style=\"font-weight: bold\">]</span> <span style=\"font-weight: bold\">[</span>Server thread/INFO<span style=\"font-weight: bold\">]</span>: ThreadedAnvilChunkStorage <span style=\"font-weight: bold\">(</span>DIM1<span style=\"font-weight: bold\">)</span>: All chunks are saved\n",
              "</pre>\n"
            ]
          },
          "metadata": {}
        },
        {
          "output_type": "display_data",
          "data": {
            "text/plain": [
              "Line \u001b[1;36m192\u001b[0m: \u001b[1m[\u001b[0m\u001b[1;92m11:22:24\u001b[0m\u001b[1m]\u001b[0m \u001b[1m[\u001b[0mServer thread/INFO\u001b[1m]\u001b[0m: ThreadedAnvilChunkStorage \u001b[1m(\u001b[0mDIM-\u001b[1;36m1\u001b[0m\u001b[1m)\u001b[0m: All chunks are saved\n"
            ],
            "text/html": [
              "<pre style=\"white-space:pre;overflow-x:auto;line-height:normal;font-family:Menlo,'DejaVu Sans Mono',consolas,'Courier New',monospace\">Line <span style=\"color: #008080; text-decoration-color: #008080; font-weight: bold\">192</span>: <span style=\"font-weight: bold\">[</span><span style=\"color: #00ff00; text-decoration-color: #00ff00; font-weight: bold\">11:22:24</span><span style=\"font-weight: bold\">]</span> <span style=\"font-weight: bold\">[</span>Server thread/INFO<span style=\"font-weight: bold\">]</span>: ThreadedAnvilChunkStorage <span style=\"font-weight: bold\">(</span>DIM-<span style=\"color: #008080; text-decoration-color: #008080; font-weight: bold\">1</span><span style=\"font-weight: bold\">)</span>: All chunks are saved\n",
              "</pre>\n"
            ]
          },
          "metadata": {}
        },
        {
          "output_type": "display_data",
          "data": {
            "text/plain": [
              "Line \u001b[1;36m193\u001b[0m: \u001b[1m[\u001b[0m\u001b[1;92m11:22:24\u001b[0m\u001b[1m]\u001b[0m \u001b[1m[\u001b[0mServer thread/INFO\u001b[1m]\u001b[0m: ThreadedAnvilChunkStorage: All dimensions are saved\n"
            ],
            "text/html": [
              "<pre style=\"white-space:pre;overflow-x:auto;line-height:normal;font-family:Menlo,'DejaVu Sans Mono',consolas,'Courier New',monospace\">Line <span style=\"color: #008080; text-decoration-color: #008080; font-weight: bold\">193</span>: <span style=\"font-weight: bold\">[</span><span style=\"color: #00ff00; text-decoration-color: #00ff00; font-weight: bold\">11:22:24</span><span style=\"font-weight: bold\">]</span> <span style=\"font-weight: bold\">[</span>Server thread/INFO<span style=\"font-weight: bold\">]</span>: ThreadedAnvilChunkStorage: All dimensions are saved\n",
              "</pre>\n"
            ]
          },
          "metadata": {}
        }
      ],
      "source": [
        "from os.path import exists\n",
        "from rich.console import Console\n",
        "\n",
        "# @markdown ####**Shows latest log of your minecraft server**\n",
        "# Getting server_folder\n",
        "LOG(f\"\\nColab Version: {colabversion}\")\n",
        "server_name = SERVER_IN_USE(server_name = '')\n",
        "log_path = f'/content/drive/My Drive/minecraft/{server_name}/logs/latest.log'\n",
        "\n",
        "console = Console()  # Control the printing of the log file\n",
        "\n",
        "if exists(log_path):\n",
        "    try:\n",
        "        with open(log_path, 'r', encoding='utf-8', errors='ignore') as file:\n",
        "            content = file.read()  # Read all in once\n",
        "\n",
        "            lines = content.splitlines()\n",
        "            for line_number, line in enumerate(lines, start=1):\n",
        "                console.print(f\"Line {line_number}: {line}\", markup=False)\n",
        "\n",
        "    except Exception as e:\n",
        "        console.print(f\"Error reading the file: {e}\", style=\"bold red\", markup=False)\n",
        "else:\n",
        "    console.print(\"Appears that this file doesn't exists\", style=\"bold red\")"
      ]
    },
    {
      "cell_type": "markdown",
      "metadata": {
        "id": "0rbY03wjTUtC"
      },
      "source": [
        "---\n"
      ]
    },
    {
      "cell_type": "markdown",
      "metadata": {
        "id": "lGqlIg5nTUtC"
      },
      "source": [
        "# 📰  **Software**\n",
        "---\n",
        "\n",
        "Change server software, tunnel and others.\n",
        "\n",
        "---\n",
        "\n",
        "+ Please checking whether your minecraft server is in Gdrive or not."
      ]
    },
    {
      "cell_type": "code",
      "execution_count": null,
      "metadata": {
        "cellView": "form",
        "id": "3TXTXYeuTUtC"
      },
      "outputs": [],
      "source": [
        "\n",
        "from json import load, dump\n",
        "from requests import get\n",
        "from bs4 import BeautifulSoup\n",
        "from os.path import exists\n",
        "from time import sleep\n",
        "import ipywidgets as widgets\n",
        "from jupyter_ui_poll import ui_events\n",
        "# @title Change Server Software\n",
        "# @markdown #### **Change server software**\n",
        "# @markdown This cell will help you change the type of server you're running. Keep in mind this will delete your current server.\n",
        "\n",
        "serverconfig = load(open(SERVERCONFIG)); server_name = serverconfig['server_in_use']; colabconfig = load(open(COLABCONFIG(server_name)))\n",
        "\n",
        "# GUIDANCE\n",
        "choice = input('Do you want to show(s)/hide(h) tunnels info? - ')\n",
        "if 's' in choice: clear_output(); print(\"\\n\\n- **[Ngrok](https://ngrok.com)**\\n  + Follow the prompts.\\n  + The IP will change whenever you restart the server.\\n\\n- **[Cloudflare's argo](https://www.cloudflare.com/)** :\\n    - If the 'Your free tunnel has started!' notification appears => Done.\\n    - Access to your server:\\n    1. Download [Cloudflared client](https://github.com/cloudflare/cloudflared/releases/).\\n    2. Launch the binary with `<your Cloudflare file name> access tcp --hostname <tunnel_address> --url 127.0.0.1:25565` (note: tunnel_address is your address which has been set on your Cloudflare).\\n    4. Finally, connect to `127.0.0.1:25565` from the minecraft client which is located in that machine.\\n\\n- **[Localtonet](https://localtonet.com/)**:\\n  1. Navigate to [TCP-UDG](https://localtonet.com/tunnel/tcpudp) page. Select TCP in Protocol Types.\\n  2. Get your authtoken from [Authtoken](https://localtonet.com/usertoken).\\n  3. Pick the server you'd like your tunnel to operate on.\\n  4. Input the IP and Port values the tunnel will listen to, in this case, for Minecraft, it's typically IP: 127.0.0.1 and Port: 25565.\\n  5. Finally, create and start your tunnel by pressing the Start button.\\n  - Read more on [how-to-use-localtonet-with-minecraft](https://localtonet.com/documents/using-localtonet-with-minecraft)\\n\\n- **[Zrok](https://zrok.io/)**:\\n  1. Download the zrok app through [link](https://docs.zrok.io/docs/getting-started/)\\n  2. Open the shell. Type `zrok invite` to sign up and get the authtoken\\n  3. Follow the prompts\\n  4. Acess to https://api.zrok.io to get fully management\\n   - Read more on https://docs.zrok.io/docs/getting-started. \\n\\n- **[PlayIt](https://playit.gg/)**: follow the prompts.\"); sleep(20)\n",
        "clear_output()\n",
        "\n",
        "#---------------------------------------------------------------------------------- DELETE SERVER ------------------------------------------------------------------------------------#\n",
        "\n",
        "if serverconfig['server_list'] == []: ERROR(\"You haven't installed any server yet. Please create one.\")\n",
        "else:\n",
        "  LOG(f\"\\nColab Version: {colabversion}\")\n",
        "  # Auditing whether file is existed.\n",
        "  if exists(f'{drive_path}/{server_name}') == False: ERROR(\"Server not found. Please create one\")\n",
        "  print(f'Are you sure to delete your current server ({server_name})? ([Y]Yes/[N]No) - ')\n",
        "  while True: # Ask user to confirm.\n",
        "    askdeletionwid = widgets.Text(value='',placeholder='[Y]Yes / [N]No',description='Delete?',disabled=False)#, layout=widgets.Layout(height='400px'))\n",
        "    display(askdeletionwid)\n",
        "    with ui_events() as poll:  # Wait until user chooses.\n",
        "      while askdeletionwid.value == '':\n",
        "        poll(10)\n",
        "        sleep(0.1)\n",
        "    askdeletionwid.close()\n",
        "    askdeletion=askdeletionwid.value.lower()\n",
        "    if askdeletion == 'y' or askdeletion == 'yes':\n",
        "        LOG(\"Proceeding\")\n",
        "        break\n",
        "    elif askdeletion == 'n' or askdeletion == 'no':\n",
        "        ERROR(\"Cancelled by user.\")\n",
        "    else:\n",
        "        print(\"Please use Yes or No.\")\n",
        "  LOG(f'Deleting {server_name}...')\n",
        "\n",
        "  # Delete folder without noticable\n",
        "  !rm -rf \"{drive_path}/{server_name}\"\n",
        "\n",
        "  # Remove the folder name in server config txt files\n",
        "  serverconfig['server_list'].remove(server_name)\n",
        "  if serverconfig['server_in_use'] == server_name:\n",
        "    try: serverconfig['server_in_use']= serverconfig['server_list'][0]\n",
        "    except: serverconfig['server_in_use'] = ''\n",
        "  dump(serverconfig, open(SERVERCONFIG, 'w'))\n",
        "\n",
        "  LOG('Wait until deletion comes through'); sleep(40); LOG('Completed')\n",
        "\n",
        "#---------------------------------------------------------------------------------- SLEEPING ------------------------------------------------------------------------------------#\n",
        "\n",
        "LOG(\"Please wait.\") ; sleep(10)\n",
        "\n",
        "#---------------------------------------------------------------------------------- INSTALL SERVER ------------------------------------------------------------------------------------#\n",
        "def SERVERSJAR(command, server_type=None, version=None):\n",
        "  #Get the download URL (jar) AND return the detailed versions for each software (all)\n",
        "  if command == \"GetVersions\":\n",
        "    if server_type == None: ERROR(\"No server type specified.\")\n",
        "    Server_Jars_All = {\n",
        "      'paper': 'https://api.papermc.io/v2/projects/paper', 'velocity': 'https://api.papermc.io/v2/projects/velocity',\n",
        "      'purpur': 'https://api.purpurmc.org/v2/purpur',\n",
        "      'mohist': 'https://mohistmc.com/api/v2/projects/mohist', 'banner': 'https://mohistmc.com/api/v2/projects/banner',\n",
        "      'folia': 'https://api.papermc.io/v2/projects/folia'\n",
        "    }\n",
        "    if server_type == 'vanilla' or server_type=='snapshot':\n",
        "      rJSON = GET('https://launchermeta.mojang.com/mc/game/version_manifest.json').json()\n",
        "      if server_type == 'vanilla': server_type = 'release'\n",
        "      if version != 'vanilla - latest_version': server_version = [hit[\"id\"] for hit in rJSON[\"versions\"] if hit[\"type\"] == server_type]\n",
        "      else:\n",
        "        return rJSON['latest']['release']\n",
        "\n",
        "    elif server_type == 'paper' or  server_type == 'velocity' or server_type == 'purpur' or server_type == 'mohist' or server_type == 'banner' or server_type == 'folia':\n",
        "      rJSON = GET(Server_Jars_All[server_type]).json()\n",
        "      server_version = [hit for hit in rJSON[\"versions\"]]\n",
        "\n",
        "    elif server_type == 'fabric':\n",
        "      rJSON = GET('https://meta.fabricmc.net/v2/versions/game').json()\n",
        "      server_version = [hit['version'] for hit in rJSON if hit['stable'] == True]\n",
        "\n",
        "    elif server_type == 'forge':\n",
        "      from bs4 import BeautifulSoup\n",
        "      rJSON = GET('https://files.minecraftforge.net/net/minecraftforge/forge/index.html')\n",
        "      soup = BeautifulSoup(rJSON.content, \"html.parser\")\n",
        "      server_version = [tag.text for tag in soup.find_all('a') if '.' in tag.text and '\\n' not in tag.text]\n",
        "    elif server_type == \"bedrock\":\n",
        "      import requests\n",
        "      from bs4 import BeautifulSoup\n",
        "\n",
        "      URL = \"https://www.minecraft.net/en-us/download/server/bedrock/\"\n",
        "      BACKUP_URL = \"https://raw.githubusercontent.com/ghwns9652/Minecraft-Bedrock-Server-Updater/main/backup_download_link.txt\"\n",
        "      HEADERS = {\"User-Agent\": \"Mozilla/5.0 (X11; CrOS x86_64 12871.102.0) AppleWebKit/537.36 (KHTML, like Gecko) Chrome/81.0.4044.141 Safari/537.36\"}\n",
        "\n",
        "      try:\n",
        "          page = requests.get(URL, headers=HEADERS, timeout=5)\n",
        "\n",
        "          soup = BeautifulSoup(page.content, \"html.parser\")\n",
        "\n",
        "          a_tag_res = []\n",
        "          for a_tags in soup.findAll('a', attrs={\"aria-label\":\"Download Minecraft Dedicated Server software for Ubuntu (Linux)\"}):\n",
        "            a_tag_res.append(a_tags['href'])\n",
        "\n",
        "          download_link=a_tag_res[0]\n",
        "\n",
        "      except requests.exceptions.Timeout:\n",
        "          LOG(\"timeout raised, recovering\")\n",
        "          page = requests.get(BACKUP_URL, headers=HEADERS, timeout=5)\n",
        "\n",
        "          download_link=page.text\n",
        "      server_version = download_link.split('bedrock-server-')[1].split(\".zip\")[0]\n",
        "    elif server_type == \"arclight\":\n",
        "      LOG('Before going deeper, please check out https://github.com/IzzelAliz/Arclight')\n",
        "      rJSON = GET('https://files.hypoglycemia.icu/v1/files/arclight/minecraft').json()['files']\n",
        "      server_version  = [hit['name'] for hit in rJSON]\n",
        "    return server_version\n",
        "\n",
        "  elif command == \"GetDownloadUrl\":\n",
        "    if version == None: ERROR(\"No version specified.\")\n",
        "    # RETURN DOWNLOAD URL\n",
        "    if server_type == 'vanilla' or server_type=='snapshot':\n",
        "      rJSON = GET('https://launchermeta.mojang.com/mc/game/version_manifest.json').json()\n",
        "      if server_type == 'vanilla': server_type = 'release'\n",
        "      for hit in rJSON[\"versions\"]:\n",
        "        if hit[\"type\"] == server_type and hit['id'] == version:\n",
        "          return GET(hit['url']).json()[\"downloads\"]['server']['url']\n",
        "\n",
        "    elif server_type == 'paper' or  server_type == 'velocity' or server_type == 'folia':\n",
        "      build = GET(f'https://api.papermc.io/v2/projects/{server_type}/versions/{version}').json()[\"builds\"][-1]\n",
        "      jar_name = GET(f'https://api.papermc.io/v2/projects/{server_type}/versions/{version}/builds/{build}').json()[\"downloads\"][\"application\"][\"name\"]\n",
        "      return f'https://api.papermc.io/v2/projects/{server_type}/versions/{version}/builds/{build}/downloads/{jar_name}'\n",
        "\n",
        "    elif server_type == 'purpur':\n",
        "      build = GET(f'https://api.purpurmc.org/v2/purpur/{version}').json()[\"builds\"][\"latest\"]\n",
        "      return f'https://api.purpurmc.org/v2/purpur/{version}/{build}/download'\n",
        "\n",
        "    elif server_type == 'mohist' or server_type == 'banner':\n",
        "      return GET(f'https://mohistmc.com/api/v2/projects/{server_type}/{version}/builds').json()[\"builds\"][-1][\"url\"]\n",
        "\n",
        "    elif server_type == 'fabric':\n",
        "      installerVersion = GET('https://meta.fabricmc.net/v2/versions/installer').json()[0][\"version\"]\n",
        "      fabricVersion = GET(f'https://meta.fabricmc.net/v2/versions/loader/{version}').json()[0][\"loader\"][\"version\"]\n",
        "      return \"https://meta.fabricmc.net/v2/versions/loader/\" + version + \"/\" + fabricVersion + \"/\" + installerVersion + \"/server/jar\"\n",
        "\n",
        "    elif server_type == 'forge':\n",
        "      from bs4 import BeautifulSoup\n",
        "      rJSON = GET(f'https://files.minecraftforge.net/net/minecraftforge/forge/index_{version}.html')\n",
        "      soup = BeautifulSoup(rJSON.content, \"html.parser\")\n",
        "      tag =  soup.find('a', title=\"Installer\"); tag = str(tag); tag = tag[tag.find('\"') + 1 :]\n",
        "      link = tag[:tag.find('\"')]; link = link[link.find('=') + 1:]; link = link[link.find('=') + 1:]\n",
        "      return link\n",
        "\n",
        "    elif server_type == 'arclight':\n",
        "      rJSON = GET(f'https://files.hypoglycemia.icu/v1/files/arclight/minecraft/{version}/loaders').json()\n",
        "      LOG('Available type: '); print([hit['name'] for hit in rJSON['files']])\n",
        "      build = input(' Type: '); choice = input('Stable(st) or Snapshot(sn): ')\n",
        "      if 'sn' in choice.lower(): choice = 'latest-snapshot';\n",
        "      else: choice = \"latest-stable\";\n",
        "      return f'https://files.hypoglycemia.icu/v1/files/arclight/minecraft/{version}/loaders/{build}/{choice}'\n",
        "\n",
        "    elif server_type == 'bedrock':\n",
        "      LOG('Selecting latest version available...')\n",
        "      import requests\n",
        "      from bs4 import BeautifulSoup\n",
        "\n",
        "      URL = \"https://www.minecraft.net/en-us/download/server/bedrock/\"\n",
        "      BACKUP_URL = \"https://raw.githubusercontent.com/ghwns9652/Minecraft-Bedrock-Server-Updater/main/backup_download_link.txt\"\n",
        "      HEADERS = {\"User-Agent\": \"Mozilla/5.0 (X11; CrOS x86_64 12871.102.0) AppleWebKit/537.36 (KHTML, like Gecko) Chrome/81.0.4044.141 Safari/537.36\"}\n",
        "\n",
        "      try:\n",
        "          page = requests.get(URL, headers=HEADERS, timeout=5)\n",
        "\n",
        "          soup = BeautifulSoup(page.content, \"html.parser\")\n",
        "\n",
        "          a_tag_res = []\n",
        "          for a_tags in soup.findAll('a', attrs={\"aria-label\":\"Download Minecraft Dedicated Server software for Ubuntu (Linux)\"}):\n",
        "            a_tag_res.append(a_tags['href'])\n",
        "\n",
        "          download_link=a_tag_res[0]\n",
        "\n",
        "      except requests.exceptions.Timeout:\n",
        "          LOG(\"timeout raised, recovering\")\n",
        "          page = requests.get(BACKUP_URL, headers=HEADERS, timeout=5)\n",
        "\n",
        "          download_link=page.text\n",
        "\n",
        "      return download_link\n",
        "    else: ERROR('Wrong server type.')\n",
        "  elif command == \"GetServerTypes\": return ['vanilla','snapshot','paper','purpur','mohist', \"arclight\",'velocity', 'banner', 'fabric',\"folia\", 'forge', 'bedrock']\n",
        "  else: ERROR(\"Not a valid command.\")\n",
        "\n",
        "#---------------------------------------------------------------------------------- MAIN CODE ------------------------------------------------------------------------------------#\n",
        "# Auditing whether file is existed.\n",
        "if exists(f'{drive_path}/{server_name}'): ERROR('Bad server deletion. Please try again.')\n",
        "  # Create folder\n",
        "MKDIR(f'{drive_path}/{server_name}')\n",
        "LOG('Checking if folder created. Please wait.')\n",
        "sleep(40)\n",
        "LOG(\"Select your server type:\")\n",
        "stdrop = widgets.Dropdown(description=\"Server Type:\", options=[\"\"]+SERVERSJAR(\"GetServerTypes\")) # Ask for server type\n",
        "display(stdrop)\n",
        "with ui_events() as poll:\n",
        "    while stdrop.value == '':\n",
        "        poll(10)          # React to UI events (upto 10 at a time)\n",
        "        sleep(0.1)\n",
        "stdrop.close()\n",
        "server_type=stdrop.value                                                                        # End asking\n",
        "LOG(f'Choosen server type: {server_type}')\n",
        "if server_type != \"bedrock\": # Check if server type isn't bedrock.\n",
        "  LOG(\"Select your server version:\")\n",
        "  svdrop = widgets.Dropdown(description=\"Server version: \", style={'description_width': 'initial'}, options=['']+SERVERSJAR(\"GetVersions\", server_type=server_type)) # Ask for server version\n",
        "  display(svdrop)\n",
        "  with ui_events() as poll:  # Wait until user chooses.\n",
        "    while svdrop.value == '':\n",
        "      poll(10)\n",
        "      sleep(0.1)\n",
        "  svdrop.close()\n",
        "  version=svdrop.value                                                                                                                                               # End asking\n",
        "  LOG(f'\\nChoosen server version: {version}')\n",
        "else:\n",
        "  version=SERVERSJAR(\"GetVersions\", server_type=server_type)\n",
        "\n",
        "  LOG(\"Using latest bedrock version\")\n",
        "LOG(\"Select a Tunnel provider:\")\n",
        "tunnelsrvs = widgets.Dropdown(description=\"Tunnel Service: \", style={'description_width': 'initial'}, options=['','ngrok', 'argo', 'zrok', 'playit', 'localtonet', 'localxpose', 'tailscale', \"minekube-gate\"]) # Ask for server version\n",
        "display(tunnelsrvs)\n",
        "with ui_events() as poll:  # Wait until user chooses.\n",
        "    while tunnelsrvs.value == '':\n",
        "        poll(10)\n",
        "        sleep(0.1)\n",
        "tunnelsrvs.close()\n",
        "tunnel_service=tunnelsrvs.value                                                                                                                                                                # End asking\n",
        "LOG(f'Choosen Tunnel service: {tunnel_service}')\n",
        "serverconfig = load(open(SERVERCONFIG))\n",
        "serverconfig['server_list'] += [server_name]\n",
        "serverconfig['server_in_use'] = server_name\n",
        "if tunnel_service == 'ngrok':\n",
        "  LOG(\"Tunnel Settings:\")\n",
        "  LOG('Get your authtoken from https://dashboard.ngrok.com/get-started/your-authtoken')\n",
        "  token = input('Your authtoken: ')\n",
        "  if token == \"\":\n",
        "    ERROR(\"\\nNo token provided\")\n",
        "  serverconfig['ngrok_proxy']['authtoken'] = token\n",
        "  LOG('Available Regions:', ' ap - Asia/Pacific (Singapore)', ' au - Australia (Sydney)', ' eu - Europa (Frankfurt - Germany)', ' in - India (Mumbai)', ' jp - Japan (Tokyo)', ' sa - America (São Paulo - Brazil)', ' us - United States (Ohio)', sep='\\n')\n",
        "  serverconfig['ngrok_proxy']['region'] = input('Region: ')\n",
        "elif tunnel_service == 'zrok':\n",
        "  # Settings variable\n",
        "  LOG(\"Tunnel Settings:\")\n",
        "  if \"zrok_proxy\" not in serverconfig:\n",
        "    serverconfig[\"zrok_proxy\"] = {\"authtoken\": \"\"}\n",
        "  token = input('Your zrok token: ')\n",
        "  if token == \"\":\n",
        "    ERROR(\"\\nNo token provided\")\n",
        "  serverconfig['zrok_proxy']['authtoken'] = token\n",
        "elif tunnel_service == 'localtonet':\n",
        "  LOG(\"Tunnel Settings:\")\n",
        "  LOG('Get your authtoken from https://localtonet.com/usertoken')\n",
        "  if \"localtonet_proxy\" not in serverconfig:\n",
        "    serverconfig[\"localtonet_proxy\"] = {\"authtoken\": \"\"}\n",
        "  token = input('Your localtonet token: ')\n",
        "  if token == \"\":\n",
        "    ERROR(\"\\nNo token provided\")\n",
        "  serverconfig['localtonet_proxy']['authtoken'] = token\n",
        "elif tunnel_service == 'localxpose':\n",
        "  LOG(\"Tunnel Settings:\")\n",
        "  LOG('Get your authtoken from https://localxpose.io/dashboard/access')\n",
        "  if \"localxpose_proxy\" not in serverconfig:\n",
        "    serverconfig[\"localxpose_proxy\"] = {\"authtoken\": \"\"}\n",
        "  token = input('Your localxpose token: ')\n",
        "  if token == \"\":\n",
        "    ERROR(\"\\nNo token provided.\")\n",
        "  serverconfig['localxpose_proxy']['authtoken'] = token\n",
        "elif tunnel_service == 'tailscale':\n",
        "  LOG(\"Tunnel Settings:\")\n",
        "  LOG('Get your authtoken from https://login.tailscale.com/admin/settings/keys . Make sure to select reusable')\n",
        "  if \"tailscale_proxy\" not in serverconfig:\n",
        "    serverconfig[\"tailscale_proxy\"] = {\"authtoken\": \"\"}\n",
        "  if \"machine_info\" not in serverconfig[\"tailscale_proxy\"]:\n",
        "    serverconfig[\"tailscale_proxy\"][\"machine_info\"] = \"\"\n",
        "  sleep(10)\n",
        "  token = input('Your tailscale token: ')\n",
        "  if token == \"\":\n",
        "    ERROR(\"\\nNo token provided.\")\n",
        "  serverconfig['tailscale_proxy']['authtoken'] = token\n",
        "elif tunnel_service == 'minekube-gate':\n",
        "  LOG('Get your token from https://app.minekube.com/orgs')\n",
        "  if \"minekube-gate_proxy\" not in serverconfig:\n",
        "    serverconfig[\"minekube-gate_proxy\"] = {\"token\": \"\"}\n",
        "  token = input('Your minekube token: ')\n",
        "  if token == \"\":\n",
        "    ERROR(\"\\nNo token provided\")\n",
        "  serverconfig[\"minekube-gate_proxy\"]['token'] = token\n",
        "dump(serverconfig, open(SERVERCONFIG, 'w'))\n",
        "# Set up colabconfig\n",
        "colabconfig = {\"server_type\": server_type, \"server_version\": version, \"tunnel_service\" : tunnel_service}\n",
        "dump(colabconfig, open(COLABCONFIG(server_name),'w'))\n",
        "# Download jar file\n",
        "if server_type == \"bedrock\":\n",
        "  DOWNLOAD_FILE(url = SERVERSJAR(\"GetDownloadUrl\", server_type, version), path = f\"{drive_path}/{server_name}\", file_name='bedrock-server.zip', force=True, headers={\"User-Agent\":\"Mozilla/4.0 (compatible; MSIE 6.0; Windows NT 5.1; BEDROCK-UPDATER)\"})\n",
        "  LOG(\"Unzipping bedrock server zip.\")\n",
        "  ! unzip {drive_path}/{server_name}/bedrock-server.zip -d {drive_path}/{server_name} >/dev/null && $log \"Successfully unzipped\" || echo \"unzip error.\"\n",
        "  LOG(\"Unzipped successfully\")\n",
        "  sleep(10)\n",
        "  LOG('\\nCompleted!')\n",
        "else:\n",
        "  if server_type == 'forge': jarname = 'forge-installer.jar' # The jar file name (forge need a special process)\n",
        "  else: jarname = JAR_LIST_RUN(version)[server_type]\n",
        "  DOWNLOAD_FILE(url= SERVERSJAR(\"GetDownloadUrl\", server_type, version), path = f\"{drive_path}/{server_name}\", file_name= jarname, force=True)\n",
        "  sleep(40)\n",
        "  LOG('\\nCompleted!')"
      ]
    },
    {
      "cell_type": "markdown",
      "metadata": {
        "id": "VMw_ma77TUtC"
      },
      "source": [
        "## **🌐 Tunneling options**\n",
        "---\n"
      ]
    },
    {
      "cell_type": "code",
      "execution_count": 43,
      "metadata": {
        "cellView": "form",
        "id": "tiMXc7xDTUtD",
        "colab": {
          "base_uri": "https://localhost:8080/",
          "height": 51
        },
        "outputId": "d9c5c2c3-37ee-44e1-ebf6-3de5065cee07"
      },
      "outputs": [
        {
          "output_type": "display_data",
          "data": {
            "text/plain": [
              "\n",
              "\u001b[1;32m[\u001b[0m\u001b[1;32m LOG \u001b[0m\u001b[1;32m]\u001b[0m Colab Version: \u001b[1;36m0.2\u001b[0m.\u001b[1;36m5\u001b[0m\n"
            ],
            "text/html": [
              "<pre style=\"white-space:pre;overflow-x:auto;line-height:normal;font-family:Menlo,'DejaVu Sans Mono',consolas,'Courier New',monospace\">\n",
              "<span style=\"color: #008000; text-decoration-color: #008000; font-weight: bold\">[ LOG ]</span> Colab Version: <span style=\"color: #008080; text-decoration-color: #008080; font-weight: bold\">0.2</span>.<span style=\"color: #008080; text-decoration-color: #008080; font-weight: bold\">5</span>\n",
              "</pre>\n"
            ]
          },
          "metadata": {}
        },
        {
          "output_type": "display_data",
          "data": {
            "text/plain": [
              "\n",
              "\u001b[1;32m[\u001b[0m\u001b[1;32m LOG \u001b[0m\u001b[1;32m]\u001b[0m DONE. Tunnel Service changed to localtonet\n"
            ],
            "text/html": [
              "<pre style=\"white-space:pre;overflow-x:auto;line-height:normal;font-family:Menlo,'DejaVu Sans Mono',consolas,'Courier New',monospace\">\n",
              "<span style=\"color: #008000; text-decoration-color: #008000; font-weight: bold\">[ LOG ]</span> DONE. Tunnel Service changed to localtonet\n",
              "</pre>\n"
            ]
          },
          "metadata": {}
        }
      ],
      "source": [
        "# @title Change Tunnel Service\n",
        "from json import load, dump\n",
        "from requests import get\n",
        "from bs4 import BeautifulSoup\n",
        "from os.path import exists\n",
        "from time import sleep\n",
        "\n",
        "# @markdown #### **Tunnel Service** (Available tunnels: [ngrok](https://ngrok.com/), [cloudfare-argo](https://www.cloudflare.com/), [zrok.io](https://zrok.io/),  [playit.gg](https://playit.gg/), [localtonet](https://localtonet.com), [tailscale](https://tailscale.com/) and [Minekube-Gate](https://gate.minekube.com/) + playit)\n",
        "tunnel_service = \"localtonet\" # @param [\"Leave as it is\", \"argo\", \"zrok\", \"playit\", \"localtonet\", \"localxpose\", \"ngrok\", \"tailscale\", \"minekube-gate\"]\n",
        "\n",
        "serverconfig = load(open(SERVERCONFIG));\n",
        "server_name = serverconfig['server_in_use']\n",
        "colabconfig = load(open(COLABCONFIG(server_name)))\n",
        "\n",
        "# GUIDANCE\n",
        "choice = input('Do you want to show(s)/hide(h) tunnels info? - ')\n",
        "if 's' in choice: clear_output(); print(\"\\n\\n- **[Ngrok](https://ngrok.com)**\\n  + Follow the prompts.\\n  + The IP will change whenever you restart the server.\\n\\n- **[Cloudflare's argo](https://www.cloudflare.com/)** :\\n    - If the 'Your free tunnel has started!' notification appears => Done.\\n    - Access to your server:\\n    1. Download [Cloudflared client](https://github.com/cloudflare/cloudflared/releases/).\\n    2. Launch the binary with `<your Cloudflare file name> access tcp --hostname <tunnel_address> --url 127.0.0.1:25565` (note: tunnel_address is your address which has been set on your Cloudflare).\\n    4. Finally, connect to `127.0.0.1:25565` from the minecraft client which is located in that machine.\\n\\n- **[Localtonet](https://localtonet.com/)**:\\n  1. Navigate to [TCP-UDG](https://localtonet.com/tunnel/tcpudp) page. Select TCP in Protocol Types.\\n  2. Get your authtoken from [Authtoken](https://localtonet.com/usertoken).\\n  3. Pick the server you'd like your tunnel to operate on.\\n  4. Input the IP and Port values the tunnel will listen to, in this case, for Minecraft, it's typically IP: 127.0.0.1 and Port: 25565.\\n  5. Finally, create and start your tunnel by pressing the Start button.\\n  - Read more on [how-to-use-localtonet-with-minecraft](https://localtonet.com/documents/using-localtonet-with-minecraft)\\n\\n- **[Zrok](https://zrok.io/)**:\\n  1. Download the zrok app through [link](https://docs.zrok.io/docs/getting-started/)\\n  2. Open the shell. Type `zrok invite` to sign up and get the authtoken\\n  3. Follow the prompts\\n  4. Acess to https://api.zrok.io to get fully management\\n   - Read more on https://docs.zrok.io/docs/getting-started. \\n\\n- **[PlayIt](https://playit.gg/)**: follow the prompts.\"); sleep(20)\n",
        "clear_output()\n",
        "\n",
        "#---------------------------------------------------------------------------------- MAIN CODE ------------------------------------------------------------------------------------#\n",
        "LOG(f\"\\nColab Version: {colabversion}\")\n",
        "if tunnel_service == 'Leave as it is':\n",
        "  tunnel_service = colabconfig['tunnel_service']\n",
        "  LOG(\"\\nDONE. No changes made.\")\n",
        "else:\n",
        "\n",
        "  # Load serverconfig\n",
        "  serverconfig = load(open(SERVERCONFIG))\n",
        "  serverconfig['server_in_use'] = server_name\n",
        "\n",
        "  # Set up colabconfig\n",
        "  colabconfig['tunnel_service'] = tunnel_service\n",
        "  dump(colabconfig, open(COLABCONFIG(server_name),'w'))\n",
        "\n",
        "\n",
        "  LOG(f'\\nDONE. Tunnel Service changed to {tunnel_service}')"
      ]
    },
    {
      "cell_type": "markdown",
      "metadata": {
        "id": "hG8Ns9K7TUtD"
      },
      "source": [
        "---"
      ]
    },
    {
      "cell_type": "code",
      "execution_count": 42,
      "metadata": {
        "cellView": "form",
        "colab": {
          "base_uri": "https://localhost:8080/",
          "height": 102
        },
        "id": "ZhHeGoh9TUtD",
        "outputId": "0f3a1de1-7dcb-4f78-a4c4-b78b2ba08151"
      },
      "outputs": [
        {
          "output_type": "display_data",
          "data": {
            "text/plain": [
              "\n",
              "\u001b[1;32m[\u001b[0m\u001b[1;32m LOG \u001b[0m\u001b[1;32m]\u001b[0m Colab Version: \u001b[1;36m0.2\u001b[0m.\u001b[1;36m5\u001b[0m\n"
            ],
            "text/html": [
              "<pre style=\"white-space:pre;overflow-x:auto;line-height:normal;font-family:Menlo,'DejaVu Sans Mono',consolas,'Courier New',monospace\">\n",
              "<span style=\"color: #008000; text-decoration-color: #008000; font-weight: bold\">[ LOG ]</span> Colab Version: <span style=\"color: #008080; text-decoration-color: #008080; font-weight: bold\">0.2</span>.<span style=\"color: #008080; text-decoration-color: #008080; font-weight: bold\">5</span>\n",
              "</pre>\n"
            ]
          },
          "metadata": {}
        },
        {
          "output_type": "display_data",
          "data": {
            "text/plain": [
              "\u001b[1;32m[\u001b[0m\u001b[1;32m LOG \u001b[0m\u001b[1;32m]\u001b[0m Get your authtoken from \u001b[4;94mhttps://localtonet.com/usertoken\u001b[0m\n"
            ],
            "text/html": [
              "<pre style=\"white-space:pre;overflow-x:auto;line-height:normal;font-family:Menlo,'DejaVu Sans Mono',consolas,'Courier New',monospace\"><span style=\"color: #008000; text-decoration-color: #008000; font-weight: bold\">[ LOG ]</span> Get your authtoken from <span style=\"color: #0000ff; text-decoration-color: #0000ff; text-decoration: underline\">https://localtonet.com/usertoken</span>\n",
              "</pre>\n"
            ]
          },
          "metadata": {}
        },
        {
          "name": "stdout",
          "output_type": "stream",
          "text": [
            "Your localtonet token: l2mMthKbW05TDxzwJPiagCXf3c6HB9o8R\n"
          ]
        },
        {
          "output_type": "display_data",
          "data": {
            "text/plain": [
              "\n",
              "\u001b[1;32m[\u001b[0m\u001b[1;32m LOG \u001b[0m\u001b[1;32m]\u001b[0m DONE. Tunnel Token changed.\n"
            ],
            "text/html": [
              "<pre style=\"white-space:pre;overflow-x:auto;line-height:normal;font-family:Menlo,'DejaVu Sans Mono',consolas,'Courier New',monospace\">\n",
              "<span style=\"color: #008000; text-decoration-color: #008000; font-weight: bold\">[ LOG ]</span> DONE. Tunnel Token changed.\n",
              "</pre>\n"
            ]
          },
          "metadata": {}
        },
        {
          "output_type": "display_data",
          "data": {
            "text/plain": [
              "\n",
              "\u001b[1;32m[\u001b[0m\u001b[1;32m LOG \u001b[0m\u001b[1;32m]\u001b[0m Make sure to execute the \u001b[32m\"Change Tunnel Service\"\u001b[0m cell to use the correct tunnel provider.\n"
            ],
            "text/html": [
              "<pre style=\"white-space:pre;overflow-x:auto;line-height:normal;font-family:Menlo,'DejaVu Sans Mono',consolas,'Courier New',monospace\">\n",
              "<span style=\"color: #008000; text-decoration-color: #008000; font-weight: bold\">[ LOG ]</span> Make sure to execute the <span style=\"color: #008000; text-decoration-color: #008000\">\"Change Tunnel Service\"</span> cell to use the correct tunnel provider.\n",
              "</pre>\n"
            ]
          },
          "metadata": {}
        }
      ],
      "source": [
        "# @title Change Tunnel Token\n",
        "from json import load, dump\n",
        "from requests import get\n",
        "from bs4 import BeautifulSoup\n",
        "from os.path import exists\n",
        "from time import sleep\n",
        "\n",
        "# @markdown #### **Tunnel Service** (Available tunnels: [ngrok](https://ngrok.com/), [cloudfare-argo](https://www.cloudflare.com/), [zrok.io](https://zrok.io/),  [playit.gg](https://playit.gg/), [localtonet](https://localtonet.com), [tailscale](https://tailscale.com/) and [Minekube-Gate](https://gate.minekube.com/) + playit)\n",
        "tunnel_service = \"localtonet\" # @param [\"zrok\", \"localtonet\", \"localxpose\", \"ngrok\", \"tailscale\", \"minekube-gate\"]\n",
        "\n",
        "serverconfig = load(open(SERVERCONFIG));\n",
        "server_name = serverconfig['server_in_use']\n",
        "colabconfig = load(open(COLABCONFIG(server_name)))\n",
        "\n",
        "# GUIDANCE\n",
        "choice = input('Do you want to show(s)/hide(h) tunnels info? - ')\n",
        "if 's' in choice: clear_output(); print(\"\\n\\n- **[Ngrok](https://ngrok.com)**\\n  + Follow the prompts.\\n  + The IP will change whenever you restart the server.\\n\\n- **[Cloudflare's argo](https://www.cloudflare.com/)** :\\n    - If the 'Your free tunnel has started!' notification appears => Done.\\n    - Access to your server:\\n    1. Download [Cloudflared client](https://github.com/cloudflare/cloudflared/releases/).\\n    2. Launch the binary with `<your Cloudflare file name> access tcp --hostname <tunnel_address> --url 127.0.0.1:25565` (note: tunnel_address is your address which has been set on your Cloudflare).\\n    4. Finally, connect to `127.0.0.1:25565` from the minecraft client which is located in that machine.\\n\\n- **[Localtonet](https://localtonet.com/)**:\\n  1. Navigate to [TCP-UDG](https://localtonet.com/tunnel/tcpudp) page. Select TCP in Protocol Types.\\n  2. Get your authtoken from [Authtoken](https://localtonet.com/usertoken).\\n  3. Pick the server you'd like your tunnel to operate on.\\n  4. Input the IP and Port values the tunnel will listen to, in this case, for Minecraft, it's typically IP: 127.0.0.1 and Port: 25565.\\n  5. Finally, create and start your tunnel by pressing the Start button.\\n  - Read more on [how-to-use-localtonet-with-minecraft](https://localtonet.com/documents/using-localtonet-with-minecraft)\\n\\n- **[Zrok](https://zrok.io/)**:\\n  1. Download the zrok app through [link](https://docs.zrok.io/docs/getting-started/)\\n  2. Open the shell. Type `zrok invite` to sign up and get the authtoken\\n  3. Follow the prompts\\n  4. Acess to https://api.zrok.io to get fully management\\n   - Read more on https://docs.zrok.io/docs/getting-started. \\n\\n- **[PlayIt](https://playit.gg/)**: follow the prompts.\"); sleep(20)\n",
        "clear_output()\n",
        "#---------------------------------------------------------------------------------- MAIN CODE ------------------------------------------------------------------------------------#\n",
        "LOG(f\"\\nColab Version: {colabversion}\")\n",
        "\n",
        "# Load serverconfig\n",
        "serverconfig = load(open(SERVERCONFIG))\n",
        "serverconfig['server_in_use'] = server_name\n",
        "if tunnel_service == 'ngrok':\n",
        "  LOG('Get your authtoken from https://dashboard.ngrok.com/get-started/your-authtoken')\n",
        "  token = input('Your authtoken: ')\n",
        "  if token == \"\":\n",
        "    ERROR(\"\\nNo token provided\")\n",
        "  serverconfig['ngrok_proxy']['authtoken'] = token\n",
        "  LOG('Available Regions:', ' ap - Asia/Pacific (Singapore)', ' au - Australia (Sydney)', ' eu - Europa (Frankfurt - Germany)', ' in - India (Mumbai)', ' jp - Japan (Tokyo)', ' sa - America (São Paulo - Brazil)', ' us - United States (Ohio)', sep='\\n')\n",
        "  serverconfig['ngrok_proxy']['region'] = input('Region: ')\n",
        "elif tunnel_service == 'zrok':\n",
        "  # Settings variable\n",
        "  if \"zrok_proxy\" not in serverconfig:\n",
        "    serverconfig[\"zrok_proxy\"] = {\"authtoken\": \"\"}\n",
        "  token = input('Your zrok token: ')\n",
        "  if token == \"\":\n",
        "    ERROR(\"\\nNo token provided\")\n",
        "  serverconfig['zrok_proxy']['authtoken'] = token\n",
        "elif tunnel_service == 'localtonet':\n",
        "  LOG('Get your authtoken from https://localtonet.com/usertoken')\n",
        "  if \"localtonet_proxy\" not in serverconfig:\n",
        "    serverconfig[\"localtonet_proxy\"] = {\"authtoken\": \"\"}\n",
        "  token = input('Your localtonet token: ')\n",
        "  if token == \"\":\n",
        "    ERROR(\"\\nNo token provided\")\n",
        "  serverconfig['localtonet_proxy']['authtoken'] = token\n",
        "elif tunnel_service == 'localxpose':\n",
        "  LOG('Get your authtoken from https://localxpose.io/dashboard/access')\n",
        "  if \"localxpose_proxy\" not in serverconfig:\n",
        "    serverconfig[\"localxpose_proxy\"] = {\"authtoken\": \"\"}\n",
        "  token = input('Your localxpose token: ')\n",
        "  if token == \"\":\n",
        "    ERROR(\"\\nNo token provided.\")\n",
        "  serverconfig['localxpose_proxy']['authtoken'] = token\n",
        "elif tunnel_service == 'tailscale':\n",
        "  LOG('Get your authtoken from https://login.tailscale.com/admin/settings/keys . Make sure to select reusable')\n",
        "  if \"tailscale_proxy\" not in serverconfig:\n",
        "    serverconfig[\"tailscale_proxy\"] = {\"authtoken\": \"\"}\n",
        "  if \"machine_info\" not in serverconfig[\"tailscale_proxy\"]:\n",
        "    serverconfig[\"tailscale_proxy\"][\"machine_info\"] = \"\"\n",
        "  sleep(10)\n",
        "  token = input('Your tailscale token: ')\n",
        "  if token == \"\":\n",
        "    ERROR(\"\\nNo token provided.\")\n",
        "  serverconfig['tailscale_proxy']['authtoken'] = token\n",
        "elif tunnel_service == 'minekube-gate':\n",
        "  LOG('Get your authtoken from https://localtonet.com/usertoken')\n",
        "  if \"minekube-gate_proxy\" not in serverconfig:\n",
        "    serverconfig[\"minekube-gate_proxy\"] = {\"token\": \"\"}\n",
        "  token = input('Your minekube token: ')\n",
        "  if token == \"\":\n",
        "    ERROR(\"\\nNo token provided\")\n",
        "  serverconfig[\"minekube-gate_proxy\"]['token'] = token\n",
        "\n",
        "dump(serverconfig, open(SERVERCONFIG, 'w'))\n",
        "\n",
        "LOG('\\nDONE. Tunnel Token changed.')\n",
        "LOG('\\nMake sure to execute the \"Change Tunnel Service\" cell to use the correct tunnel provider.')"
      ]
    },
    {
      "cell_type": "markdown",
      "metadata": {
        "id": "qBFPzlxxTUtD"
      },
      "source": [
        "---"
      ]
    },
    {
      "cell_type": "code",
      "execution_count": null,
      "metadata": {
        "cellView": "form",
        "id": "uDaFxagWTUtD"
      },
      "outputs": [],
      "source": [
        "# @title Playit Options\n",
        "from json import load, dump\n",
        "from requests import get\n",
        "from bs4 import BeautifulSoup\n",
        "from os.path import exists\n",
        "from time import sleep\n",
        "from toml import load as tload\n",
        "option = \"Setup / Reset agent (for key renewal)\" # @param [\"Setup / Reset agent (for key renewal)\",\"Reset agent (wipe)\",\"Save secret key to drive\",\"Change/set secret key\"]\n",
        "serverconfig = load(open(SERVERCONFIG));\n",
        "server_name = serverconfig['server_in_use']\n",
        "colabconfig = load(open(COLABCONFIG(server_name)))\n",
        "\n",
        "# GUIDANCE\n",
        "\n",
        "LOG(f\"\\nColab Version: {colabversion}\")\n",
        "\n",
        "#---------------------------------------------------------------------------------- MAIN CODE ------------------------------------------------------------------------------------#\n",
        "! command -v playit || curl -SsL https://playit-cloud.github.io/ppa/key.gpg | gpg --dearmor | sudo tee /etc/apt/trusted.gpg.d/playit.gpg > /dev/null && echo \"deb [signed-by=/etc/apt/trusted.gpg.d/playit.gpg] https://playit-cloud.github.io/ppa/data ./\" | sudo tee /etc/apt/sources.list.d/playit-cloud.list && sudo apt -qq update && sudo apt install playit >/dev/null && echo \"Playit.gg installed\" || echo \"Failed to install playit\"\n",
        "\n",
        "secretfile=!playit secret-path\n",
        "secretfile = secretfile[0]\n",
        "\n",
        "if option == \"Change/set secret key\": # Set a custom playit key/agent\n",
        "  if \"playit_proxy\" not in serverconfig:\n",
        "    serverconfig[\"playit_proxy\"] = {\"secretkey\": \"\"}\n",
        "  token = input('Enter your playit secretkey: ')\n",
        "  if token == \"\":\n",
        "    ERROR(\"\\nNo secretkey provided\")\n",
        "  serverconfig['playit_proxy']['secretkey'] = token\n",
        "  dump(serverconfig, open(SERVERCONFIG, 'w'))\n",
        "\n",
        "elif option == \"Save secret key to drive\": # Save colab's playit token to drive\n",
        "    if secretfile != \"/root/.config/playit_gg/playit.toml\":\n",
        "      with open(secretfile, \"r\") as f:\n",
        "        file = tload(f)\n",
        "      secretkey=file[\"secret_key\"]\n",
        "      if \"playit_proxy\" not in serverconfig:\n",
        "        serverconfig[\"playit_proxy\"] = {\"secretkey\": \"\"}\n",
        "      serverconfig['playit_proxy']['secretkey'] = secretkey\n",
        "      dump(serverconfig, open(SERVERCONFIG, 'w'))\n",
        "    else: ERROR(\"Playit not setup. Please run the setup function.\")\n",
        "elif option == \"Setup / Reset agent (for key renewal)\": # Setup or reset agent and tokens.\n",
        "  if secretfile != \"/root/.config/playit_gg/playit.toml\":\n",
        "    LOG(\"Deleting previous agent key.\")\n",
        "    !printf '\\e[36m[ PLAYIT ]\\e[0m ' && playit reset\n",
        "    !sleep 5\n",
        "    LOG(\"Playit setup:\")\n",
        "    !printf '\\e[36m[ PLAYIT ]\\e[0m ' && playit setup\n",
        "    !sleep 5\n",
        "    LOG(\"Setup complete. Moving key to drive\")\n",
        "    with open(secretfile, \"r\") as f:\n",
        "        file = tload(f)\n",
        "    secretkey=file[\"secret_key\"]\n",
        "    if \"playit_proxy\" not in serverconfig:\n",
        "      serverconfig[\"playit_proxy\"] = {\"secretkey\": \"\"}\n",
        "    serverconfig['playit_proxy']['secretkey'] = secretkey\n",
        "    dump(serverconfig, open(SERVERCONFIG, 'w'))\n",
        "    LOG(\"DONE\")\n",
        "\n",
        "  else:\n",
        "    LOG(\"Playit setup:\")\n",
        "    !printf '\\e[36m[ PLAYIT ]\\e[0m ' && playit setup\n",
        "    !sleep 5\n",
        "    LOG(\"Setup complete. Saving key to drive\")\n",
        "    secretfile=!playit secret-path\n",
        "    secretfile = secretfile[0]\n",
        "    with open(secretfile, \"r\") as f:\n",
        "        file = tload(f)\n",
        "    secretkey=file[\"secret_key\"]\n",
        "    if \"playit_proxy\" not in serverconfig:\n",
        "      serverconfig[\"playit_proxy\"] = {\"secretkey\": \"\"}\n",
        "    serverconfig['playit_proxy']['secretkey'] = secretkey\n",
        "    dump(serverconfig, open(SERVERCONFIG, 'w'))\n",
        "    LOG(\"DONE.\")\n",
        "elif option == \"Reset agent (wipe)\": # Resets playit token from colab and colab files.\n",
        "  LOG(\"Playit Reset (wipe)\")\n",
        "  !printf '\\e[36m[ PLAYIT ]\\e[0m ' && playit reset\n",
        "  serverconfig['playit_proxy']['secretkey'] = \"\"\n",
        "  dump(serverconfig, open(SERVERCONFIG, 'w'))\n",
        "  LOG(\"DONE.\")"
      ]
    },
    {
      "cell_type": "markdown",
      "metadata": {
        "id": "gmYwfqeRTUtD"
      },
      "source": [
        "---"
      ]
    },
    {
      "cell_type": "markdown",
      "metadata": {
        "id": "BYElubquTUtE"
      },
      "source": [
        "# 🎈  **Plugins, mods** (Java Only!)\n",
        "\n",
        "####Download modpack/mod/plugin from [curseforge](https://www.curseforge.com/Minecraft) and [modrinth](https://modrinth.com/)\n",
        "---\n"
      ]
    },
    {
      "cell_type": "code",
      "execution_count": null,
      "metadata": {
        "cellView": "form",
        "id": "3AMijGOOTUtE"
      },
      "outputs": [],
      "source": [
        "from pyngrok import conf, ngrok\n",
        "from os import environ, pathsep, listdir\n",
        "from zipfile import ZipFile\n",
        "from requests import get, post\n",
        "from time import sleep\n",
        "from json import load, dump, loads\n",
        "from google.colab import files as fls\n",
        "\n",
        "# @markdown ####**Your download choice**\n",
        "choice = 'search' #@param ['search', 'url', 'upload_file', 'install_geysermc', 'dynmap support']\n",
        "\n",
        "#@markdown #### **Your search name**\n",
        "search_name_or_url = '' # @param {type: 'string'}\n",
        "\n",
        "# @markdown #####Choose the place to download mod/modpack/plugin\n",
        "software = 'Curseforge' # @param [\"Curseforge\", \"Modrinth\"]\n",
        "\n",
        "# @markdown ####**Details:**\n",
        "# @markdown\n",
        "# @markdown ##### (none -> don't search (version -- doesn't wellcoming to do this), default -> set up according to colabconfig file)\n",
        "categories = 'none'   #@param ['none', 'default', 'vanilla', 'fabric', 'forge', 'paper', 'purpur']\n",
        "versions = \"default\" # @param [\"default\"] {allow-input: true}\n",
        "project_types = 'none' # @param ['none', 'default', 'mods', 'plugins', 'modpacks']\n",
        "index = 'none' #@param ['none', 'relevance', 'downloads', 'follows', 'newest', 'updated']\n",
        "\n",
        "# CHecking and setting variable\n",
        "server_name = SERVER_IN_USE(server_name = '')\n",
        "if exists(f\"{drive_path}/{server_name}/server.properties\") == False: ERROR(' Running your minecraft server before editing properties')\n",
        "else:\n",
        "  colabconfig = COLABCONFIG_LOAD(server_name)\n",
        "  if versions == 'default': versions = colabconfig[\"server_version\"]\n",
        "  if categories == 'default': categories = colabconfig['server_type']\n",
        "  if project_types == 'default':\n",
        "    if 'fabric' in categories or 'forge' in categories : project_types = 'mods'\n",
        "    elif 'paper' in categories or 'purpur' in categories : project_types = 'plugins'\n",
        "    elif 'arclight' in categories or 'mohist'  in categories or 'banner': project_types = input('Project type (mods or plugins or modpacks) : ');\n",
        "  else: project_types = 'tmp';\n",
        "  if 'arclight' in categories or 'mohist'  in categories or 'banner' in categories or 'vanilla' in categories or 'snapshot' in categories: categories = 'none';\n",
        "  elif 'paper' in categories or 'purpur' in categories:  ERROR(f'Hmm, maybe you install the wrong types. Your server_type (currently) is {categories}') if project_types == 'mods' else print('') ;\n",
        "  elif 'fabric' in categories or 'forge' in categories:  ERROR(f'Hmm, maybe you install the wrong types. Your server_type (currently) is {categories}') if project_types == 'plugins' else print('');\n",
        "if 'vanilla' in categories or 'snapshot' in categories:  ERROR(f'Hmm, maybe you install the wrong types. Your server_type (currently) is {categories}') if project_types == \"modpacks\" else print('');\n",
        "path = f'{drive_path}/{server_name}/{project_types}'\n",
        "if exists(path) == False:\n",
        "  MKDIR(path)\n",
        "  sleep(40)\n",
        "url = ''\n",
        "if choice == 'url':\n",
        "  if 'http' in search_name_or_url or 'https' in search_name_or_url: url = search_name_or_url\n",
        "  else: url = input('Url: ')\n",
        "search_name = search_name_or_url\n",
        "\n",
        "# I will not do remove the class file. Because:\n",
        "#   1. It is hard and very slow to extract them all\n",
        "#   2. It will broken in some specific runtime\n",
        "\n",
        "#----------------------------------------------------------------------------------- MAIN CODE ---------------------------------------------------------------------------#\n",
        "\n",
        "class Download_:\n",
        "  def __init__(self, choice, url, server_name, categories, versions, project_types, index):\n",
        "    self.server_name = SERVER_IN_USE(server_name)\n",
        "    if exists(f\"{drive_path}/{self.server_name}/server.properties\") == False: ERROR(' Running your minecraft server before editing properties')\n",
        "    else:\n",
        "      self.colabconfig = COLABCONFIG_LOAD(self.server_name)\n",
        "      self.categories = categories\n",
        "      self.versions = versions\n",
        "      self.project_types = project_types\n",
        "      self.index = index\n",
        "      self.path = f'{drive_path}/{self.server_name}/{self.project_types}'\n",
        "      self.choice = choice\n",
        "      self.url = url\n",
        "  def FACETS(self, software):\n",
        "    # Get all the syntax\n",
        "    categories = ''; index = ''; versions = ''\n",
        "    if software == 'Modrinth':\n",
        "      facets = \"[\"\n",
        "      if self.categories != 'none': facets += '[\"categories:' + self.categories + '\"]';\n",
        "      if facets != '[' and self.versions != 'none': facets += \",\" + '[\"versions:' + self.versions +'\"]'\n",
        "      elif self.versions != 'none': facets += '[\"versions:' + self.versions + '\"]';\n",
        "      if self.project_types == 'mods': project_types = 'mod'\n",
        "      elif self.project_types == 'plugins': project_types = 'plugin'\n",
        "      if facets != '[' and self.project_types != 'tmp': facets += \",\" + '[\"project_type:' + project_types + '\"]'\n",
        "      elif self.project_types != 'tmp': facets += '[\"project_type:' + project_types + '\"]'\n",
        "      facets += \"]\"; facetsInURL = \"\";\n",
        "      if facets != \"[]\": facetsInURL += f'&facets={facets}'\n",
        "      if self.index != \"none\": facetsInURL += f'&index={self.index}'\n",
        "      return facetsInURL\n",
        "    else:\n",
        "      if self.categories != 'none':\n",
        "        if self.categories == 'fabric': categories = 4 #Fabric\n",
        "        elif self.categories == 'forge': categories = 1 #Forge\n",
        "        elif self.categories == 'quilt': categories = 5 # quilt\n",
        "        categories = f\"&modLoaderType={categories}\"\n",
        "      if self.index != \"none\":\n",
        "        if self.index == \"relevance\": index = 1 # Featured\n",
        "        elif self.index == \"downloads\": index = 6 #TotalDownloads\n",
        "        elif self.index == \"follows\": index = 2 #Popularity\n",
        "        elif self.index == \"newest\": index = 11 #ReleasedDate\n",
        "        elif self.index == \"updated\": index = 3 #LastUpdated\n",
        "        index = f\"&sortField={index}\"\n",
        "      if self.versions != \"none\": versions = f\"&gameVersion={self.versions}\"\n",
        "      return categories + versions + index\n",
        "  def SEARCH(self, search_name, software):\n",
        "    project = {}\n",
        "    LOG(f'\\nSearching for the related of {search_name} ...\\n')\n",
        "    facetsInURL = self.FACETS(software)\n",
        "    if software == \"Modrinth\":\n",
        "      # Get syntax and get data\n",
        "      rJSON = GET(f'https://api.modrinth.com/v2/search?query={search_name}{facetsInURL}').json()\n",
        "      # Get the list of all relevant project\n",
        "      for hit in rJSON['hits']:\n",
        "        # Auditing if it for server or not.\n",
        "        if hit['server_side'] == 'optional' or hit['server_side'] == 'required':\n",
        "          # Get a full list title : description\n",
        "          print(hit['slug'], \" : \", hit['description'])\n",
        "          project[hit['slug']] = hit['project_id']\n",
        "    elif software == 'Curseforge':\n",
        "      LOG(f\"Curseforge doesn't have the exact searching key for cilent-side or server-side => you may get errors when running this {self.project_types}\")\n",
        "      # Because I haven't found any corresponded of project types in the search engine of Curseforge, I don't use it for searching.\n",
        "      # The gameid of Minecraft is 432\n",
        "      rJSON = GET(f\"https://api.curse.tools/v1/cf/mods/search?gameId=432&searchFilter={search_name}{facetsInURL}\").json()\n",
        "      # Get the list of all relevant project\n",
        "      for hit in rJSON[\"data\"]:\n",
        "        # Get a full list name: summary\n",
        "        print(hit[\"name\"], ' : ', hit[\"summary\"])\n",
        "        project[hit['name']] = str(hit[\"id\"])\n",
        "    # Checking whether your search name wrong or not. If yes => Get the name of project => Get project id\n",
        "    project_names =''\n",
        "    if project == {}: ERROR(f\"\\nSomething went wrong. Please check your search name.\")\n",
        "    else:\n",
        "      LOG('\\nType the project_name you want to download')\n",
        "      project_names= input('Project_name: ')\n",
        "      while project_names not in project:\n",
        "        LOG('\\nWrong project_names please type aigain. If you want to quit, type \"None\".')\n",
        "        project_names= input('\\nProject_name: ')\n",
        "        if project_names == 'None': ERROR('Stopping...')\n",
        "    return [project, project_names]\n",
        "  def MODPACK(self, file_name, software):\n",
        "    # settings up\n",
        "    sleep(40)\n",
        "    %cd $drive_path\n",
        "    server_name = self.server_name\n",
        "    path_drive = file_name\n",
        "    while path_drive.find('.') != -1: path_drive = path_drive[path_drive.find('.')+1:]\n",
        "    path_drive = file_name[: file_name.find('.' + path_drive)]\n",
        "    if exists(f'{drive_path}/{self.server_name}/tmp/{path_drive}') == False:\n",
        "      MKDIR(f'{self.server_name}/tmp/{path_drive}')\n",
        "      sleep(40)\n",
        "    # Unzipping modpack\n",
        "    ! unzip -q '{server_name}/tmp/{file_name}' -d '{server_name}/tmp/{path_drive}' > /dev/null &&echo 'Unzip done' || echo 'Failed to unzip'\n",
        "    sleep(30)\n",
        "    # Copy the directory in orverrides and paste it (overrides includes the config files of the developer)\n",
        "    try:\n",
        "      for fln in listdir(f'{server_name}/tmp/{path_drive}/overrides'):\n",
        "        ! mv -f '{server_name}/tmp/{path_drive}/overrides/{fln}' '{drive_path}/{server_name}' > /dev/null && echo 'Moving done' || echo 'Failed to move'\n",
        "        sleep(40)\n",
        "    except: pass\n",
        "    # Each page give the difference file json. The file json give full details.\n",
        "    # (Modrinth: modrinth.index.json- Download link, Curseforge: manifest.json - fileID, projectID) for mods which is included in modpack.\n",
        "    if software == 'Modrinth':\n",
        "      with ZipFile(f'{server_name}/tmp/{file_name}') as myzip:\n",
        "        manifest = loads(myzip.read('modrinth.index.json'))['files']\n",
        "        for file_ in manifest:\n",
        "          path_ = file_[\"path\"].split(\"/\")[0]; file_name_ = file_[\"path\"].split(\"/\")[1]\n",
        "          DOWNLOAD_FILE(url = file_[\"downloads\"][0], path = f'{drive_path}/{self.server_name}/{path_}', file_name = file_name_)\n",
        "    else:\n",
        "      with ZipFile(f'{server_name}/tmp/{file_name}') as myzip:\n",
        "        manifest = loads(myzip.read('manifest.json'))['files']\n",
        "        for file_ in manifest:\n",
        "          project_id =  file_[\"projectID\"]; fileID = str(file_[\"fileID\"]); rJSON = GET(f'https://api.curse.tools/v1/cf/mods/{project_id}/files/{fileID}').json()[\"data\"]\n",
        "          DOWNLOAD_FILE(url = f'https://www.curseforge.com/api/v1/mods/{project_id}/files/{fileID}/download', path = f'{drive_path}/{self.server_name}/mods', file_name = rJSON[\"fileName\"])\n",
        "  def Install_(self, search_name, software):\n",
        "    LOG(f'Acessing: {self.server_name}')\n",
        "    if self.choice == 'url':\n",
        "      url = self.url\n",
        "      # Find file_name in download url\n",
        "      filename = input('File name (optional) : ')\n",
        "      if filename == '':\n",
        "        filename = url[url.find(\"/\") + 1:]\n",
        "        while filename.find(\"/\")!= -1: filename = filename[filename.find(\"/\") + 1:]\n",
        "      else:\n",
        "        format = input('Format : ')\n",
        "        if f\".{format}\" not in filename: filename += f\".{format}\"\n",
        "      # Download file\n",
        "      if ' ' in filename: filename = filename.replace(' ', '_')\n",
        "      DOWNLOAD_FILE(url= url, path = self.path, file_name= filename)\n",
        "      if self.project_types == 'tmp': self.MODPACK(file_name= filename, software= software); sleep(40)\n",
        "      LOG('\\nCompleted')\n",
        "    elif self.choice == 'upload_file':\n",
        "      uploaded = fls.upload()\n",
        "      try:\n",
        "        file_ = [fn for fn in uploaded.keys()][0] # Get the name of the uploaded file\n",
        "        filename = input('File name (optinal)') # The file name which you want to be\n",
        "        if filename != '':\n",
        "          format = input('Format : ')\n",
        "          if format != '' and f\".{format}\" not in filename: filename += f\".{format}\"\n",
        "          else: format = file_[file_.find('.'):]\n",
        "          try:\n",
        "            ! sudo mv -f '{drive_path}/{file_}' '{self.path}/{filename}.{format}'\n",
        "          except: ERROR(\"Lol, you didn't upload file yet.\")\n",
        "        else:\n",
        "          ! sudo mv -f '{drive_path}/{file_}' '{self.path}/{file_}'\n",
        "        if self.project_types == 'tmp': self.MODPACK(file_name= filename, software= software); sleep(40)\n",
        "        LOG('\\nCompleted.')\n",
        "      except: ERROR(\"Lol, you didn't upload file yet.\")\n",
        "    elif self.choice == 'search':\n",
        "      a = self.SEARCH(search_name, software)\n",
        "      project = a[0]; project_names = a[1]; check = False;\n",
        "      project_id = project[project_names]\n",
        "      if software == 'Modrinth': rJSON = GET(f'https://api.modrinth.com/v2/project/{project_id}/version').json()\n",
        "      else: rJSON = GET(f'https://api.curse.tools/v1/cf/mods/{project_id}').json()['data']['latestFilesIndexes'];\n",
        "      for data in rJSON:\n",
        "        if software == 'Curseforge': gameversions= data[\"gameVersion\"]\n",
        "        else: gameversions = data[\"game_versions\"]\n",
        "        if self.versions in gameversions:\n",
        "          if software == 'Curseforge': files = data['filename']; url = f'https://www.curseforge.com/api/v1/mods/{project_id}/files/' + str(data['fileId']) + '/download'\n",
        "          else: files = data['files'][0]['filename']; url = data['files'][0]['url']\n",
        "          if ' ' in files: files = files.replace(' ', '_')\n",
        "          DOWNLOAD_FILE(url= url, path = self.path, file_name= files)\n",
        "          check = True\n",
        "        if check == True and self.project_types == 'tmp':  self.MODPACK(file_name= files, software= software); LOG('\\nCompleted.'); break\n",
        "        elif check: LOG('\\nCompleted.'); break\n",
        "      if check == False: ERROR(f\"It seems that {self.software} doesn't support this {self.project_types}\")\n",
        "    elif choice == 'install_geysermc':\n",
        "      if self.categories != 'none' and self.colabconfig['tunnel_service'] in [\"playit\", \"zrok\"] and self.categories != 'forge':\n",
        "        if 'velocity' in self.categories:\n",
        "          rJSON = GET('https://api.papermc.io/v2/projects/velocity').json()['versions']\n",
        "          if self.versions not in rJSON: ERROR('Not found versions')\n",
        "          if exists(f'{drive_path}/{server_name}/plugins') == False:\n",
        "            MKDIR(f'{drive_path}/{server_name}/plugins')\n",
        "            sleep(40)\n",
        "          plugin = ['ViaVersion', 'ViaBackwards']\n",
        "          for plugins in plugin:\n",
        "            rJSON = GET(f'https://hangar.papermc.io/api/v1/projects/{plugins}/versions').json()['result']; check = False\n",
        "            if self.categories.upper() in rJSON[0]['platformDependenciesFormatted']:\n",
        "              for hit in rJSON:\n",
        "                if self.versions in hit['platformDependencies'][self.categories.upper()]:\n",
        "                  DOWNLOAD_FILE(url = hit[\"downloads\"][self.categories.upper()][\"downloadUrl\"], path = f'{drive_path}/{self.server_name}/plugins', file_name = hit['downloads'][self.categories.upper()][\"fileInfo\"]['name'])\n",
        "                  check = True; break\n",
        "              if check == False: LOG(f\"{plugins} can't be downloaded in your velocity server. You can try to install and upload it through website\")\n",
        "              else: LOG(f'Installing {plugins} done. Try to install  for more supporter version')\n",
        "            else: LOG(f\"{plugins} can't be downloaded in your velocity server. You can try to install and upload it through website\")\n",
        "          DOWNLOAD_FILE(url = 'https://download.geysermc.org/v2/projects/geyser/versions/latest/builds/latest/downloads/velocity', path = f'{drive_path}/{server_name}/plugins', file_name = 'Geyser-Velocity.jar')\n",
        "          LOG('You only need to install Floodgate on the BungeeCord or Velocity proxy server, unless you want to use the Floodgate API on the backend servers. Additionally, it will display Bedrock edition skins properly.')\n",
        "          LOG('For more details. Check out https://wiki.geysermc.org/floodgate/setup/')\n",
        "          DOWNLOAD_FILE(url = 'https://download.geysermc.org/v2/projects/floodgate/versions/latest/builds/latest/downloads/velocity', path = f'{drive_path}/{server_name}/plugins', file_name = 'floodgate-velocity.jar')\n",
        "        elif 'fabric' in self.categories:\n",
        "          rJSON = GET('https://meta.fabricmc.net/v2/versions/game').json()['version']\n",
        "          # warningserver_version\n",
        "          if self.versions < rJSON and self.versions >= '1.17':\n",
        "            LOG('Geyser-Fabric run only on 1.21.')\n",
        "            LOG('To use Geyser with an older server version, you can use Geyser on a BungeeCord/Velocity proxy or Geyser-paper instead')\n",
        "          else: ERROR(f\"Your server_type isn't compatible for running Geyser_MC\")\n",
        "          LOG('Geyser only works with server-side mods. Mods that require a client-side install will not work!')\n",
        "          LOG('Download geyser mc mods')\n",
        "          DOWNLOAD_FILE(url = 'https://download.geysermc.org/v2/projects/geyser/versions/latest/builds/latest/downloads/fabric', path = f'{drive_path}/{self.server_name}/mods', file_name= 'Geyser-Fabric.jar')\n",
        "          # Geyser mc mod require fabric api.\n",
        "          LOG('Download Fabric api (requirement)')\n",
        "          rJSON = GET(f'https://api.modrinth.com/v2/project/P7dR8mSH/version').json()\n",
        "          check = False\n",
        "          for data in rJSON:\n",
        "            if self.versions in data[\"game_versions\"]:\n",
        "              files = data['files'][0]; url = files['url']\n",
        "              DOWNLOAD_FILE(url= url, path = self.path, file_name= files['filename']); check = True\n",
        "            if check: break\n",
        "          if check == False: ERROR(f\"It seems that theresn't fabric api for this minecraft version\")\n",
        "          LOG('Download floodgate')\n",
        "          rJSON = GET(f'https://api.modrinth.com/v2/project/bWrNNfkb/version').json()\n",
        "          check = False\n",
        "          for data in rJSON:\n",
        "            if versions in data[\"game_versions\"]:\n",
        "              files = data['files'][0]; url = files['url']\n",
        "              DOWNLOAD_FILE(url= url, path = self.path, file_name= files['filename']); check = True\n",
        "            if check: break\n",
        "          if check == False: ERROR(f\"It seems that theresn't fabric api for this minecraft version\")\n",
        "        elif 'paper' in self.categories or 'purpur' in self.categories:\n",
        "          rJSON = GET('https://api.papermc.io/v2/projects/paper').json()['versions'][-1]\n",
        "          if self.versions < rJSON and self.versions >= '1.17':\n",
        "            plugin = ['ViaVersion', 'ViaBackwards']\n",
        "            for plugins in plugin:\n",
        "              rJSON = GET(f'https://hangar.papermc.io/api/v1/projects/{plugins}/versions').json()['result']; check = False\n",
        "              if self.categories.upper() in rJSON[0]['platformDependenciesFormatted']:\n",
        "                for hit in rJSON:\n",
        "                  if self.versions in hit['platformDependencies'][self.categories.upper()]:\n",
        "                    DOWNLOAD_FILE(url = hit[\"downloads\"][self.categories.upper()][\"downloadUrl\"], path = f'{drive_path}/{self.server_name}/plugins', file_name = hit['downloads'][self.categories.upper()][\"fileInfo\"]['name'])\n",
        "                    check = True; break\n",
        "                if check == False: LOG(f\"{plugins} can't be downloaded in your velocity server. You can try to install and upload it through website\")\n",
        "                else: LOG(f'Installing {plugins} done. Try to install  for more supporter version')\n",
        "              else: LOG(f\"{plugins} can't be downloaded in your velocity server. You can try to install and upload it through website\")\n",
        "          else: ERROR(f\"Your server_type isn't compatible for running Geyser_MC\")\n",
        "          LOG('Download geyser mc plugin')\n",
        "          DOWNLOAD_FILE(url = 'https://download.geysermc.org/v2/projects/geyser/versions/latest/builds/latest/downloads/spigot', path = f'{drive_path}/{self.server_name}/plugins', file_name= 'Geyser-Spigot.jar')\n",
        "          LOG('Download floodgate')\n",
        "          DOWNLOAD_FILE(url = 'https://download.geysermc.org/v2/projects/floodgate/versions/latest/builds/latest/downloads/spigot', path = f'{drive_path}/{self.server_name}/plugins', file_name = 'floodgate-spigot.jar')\n",
        "        # Set up notification\n",
        "        self.colabconfig['Geysermc']= 'notdone'\n",
        "        dump(self.colabconfig, open(COLABCONFIG(self.server_name),'w'))\n",
        "        # Ping\n",
        "        LOG('\\nInstalling done. Try to rerun the server to configuration.')\n",
        "      else: ERROR(f\"Your server_type isn't compatible for running Geyser_MC\")\n",
        "    elif choice == 'dynmap support':\n",
        "      if self.categories == 'paper' or self.categories == 'purpur' or self.categories == 'fabric' or self.categories == 'forge':\n",
        "        if self.colabconfig['tunnel_service'] != 'ngrok' or self.colabconfig['tunnel_service'] != 'playit' or self.colabconfig['tunnel_service'] != 'localtonet' or self.colabconfig['tunnel_service'] !='zrok': ERROR('The server is not compatible to use dynmap')\n",
        "        if self.categories == 'fabric' or self.categories == 'forge': software = 'Curseforge'\n",
        "        else: software = 'Modrinth'\n",
        "        check = False\n",
        "        if software == 'Modrinth': project_id = 'fRQREgAc'; rJSON = GET(f'https://api.modrinth.com/v2/project/{project_id}/version').json()\n",
        "        else: project_id = '59433'; rJSON = GET(f'https://api.curse.tools/v1/cf/mods/{project_id}').json()['data']['latestFilesIndexes'];\n",
        "        for data in rJSON:\n",
        "          if software == 'Curseforge': gameversions= data[\"gameVersion\"]\n",
        "          else: gameversions = data[\"game_versions\"]\n",
        "          if self.versions in gameversions:\n",
        "            if software == 'Curseforge' and self.catergories in ganeversions[0]: url = f'https://www.curseforge.com/api/v1/mods/{project_id}/files/' + str(data['fileId']) + '/download'\n",
        "            elif self.categories in data['loaders']: url = data['files'][0]['url']\n",
        "            DOWNLOAD_FILE(url= url, path = self.path, file_name= 'dynmap-server.jar')\n",
        "            check = True\n",
        "          if check: LOG('\\nCheck https://github.com/webbukkit/dynmap/wiki/Installation-Setup-of-Dynmap-on-Linux for more informations.'); LOG('\\nWe have done the step 1 in the set up dynmap guide. Enjoy!'); break\n",
        "        if check == False: ERROR(f\"It seems that there is an error in installing dynmap plugin/mod\")\n",
        "      else: ERROR('Wrong choice')\n",
        "\n",
        "#----------------------------------------------------------------------------------- RUNNING ---------------------------------------------------------------------------#\n",
        "LOG(f\"\\nColab Version: {colabversion}\")\n",
        "Download_(choice = choice, url = url, server_name = server_name, categories = categories, versions= versions, project_types= project_types, index= index).Install_( search_name = search_name.lower(), software = software)"
      ]
    },
    {
      "cell_type": "markdown",
      "metadata": {
        "id": "tPXj_92XTUtF"
      },
      "source": [
        "---"
      ]
    },
    {
      "cell_type": "markdown",
      "metadata": {
        "id": "zhtylbBNTUtG"
      },
      "source": [
        "# **📁 File Management** (Java Only!)\n",
        "---\n"
      ]
    },
    {
      "cell_type": "code",
      "execution_count": null,
      "metadata": {
        "cellView": "form",
        "id": "JPdk7bKpTUtG"
      },
      "outputs": [],
      "source": [
        "from os.path import exists\n",
        "from time import sleep\n",
        "LOG(f\"\\nColab Version: {colabversion}\")\n",
        "# @markdown #### **Back up server or file?**\n",
        "server_name= SERVER_IN_USE(server_name= '')\n",
        "path = '/content/drive/MyDrive/minecraft' # Default path. Change to any location you wanna\n",
        "choice = 'server' # @param ['server', 'file']\n",
        "file_name = ''; file_backup = '';  server_backup = ''\n",
        "if choice == 'server':\n",
        "  server_backup = input('Server back up name: ')\n",
        "else: file_name = input('File name'); file_backup = input('File back up name: ')\n",
        "\n",
        "# Settings path\n",
        "if file_name != '':\n",
        "  path1 = path + f'/{server_name}/' + file_name\n",
        "  if server_backup != '':\n",
        "    if exists(f'{drive_path}/{server_backup}') == False:\n",
        "      !mkdir '{drive_path}/{server_backup}'\n",
        "      sleep(40)\n",
        "  if file_backup != '' and server_backup != '': path2 = path + f'/{server_backup}/' + file_backup\n",
        "  elif file_backup != '' and server_backup == '': path2 = path + f'/{server_name}/' + file_backup\n",
        "  elif file_backup == '' and server_backup != '':  path2 = path + f'/{server_backup}/' + '(back-up)'\n",
        "  else: path2 = path + f'/{server_name}/' + '(back-up)'\n",
        "else:\n",
        "  path1 = path + f'/{server_name}'\n",
        "  if server_backup != '': path2 = path + f'/{server_backup}'\n",
        "  else: path2 = path + f'/{server_name}' + '(back-up)'\n",
        "# Checking and zipping\n",
        "if exists(path1) == False: ERROR(' Creating your minecraft server before backing up files')\n",
        "if exists(path2) == True: ERROR(' Back up path exists')\n",
        "# Zipping\n",
        "!zip -r '{path2}.zip' '{path1}' && echo \"Zipping done!\" || echo \"Zipping faled.\"\n",
        "# Download\n",
        "INFO('We recommend you to download manually on Google Drive, anyways.')\n",
        "choice = input('Download your file? (y/n) : ')\n",
        "if choice == 'y': fls.download(f'{path2}.zip')"
      ]
    },
    {
      "cell_type": "code",
      "execution_count": null,
      "metadata": {
        "cellView": "form",
        "id": "Dsgnr9EGTUtG"
      },
      "outputs": [],
      "source": [
        "from google.colab import files as fls\n",
        "from os import listdir\n",
        "LOG(f\"\\nColab Version: {colabversion}\")\n",
        "\n",
        "%cd $drive_path\n",
        "# @markdown #### **World map uploader**\n",
        "choice = 'upload_file' # @param ['upload_file', 'url']\n",
        "world  = 'see all available' # @param ['see all available', 'world', 'world_nether', 'world_the_end']\n",
        "server_name = SERVER_IN_USE(server_name = '')\n",
        "print(server_name)\n",
        "\n",
        "if exists(f\"{drive_path}/{server_name}/world\") == False: ERROR('Running your minecraft server')\n",
        "else:\n",
        "  INFO(\"This only applied on .zip files. Others will work too but won't be supported\")\n",
        "  if world == 'see all available':\n",
        "    world_ = [i for i in listdir(f'{drive_path}/{server_name}') if 'world' in i]\n",
        "    LOG('All world file found: ')\n",
        "    for world in world_: print('       -       ', world)\n",
        "    world = input('World file: ')\n",
        "  if choice == 'url':\n",
        "    # Download file\n",
        "    INFO('Check that the .ZIP file or .ZIP file URL is direct to the world files.')\n",
        "    sleep(4)\n",
        "    url = input('Download link : ')\n",
        "    DOWNLOAD_FILE(url= url, path= f\"{drive_path}/{server_name}\", file_name= 'tmp.zip')\n",
        "    # Unzipping\n",
        "    !sudo unzip {drive_path}/{server_name}/tmp.zip -d $world >/dev/null\n",
        "    !rm -rf \"{drive_path}/{server_name}/tmp.zip\" >/dev/null\n",
        "  else:\n",
        "    %cd $drive_path/$server_name\n",
        "    # Download file\n",
        "    uploaded = fls.upload()\n",
        "    try:\n",
        "      file_name = [fn for fn in uploaded.keys()][0] # Get the name of the uploaded file\n",
        "      # Unzipping\n",
        "      zip_path = f'{drive_path}/{server_name}/{file_name}'\n",
        "      !rm -rf \"{drive_path}/{server_name}/world\" \"{drive_path}/{server_name}/world_nether\" \"{drive_path}/{server_name}/world_the_end\"\n",
        "      !sudo unzip '{zip_path}' -d '{world}' > /dev/null && echo \"Unzipped successfully\" || echo \"Failed to unzip. Your file musn't has special characters like / ? ( ) among others. Check and try again. If you think this is an error contact us by our discord: https://discord.gg/XRFWV9EREu\"\n",
        "      !rm -rf \"{drive_path}/{server_name}/{file_name}\" >/dev/null\n",
        "    except: ERROR(\"Lol, you didn't upload file yet.\")\n",
        "  %cd $drive_path"
      ]
    },
    {
      "cell_type": "markdown",
      "metadata": {
        "id": "QXQHK4WTTUtG"
      },
      "source": [
        "# **⚡ Server Improvement** (Java Only!)\n",
        "---"
      ]
    },
    {
      "cell_type": "code",
      "execution_count": null,
      "metadata": {
        "id": "MGPrmsVNTUtG"
      },
      "outputs": [],
      "source": [
        "from jproperties import Properties\n",
        "from os.path import exists\n",
        "from time import sleep\n",
        "from ruamel.yaml import YAML\n",
        "import sys\n",
        "yaml = YAML()\n",
        "LOG(f\"\\nColab Version: {colabversion}\")\n",
        "\n",
        "# @markdown #### **Improve the tps of your server.**\n",
        "# @markdown ##### Some plugins/mods/settings will be affeted after running this function. Thinking carefully.\n",
        "\n",
        "#---------------------------------------------------------------------------------- MAIN CODE ------------------------------------------------------------------------------------#\n",
        "\n",
        "server_name = SERVER_IN_USE(server_name = ''); colabconfig = COLABCONFIG_LOAD(server_name)\n",
        "if exists(f'{drive_path}/{server_name}/plugins') == True or exists(f'{drive_path}/{server_name}/mods') == True:\n",
        "  if exists(f'{drive_path}/{server_name}/plugins') == True: path = f'{drive_path}/{server_name}/plugins'\n",
        "  elif exists(f'{drive_path}/{server_name}/mods') == True: path = f'{drive_path}/{server_name}/mods'\n",
        "  choice = input('Chunky (y/n) :')\n",
        "  if 'y' in choice.lower():\n",
        "    LOG('Installing chunky.'); LOG('Any plugin/software that enables/disables/reloads plugins on runtime. See this https://github.com/YouHaveTrouble/minecraft-optimization#plugins-enablingdisabling-other-plugins to understand why.')\n",
        "    check = False; project_id = 'fALzjamp'; rJSON = GET(f'https://api.modrinth.com/v2/project/{project_id}/version').json()\n",
        "    for data in rJSON:\n",
        "      gameversions = data[\"game_versions\"]\n",
        "      if colabconfig['server_version'] in gameversions and colabconfig['server_type'] in data['loaders']: url = data['files'][0]['url']; DOWNLOAD_FILE(url= url, path = path, file_name= 'chunky.jar'); check = True\n",
        "      if check: break\n",
        "    if check == False: ERROR(f\"It seems that there is an error in installing chunky.jar\")\n",
        "\n",
        "if exists(f\"{drive_path}/{server_name}/server.properties\") == False: ERROR(' Running your minecraft server before editing properties')\n",
        "else:\n",
        "  LOG('Changing server.properties')\n",
        "  server_properties = Properties()\n",
        "  with open(f\"{drive_path}/{server_name}/server.properties\", \"rb\") as f:\n",
        "      server_properties.load(f, \"utf-8\")\n",
        "  server_properties[\"sync-chunk-writes\"] = 'false'\n",
        "  server_properties['network-compression-threshold'] = '-1'\n",
        "  server_properties['simulation-distance'] = '4'\n",
        "  server_properties['view-distance'] = '7'\n",
        "  with open(f\"{drive_path}/{server_name}/server.properties\", \"wb\") as f:\n",
        "      server_properties.store(f, encoding=\"utf-8\")\n",
        "\n",
        "LOG('List of yaml files which have been edited: \\n')\n",
        "if exists(f'{drive_path}/{server_name}/purpur.yml'):\n",
        "  with open(f'{drive_path}/{server_name}/purpur.yml', 'r') as file_:\n",
        "    config = yaml.load(file_)\n",
        "  config['use-alternate-keepalive'] = 'true'\n",
        "  config['player']['teleport-if-outside-border'] = 'true'\n",
        "  yaml.dump(config, sys.stdout)\n",
        "\n",
        "if exists(f'{drive_path}/{server_name}/spigot.yml'):\n",
        "  with open(f'{drive_path}/{server_name}/spigot.yml') as file_:\n",
        "    config = yaml.load(file_)\n",
        "  config['world-settings']['default']['view-distance'] = 'default'\n",
        "  config['world-settings']['default']['mob-spawn-range'] = 3\n",
        "  config['world-settings']['default']['entity-activation-range']['animals'] = 16\n",
        "  config['world-settings']['default']['entity-activation-range']['monsters'] = 24\n",
        "  config['world-settings']['default']['entity-activation-range']['raiders'] = 48\n",
        "  config['world-settings']['default']['entity-activation-range']['misc'] = 8\n",
        "  config['world-settings']['default']['entity-activation-range']['water'] = 8\n",
        "  config['world-settings']['default']['entity-activation-range']['villagers'] = 16\n",
        "  config['world-settings']['default']['entity-activation-range']['flying-monsters'] = 48\n",
        "  config['world-settings']['default']['entity-tracking-range'] = {'players': 48, 'animals': 48, 'monsters': 48, 'misc': 32, 'other': 64}\n",
        "  config['world-settings']['default']['merge-radius'] = {'item': 3.5, 'exp': 4.0}\n",
        "  yaml.dump(config, sys.stdout)\n",
        "\n",
        "if exists(f'{drive_path}/{server_name}/config/paper-world-defaults.yml'):\n",
        "  with open(f'{drive_path}/{server_name}/config/paper-world-defaults.yml') as file_:\n",
        "    config = yaml.load(file_)\n",
        "  config['chunks']['delay-chunk-unloads-by'] -'10s'\n",
        "  config['chunks']['max-auto-save-chunks-per-tick'] = 10\n",
        "  config['chunks']['prevent-moving-into-unloaded-chunks'] = 'true'\n",
        "  config['chunks']['entity-per-chunk-save-limit'] = {'area_effect_cloud': 8, 'arrow': 16, 'dragon_fireball': 3, 'egg': 8, 'ender_pearl': 8,\n",
        "                                                     'experience_bottle': 3, 'experience_orb': 16, 'eye_of_ender': 8, 'fireball': 8, 'firework_rocket': 8,\n",
        "                                                     'llama_spit': 3, 'potion': 8, 'shulker_bullet': 8, 'small_fireball': 8, 'snowball': 8, 'spectral_arrow': 16,\n",
        "                                                     'trident': 16, 'wither_skull': 4}\n",
        "  config['entities']['spawning']['non-player-arrow-despawn-rate'] = 20\n",
        "  config['entities']['spawning']['despawn-ranges'] = {'ambient': {'hard': 72, 'soft': 30}, 'axolotl': {'hard': 72, 'soft': 30}, 'creature': {'hard': 72, 'soft': 30}, 'misc': {'hard': 72, 'soft': 30},\n",
        "                                                      'monster': { 'hard': 72, 'soft': 30}, 'underground_water_creature': {'hard': 72, 'soft': 30}, 'water_ambient': {'hard': 72, 'soft': 30}, 'water_creature': {'hard': 72, 'soft': 30}}\n",
        "  config['entities']['spawning']['per-player-mob-spawns'] = 'true'\n",
        "  config['entities']['spawning']['alt-item-despawn-rate'] = {'enabled': 'true', 'items': {'cobblestone': 300, 'netherrack': 300, 'sand': 300, 'red_sand': 300, 'gravel': 300, 'dirt': 300, 'short_grass': 300, 'pumpkin': 300, 'melon_slice': 300, 'kelp': 300,\n",
        "                                                                                          'bamboo': 300, 'sugar_cane': 300, 'twisting_vines': 300, 'weeping_vines': 300, 'oak_leaves': 300, 'spruce_leaves': 300, 'birch_leaves': 300, 'jungle_leaves': 300,\n",
        "                                                                                          'acacia_leaves': 300, 'dark_oak_leaves': 300, 'mangrove_leaves': 300, 'cactus': 300, 'diorite': 300, 'granite': 300, 'andesite': 300, 'scaffolding': 600}}\n",
        "  config['misc']['update-pathfinding-on-block-update'] = 'false'\n",
        "  config['misc']['redstone-implementation'] = 'ALTERNATE_CURRENT'\n",
        "  config['collisions']['max-entity-collisions'] = 2\n",
        "  config['collisions']['fix-climbing-bypassing-cramming-rule']= 'true'\n",
        "  config['environment']['optimize-explosions'] = 'true'\n",
        "  config['environment']['nether-ceiling-void-damage-height'] = 127\n",
        "  yaml.dump(config, sys.stdout)\n",
        "\n",
        "if exists(f'{drive_path}/{server_name}/bukkit.yml'):\n",
        "  with open(f'{drive_path}/{server_name}/bukkit.yml') as file_:\n",
        "    config = yaml.load(file_)\n",
        "  config['spawn-limits'] = {'monsters': 20, 'animals': 5, 'water-animals': 2, 'water-ambient': 2, 'water-underground-creature': 3, 'axolotls': 3, 'ambient': 1}\n",
        "  config['ticks-per'] = {'monster-spawns': 10, 'animal-spawns': 400, 'water-spawns': 400, 'water-ambient-spawns': 400, 'water-underground-creature-spawns': 400, 'axolotl-spawns': 400, 'ambient-spawns': 400}\n",
        "  yaml.dump(config, sys.stdout)\n",
        "\n",
        "choice = input('More guide (y/n) ?')\n",
        "if 'y' in choice.lower():\n",
        "  if exists(f'{drive_path}/{server_name}/plugins'):\n",
        "    LOG('NOTICES: ')\n",
        "    LOG('Plugins removing ground items is not necessary. If you download those plugins, please remove them')\n",
        "    LOG(\"Mob stacker plugins: \\n It's really hard to justify using one.\\n Stacking naturally spawned entities causes more lag than not stacking them at all due to the server constantly trying to spawn more mobs.\\n The only 'acceptable' use case is for spawners on servers with a large amount of spawners.\")\n",
        "    LOG('Plugins enabling/disabling other plugins:\\n Anything that enables or disables plugins on runtime is extremely dangerous.\\n Loading a plugin like that can cause fatal errors with tracking data and disabling a plugin can lead to errors due to removing dependency. \\n The /reload command suffers from exact same issues and you can read more about them in https://madelinemiller.dev/blog/problem-with-reload/')\n",
        "\n",
        "  LOG('HOW TO MEASURE LAG: ')\n",
        "  if colabconfig['server_type'] == 'paper':\n",
        "    LOG(\"Paper offers a /mspt command that will tell you how much time the server took to calculate recent ticks. If the first and second value you see are lower than 50, then congratulations!\\n Your server is not lagging! If the third value is over 50 then it means there was at least 1 tick that took longer. That's completely normal and happens from time to time, so don't panic.\")\n",
        "  if exists(f'{drive_path}/{server_name}/plugins'):\n",
        "    LOG(\"Spark (https://spark.lucko.me/) is a plugin that allows you to profile your server's CPU and memory usage. You can read on how to use it on its wiki.\\n There's also a guide on how to find the cause of lag spikes here: https://spark.lucko.me/docs/guides/Finding-lag-spikes\")\n",
        "  LOG(\"Way to see what might be going on when your server is lagging are Timings. Timings is a tool that lets you see exactly what tasks are taking the longest.\\n It's the most basic troubleshooting tool and if you ask for help regarding lag you will most likely be asked for your Timings. Timings is known to have a serious performance impact on servers, it's recommended to use the Spark plugin over Timings and use Purpur or Pufferfish to disable Timings all together.\")\n",
        "  LOG(\"To get Timings of your server, you just need to execute the /timings paste command and click the link you're provided with.\\n You can share this link with other people to let them help you. It's also easy to misread if you don't know what you're doing. \")\n",
        "  LOG(\"There is a detailed video tutorial by Aikar (https://www.youtube.com/watch?v=T4J0A9l7bfQ) on how to read them.\")\n",
        "\n",
        "  LOG('Minecraft exploits and how to fix them: To see how to fix exploits that can cause lag spikes or crashes on a Minecraft server, refer to https://github.com/YouHaveTrouble/minecraft-exploits-and-how-to-fix-them')\n",
        "\n",
        "LOG('Completed')"
      ]
    }
  ],
  "metadata": {
    "colab": {
      "cell_execution_strategy": "setup",
      "history_visible": true,
      "provenance": []
    },
    "kernelspec": {
      "display_name": "Python 3",
      "name": "python3"
    },
    "language_info": {
      "codemirror_mode": {
        "name": "ipython",
        "version": 3
      },
      "file_extension": ".py",
      "mimetype": "text/x-python",
      "name": "python",
      "nbconvert_exporter": "python",
      "pygments_lexer": "ipython3"
    }
  },
  "nbformat": 4,
  "nbformat_minor": 0
}